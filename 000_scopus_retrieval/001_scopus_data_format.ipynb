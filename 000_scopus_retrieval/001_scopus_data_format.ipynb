{
 "cells": [
  {
   "cell_type": "markdown",
   "metadata": {},
   "source": [
    "# Scopus reformat\n",
    "The goal is to get this to a format suitable to combine with masterlists:\n",
    "\n",
    "Inputs:\n",
    "- json file output from 000_scopus_retrieval.ipynb\n",
    "\n",
    "Outputs:\n",
    "- excel files of papers, authors and affiliations and references"
   ]
  },
  {
   "cell_type": "code",
   "execution_count": 16,
   "metadata": {},
   "outputs": [],
   "source": [
    "import json\n",
    "import pandas as pd\n",
    "\n",
    "def open_json(filepath):\n",
    "    with open(filepath) as json_data:\n",
    "        d = json.load(json_data)\n",
    "        json_data.close()\n",
    "        return d \n",
    "\n",
    "data_path='/Users/sijiawu/Work/Thesis/Data/SCOPUS/api/'\n",
    "output_path='/Users/sijiawu/Work/Thesis/Data/SCOPUS/api_output/'\n",
    "\n",
    "jid=[\"aer\", 'ecta', 'jpe', 'res', 'qje']\n",
    "s_data={}\n",
    "\n",
    "for i in jid:\n",
    "    s_data[i]=open_json(data_path+\"scopus_\"+i+\".json\")"
   ]
  },
  {
   "cell_type": "code",
   "execution_count": 17,
   "metadata": {},
   "outputs": [],
   "source": [
    "paper=['Author full names',\n",
    " 'Title',\n",
    " 'Year',\n",
    " 'Source title',\n",
    " 'Volume',\n",
    " 'Issue',\n",
    " 'Art. No.',\n",
    " 'Page start',\n",
    " 'Page end',\n",
    " 'Page count',\n",
    " 'Cited by',\n",
    " 'DOI',\n",
    " 'Abstract',\n",
    " 'Publisher',\n",
    " 'Document Type',\n",
    " 'Publication Stage',\n",
    " 'Open Access',\n",
    " 'Source',\n",
    " 'EID']"
   ]
  },
  {
   "cell_type": "code",
   "execution_count": 18,
   "metadata": {},
   "outputs": [],
   "source": [
    "a=0\n",
    "b=0\n",
    "c=0\n",
    "d=0\n",
    "e=0\n",
    "o_dict={}\n",
    "ag_dict={}\n",
    "au_dict={}\n",
    "af_dict={}\n",
    "ar_dict={}\n",
    "\n",
    "for i in jid:\n",
    "    for k in s_data[i].keys():\n",
    "        temp={}\n",
    "        for j in paper:\n",
    "            if j in s_data[i][k].keys():\n",
    "                temp[j]=s_data[i][k][j]\n",
    "        o_dict[a]={\"jid\": i, \"scopus_id\": k, \"authorgroup\": True, \"authors\": True, \"affiliations\":True, \"references\":True}|temp\n",
    "        # print(k)\n",
    "        if s_data[i][k]['authorgroup']!=None:\n",
    "            for j in s_data[i][k]['authorgroup']:\n",
    "                ag_dict[b]={\"jid\": i, \"scopus_id\": k}|j\n",
    "                b=b+1\n",
    "        else:\n",
    "            o_dict[a]['authorgroup']=False\n",
    "\n",
    "        if s_data[i][k]['authors']!=None:\n",
    "            for j in s_data[i][k]['authors']:\n",
    "                au_dict[c]={\"jid\": i, \"scopus_id\": k}|j\n",
    "                c=c+1\n",
    "        else:\n",
    "            o_dict[a]['authors']=False\n",
    "            \n",
    "        if s_data[i][k][\"affiliations\"]!=None:\n",
    "            for j in s_data[i][k]['affiliations']:\n",
    "                af_dict[d]={\"jid\": i, \"scopus_id\": k}|j\n",
    "                d=d+1\n",
    "        else:\n",
    "            o_dict[a]['affiliations']=False\n",
    "\n",
    "        if s_data[i][k]['references']!=None:\n",
    "            for j in s_data[i][k]['references']:\n",
    "                ar_dict[e]={\"jid\": i, \"scopus_id\": k}|j\n",
    "                e=e+1\n",
    "        else:\n",
    "            o_dict[a]['references']=False\n",
    "        \n",
    "        a=a+1\n"
   ]
  },
  {
   "cell_type": "code",
   "execution_count": 19,
   "metadata": {},
   "outputs": [],
   "source": [
    "og=pd.DataFrame(o_dict).transpose()\n",
    "ag=pd.DataFrame(ag_dict).transpose()\n",
    "au=pd.DataFrame(au_dict).transpose()\n",
    "af=pd.DataFrame(af_dict).transpose()\n",
    "ar=pd.DataFrame(ar_dict).transpose()\n",
    "\n"
   ]
  },
  {
   "cell_type": "code",
   "execution_count": 25,
   "metadata": {},
   "outputs": [],
   "source": [
    "og.to_excel(output_path+\"scopus_all.xlsx\", index=False)\n",
    "ag.to_excel(output_path+\"scopus_author_groups.xlsx\", index=False)\n",
    "au.to_excel(output_path+\"scopus_authos.xlsx\", index=False)\n",
    "af.to_excel(output_path+\"scopus_affiliations.xlsx\", index=False)\n",
    "ar.to_excel(output_path+\"scopus_references.xlsx\", index=False)"
   ]
  }
 ],
 "metadata": {
  "kernelspec": {
   "display_name": "venv",
   "language": "python",
   "name": "python3"
  },
  "language_info": {
   "codemirror_mode": {
    "name": "ipython",
    "version": 3
   },
   "file_extension": ".py",
   "mimetype": "text/x-python",
   "name": "python",
   "nbconvert_exporter": "python",
   "pygments_lexer": "ipython3",
   "version": "3.11.2"
  }
 },
 "nbformat": 4,
 "nbformat_minor": 2
}
