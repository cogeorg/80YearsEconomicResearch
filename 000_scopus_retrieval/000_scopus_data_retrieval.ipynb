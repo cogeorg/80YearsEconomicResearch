{
 "cells": [
  {
   "cell_type": "markdown",
   "id": "776455ad-56f5-4e31-a750-d81d56b76c7a",
   "metadata": {},
   "source": [
    "# Scopus Retrieval\n",
    "After obtaining a csv from Scopus of articles specified by ISSN of the journals. Loop through these by DOI and retrieve each of their titles and references using the pybliometrics library. Of use from the original csv is DOI, title, document type. Note, this only works if you are connected via your institutional VPN or internet connection and the institution has a full service API.\n",
    "\n",
    "https://pybliometrics.readthedocs.io/en/stable/classes/AbstractRetrieval.html#pybliometrics.scopus.AbstractRetrieval\n",
    "https://dev.elsevier.com/sc_abstract_retrieval_views.html \n",
    "\n",
    "Observations:\n",
    "1. Affiliations are misattributed to incorrect institutions even if the institution is shown in the text. Likely from mis-using tesseract or not specifying how to collect affiliations properly.\n",
    "   * If an author has multiple affiliations they are not recorded separately even if there are commas that separate them. A single institution is affiliated with the author and is often the wrong one/ not the first affiliation.\n",
    "   * If there are multiple authors and the affiliations were listed in order without a direct link between the author to each set of affiliations, all affiliations can be mis assigned to each of the authors. Eg: if jane doe and john doe belong to standford and harvard respectively, both jane and joe are said to belong to both stanford and harvard.\n",
    "   * Conclusion: there is value in running this ourselves through Mturk to separate out each affiliation\n",
    "2. References are in a good format, must run a check against tesseract collected references to see what scopus is missing.\n",
    "   * References that are not part of scopus corpus are also present which means scopus doesn't just include references to articles found in it's corpus\n",
    "   * The DOI of articles are the actual DOIs and the links to the sources direct to a page on Scopus. Which is not useful for consolidation as it is not a direct link to the article's Jstor-pseudo DOI. Resolving SCOPUS link to a Jstor link will require additional authomation. consolidate against jstor with title and author match.\n",
    "3. Abstracts are fine"
   ]
  },
  {
   "cell_type": "code",
   "execution_count": 187,
   "id": "ca4f4777-315f-4819-95f5-9b7b35c347fd",
   "metadata": {},
   "outputs": [],
   "source": [
    "from pybliometrics.scopus import AbstractRetrieval\n",
    "import pandas as pd\n",
    "import json\n",
    "pd.set_option('display.max_columns', None)"
   ]
  },
  {
   "cell_type": "code",
   "execution_count": 188,
   "id": "e75dfd47-cb30-4a7c-a3db-c5cba9f7fb28",
   "metadata": {},
   "outputs": [],
   "source": [
    "import pybliometrics.scopus as pyblio"
   ]
  },
  {
   "cell_type": "markdown",
   "id": "c3b50583-f31b-49d6-ab19-50a3e772c880",
   "metadata": {},
   "source": [
    "Set up some utility functions"
   ]
  },
  {
   "cell_type": "code",
   "execution_count": null,
   "id": "de007b92-e6fc-422f-ae1d-264064aca011",
   "metadata": {},
   "outputs": [],
   "source": [
    "def open_json(filepath):\n",
    "    with open(filepath) as json_data:\n",
    "        d = json.load(json_data)\n",
    "        json_data.close()\n",
    "        return d   \n",
    "        \n",
    "def save_json(fn, data):\n",
    "    with open(fn, 'w', encoding='utf-8') as f:\n",
    "        print(\"dumping ...\")\n",
    "        json.dump(data, f, ensure_ascii=True, indent=2)"
   ]
  },
  {
   "cell_type": "markdown",
   "id": "e268ccdf-b414-4d14-87eb-bae89bec5ce7",
   "metadata": {},
   "source": [
    "Set base path and read in downloaded scopus file"
   ]
  },
  {
   "cell_type": "code",
   "execution_count": 17,
   "id": "cdb6221e-ee05-4f86-8de2-cd95a1db6a2b",
   "metadata": {},
   "outputs": [],
   "source": [
    "base_path=\"/Users/sijiawu/Downloads/\"\n",
    "j_name=\"aer\" #change this to ecta, jpe, res, qje to cycle through the journals"
   ]
  },
  {
   "cell_type": "markdown",
   "id": "eaa1257d-a7a3-4da9-8654-261de73adfc8",
   "metadata": {},
   "source": [
    "Read in the data"
   ]
  },
  {
   "cell_type": "code",
   "execution_count": 212,
   "id": "ab10fd2e-78a6-4c0c-a7a5-86f7dd29fc3e",
   "metadata": {},
   "outputs": [],
   "source": [
    "journal=pd.read_csv(base_path+j_name+\"_scopus.csv\")"
   ]
  },
  {
   "cell_type": "code",
   "execution_count": 213,
   "id": "dfd4b20c-de63-4041-93cf-ab82af4ebf14",
   "metadata": {},
   "outputs": [
    {
     "data": {
      "text/html": [
       "<div>\n",
       "<style scoped>\n",
       "    .dataframe tbody tr th:only-of-type {\n",
       "        vertical-align: middle;\n",
       "    }\n",
       "\n",
       "    .dataframe tbody tr th {\n",
       "        vertical-align: top;\n",
       "    }\n",
       "\n",
       "    .dataframe thead th {\n",
       "        text-align: right;\n",
       "    }\n",
       "</style>\n",
       "<table border=\"1\" class=\"dataframe\">\n",
       "  <thead>\n",
       "    <tr style=\"text-align: right;\">\n",
       "      <th></th>\n",
       "      <th>Authors</th>\n",
       "      <th>Author full names</th>\n",
       "      <th>Author(s) ID</th>\n",
       "      <th>Title</th>\n",
       "      <th>Year</th>\n",
       "      <th>Source title</th>\n",
       "      <th>Volume</th>\n",
       "      <th>Issue</th>\n",
       "      <th>Art. No.</th>\n",
       "      <th>Page start</th>\n",
       "      <th>Page end</th>\n",
       "      <th>Page count</th>\n",
       "      <th>Cited by</th>\n",
       "      <th>DOI</th>\n",
       "      <th>Link</th>\n",
       "      <th>Affiliations</th>\n",
       "      <th>Authors with affiliations</th>\n",
       "      <th>Abstract</th>\n",
       "      <th>References</th>\n",
       "      <th>Publisher</th>\n",
       "      <th>Document Type</th>\n",
       "      <th>Publication Stage</th>\n",
       "      <th>Open Access</th>\n",
       "      <th>Source</th>\n",
       "      <th>EID</th>\n",
       "    </tr>\n",
       "  </thead>\n",
       "  <tbody>\n",
       "    <tr>\n",
       "      <th>0</th>\n",
       "      <td>Lachowska M.; Mas A.; Woodbury S.A.</td>\n",
       "      <td>Lachowska, Marta (56104480700); Mas, Alexandre...</td>\n",
       "      <td>56104480700; 36803875800; 6701836505</td>\n",
       "      <td>Sources of displaced workers' long- term earni...</td>\n",
       "      <td>2020</td>\n",
       "      <td>American Economic Review</td>\n",
       "      <td>110</td>\n",
       "      <td>10</td>\n",
       "      <td>NaN</td>\n",
       "      <td>3231</td>\n",
       "      <td>3236</td>\n",
       "      <td>5.0</td>\n",
       "      <td>29</td>\n",
       "      <td>10.1257/aer.20180652</td>\n",
       "      <td>https://www.scopus.com/inward/record.uri?eid=2...</td>\n",
       "      <td>W. E. Upjohn Institute for Employment Research...</td>\n",
       "      <td>Lachowska M., W. E. Upjohn Institute for Emplo...</td>\n",
       "      <td>We estimate the magnitudes of reduced earnings...</td>\n",
       "      <td>Abowd John, Creecy Robert H., Kramarz Francis,...</td>\n",
       "      <td>American Economic Association</td>\n",
       "      <td>Article</td>\n",
       "      <td>Final</td>\n",
       "      <td>All Open Access; Green Open Access</td>\n",
       "      <td>Scopus</td>\n",
       "      <td>2-s2.0-85092547682</td>\n",
       "    </tr>\n",
       "    <tr>\n",
       "      <th>1</th>\n",
       "      <td>Piazzesi M.; Schneider M.; Stroebel J.</td>\n",
       "      <td>Piazzesi, Monika (6506641986); Schneider, Mart...</td>\n",
       "      <td>6506641986; 57202768608; 56070941400</td>\n",
       "      <td>Segmented housing search†</td>\n",
       "      <td>2020</td>\n",
       "      <td>American Economic Review</td>\n",
       "      <td>110</td>\n",
       "      <td>3</td>\n",
       "      <td>NaN</td>\n",
       "      <td>720</td>\n",
       "      <td>759</td>\n",
       "      <td>39.0</td>\n",
       "      <td>38</td>\n",
       "      <td>10.1257/aer.20141772</td>\n",
       "      <td>https://www.scopus.com/inward/record.uri?eid=2...</td>\n",
       "      <td>Stanford, NBER, United States; New York Univer...</td>\n",
       "      <td>Piazzesi M., Stanford, NBER, United States; Sc...</td>\n",
       "      <td>We study housing markets with multiple segment...</td>\n",
       "      <td>Albrecht J., Anderson A., Smith E., Vroman S.,...</td>\n",
       "      <td>American Economic Association</td>\n",
       "      <td>Article</td>\n",
       "      <td>Final</td>\n",
       "      <td>All Open Access; Green Open Access</td>\n",
       "      <td>Scopus</td>\n",
       "      <td>2-s2.0-85085354518</td>\n",
       "    </tr>\n",
       "    <tr>\n",
       "      <th>2</th>\n",
       "      <td>Oprea R.</td>\n",
       "      <td>Oprea, Ryan (24479977800)</td>\n",
       "      <td>24479977800</td>\n",
       "      <td>What Makes a Rule Complex?</td>\n",
       "      <td>2020</td>\n",
       "      <td>American Economic Review</td>\n",
       "      <td>110</td>\n",
       "      <td>12</td>\n",
       "      <td>NaN</td>\n",
       "      <td>3913</td>\n",
       "      <td>3951</td>\n",
       "      <td>38.0</td>\n",
       "      <td>19</td>\n",
       "      <td>10.1257/AER.20191717</td>\n",
       "      <td>https://www.scopus.com/inward/record.uri?eid=2...</td>\n",
       "      <td>Economics Department, University of California...</td>\n",
       "      <td>Oprea R., Economics Department, University of ...</td>\n",
       "      <td>We study the complexity of rules by paying exp...</td>\n",
       "      <td>Abeler Johannes, Jager Simon, Complex Tax Ince...</td>\n",
       "      <td>American Economic Association</td>\n",
       "      <td>Article</td>\n",
       "      <td>Final</td>\n",
       "      <td>NaN</td>\n",
       "      <td>Scopus</td>\n",
       "      <td>2-s2.0-85098227762</td>\n",
       "    </tr>\n",
       "  </tbody>\n",
       "</table>\n",
       "</div>"
      ],
      "text/plain": [
       "                                  Authors  \\\n",
       "0     Lachowska M.; Mas A.; Woodbury S.A.   \n",
       "1  Piazzesi M.; Schneider M.; Stroebel J.   \n",
       "2                                Oprea R.   \n",
       "\n",
       "                                   Author full names  \\\n",
       "0  Lachowska, Marta (56104480700); Mas, Alexandre...   \n",
       "1  Piazzesi, Monika (6506641986); Schneider, Mart...   \n",
       "2                          Oprea, Ryan (24479977800)   \n",
       "\n",
       "                           Author(s) ID  \\\n",
       "0  56104480700; 36803875800; 6701836505   \n",
       "1  6506641986; 57202768608; 56070941400   \n",
       "2                           24479977800   \n",
       "\n",
       "                                               Title  Year  \\\n",
       "0  Sources of displaced workers' long- term earni...  2020   \n",
       "1                          Segmented housing search†  2020   \n",
       "2                         What Makes a Rule Complex?  2020   \n",
       "\n",
       "               Source title  Volume Issue  Art. No. Page start Page end  \\\n",
       "0  American Economic Review     110    10       NaN       3231     3236   \n",
       "1  American Economic Review     110     3       NaN        720      759   \n",
       "2  American Economic Review     110    12       NaN       3913     3951   \n",
       "\n",
       "   Page count  Cited by                   DOI  \\\n",
       "0         5.0        29  10.1257/aer.20180652   \n",
       "1        39.0        38  10.1257/aer.20141772   \n",
       "2        38.0        19  10.1257/AER.20191717   \n",
       "\n",
       "                                                Link  \\\n",
       "0  https://www.scopus.com/inward/record.uri?eid=2...   \n",
       "1  https://www.scopus.com/inward/record.uri?eid=2...   \n",
       "2  https://www.scopus.com/inward/record.uri?eid=2...   \n",
       "\n",
       "                                        Affiliations  \\\n",
       "0  W. E. Upjohn Institute for Employment Research...   \n",
       "1  Stanford, NBER, United States; New York Univer...   \n",
       "2  Economics Department, University of California...   \n",
       "\n",
       "                           Authors with affiliations  \\\n",
       "0  Lachowska M., W. E. Upjohn Institute for Emplo...   \n",
       "1  Piazzesi M., Stanford, NBER, United States; Sc...   \n",
       "2  Oprea R., Economics Department, University of ...   \n",
       "\n",
       "                                            Abstract  \\\n",
       "0  We estimate the magnitudes of reduced earnings...   \n",
       "1  We study housing markets with multiple segment...   \n",
       "2  We study the complexity of rules by paying exp...   \n",
       "\n",
       "                                          References  \\\n",
       "0  Abowd John, Creecy Robert H., Kramarz Francis,...   \n",
       "1  Albrecht J., Anderson A., Smith E., Vroman S.,...   \n",
       "2  Abeler Johannes, Jager Simon, Complex Tax Ince...   \n",
       "\n",
       "                       Publisher Document Type Publication Stage  \\\n",
       "0  American Economic Association       Article             Final   \n",
       "1  American Economic Association       Article             Final   \n",
       "2  American Economic Association       Article             Final   \n",
       "\n",
       "                          Open Access  Source                 EID  \n",
       "0  All Open Access; Green Open Access  Scopus  2-s2.0-85092547682  \n",
       "1  All Open Access; Green Open Access  Scopus  2-s2.0-85085354518  \n",
       "2                                 NaN  Scopus  2-s2.0-85098227762  "
      ]
     },
     "execution_count": 213,
     "metadata": {},
     "output_type": "execute_result"
    }
   ],
   "source": [
    "journal.head(3)"
   ]
  },
  {
   "cell_type": "code",
   "execution_count": 214,
   "id": "2e5a027b-4903-4deb-83ba-d05fe5bc8bb0",
   "metadata": {},
   "outputs": [
    {
     "data": {
      "text/plain": [
       "Index(['Authors', 'Author full names', 'Author(s) ID', 'Title', 'Year',\n",
       "       'Source title', 'Volume', 'Issue', 'Art. No.', 'Page start', 'Page end',\n",
       "       'Page count', 'Cited by', 'DOI', 'Link', 'Affiliations',\n",
       "       'Authors with affiliations', 'Abstract', 'References', 'Publisher',\n",
       "       'Document Type', 'Publication Stage', 'Open Access', 'Source', 'EID'],\n",
       "      dtype='object')"
      ]
     },
     "execution_count": 214,
     "metadata": {},
     "output_type": "execute_result"
    }
   ],
   "source": [
    "journal.columns"
   ]
  },
  {
   "cell_type": "markdown",
   "id": "56f6628b-dcec-441f-83c5-465f204b7d61",
   "metadata": {},
   "source": [
    "## Define the function to retrieve and process data\n"
   ]
  },
  {
   "cell_type": "code",
   "execution_count": 148,
   "id": "e8dbc8d9-e702-4091-874a-73935e1fbc2b",
   "metadata": {},
   "outputs": [],
   "source": [
    "def retrieveStructuredRefsAndProcess(doi):\n",
    "    ab = AbstractRetrieval(doi, view=\"FULL\")\n",
    "    auth=ab.authors\n",
    "    agroup=ab.authorgroup\n",
    "    refs=ab.references\n",
    "    affil=ab.affiliation\n",
    "    return {\"authors\": None if auth == None else [a._asdict() for a in auth], \n",
    "            \"references\": None if refs == None else [ref._asdict() for ref in refs], \n",
    "            \"affiliations\": None if affil == None else [aff._asdict() for aff in affil], \n",
    "            \"authorgroup\": None if agroup == None else [ag._asdict() for ag in agroup]}"
   ]
  },
  {
   "cell_type": "markdown",
   "id": "64ae5f7b-7b7c-4894-a78a-15bdd80ff688",
   "metadata": {},
   "source": [
    "This container will hold all the retrieved data"
   ]
  },
  {
   "cell_type": "code",
   "execution_count": 215,
   "id": "d86a60c0-8fe1-480f-b3b5-26dbd9162b43",
   "metadata": {},
   "outputs": [],
   "source": [
    "ref_holder={}"
   ]
  },
  {
   "cell_type": "markdown",
   "id": "a1441f5c-fd41-44be-801c-0c4ffc825653",
   "metadata": {},
   "source": [
    "Let's run a loop over the DOIs of the scopus file and retrieve each paper's references if there is a DOI."
   ]
  },
  {
   "cell_type": "code",
   "execution_count": null,
   "id": "45fb22d9-d997-4b57-bb1e-6265ba702709",
   "metadata": {},
   "outputs": [],
   "source": [
    "for i in journal.index:\n",
    "    doi=journal.loc[i, \"DOI\"]\n",
    "    # if i<2131:\n",
    "    #     continue\n",
    "    if pd.isna(doi)==False:\n",
    "        print(doi+\" \"+str(i))\n",
    "        ref_holder[doi]=retrieveStructuredRefsAndProcess(doi)"
   ]
  },
  {
   "cell_type": "markdown",
   "id": "3a25fcac-8b03-4d37-8d42-e75c55308c40",
   "metadata": {},
   "source": [
    "I only want some of the columns from the file from the scopus dashboard"
   ]
  },
  {
   "cell_type": "code",
   "execution_count": 216,
   "id": "0c188852",
   "metadata": {},
   "outputs": [],
   "source": [
    "journal_r=journal[['Author full names', 'Title', 'Year',\n",
    "       'Source title', 'Volume', 'Issue', 'Art. No.', 'Page start', 'Page end',\n",
    "       'Page count', 'Cited by', 'DOI', 'Abstract', 'Publisher',\n",
    "       'Document Type', 'Publication Stage', 'Open Access', 'Source', 'EID']].to_dict('records')"
   ]
  },
  {
   "cell_type": "markdown",
   "id": "129af0a5-d02c-4527-b956-62ca9be6f04c",
   "metadata": {},
   "source": [
    "Combine the journal data retrieved from the scopus "
   ]
  },
  {
   "cell_type": "code",
   "execution_count": null,
   "id": "1ba7f839-b407-404b-9c5f-3d321ca2bf2b",
   "metadata": {},
   "outputs": [],
   "source": [
    "for i in journal_r:\n",
    "    doi=i['DOI']\n",
    "    if pd.isna(doi)==False:\n",
    "        print(doi)\n",
    "        ref_holder[doi]=ref_holder[doi]|i"
   ]
  },
  {
   "cell_type": "markdown",
   "id": "8dfe6663-5aff-4ed7-a829-8cf6a7bbfb66",
   "metadata": {},
   "source": [
    "Save the data"
   ]
  },
  {
   "cell_type": "code",
   "execution_count": 210,
   "id": "bfa34717-0069-4f56-9197-f6b9bc1929f3",
   "metadata": {},
   "outputs": [
    {
     "name": "stdout",
     "output_type": "stream",
     "text": [
      "dumping ...\n"
     ]
    }
   ],
   "source": [
    "save_json(\"scopus_\"+j_name+\".json\", ref_holder) # change the journal name accordingly"
   ]
  },
  {
   "cell_type": "markdown",
   "id": "d397db71-ffe3-4a29-8c63-4c8cbfafb069",
   "metadata": {},
   "source": [
    "Run each file from scopus through this provided the scopus files has doi's and you have api credits."
   ]
  },
  {
   "cell_type": "code",
   "execution_count": null,
   "id": "cefe2e33-64f7-4ffa-ab96-2a4131395e1f",
   "metadata": {},
   "outputs": [],
   "source": []
  }
 ],
 "metadata": {
  "kernelspec": {
   "display_name": "lib",
   "language": "python",
   "name": "lib"
  },
  "language_info": {
   "codemirror_mode": {
    "name": "ipython",
    "version": 3
   },
   "file_extension": ".py",
   "mimetype": "text/x-python",
   "name": "python",
   "nbconvert_exporter": "python",
   "pygments_lexer": "ipython3",
   "version": "3.11.7"
  }
 },
 "nbformat": 4,
 "nbformat_minor": 5
}
