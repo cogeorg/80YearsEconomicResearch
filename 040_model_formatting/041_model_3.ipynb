{
 "cells": [
  {
   "cell_type": "markdown",
   "metadata": {},
   "source": [
    "## Who do authors in the top 5 economic journals collaborate with?\n",
    "The collaboration network in the top 5 econ journals is a subset of the collaboration network of published economists. The collaboration network of published economists is in turn a subset of the acquaintance network of economists. Most consider the econlit database as a sufficient representation of the network of publishing economists which is also assumed to mirror the acquaintance network which is not easily observed.\n",
    "\n",
    "A publication in a top 5 journal implies that the article is especially novel and of a high standard: quality. Since our data is strictly of metadata in the top 5 econ journals, which have been the most prestigious journals since the 1970s (See Tinbergen ranks), any model results are interpretted within this context. Specifically, these are observations are of the top performing economists and their peers and are not representative of all economists. \n",
    "\n",
    "It may take an academic several years to reach the level at which they are producing work of sufficient quality and novelty to publish in the top 5. That is not to say they have never published before as economists/academics. \n",
    "\n",
    "Questions when analyzing the top 5 network: \n",
    "\n",
    "Taking into consideration first-time authors and repeating authors. Do first-time authors collaborate thereafter and how frequently? Does a halo effect exist for first time authors? How do authors behave after publishing in the top 5? Are they more likely to publish again? Are collaborations likely to occur between authors who are already top 5 authors? Or do they tend to collaborate with new entrants more so than not? How often do new entrants continue to publish at the top 5 quality? If authors publish again, what's the split between their publications being single or coauthored and do they always collaborate with new top 5 authors or always with authors who are already in the network?\n",
    "\n",
    "Dataset construction:\n",
    "We look at the author pair categories: \n",
    "- 0 both authors are already in the network when they collaborate, 1 if one author is new to the network, 2 both authors are new to the network.\n",
    "- \n",
    "\n",
    "- \n"
   ]
  },
  {
   "cell_type": "code",
   "execution_count": null,
   "metadata": {},
   "outputs": [],
   "source": [
    "import pandas as pd\n",
    "from itertools import combinations\n"
   ]
  },
  {
   "cell_type": "code",
   "execution_count": 3,
   "metadata": {},
   "outputs": [],
   "source": [
    "upd10 = pd.read_pickle(\"flattened_co-author_10.pkl\")\n",
    "upd20 = pd.read_pickle(\"flattened_co-author_20.pkl\")\n",
    "upd5 = pd.read_pickle(\"flattened_co-author_5.pkl\")"
   ]
  },
  {
   "cell_type": "code",
   "execution_count": null,
   "metadata": {},
   "outputs": [],
   "source": [
    "base_path=\"/Users/sijiawu/Work/Thesis/Data/Affiliations/\"\n",
    "data_base_path=\"/Users/sijiawu/Work/Thesis/Data/\"\n",
    "nets_path=\"/Users/sijiawu/Work/80YearsEconomicResearch/032_auth_graph_gen/networks/\"\n",
    "pdf_base_path=\"/Users/sijiawu/Dropbox/80YearsEconomicResearch/Data/0_PDF/\"\n",
    "\n",
    "proc_auths_all = pd.read_pickle(base_path+\"proc_auth_aff_flat.pkl\")\n",
    "aff_sub=pd.read_pickle(base_path+\"affiliations_combined_sub.pkl\")\n",
    "j_data=pd.read_pickle(data_base_path+\"Combined/011_merged_proc_scopus_inception_2020_w_counts.pkl\")\n",
    "all_refs=pd.read_excel('../031_proc_refs_full_set/refs_1940_2020.xlsx')\n",
    "relevant=pd.read_excel('../031_proc_refs_full_set/refs_1940_2020_top5.xlsx')"
   ]
  },
  {
   "cell_type": "code",
   "execution_count": null,
   "metadata": {},
   "outputs": [],
   "source": [
    "j_data[\"id\"]=j_data[\"URL\"].str.split(\"/\").str[-1]\n",
    "relevant[\"id_o\"]=relevant[\"id_o\"].astype(str)\n",
    "relevant[\"year_o\"]=relevant[\"year_o\"].astype(int)\n",
    "proc_auths_all[\"id_o\"]=proc_auths_all[\"url\"].str.split(\"/\").str[-1]\n",
    "proc_auths_all[\"a1_order_str\"]=proc_auths_all[\"a1_order\"].astype(str)\n",
    "relevant_sub=relevant[[\"ref_ord\", \"id_o\", \"year_o\",\"match_id\"]]"
   ]
  },
  {
   "cell_type": "code",
   "execution_count": null,
   "metadata": {},
   "outputs": [],
   "source": [
    "ex_content=['MISC', 'Errata','Discussion', 'Review', 'Review2']\n",
    "content=['Article', 'Comment', 'Reply', 'Rejoinder']"
   ]
  },
  {
   "cell_type": "code",
   "execution_count": null,
   "metadata": {},
   "outputs": [],
   "source": [
    "# Load dataset (Assuming it has 'Paper_ID', 'Author', and 'Year')\n",
    "df = proc_auths_all[[\"id_o\",\"a1\",\"last\", \"a1_order_str\", \"year\"]].rename(columns={'id_o': 'Paper_ID', 'a1_order_str': 'Author', \"year\":\"Year\"})\n",
    "# Step 1: Expand multi-author papers into pairwise relationships\n",
    "df_expanded = df.groupby([\"Paper_ID\", \"Year\"])['Author'].apply(\n",
    "    lambda x: list(combinations(x, 2)) if len(x) > 1 else [(x.iloc[0], None)]\n",
    ").explode()\n",
    "\n",
    "# Convert tuples to separate columns\n",
    "df_expanded = pd.DataFrame(df_expanded.tolist(), index=df_expanded.index, columns=[\"Author\", \"Coauthor\"]).reset_index()\n",
    "\n",
    "# Keep necessary columns\n",
    "df_expanded = df_expanded[[\"Author\", \"Coauthor\", \"Year\"]]\n",
    "df_expanded_alt=df_expanded[[\"Author\", \"Coauthor\", \"Year\"]].fillna(-1)\n",
    "\n",
    "# Step 2: Count occurrences of coauthorship per year\n",
    "df_expanded[\"Coauthorship_Count\"] = df_expanded.groupby([\"Author\", \"Coauthor\", \"Year\"])['Year'].transform('count')\n",
    "df_expanded_alt[\"Coauthorship_Count\"] = df_expanded_alt.groupby([\"Author\", \"Coauthor\", \"Year\"])['Year'].transform('count')\n",
    "\n",
    "\n",
    "# Determine first and last publication year for each author\n",
    "author_first_pub = df.groupby(\"Author\")[\"Year\"].min()\n",
    "author_last_pub = df.groupby(\"Author\")[\"Year\"].max()"
   ]
  }
 ],
 "metadata": {
  "kernelspec": {
   "display_name": "venv",
   "language": "python",
   "name": "python3"
  },
  "language_info": {
   "codemirror_mode": {
    "name": "ipython",
    "version": 3
   },
   "file_extension": ".py",
   "mimetype": "text/x-python",
   "name": "python",
   "nbconvert_exporter": "python",
   "pygments_lexer": "ipython3",
   "version": "3.11.2"
  }
 },
 "nbformat": 4,
 "nbformat_minor": 2
}
