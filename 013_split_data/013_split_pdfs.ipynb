{
 "cells": [
  {
   "cell_type": "markdown",
   "id": "617e2f26",
   "metadata": {},
   "source": [
    "# Splitting Pdfs\n",
    "\n",
    "The following code takes a pdf from jstor, checks for the coverpage, and if the coverpage exists, it creates a pdf without the coverage with certain naming conventions as specified. This is to account for documents that were taken from scihub and do not have a jstor coverpage.\n",
    "\n",
    "We also use this opportunity to count the number of pages in each document. Although we do have start and end pages, getting the pdf count is a much more accurate measure especially if the article starts or ends in roman numerals or alternative page numbering systems. As an example: pages in special issues are usually prefixed by arbitrary letters eg: S or I.\n",
    "\n",
    "Next, each pdf is split into different pages with page 1 indicated by suffix 0."
   ]
  },
  {
   "cell_type": "code",
   "execution_count": 1,
   "id": "36e200a1",
   "metadata": {},
   "outputs": [],
   "source": [
    "import pandas as pd\n",
    "import numpy as np\n",
    "import os\n",
    "import re\n",
    "from unidecode import unidecode\n",
    "import fitz #for opening pdfs\n",
    "\n",
    "# for OCR using PyTesseract\n",
    "import cv2                              # pre-processing images\n",
    "import pytesseract                      # extracting text from images\n",
    "import numpy as np\n",
    "import matplotlib.pyplot as plt         # displaying output images\n",
    "from PIL import Image\n",
    "import regex"
   ]
  },
  {
   "cell_type": "code",
   "execution_count": 2,
   "id": "cb6f331f",
   "metadata": {},
   "outputs": [],
   "source": [
    "base_path=\"/Users/sijiawu/Work/Thesis/Data/Affiliations/\"\n",
    "data_base_path=\"/Users/sijiawu/Work/Thesis/Data/\"\n",
    "nets_path=\"/Users/sijiawu/Work/80YearsEconomicResearch/032_auth_graph_gen/networks/\"\n",
    "pdf_base_path=\"/Users/sijiawu/Dropbox/80YearsEconomicResearch/Data/0_PDF/\""
   ]
  },
  {
   "cell_type": "code",
   "execution_count": 3,
   "id": "d2ae47ca",
   "metadata": {},
   "outputs": [],
   "source": [
    "JOURNALS= ['AER', 'JPE', 'ECTA', 'RES', 'QJE']\n",
    "#read in all processed masterlists\n",
    "All=pd.read_pickle(data_base_path+\"Combined/011_merged_proc_scopus_inception_2020.pkl\")\n",
    "All=All[All.duplicated()==False].reset_index().drop('index', axis=1)"
   ]
  },
  {
   "cell_type": "code",
   "execution_count": 4,
   "id": "53c32c4e",
   "metadata": {},
   "outputs": [
    {
     "data": {
      "text/plain": [
       "(62277, 61)"
      ]
     },
     "execution_count": 4,
     "metadata": {},
     "output_type": "execute_result"
    }
   ],
   "source": [
    "All.shape"
   ]
  },
  {
   "cell_type": "code",
   "execution_count": 5,
   "id": "83e04532",
   "metadata": {},
   "outputs": [
    {
     "data": {
      "text/plain": [
       "Index(['issue_url', 'author', 'title', 'journal', 'volume', 'number', 'pages',\n",
       "       'year', 'ISSN', 'abstract', 'URL', 'publisher', 'content_type', 'type',\n",
       "       'jid', 'author_split', 'urldate', 'reviewed-author', 'uploaded',\n",
       "       'title_10', 'URL_og', 'number_og', 'title_og', 'author_og', 'pages_og',\n",
       "       'j_fix', 'scopus_jid', 'scopus_id', 'scopus_authorgroup',\n",
       "       'scopus_authors', 'scopus_affiliations', 'scopus_references',\n",
       "       'scopus_author_full_names', 'scopus_title', 'scopus_year',\n",
       "       'scopus_source_title', 'scopus_volume', 'scopus_issue', 'scopus_art_no',\n",
       "       'scopus_page_start', 'scopus_page_end', 'scopus_page_count',\n",
       "       'scopus_cited_by', 'scopus_doi', 'scopus_abstract', 'scopus_publisher',\n",
       "       'scopus_document_type', 'scopus_publication_stage',\n",
       "       'scopus_open_access', 'scopus_source', 'scopus_eid', 'scopus_title_og',\n",
       "       'scopus_volume_og', 'scopus_issue_og', 'scopus_page_start_og',\n",
       "       'scopus_page_end_og', 'scopus_year_og', 's_fix', 'scopus_pages',\n",
       "       'scopus_indicator', 'id'],\n",
       "      dtype='object')"
      ]
     },
     "execution_count": 5,
     "metadata": {},
     "output_type": "execute_result"
    }
   ],
   "source": [
    "All.columns"
   ]
  },
  {
   "cell_type": "code",
   "execution_count": 6,
   "id": "d38f00a6",
   "metadata": {},
   "outputs": [],
   "source": [
    "All['id']=All['URL'].str.split('/').str[-1]\n",
    "All.loc[:, 'authors_lower'] = All['author'].copy().str.lower().to_numpy() #make field to lower all author names"
   ]
  },
  {
   "cell_type": "markdown",
   "id": "a897312b",
   "metadata": {},
   "source": [
    "## Reduce the set to exclude reviews and miscellaneous content"
   ]
  },
  {
   "cell_type": "code",
   "execution_count": 7,
   "id": "fcd8d211",
   "metadata": {},
   "outputs": [
    {
     "data": {
      "text/plain": [
       "Index(['issue_url', 'author', 'title', 'journal', 'volume', 'number', 'pages',\n",
       "       'year', 'ISSN', 'abstract', 'URL', 'publisher', 'content_type', 'type',\n",
       "       'jid', 'author_split', 'urldate', 'reviewed-author', 'uploaded',\n",
       "       'title_10', 'URL_og', 'number_og', 'title_og', 'author_og', 'pages_og',\n",
       "       'j_fix', 'scopus_jid', 'scopus_id', 'scopus_authorgroup',\n",
       "       'scopus_authors', 'scopus_affiliations', 'scopus_references',\n",
       "       'scopus_author_full_names', 'scopus_title', 'scopus_year',\n",
       "       'scopus_source_title', 'scopus_volume', 'scopus_issue', 'scopus_art_no',\n",
       "       'scopus_page_start', 'scopus_page_end', 'scopus_page_count',\n",
       "       'scopus_cited_by', 'scopus_doi', 'scopus_abstract', 'scopus_publisher',\n",
       "       'scopus_document_type', 'scopus_publication_stage',\n",
       "       'scopus_open_access', 'scopus_source', 'scopus_eid', 'scopus_title_og',\n",
       "       'scopus_volume_og', 'scopus_issue_og', 'scopus_page_start_og',\n",
       "       'scopus_page_end_og', 'scopus_year_og', 's_fix', 'scopus_pages',\n",
       "       'scopus_indicator', 'id', 'authors_lower'],\n",
       "      dtype='object')"
      ]
     },
     "execution_count": 7,
     "metadata": {},
     "output_type": "execute_result"
    }
   ],
   "source": [
    "ex_content=['MISC', 'Errata','Discussion', 'Review', 'Review2']\n",
    "content=['Article', 'Comment', 'Reply', 'Rejoinder']\n",
    "\n",
    "All.columns"
   ]
  },
  {
   "cell_type": "code",
   "execution_count": 8,
   "id": "368a2f4a",
   "metadata": {},
   "outputs": [
    {
     "data": {
      "text/plain": [
       "array(['Article', 'MISC', 'Comment', 'Reply', 'Errata', 'Rejoinder',\n",
       "       'Discussion', 'Review', 'Review2'], dtype=object)"
      ]
     },
     "execution_count": 8,
     "metadata": {},
     "output_type": "execute_result"
    }
   ],
   "source": [
    "pd.unique(All.content_type)"
   ]
  },
  {
   "cell_type": "code",
   "execution_count": 9,
   "id": "ed126806",
   "metadata": {},
   "outputs": [],
   "source": [
    "Reduced=All[['author', 'title', 'journal', 'volume', 'number', 'pages',\n",
    "       'year', 'ISSN', 'abstract', 'URL', 'publisher', 'content_type', 'type',\n",
    "       'jid','id']]"
   ]
  },
  {
   "cell_type": "code",
   "execution_count": 10,
   "id": "f6da461f",
   "metadata": {},
   "outputs": [],
   "source": [
    "R_1940=Reduced[(Reduced['author'].isna()==False) & (Reduced['year']>=1940)].reset_index(drop=True) #only select those papers that are 1940s or later\n",
    "R_1940_NMR=R_1940[R_1940['content_type'].isin(content)].reset_index(drop=True) #exclude miscellaneous, reviews, discussion and reviews"
   ]
  },
  {
   "cell_type": "code",
   "execution_count": 11,
   "id": "6b624185",
   "metadata": {},
   "outputs": [
    {
     "data": {
      "text/plain": [
       "(62277, 15)"
      ]
     },
     "execution_count": 11,
     "metadata": {},
     "output_type": "execute_result"
    }
   ],
   "source": [
    "Reduced.shape"
   ]
  },
  {
   "cell_type": "markdown",
   "id": "e99d616c",
   "metadata": {},
   "source": [
    "## Set path"
   ]
  },
  {
   "cell_type": "code",
   "execution_count": 12,
   "id": "5a4f1936",
   "metadata": {},
   "outputs": [
    {
     "name": "stdout",
     "output_type": "stream",
     "text": [
      "['Article' 'Comment' 'Reply' 'Rejoinder']\n"
     ]
    }
   ],
   "source": [
    "Merged=R_1940_NMR\n",
    "print(Merged['content_type'].unique())"
   ]
  },
  {
   "cell_type": "code",
   "execution_count": 13,
   "id": "8c069ca0",
   "metadata": {},
   "outputs": [],
   "source": [
    "zoom_x = 2.0 # horizontal zoom\n",
    "zoom_y = 2.0 # vertical zoom\n",
    "mat = fitz.Matrix(zoom_x, zoom_y)"
   ]
  },
  {
   "cell_type": "markdown",
   "id": "739cab93",
   "metadata": {},
   "source": [
    "## Set functions"
   ]
  },
  {
   "cell_type": "code",
   "execution_count": 14,
   "id": "9815bbda",
   "metadata": {},
   "outputs": [],
   "source": [
    "#creates a pdf in doc2_name taken from doc1 from the page specified inclusive\n",
    "def make_new_pdf(doc1, doc2_name, from_pg):\n",
    "    doc2 = fitz.open()                 # new empty PDF\n",
    "    doc2.insert_pdf(doc1, from_page = from_pg)  \n",
    "    pg_count=doc2.page_count\n",
    "    doc2.save(doc2_name)\n",
    "    doc2.close()\n",
    "    return pg_count"
   ]
  },
  {
   "cell_type": "code",
   "execution_count": 15,
   "id": "4c74d05a",
   "metadata": {},
   "outputs": [],
   "source": [
    "#given a fitz object doc1 it will insert the specified pages inclusive into the name specified in doc2_name\n",
    "def make_new_pdf2(doc1, doc2_name, from_pg, to_pg):\n",
    "    doc2 = fitz.open()                 # new empty PDF\n",
    "    doc2.insert_pdf(doc1, from_page = from_pg, to_page = to_pg)  # first 10 pages\n",
    "    pg_count=doc2.page_count\n",
    "    doc2.save(doc2_name)\n",
    "    doc2.close()\n",
    "    return pg_count"
   ]
  },
  {
   "cell_type": "code",
   "execution_count": 16,
   "id": "7cb4d054",
   "metadata": {},
   "outputs": [],
   "source": [
    "# cover page removal\n",
    "def coverpage_removal(og_path,woc_path, shardpath, id):\n",
    "    doc = None\n",
    "    page= None\n",
    "    try:\n",
    "        doc=fitz.open(og_path)\n",
    "        page=doc[0]\n",
    "    except:\n",
    "        doc.close()\n",
    "        raise Exception(\"this file is corrupt\")\n",
    "    \n",
    "    png = shardpath + id + '_page-%i.png' % page.number\n",
    "    if os.path.exists(png)==False:\n",
    "        pix = page.get_pixmap(matrix=mat)\n",
    "        print(png)\n",
    "        pix.save(png)\n",
    "    \n",
    "    doc2_name=woc_path\n",
    "    if os.path.exists(doc2_name)==False:\n",
    "        original_image = cv2.imread(png)\n",
    "\n",
    "        text = pytesseract.image_to_string(original_image, lang='lat', config='--oem 3 --psm 6')\n",
    "\n",
    "        #print(doc2_name)\n",
    "        if (re.search('AUTHOR\\(S\\)', text.upper()) is not None) or (re.search('PUBLISHED BY:', text.upper()) is not None):\n",
    "            make_new_pdf(doc, doc2_name, 1)\n",
    "            print('found')\n",
    "        else:\n",
    "            make_new_pdf(doc, doc2_name, 0)\n",
    "            print('not found')\n",
    "    doc.close()\n",
    "    \n",
    "    return 1"
   ]
  },
  {
   "cell_type": "code",
   "execution_count": 17,
   "id": "3f84776e",
   "metadata": {},
   "outputs": [],
   "source": [
    "# function splits the pdf into pages and saves them to the given path and returns a list of the pdf paths\n",
    "def shard(SCANNED_FILE, id, shard_path, year, bucket):\n",
    "    df=[]\n",
    "    doc = None\n",
    "    try:\n",
    "        doc=fitz.open(SCANNED_FILE)\n",
    "    except:\n",
    "        doc.close()\n",
    "        raise Exception(\"this file is corrupt\")\n",
    "    pg_count=doc.page_count\n",
    "    for page in doc:\n",
    "        doc2_name=shard_path+id+'_wo_cover_page-%i.pdf' % page.number\n",
    "\n",
    "        if os.path.exists(doc2_name)==False:\n",
    "            make_new_pdf2(doc, doc2_name, page.number, page.number)\n",
    "        df.append(\n",
    "            {\n",
    "                'pdf_url': '\\''+bucket+id+'_wo_cover_page-%i.pdf' % page.number+'\\'',\n",
    "                'year': year\n",
    "            }\n",
    "        )\n",
    "    doc.close()\n",
    "    return (pd.DataFrame(df), pg_count)"
   ]
  },
  {
   "cell_type": "code",
   "execution_count": null,
   "id": "064b089d",
   "metadata": {},
   "outputs": [],
   "source": []
  },
  {
   "cell_type": "markdown",
   "id": "3d499796",
   "metadata": {},
   "source": [
    "## Going through the full data set"
   ]
  },
  {
   "cell_type": "code",
   "execution_count": 18,
   "id": "3d3d7aba",
   "metadata": {},
   "outputs": [
    {
     "name": "stdout",
     "output_type": "stream",
     "text": [
      "AER\n",
      "ECTA\n",
      "JPE\n",
      "QJE\n",
      "RES\n"
     ]
    }
   ],
   "source": [
    "# make pandas objects to store the list of new pdf paths\n",
    "JPE_refs=pd.DataFrame()\n",
    "ECTA_refs=pd.DataFrame()\n",
    "QJE_refs=pd.DataFrame()\n",
    "AER_refs=pd.DataFrame()\n",
    "RES_refs=pd.DataFrame()\n",
    "\n",
    "pd_df={}\n",
    "\n",
    "ranges={\n",
    "    \"AER\": [1940, 2020, AER_refs], # I usually run these one at a time\n",
    "    \"ECTA\": [1940, 2020, ECTA_refs],\n",
    "    \"JPE\": [1940, 2020, JPE_refs],\n",
    "    \"QJE\": [1940, 2020, QJE_refs],\n",
    "    \"RES\": [1940, 2020, RES_refs]\n",
    "}\n",
    "for journal in ranges.keys():\n",
    "    bucket='https://myawsbucket-1231.s3.eu-west-3.amazonaws.com/'+journal+'_shards/'\n",
    "    ret_frame=None\n",
    "    print(journal)\n",
    "    filter=Merged[(Merged['year']<=ranges[journal][1]) & (Merged['year']>=ranges[journal][0])& (Merged['jid'].str.upper()==journal)].drop_duplicates()\n",
    "    for i in filter.index:\n",
    "        # make the file paths\n",
    "        og=pdf_base_path+Merged.loc[i,'jid'].upper()+'/'+Merged.loc[i,'jid']+'_og/'\n",
    "        woc=pdf_base_path+Merged.loc[i,'jid'].upper()+'/'+Merged.loc[i,'jid']+'_wo_cover/'\n",
    "        sha=pdf_base_path+Merged.loc[i,'jid'].upper()+'/'+Merged.loc[i,'jid']+'_shards/'\n",
    "        png=pdf_base_path+Merged.loc[i,'jid'].upper()+'/'+Merged.loc[i,'jid']+'_shards_png/'\n",
    "        path_woc=woc+Merged.loc[i,'id']+'_wo_cover.pdf'\n",
    "        path_og=og+Merged.loc[i,'id']+'.pdf'\n",
    "        \n",
    "        # print(path_og)\n",
    "        if os.path.exists(path_og)==True:\n",
    "            # print(Merged.loc[i,'id'])\n",
    "            if os.path.exists(path_woc)==False:\n",
    "                try:\n",
    "                    coverpage_removal(path_og, path_woc, sha, Merged.loc[i,'id']) #remove cover page\n",
    "                except Exception as e:\n",
    "                    print(str(e)+ \" issue generating coverless pdf \" +Merged.loc[i,'id'])\n",
    "                    continue\n",
    "            if os.path.exists(path_woc):\n",
    "                try:\n",
    "                    ret_frame=shard(path_woc, Merged.loc[i,'id'], sha, int(Merged.loc[i,'year']), bucket) #shard\n",
    "                    ranges[journal][2]=pd.concat([ranges[journal][2], ret_frame[0]], ignore_index=True) #concat to the pandas objects\n",
    "                    pd_df[Merged.loc[i,'id']]=ret_frame[1]\n",
    "                except Exception as e:\n",
    "                    print(str(e)+ \" issue sharding woc pdf \" +Merged.loc[i,'id'] + \"potentially malformed\")\n",
    "        else:\n",
    "            print(path_og+' missing')"
   ]
  },
  {
   "cell_type": "markdown",
   "id": "f922e57c",
   "metadata": {},
   "source": [
    "## Save the lists"
   ]
  },
  {
   "cell_type": "code",
   "execution_count": 19,
   "id": "191e9cfc",
   "metadata": {},
   "outputs": [
    {
     "data": {
      "text/plain": [
       "(153202, 2)"
      ]
     },
     "execution_count": 19,
     "metadata": {},
     "output_type": "execute_result"
    }
   ],
   "source": [
    "ranges['AER'][2].to_csv(\"aer_refs_all.csv\",index=False)\n",
    "ranges['AER'][2].shape"
   ]
  },
  {
   "cell_type": "code",
   "execution_count": 20,
   "id": "2f0f9874",
   "metadata": {},
   "outputs": [
    {
     "data": {
      "text/plain": [
       "(95467, 2)"
      ]
     },
     "execution_count": 20,
     "metadata": {},
     "output_type": "execute_result"
    }
   ],
   "source": [
    "ranges['ECTA'][2].to_csv(\"ecta_refs_all.csv\",index=False)\n",
    "ranges['ECTA'][2].shape"
   ]
  },
  {
   "cell_type": "code",
   "execution_count": 21,
   "id": "4bfbc7b6",
   "metadata": {},
   "outputs": [
    {
     "data": {
      "text/plain": [
       "(92739, 2)"
      ]
     },
     "execution_count": 21,
     "metadata": {},
     "output_type": "execute_result"
    }
   ],
   "source": [
    "ranges['JPE'][2].to_csv(\"jpe_refs_all.csv\",index=False)\n",
    "ranges['JPE'][2].shape"
   ]
  },
  {
   "cell_type": "code",
   "execution_count": 22,
   "id": "42938b08",
   "metadata": {},
   "outputs": [
    {
     "data": {
      "text/plain": [
       "(87187, 2)"
      ]
     },
     "execution_count": 22,
     "metadata": {},
     "output_type": "execute_result"
    }
   ],
   "source": [
    "ranges['QJE'][2].to_csv(\"qje_refs_all.csv\",index=False)\n",
    "ranges['QJE'][2].shape"
   ]
  },
  {
   "cell_type": "code",
   "execution_count": 23,
   "id": "01d49bf8",
   "metadata": {},
   "outputs": [
    {
     "data": {
      "text/plain": [
       "(60903, 2)"
      ]
     },
     "execution_count": 23,
     "metadata": {},
     "output_type": "execute_result"
    }
   ],
   "source": [
    "ranges['RES'][2].to_csv(\"res_refs_all.csv\",index=False)\n",
    "ranges['RES'][2].shape"
   ]
  },
  {
   "cell_type": "code",
   "execution_count": 24,
   "id": "47f3e1ab",
   "metadata": {},
   "outputs": [],
   "source": [
    "exp=[]\n",
    "for i in pd_df.keys():\n",
    "    exp.append({\"id\":i, \"page_count\":pd_df[i]})"
   ]
  },
  {
   "cell_type": "code",
   "execution_count": 25,
   "id": "e7d6b985",
   "metadata": {},
   "outputs": [],
   "source": [
    "pg_count=pd.DataFrame(exp)"
   ]
  },
  {
   "cell_type": "code",
   "execution_count": 26,
   "id": "82af5ee7",
   "metadata": {},
   "outputs": [],
   "source": [
    "All=pd.merge(All, pg_count, on=\"id\", how=\"left\")"
   ]
  },
  {
   "cell_type": "code",
   "execution_count": 27,
   "id": "1e56db9e",
   "metadata": {},
   "outputs": [],
   "source": [
    "All.to_pickle(data_base_path+\"Combined/011_merged_proc_scopus_inception_2020_w_counts.pkl\")\n"
   ]
  },
  {
   "cell_type": "code",
   "execution_count": null,
   "id": "1ec1e66d",
   "metadata": {},
   "outputs": [],
   "source": []
  }
 ],
 "metadata": {
  "kernelspec": {
   "display_name": "venv",
   "language": "python",
   "name": "python3"
  },
  "language_info": {
   "codemirror_mode": {
    "name": "ipython",
    "version": 3
   },
   "file_extension": ".py",
   "mimetype": "text/x-python",
   "name": "python",
   "nbconvert_exporter": "python",
   "pygments_lexer": "ipython3",
   "version": "3.11.2"
  }
 },
 "nbformat": 4,
 "nbformat_minor": 5
}
