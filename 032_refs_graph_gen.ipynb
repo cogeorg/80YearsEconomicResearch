{
 "cells": [
  {
   "cell_type": "code",
   "execution_count": 2,
   "metadata": {},
   "outputs": [],
   "source": [
    "# libraries required, please install pandas\n",
    "import pandas as pd\n",
    "from unidecode import unidecode\n",
    "import re\n",
    "import datetime\n",
    "from datetime import date\n",
    "import json\n",
    "import numpy as np\n",
    "import os\n",
    "import time\n",
    "# set column options\n",
    "pd.set_option('display.max_colwidth', None)\n",
    "pd.set_option('display.max_rows', None)"
   ]
  },
  {
   "cell_type": "code",
   "execution_count": 3,
   "metadata": {},
   "outputs": [],
   "source": [
    "j_data=pd.read_excel('./031_recon/j_data_final.xlsx')\n",
    "cit_network=pd.read_excel('./031_recon/network_cit_1940_2020.xlsx')\n",
    "all_refs=pd.read_excel('./031_recon/refs_1940_2020.xlsx')\n",
    "relevant=pd.read_excel('./031_recon/refs_1940_2020_top5.xlsx')"
   ]
  },
  {
   "cell_type": "code",
   "execution_count": 4,
   "metadata": {},
   "outputs": [],
   "source": [
    "ids=list(set(cit_network['id_o'].astype(str)))\n",
    "ids_m=list(set(cit_network['match_id'].astype(str)))\n",
    "\n"
   ]
  },
  {
   "cell_type": "code",
   "execution_count": 31,
   "metadata": {},
   "outputs": [],
   "source": [
    "nodes=j_data[(j_data['id_o'].isin(ids)==True)|(j_data['id_o'].isin(ids_m)==True)][['id_o','journal', \n",
    "       'year', 'content_type']].drop_duplicates(keep='first').reset_index(drop=True)\n",
    "nodes['id_o']=nodes['id_o'].astype(str)"
   ]
  },
  {
   "cell_type": "code",
   "execution_count": 38,
   "metadata": {},
   "outputs": [],
   "source": [
    "nodes=nodes.rename({'id_o':\"Id\"})\n",
    "nodes.to_csv(\"./031_recon/nodes_alt_header.csv\", index=None, encoding=\"UTF-8\")\n"
   ]
  },
  {
   "cell_type": "code",
   "execution_count": 34,
   "metadata": {},
   "outputs": [],
   "source": [
    "cit_network[\"match_id\"]=cit_network[\"match_id\"].astype(str)\n",
    "cit_network[\"id_o\"]=cit_network[\"id_o\"].astype(str)"
   ]
  },
  {
   "cell_type": "code",
   "execution_count": 35,
   "metadata": {},
   "outputs": [],
   "source": [
    "edges=cit_network[(cit_network[\"id_o\"]!=cit_network[\"match_id\"]) & (cit_network[\"match_id\"]!=\"CHECKREQ\")].drop_duplicates(subset=['match_id',\"id_o\"], keep=\"first\")"
   ]
  },
  {
   "cell_type": "code",
   "execution_count": 37,
   "metadata": {},
   "outputs": [],
   "source": [
    "edges=edges.rename({'id_o':\"Source\", 'match_id':'Target'})\n",
    "edges.to_csv('./031_recon/edges_alt_header.csv', index=False)"
   ]
  },
  {
   "cell_type": "code",
   "execution_count": 39,
   "metadata": {},
   "outputs": [
    {
     "data": {
      "text/plain": [
       "(24442, 4)"
      ]
     },
     "execution_count": 39,
     "metadata": {},
     "output_type": "execute_result"
    }
   ],
   "source": [
    "nodes.shape"
   ]
  },
  {
   "cell_type": "code",
   "execution_count": 40,
   "metadata": {},
   "outputs": [
    {
     "data": {
      "text/plain": [
       "(107247, 3)"
      ]
     },
     "execution_count": 40,
     "metadata": {},
     "output_type": "execute_result"
    }
   ],
   "source": [
    "edges.shape"
   ]
  },
  {
   "cell_type": "code",
   "execution_count": 41,
   "metadata": {},
   "outputs": [
    {
     "data": {
      "text/plain": [
       "(108988, 3)"
      ]
     },
     "execution_count": 41,
     "metadata": {},
     "output_type": "execute_result"
    }
   ],
   "source": [
    "cit_network.shape"
   ]
  },
  {
   "cell_type": "code",
   "execution_count": null,
   "metadata": {},
   "outputs": [],
   "source": []
  }
 ],
 "metadata": {
  "kernelspec": {
   "display_name": "Python 3",
   "language": "python",
   "name": "python3"
  },
  "language_info": {
   "codemirror_mode": {
    "name": "ipython",
    "version": 3
   },
   "file_extension": ".py",
   "mimetype": "text/x-python",
   "name": "python",
   "nbconvert_exporter": "python",
   "pygments_lexer": "ipython3",
   "version": "3.11.2"
  }
 },
 "nbformat": 4,
 "nbformat_minor": 2
}
