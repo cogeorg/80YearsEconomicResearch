{
 "cells": [
  {
   "cell_type": "code",
   "execution_count": 69,
   "metadata": {},
   "outputs": [],
   "source": [
    "import pandas as pd\n",
    "import numpy as np\n",
    "import networkx as nx\n",
    "import itertools\n",
    "import statsmodels.api as sm\n",
    "from sklearn.feature_extraction.text import TfidfVectorizer\n",
    "from sklearn.metrics.pairwise import cosine_similarity\n",
    "from sklearn.linear_model import LogisticRegression\n",
    "from sklearn.preprocessing import MinMaxScaler\n",
    "from sklearn.metrics import classification_report, confusion_matrix\n",
    "import seaborn as sns\n",
    "import matplotlib.pyplot as plt\n",
    "import itertools\n",
    "import pickle\n"
   ]
  },
  {
   "cell_type": "code",
   "execution_count": 244,
   "metadata": {},
   "outputs": [],
   "source": [
    "flat=None\n",
    "with open(\"../040_model_formatting/flattened_data_10_dec.pkl\", \"rb\") as f:\n",
    "        flat = pickle.load(f)\n",
    "\n",
    "if flat==None:\n",
    "    print(\"Error retrieving pickle\")\n"
   ]
  },
  {
   "cell_type": "code",
   "execution_count": null,
   "metadata": {},
   "outputs": [],
   "source": []
  },
  {
   "cell_type": "code",
   "execution_count": 245,
   "metadata": {},
   "outputs": [],
   "source": [
    "df_features = flat[2000][\"sims_pairs\"].copy(deep=True)\n",
    "df_features[\"network_proximity\"] = np.where(df_features[\"distance\"] != np.inf, 1 / df_features[\"distance\"], 0)\n",
    "df_features[\"log_num_paths\"] = np.where(df_features[\"num_paths\"] != 0, np.log(1+df_features[\"num_paths\"]), -1)\n",
    "df_features[\"pair_min\"] = df_features[[\"pair_1\", \"pair_2\"]].min(axis=1)\n",
    "df_features[\"pair_max\"] = df_features[[\"pair_1\", \"pair_2\"]].max(axis=1)\n",
    "\n",
    "\n",
    "df_features_t = flat[2010][\"sims_pairs\"].copy(deep=True)\n",
    "df_features_t[\"pair_min\"] = df_features_t[[\"pair_1\", \"pair_2\"]].min(axis=1)\n",
    "df_features_t[\"pair_max\"] = df_features_t[[\"pair_1\", \"pair_2\"]].max(axis=1)\n",
    "df_features_t[\"collabs_t\"] = np.where(df_features_t[\"collabs\"] != 0, 1, 0)\n"
   ]
  },
  {
   "cell_type": "code",
   "execution_count": 257,
   "metadata": {},
   "outputs": [
    {
     "data": {
      "text/plain": [
       "network_proximity\n",
       "0.000000    6048015\n",
       "0.111111     178517\n",
       "0.125000     177934\n",
       "0.100000     160437\n",
       "0.142857     153812\n",
       "0.090909     132376\n",
       "0.166667     113198\n",
       "0.083333      99550\n",
       "0.200000      70406\n",
       "0.076923      67749\n",
       "0.071429      41440\n",
       "0.250000      36975\n",
       "0.066667      23747\n",
       "0.333333      17473\n",
       "0.062500      12322\n",
       "0.500000       7947\n",
       "0.058824       5996\n",
       "1.000000       4052\n",
       "0.055556       2421\n",
       "0.052632        909\n",
       "0.050000        207\n",
       "0.047619         44\n",
       "0.045455          3\n",
       "Name: count, dtype: int64"
      ]
     },
     "execution_count": 257,
     "metadata": {},
     "output_type": "execute_result"
    }
   ],
   "source": [
    "df_features[\"network_proximity\"].value_counts()"
   ]
  },
  {
   "cell_type": "code",
   "execution_count": 246,
   "metadata": {},
   "outputs": [
    {
     "data": {
      "text/html": [
       "<div>\n",
       "<style scoped>\n",
       "    .dataframe tbody tr th:only-of-type {\n",
       "        vertical-align: middle;\n",
       "    }\n",
       "\n",
       "    .dataframe tbody tr th {\n",
       "        vertical-align: top;\n",
       "    }\n",
       "\n",
       "    .dataframe thead th {\n",
       "        text-align: right;\n",
       "    }\n",
       "</style>\n",
       "<table border=\"1\" class=\"dataframe\">\n",
       "  <thead>\n",
       "    <tr style=\"text-align: right;\">\n",
       "      <th></th>\n",
       "      <th>pair_1</th>\n",
       "      <th>pair_2</th>\n",
       "      <th>aff_jacc_sim</th>\n",
       "      <th>collabs</th>\n",
       "      <th>cit_cos_sim</th>\n",
       "      <th>distance</th>\n",
       "      <th>num_paths</th>\n",
       "      <th>pair_min</th>\n",
       "      <th>pair_max</th>\n",
       "      <th>collabs_t</th>\n",
       "    </tr>\n",
       "  </thead>\n",
       "  <tbody>\n",
       "    <tr>\n",
       "      <th>0</th>\n",
       "      <td>14038</td>\n",
       "      <td>8213</td>\n",
       "      <td>0.000000</td>\n",
       "      <td>1</td>\n",
       "      <td>0.742462</td>\n",
       "      <td>1.0</td>\n",
       "      <td>1.0</td>\n",
       "      <td>8213</td>\n",
       "      <td>14038</td>\n",
       "      <td>1</td>\n",
       "    </tr>\n",
       "    <tr>\n",
       "      <th>1</th>\n",
       "      <td>14038</td>\n",
       "      <td>10751</td>\n",
       "      <td>0.000000</td>\n",
       "      <td>1</td>\n",
       "      <td>0.742462</td>\n",
       "      <td>1.0</td>\n",
       "      <td>1.0</td>\n",
       "      <td>10751</td>\n",
       "      <td>14038</td>\n",
       "      <td>1</td>\n",
       "    </tr>\n",
       "    <tr>\n",
       "      <th>2</th>\n",
       "      <td>14038</td>\n",
       "      <td>5152</td>\n",
       "      <td>0.166667</td>\n",
       "      <td>0</td>\n",
       "      <td>0.000000</td>\n",
       "      <td>5.0</td>\n",
       "      <td>2.0</td>\n",
       "      <td>5152</td>\n",
       "      <td>14038</td>\n",
       "      <td>0</td>\n",
       "    </tr>\n",
       "    <tr>\n",
       "      <th>3</th>\n",
       "      <td>14038</td>\n",
       "      <td>13059</td>\n",
       "      <td>0.000000</td>\n",
       "      <td>0</td>\n",
       "      <td>0.000000</td>\n",
       "      <td>6.0</td>\n",
       "      <td>2.0</td>\n",
       "      <td>13059</td>\n",
       "      <td>14038</td>\n",
       "      <td>0</td>\n",
       "    </tr>\n",
       "    <tr>\n",
       "      <th>4</th>\n",
       "      <td>14038</td>\n",
       "      <td>11009</td>\n",
       "      <td>0.400000</td>\n",
       "      <td>0</td>\n",
       "      <td>0.000000</td>\n",
       "      <td>6.0</td>\n",
       "      <td>1.0</td>\n",
       "      <td>11009</td>\n",
       "      <td>14038</td>\n",
       "      <td>0</td>\n",
       "    </tr>\n",
       "  </tbody>\n",
       "</table>\n",
       "</div>"
      ],
      "text/plain": [
       "   pair_1  pair_2  aff_jacc_sim  collabs  cit_cos_sim  distance  num_paths  \\\n",
       "0   14038    8213      0.000000        1     0.742462       1.0        1.0   \n",
       "1   14038   10751      0.000000        1     0.742462       1.0        1.0   \n",
       "2   14038    5152      0.166667        0     0.000000       5.0        2.0   \n",
       "3   14038   13059      0.000000        0     0.000000       6.0        2.0   \n",
       "4   14038   11009      0.400000        0     0.000000       6.0        1.0   \n",
       "\n",
       "   pair_min  pair_max  collabs_t  \n",
       "0      8213     14038          1  \n",
       "1     10751     14038          1  \n",
       "2      5152     14038          0  \n",
       "3     13059     14038          0  \n",
       "4     11009     14038          0  "
      ]
     },
     "execution_count": 246,
     "metadata": {},
     "output_type": "execute_result"
    }
   ],
   "source": [
    "df_features_t.head()"
   ]
  },
  {
   "cell_type": "code",
   "execution_count": 247,
   "metadata": {},
   "outputs": [
    {
     "data": {
      "text/html": [
       "<div>\n",
       "<style scoped>\n",
       "    .dataframe tbody tr th:only-of-type {\n",
       "        vertical-align: middle;\n",
       "    }\n",
       "\n",
       "    .dataframe tbody tr th {\n",
       "        vertical-align: top;\n",
       "    }\n",
       "\n",
       "    .dataframe thead th {\n",
       "        text-align: right;\n",
       "    }\n",
       "</style>\n",
       "<table border=\"1\" class=\"dataframe\">\n",
       "  <thead>\n",
       "    <tr style=\"text-align: right;\">\n",
       "      <th></th>\n",
       "      <th>pair_1</th>\n",
       "      <th>pair_2</th>\n",
       "      <th>aff_jacc_sim</th>\n",
       "      <th>collabs</th>\n",
       "      <th>cit_cos_sim</th>\n",
       "      <th>distance</th>\n",
       "      <th>num_paths</th>\n",
       "      <th>network_proximity</th>\n",
       "      <th>log_num_paths</th>\n",
       "      <th>pair_min</th>\n",
       "      <th>pair_max</th>\n",
       "    </tr>\n",
       "  </thead>\n",
       "  <tbody>\n",
       "    <tr>\n",
       "      <th>0</th>\n",
       "      <td>4927</td>\n",
       "      <td>8311</td>\n",
       "      <td>0.0</td>\n",
       "      <td>1</td>\n",
       "      <td>0.209980</td>\n",
       "      <td>1.0</td>\n",
       "      <td>1.0</td>\n",
       "      <td>1.0</td>\n",
       "      <td>0.693147</td>\n",
       "      <td>4927</td>\n",
       "      <td>8311</td>\n",
       "    </tr>\n",
       "    <tr>\n",
       "      <th>1</th>\n",
       "      <td>4927</td>\n",
       "      <td>7823</td>\n",
       "      <td>0.0</td>\n",
       "      <td>1</td>\n",
       "      <td>0.320750</td>\n",
       "      <td>1.0</td>\n",
       "      <td>1.0</td>\n",
       "      <td>1.0</td>\n",
       "      <td>0.693147</td>\n",
       "      <td>4927</td>\n",
       "      <td>7823</td>\n",
       "    </tr>\n",
       "    <tr>\n",
       "      <th>2</th>\n",
       "      <td>4927</td>\n",
       "      <td>16012</td>\n",
       "      <td>0.0</td>\n",
       "      <td>0</td>\n",
       "      <td>0.000000</td>\n",
       "      <td>inf</td>\n",
       "      <td>0.0</td>\n",
       "      <td>0.0</td>\n",
       "      <td>-1.000000</td>\n",
       "      <td>4927</td>\n",
       "      <td>16012</td>\n",
       "    </tr>\n",
       "    <tr>\n",
       "      <th>3</th>\n",
       "      <td>4927</td>\n",
       "      <td>2311</td>\n",
       "      <td>0.0</td>\n",
       "      <td>0</td>\n",
       "      <td>0.000000</td>\n",
       "      <td>inf</td>\n",
       "      <td>0.0</td>\n",
       "      <td>0.0</td>\n",
       "      <td>-1.000000</td>\n",
       "      <td>2311</td>\n",
       "      <td>4927</td>\n",
       "    </tr>\n",
       "    <tr>\n",
       "      <th>4</th>\n",
       "      <td>4927</td>\n",
       "      <td>8685</td>\n",
       "      <td>0.0</td>\n",
       "      <td>0</td>\n",
       "      <td>0.024845</td>\n",
       "      <td>inf</td>\n",
       "      <td>0.0</td>\n",
       "      <td>0.0</td>\n",
       "      <td>-1.000000</td>\n",
       "      <td>4927</td>\n",
       "      <td>8685</td>\n",
       "    </tr>\n",
       "  </tbody>\n",
       "</table>\n",
       "</div>"
      ],
      "text/plain": [
       "   pair_1  pair_2  aff_jacc_sim  collabs  cit_cos_sim  distance  num_paths  \\\n",
       "0    4927    8311           0.0        1     0.209980       1.0        1.0   \n",
       "1    4927    7823           0.0        1     0.320750       1.0        1.0   \n",
       "2    4927   16012           0.0        0     0.000000       inf        0.0   \n",
       "3    4927    2311           0.0        0     0.000000       inf        0.0   \n",
       "4    4927    8685           0.0        0     0.024845       inf        0.0   \n",
       "\n",
       "   network_proximity  log_num_paths  pair_min  pair_max  \n",
       "0                1.0       0.693147      4927      8311  \n",
       "1                1.0       0.693147      4927      7823  \n",
       "2                0.0      -1.000000      4927     16012  \n",
       "3                0.0      -1.000000      2311      4927  \n",
       "4                0.0      -1.000000      4927      8685  "
      ]
     },
     "execution_count": 247,
     "metadata": {},
     "output_type": "execute_result"
    }
   ],
   "source": [
    "df_features.head()"
   ]
  },
  {
   "cell_type": "code",
   "execution_count": 248,
   "metadata": {},
   "outputs": [],
   "source": [
    "authors_t_minus_1 = set(df_features[\"pair_1\"]).union(set(df_features[\"pair_2\"]))\n",
    "authors_t = set(df_features_t[\"pair_1\"]).union(set(df_features_t[\"pair_2\"]))\n",
    "\n",
    "# Detect new authors at t\n",
    "new_authors_t = authors_t - authors_t_minus_1"
   ]
  },
  {
   "cell_type": "code",
   "execution_count": null,
   "metadata": {},
   "outputs": [],
   "source": []
  },
  {
   "cell_type": "code",
   "execution_count": 249,
   "metadata": {},
   "outputs": [
    {
     "name": "stdout",
     "output_type": "stream",
     "text": [
      "3836\n",
      "5171\n",
      "3597\n"
     ]
    }
   ],
   "source": [
    "print(len(authors_t_minus_1))\n",
    "print(len(authors_t))\n",
    "print(len(new_authors_t))"
   ]
  },
  {
   "cell_type": "code",
   "execution_count": 250,
   "metadata": {},
   "outputs": [],
   "source": [
    "df_features_t_strict = df_features_t[df_features_t[\"pair_1\"].isin(authors_t_minus_1) & df_features_t[\"pair_2\"].isin(authors_t_minus_1)]\n"
   ]
  },
  {
   "cell_type": "code",
   "execution_count": 251,
   "metadata": {},
   "outputs": [
    {
     "data": {
      "text/plain": [
       "collabs_t\n",
       "0    1236517\n",
       "1       1434\n",
       "Name: count, dtype: int64"
      ]
     },
     "execution_count": 251,
     "metadata": {},
     "output_type": "execute_result"
    }
   ],
   "source": [
    "df_features_t_strict[\"collabs_t\"].value_counts()"
   ]
  },
  {
   "cell_type": "code",
   "execution_count": 252,
   "metadata": {},
   "outputs": [],
   "source": [
    "merged_df = df_features.merge(df_features_t_strict[[\"pair_min\", \"pair_max\",\"collabs_t\"]], on=[\"pair_min\", \"pair_max\"], how=\"left\")\n"
   ]
  },
  {
   "cell_type": "code",
   "execution_count": 253,
   "metadata": {},
   "outputs": [
    {
     "data": {
      "text/plain": [
       "array([0, 1])"
      ]
     },
     "execution_count": 253,
     "metadata": {},
     "output_type": "execute_result"
    }
   ],
   "source": [
    "df_features_t_strict[\"collabs_t\"].unique()"
   ]
  },
  {
   "cell_type": "code",
   "execution_count": 254,
   "metadata": {},
   "outputs": [
    {
     "data": {
      "text/html": [
       "<div>\n",
       "<style scoped>\n",
       "    .dataframe tbody tr th:only-of-type {\n",
       "        vertical-align: middle;\n",
       "    }\n",
       "\n",
       "    .dataframe tbody tr th {\n",
       "        vertical-align: top;\n",
       "    }\n",
       "\n",
       "    .dataframe thead th {\n",
       "        text-align: right;\n",
       "    }\n",
       "</style>\n",
       "<table border=\"1\" class=\"dataframe\">\n",
       "  <thead>\n",
       "    <tr style=\"text-align: right;\">\n",
       "      <th></th>\n",
       "      <th>pair_1</th>\n",
       "      <th>pair_2</th>\n",
       "      <th>aff_jacc_sim</th>\n",
       "      <th>collabs</th>\n",
       "      <th>cit_cos_sim</th>\n",
       "      <th>distance</th>\n",
       "      <th>num_paths</th>\n",
       "      <th>network_proximity</th>\n",
       "      <th>log_num_paths</th>\n",
       "      <th>pair_min</th>\n",
       "      <th>pair_max</th>\n",
       "      <th>collabs_t</th>\n",
       "    </tr>\n",
       "  </thead>\n",
       "  <tbody>\n",
       "    <tr>\n",
       "      <th>0</th>\n",
       "      <td>4927</td>\n",
       "      <td>8311</td>\n",
       "      <td>0.0</td>\n",
       "      <td>1</td>\n",
       "      <td>0.209980</td>\n",
       "      <td>1.0</td>\n",
       "      <td>1.0</td>\n",
       "      <td>1.0</td>\n",
       "      <td>0.693147</td>\n",
       "      <td>4927</td>\n",
       "      <td>8311</td>\n",
       "      <td>0.0</td>\n",
       "    </tr>\n",
       "    <tr>\n",
       "      <th>1</th>\n",
       "      <td>4927</td>\n",
       "      <td>7823</td>\n",
       "      <td>0.0</td>\n",
       "      <td>1</td>\n",
       "      <td>0.320750</td>\n",
       "      <td>1.0</td>\n",
       "      <td>1.0</td>\n",
       "      <td>1.0</td>\n",
       "      <td>0.693147</td>\n",
       "      <td>4927</td>\n",
       "      <td>7823</td>\n",
       "      <td>1.0</td>\n",
       "    </tr>\n",
       "    <tr>\n",
       "      <th>2</th>\n",
       "      <td>4927</td>\n",
       "      <td>16012</td>\n",
       "      <td>0.0</td>\n",
       "      <td>0</td>\n",
       "      <td>0.000000</td>\n",
       "      <td>inf</td>\n",
       "      <td>0.0</td>\n",
       "      <td>0.0</td>\n",
       "      <td>-1.000000</td>\n",
       "      <td>4927</td>\n",
       "      <td>16012</td>\n",
       "      <td>0.0</td>\n",
       "    </tr>\n",
       "    <tr>\n",
       "      <th>3</th>\n",
       "      <td>4927</td>\n",
       "      <td>2311</td>\n",
       "      <td>0.0</td>\n",
       "      <td>0</td>\n",
       "      <td>0.000000</td>\n",
       "      <td>inf</td>\n",
       "      <td>0.0</td>\n",
       "      <td>0.0</td>\n",
       "      <td>-1.000000</td>\n",
       "      <td>2311</td>\n",
       "      <td>4927</td>\n",
       "      <td>0.0</td>\n",
       "    </tr>\n",
       "    <tr>\n",
       "      <th>4</th>\n",
       "      <td>4927</td>\n",
       "      <td>8685</td>\n",
       "      <td>0.0</td>\n",
       "      <td>0</td>\n",
       "      <td>0.024845</td>\n",
       "      <td>inf</td>\n",
       "      <td>0.0</td>\n",
       "      <td>0.0</td>\n",
       "      <td>-1.000000</td>\n",
       "      <td>4927</td>\n",
       "      <td>8685</td>\n",
       "      <td>0.0</td>\n",
       "    </tr>\n",
       "  </tbody>\n",
       "</table>\n",
       "</div>"
      ],
      "text/plain": [
       "   pair_1  pair_2  aff_jacc_sim  collabs  cit_cos_sim  distance  num_paths  \\\n",
       "0    4927    8311           0.0        1     0.209980       1.0        1.0   \n",
       "1    4927    7823           0.0        1     0.320750       1.0        1.0   \n",
       "2    4927   16012           0.0        0     0.000000       inf        0.0   \n",
       "3    4927    2311           0.0        0     0.000000       inf        0.0   \n",
       "4    4927    8685           0.0        0     0.024845       inf        0.0   \n",
       "\n",
       "   network_proximity  log_num_paths  pair_min  pair_max  collabs_t  \n",
       "0                1.0       0.693147      4927      8311        0.0  \n",
       "1                1.0       0.693147      4927      7823        1.0  \n",
       "2                0.0      -1.000000      4927     16012        0.0  \n",
       "3                0.0      -1.000000      2311      4927        0.0  \n",
       "4                0.0      -1.000000      4927      8685        0.0  "
      ]
     },
     "execution_count": 254,
     "metadata": {},
     "output_type": "execute_result"
    }
   ],
   "source": [
    "merged_df.head()"
   ]
  },
  {
   "cell_type": "code",
   "execution_count": 255,
   "metadata": {},
   "outputs": [],
   "source": [
    "merged_df=merged_df.fillna(0)"
   ]
  },
  {
   "cell_type": "code",
   "execution_count": 256,
   "metadata": {},
   "outputs": [
    {
     "name": "stdout",
     "output_type": "stream",
     "text": [
      "             Feature  Coefficient\n",
      "0  network_proximity     0.687988\n",
      "1      log_num_paths    -0.144590\n",
      "2        cit_cos_sim     0.375818\n",
      "3       aff_jacc_sim     0.274898\n",
      "4            collabs     0.107279\n",
      "              precision    recall  f1-score   support\n",
      "\n",
      "         0.0       1.00      1.00      1.00   7354096\n",
      "         1.0       1.00      0.00      0.00      1434\n",
      "\n",
      "    accuracy                           1.00   7355530\n",
      "   macro avg       1.00      0.50      0.50   7355530\n",
      "weighted avg       1.00      1.00      1.00   7355530\n",
      "\n",
      "Confusion Matrix:\n",
      "[[7354096       0]\n",
      " [   1434       0]]\n"
     ]
    }
   ],
   "source": [
    "\n",
    "# Example data: Replace with your actual citation, affiliation, and paper data\n",
    "# Citation matrix (authors x papers): 1 if author cites the paper, 0 otherwise\n",
    "# Example format: rows=authors, cols=papers\n",
    "\n",
    "# Affiliation data (author x paper): affiliation IDs per paper\n",
    "# Example format: rows=authors, cols=papers\n",
    "\n",
    "# Previous collaborations (author1, author2, count)\n",
    "# Example format: author1, author2, count\n",
    "\n",
    "# Convert to DataFrame\n",
    "# columns = [\"pair_1\", \"pair_2\", \"proximity\", \"log_num_paths\", \"citation_sim\", \"affiliation_sim\", \"prev_collab_count\", \"collaboration\"]\n",
    "\n",
    "# -------------------------------\n",
    "# Step 5: Scale Features\n",
    "# -------------------------------\n",
    "scaler = MinMaxScaler()\n",
    "\n",
    "X = merged_df[[\"network_proximity\", \"log_num_paths\", \"cit_cos_sim\", \"aff_jacc_sim\", \"collabs\"]]\n",
    "X_scaled = scaler.fit_transform(X)\n",
    "y = merged_df[\"collabs_t\"]\n",
    "\n",
    "# -------------------------------\n",
    "# Step 6: Train Logistic Regression Model\n",
    "# -------------------------------\n",
    "model = LogisticRegression()\n",
    "model.fit(X_scaled, y)\n",
    "\n",
    "# Print Model Coefficients\n",
    "coefficients = pd.DataFrame({\"Feature\": X.columns, \"Coefficient\": model.coef_[0]})\n",
    "print(coefficients)\n",
    "\n",
    "# -------------------------------\n",
    "# Step 7: Evaluate Model\n",
    "# -------------------------------\n",
    "\n",
    "y_pred = model.predict(X_scaled)\n",
    "print(classification_report(y, y_pred, zero_division=1))\n",
    "print(\"Confusion Matrix:\")\n",
    "print(confusion_matrix(y, y_pred))"
   ]
  },
  {
   "cell_type": "code",
   "execution_count": null,
   "metadata": {},
   "outputs": [],
   "source": []
  },
  {
   "cell_type": "code",
   "execution_count": null,
   "metadata": {},
   "outputs": [],
   "source": []
  },
  {
   "cell_type": "code",
   "execution_count": null,
   "metadata": {},
   "outputs": [],
   "source": [
    "\n",
    "\n",
    "\n"
   ]
  },
  {
   "cell_type": "code",
   "execution_count": null,
   "metadata": {},
   "outputs": [],
   "source": []
  }
 ],
 "metadata": {
  "kernelspec": {
   "display_name": "venv",
   "language": "python",
   "name": "python3"
  },
  "language_info": {
   "codemirror_mode": {
    "name": "ipython",
    "version": 3
   },
   "file_extension": ".py",
   "mimetype": "text/x-python",
   "name": "python",
   "nbconvert_exporter": "python",
   "pygments_lexer": "ipython3",
   "version": "3.11.2"
  }
 },
 "nbformat": 4,
 "nbformat_minor": 2
}
