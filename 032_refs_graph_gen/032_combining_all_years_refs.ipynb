{
 "cells": [
  {
   "cell_type": "code",
   "execution_count": 1,
   "metadata": {},
   "outputs": [],
   "source": [
    "# libraries required, please install pandas\n",
    "import pandas as pd\n",
    "from unidecode import unidecode\n",
    "import re\n",
    "import datetime\n",
    "from datetime import date\n",
    "import json\n",
    "import numpy as np\n",
    "import os\n",
    "import time\n",
    "# set column options\n",
    "pd.set_option('display.max_colwidth', None)\n",
    "pd.set_option('display.max_rows', None)"
   ]
  },
  {
   "cell_type": "code",
   "execution_count": 8,
   "metadata": {},
   "outputs": [],
   "source": [
    "base_path=\"/Users/sijiawu/Work/Thesis/Data/\"\n",
    "folder=\"031_proc_refs_full_set\"\n"
   ]
  },
  {
   "cell_type": "code",
   "execution_count": 9,
   "metadata": {},
   "outputs": [],
   "source": [
    "j_data=pd.read_pickle(base_path+\"Combined/022_merged_proc_scopus_inception_with_auth_split_2020_content_type_corrected.pkl\")\n",
    "\n",
    "post_1970s=pd.read_excel('../'+folder+'/refs_post_1970.xlsx')\n",
    "cits_post_1970s=pd.read_excel('../'+folder+'/network_cit_post.xlsx')\n",
    "\n",
    "post_1970s_v2=pd.read_excel('../'+folder+'/refs_post_1970_v2.xlsx')\n",
    "cits_post_1970s_v2=pd.read_excel('../'+folder+'/network_cit_post_v2.xlsx')\n",
    "post_1970s_v2['btch']=post_1970s_v2['btch']+'_v2'\n",
    "post_1970s_v2['f_key']=post_1970s_v2['f_key']+'_v2'\n",
    "\n",
    "pre_1970s=pd.read_excel('../'+folder+'/refs_pre_1970.xlsx')\n",
    "cits_pre_1970s=pd.read_excel('../'+folder+'/network_cit_pre.xlsx')\n",
    "pre_1970s=pre_1970s.rename(columns={'id': \"ref_ord\"})\n"
   ]
  },
  {
   "cell_type": "code",
   "execution_count": 7,
   "metadata": {},
   "outputs": [
    {
     "data": {
      "text/plain": [
       "Index(['issue_url', 'author', 'title', 'journal', 'volume', 'number', 'pages',\n",
       "       'year', 'ISSN', 'abstract', 'URL', 'publisher', 'content_type', 'type',\n",
       "       'jid', 'author_split', 'urldate', 'reviewed-author', 'uploaded',\n",
       "       'title_10', 'URL_og', 'number_og', 'title_og', 'author_og', 'pages_og',\n",
       "       'j_fix', 'scopus_jid', 'scopus_id', 'scopus_authorgroup',\n",
       "       'scopus_authors', 'scopus_affiliations', 'scopus_references',\n",
       "       'scopus_author_full_names', 'scopus_title', 'scopus_year',\n",
       "       'scopus_source_title', 'scopus_volume', 'scopus_issue', 'scopus_art_no',\n",
       "       'scopus_page_start', 'scopus_page_end', 'scopus_page_count',\n",
       "       'scopus_cited_by', 'scopus_doi', 'scopus_abstract', 'scopus_publisher',\n",
       "       'scopus_document_type', 'scopus_publication_stage',\n",
       "       'scopus_open_access', 'scopus_source', 'scopus_eid', 'scopus_title_og',\n",
       "       'scopus_volume_og', 'scopus_issue_og', 'scopus_page_start_og',\n",
       "       'scopus_page_end_og', 'scopus_year_og', 's_fix', 'scopus_pages',\n",
       "       'scopus_indicator', 'author_count'],\n",
       "      dtype='object')"
      ]
     },
     "execution_count": 7,
     "metadata": {},
     "output_type": "execute_result"
    }
   ],
   "source": [
    "j_data.columns"
   ]
  },
  {
   "cell_type": "code",
   "execution_count": 13,
   "metadata": {},
   "outputs": [
    {
     "data": {
      "text/plain": [
       "issue_url                    object\n",
       "author                       object\n",
       "title                        object\n",
       "journal                      object\n",
       "volume                       object\n",
       "number                       object\n",
       "pages                        object\n",
       "year                          int64\n",
       "ISSN                         object\n",
       "abstract                     object\n",
       "URL                          object\n",
       "publisher                    object\n",
       "content_type                 object\n",
       "type                         object\n",
       "jid                          object\n",
       "author_split                 object\n",
       "urldate                      object\n",
       "reviewed-author              object\n",
       "uploaded                    float64\n",
       "title_10                     object\n",
       "URL_og                       object\n",
       "number_og                    object\n",
       "title_og                     object\n",
       "author_og                    object\n",
       "pages_og                     object\n",
       "j_fix                       float64\n",
       "scopus_jid                   object\n",
       "scopus_id                    object\n",
       "scopus_authorgroup           object\n",
       "scopus_authors               object\n",
       "scopus_affiliations          object\n",
       "scopus_references            object\n",
       "scopus_author_full_names     object\n",
       "scopus_title                 object\n",
       "scopus_year                  object\n",
       "scopus_source_title          object\n",
       "scopus_volume                object\n",
       "scopus_issue                 object\n",
       "scopus_art_no                object\n",
       "scopus_page_start            object\n",
       "scopus_page_end              object\n",
       "scopus_page_count           float64\n",
       "scopus_cited_by             float64\n",
       "scopus_doi                   object\n",
       "scopus_abstract              object\n",
       "scopus_publisher             object\n",
       "scopus_document_type         object\n",
       "scopus_publication_stage     object\n",
       "scopus_open_access           object\n",
       "scopus_source                object\n",
       "scopus_eid                   object\n",
       "scopus_title_og              object\n",
       "scopus_volume_og            float64\n",
       "scopus_issue_og              object\n",
       "scopus_page_start_og         object\n",
       "scopus_page_end_og           object\n",
       "scopus_year_og              float64\n",
       "s_fix                       float64\n",
       "scopus_pages                 object\n",
       "scopus_indicator              int64\n",
       "id                           object\n",
       "authors_lower                object\n",
       "page_count                  float64\n",
       "author_count                  int64\n",
       "dtype: object"
      ]
     },
     "execution_count": 13,
     "metadata": {},
     "output_type": "execute_result"
    }
   ],
   "source": [
    "j_data.dtypes"
   ]
  },
  {
   "cell_type": "code",
   "execution_count": 14,
   "metadata": {},
   "outputs": [],
   "source": [
    "j_data['id_o']=j_data[\"URL\"].str.split('/').str[-1]"
   ]
  },
  {
   "cell_type": "code",
   "execution_count": 15,
   "metadata": {},
   "outputs": [
    {
     "data": {
      "text/plain": [
       "type\n",
       "3    15433\n",
       "2    13810\n",
       "4    12518\n",
       "1     6705\n",
       "8     3563\n",
       "7      993\n",
       "6      435\n",
       "5       23\n",
       "Name: count, dtype: int64"
      ]
     },
     "execution_count": 15,
     "metadata": {},
     "output_type": "execute_result"
    }
   ],
   "source": [
    "pre_1970s['type'].value_counts()"
   ]
  },
  {
   "cell_type": "code",
   "execution_count": 16,
   "metadata": {},
   "outputs": [],
   "source": [
    "pre_sub=pre_1970s[['ref_ord', 'id_o','year_o', 'type',\n",
    "       'author', 'title', 'journal', 'year', 'volume', 'issue', 'pages',\n",
    "       'chapter_title', 'location', 'publisher', 'text_full', 'jstor',\n",
    "       'journal_proc', 'year_proc', 'year_latest',\n",
    "       'volume_proc', 'issue_proc', 'title_proc', 'match_url', 'outcome',\n",
    "       'match_id', 'f_key']]\n"
   ]
  },
  {
   "cell_type": "code",
   "execution_count": 17,
   "metadata": {},
   "outputs": [],
   "source": [
    "post_sub=post_1970s[['id_o', 'year_o','ref_ord', 'authors', 'year', 'title',\n",
    "       'month', 'publisher', 'pages', 'full_reference', 'status', 'alt_j',\n",
    "        'f_key', 'year_proc',\n",
    "       'year_latest', 'outcome', 'match_url', 'match_id']]\n"
   ]
  },
  {
   "cell_type": "code",
   "execution_count": 18,
   "metadata": {},
   "outputs": [],
   "source": [
    "post_sub_v2=post_1970s_v2[['id_o', 'year_o','ref_ord', 'authors', 'year', 'title',\n",
    "       'month', 'publisher', 'pages', 'full_reference', 'status', 'alt_j',\n",
    "        'f_key', 'year_proc',\n",
    "       'year_latest', 'outcome', 'match_url', 'match_id']]"
   ]
  },
  {
   "cell_type": "code",
   "execution_count": null,
   "metadata": {},
   "outputs": [],
   "source": []
  },
  {
   "cell_type": "code",
   "execution_count": 19,
   "metadata": {},
   "outputs": [],
   "source": [
    "all_refs=pd.concat([pre_sub,post_sub,post_sub_v2 ],axis=0).reset_index(drop=True)"
   ]
  },
  {
   "cell_type": "code",
   "execution_count": 20,
   "metadata": {},
   "outputs": [],
   "source": [
    "all_refs[\"match_id\"]=all_refs[\"match_url\"].str.split('/').str[-1]"
   ]
  },
  {
   "cell_type": "code",
   "execution_count": 21,
   "metadata": {},
   "outputs": [
    {
     "name": "stdout",
     "output_type": "stream",
     "text": [
      "Index(['ref_ord', 'id_o', 'year_o', 'type', 'author', 'title', 'journal',\n",
      "       'year', 'volume', 'issue', 'pages', 'chapter_title', 'location',\n",
      "       'publisher', 'text_full', 'jstor', 'journal_proc', 'year_proc',\n",
      "       'year_latest', 'volume_proc', 'issue_proc', 'title_proc', 'match_url',\n",
      "       'outcome', 'match_id', 'f_key', 'authors', 'month', 'full_reference',\n",
      "       'status', 'alt_j'],\n",
      "      dtype='object')\n",
      "(534347, 31)\n"
     ]
    }
   ],
   "source": [
    "print(all_refs.columns)\n",
    "print(all_refs.shape)"
   ]
  },
  {
   "cell_type": "code",
   "execution_count": 22,
   "metadata": {},
   "outputs": [],
   "source": [
    "cit_network=all_refs[(all_refs['match_id'].isna()==False)&(all_refs['id_o']!=all_refs['match_id'])].reset_index(drop=True).drop_duplicates(subset= ['id_o', 'match_id'], keep='first')[['id_o','match_id', 'f_key']]"
   ]
  },
  {
   "cell_type": "code",
   "execution_count": 23,
   "metadata": {},
   "outputs": [],
   "source": [
    "relevant=all_refs[all_refs['f_key'].isin(list(cit_network['f_key']))]"
   ]
  },
  {
   "cell_type": "code",
   "execution_count": null,
   "metadata": {},
   "outputs": [],
   "source": [
    "j_data['id_o']=j_data['id_o'].astype(str)\n",
    "cit_network['match_id']=cit_network['match_id'].astype(str)\n",
    "cit_network['id_o']=cit_network['id_o'].astype(str)\n",
    "\n",
    "version=str(datetime.datetime.now()).replace(' ','_')\n",
    "\n",
    "j_data.to_excel('j_data_final_'+version+'.xlsx', index=False)\n",
    "cit_network.drop_duplicates(subset=['id_o','match_id'],keep='first').to_excel('network_cit_1940_2020_'+version+'.xlsx', index=False)\n",
    "all_refs.to_excel('refs_1940_2020_'+version+'.xlsx', index=False)\n",
    "relevant.to_excel('refs_1940_2020_top5_'+version+'.xlsx', index=False)\n"
   ]
  },
  {
   "cell_type": "code",
   "execution_count": 25,
   "metadata": {},
   "outputs": [],
   "source": [
    "\n",
    "j_data.to_pickle('j_data_final_'+version+'.pkl')\n",
    "cit_network.drop_duplicates(subset=['id_o','match_id'],keep='first').to_pickle('network_cit_1940_2020_'+version+'.pkl')\n",
    "all_refs.to_pickle('refs_1940_2020_'+version+'.pkl')\n",
    "relevant.to_pickle('refs_1940_2020_top5_'+version+'.pkl')"
   ]
  },
  {
   "cell_type": "code",
   "execution_count": null,
   "metadata": {},
   "outputs": [],
   "source": []
  }
 ],
 "metadata": {
  "kernelspec": {
   "display_name": "venv",
   "language": "python",
   "name": "python3"
  },
  "language_info": {
   "codemirror_mode": {
    "name": "ipython",
    "version": 3
   },
   "file_extension": ".py",
   "mimetype": "text/x-python",
   "name": "python",
   "nbconvert_exporter": "python",
   "pygments_lexer": "ipython3",
   "version": "3.11.2"
  }
 },
 "nbformat": 4,
 "nbformat_minor": 2
}
