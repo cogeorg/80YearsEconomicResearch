{
 "cells": [
  {
   "cell_type": "code",
   "execution_count": 2,
   "metadata": {},
   "outputs": [],
   "source": [
    "# libraries required, please install pandas\n",
    "import pandas as pd\n",
    "from unidecode import unidecode\n",
    "import re\n",
    "import datetime\n",
    "from datetime import date\n",
    "import json\n",
    "import numpy as np\n",
    "import os\n",
    "import time\n",
    "# set column options\n",
    "pd.set_option('display.max_colwidth', None)\n",
    "pd.set_option('display.max_rows', None)"
   ]
  },
  {
   "cell_type": "code",
   "execution_count": 103,
   "metadata": {},
   "outputs": [],
   "source": [
    "j_data=pd.read_excel('./031_recon/j_data_final.xlsx')\n",
    "cit_network=pd.read_excel('./031_recon/network_cit_1940_2020.xlsx')\n",
    "all_refs=pd.read_excel('./031_recon/refs_1940_2020.xlsx')\n",
    "relevant=pd.read_excel('./031_recon/refs_1940_2020_top5.xlsx')"
   ]
  },
  {
   "cell_type": "code",
   "execution_count": 50,
   "metadata": {},
   "outputs": [],
   "source": [
    "ids=list(set(cit_network['id_o'].astype(str)))\n",
    "ids_m=list(set(cit_network['match_id'].astype(str)))\n",
    "\n"
   ]
  },
  {
   "cell_type": "code",
   "execution_count": null,
   "metadata": {},
   "outputs": [],
   "source": []
  },
  {
   "cell_type": "code",
   "execution_count": null,
   "metadata": {},
   "outputs": [
    {
     "ename": "NameError",
     "evalue": "name 'j_data' is not defined",
     "output_type": "error",
     "traceback": [
      "\u001b[0;31m---------------------------------------------------------------------------\u001b[0m",
      "\u001b[0;31mNameError\u001b[0m                                 Traceback (most recent call last)",
      "Cell \u001b[0;32mIn[1], line 1\u001b[0m\n\u001b[0;32m----> 1\u001b[0m \u001b[43mj_data\u001b[49m[(j_data[\u001b[38;5;124m'\u001b[39m\u001b[38;5;124mtitle\u001b[39m\u001b[38;5;124m'\u001b[39m]\u001b[38;5;241m.\u001b[39mstr\u001b[38;5;241m.\u001b[39mlower()\u001b[38;5;241m.\u001b[39mstr\u001b[38;5;241m.\u001b[39mcontains(\u001b[38;5;124m\"\u001b[39m\u001b[38;5;124mround table\u001b[39m\u001b[38;5;124m\"\u001b[39m)\u001b[38;5;241m==\u001b[39m\u001b[38;5;28;01mTrue\u001b[39;00m)\u001b[38;5;241m&\u001b[39m\n\u001b[1;32m      2\u001b[0m            (j_data[\u001b[38;5;124m'\u001b[39m\u001b[38;5;124mcontent_type\u001b[39m\u001b[38;5;124m'\u001b[39m]\u001b[38;5;241m!=\u001b[39m\u001b[38;5;124m\"\u001b[39m\u001b[38;5;124mArticle\u001b[39m\u001b[38;5;124m\"\u001b[39m)]\n",
      "\u001b[0;31mNameError\u001b[0m: name 'j_data' is not defined"
     ]
    }
   ],
   "source": []
  },
  {
   "cell_type": "code",
   "execution_count": 31,
   "metadata": {},
   "outputs": [],
   "source": [
    "nodes=j_data[(j_data['id_o'].isin(ids)==True)|(j_data['id_o'].isin(ids_m)==True)][['id_o','journal', \n",
    "       'year', 'content_type']].drop_duplicates(keep='first').reset_index(drop=True)\n",
    "nodes['id_o']=nodes['id_o'].astype(str)"
   ]
  },
  {
   "cell_type": "code",
   "execution_count": 46,
   "metadata": {},
   "outputs": [],
   "source": [
    "nodes=nodes.rename(columns={'id_o':\"Id\"})\n",
    "nodes.to_csv(\"./031_recon/nodes_alt_header.csv\", index=None, encoding=\"UTF-8\")\n"
   ]
  },
  {
   "cell_type": "code",
   "execution_count": 47,
   "metadata": {},
   "outputs": [
    {
     "data": {
      "text/html": [
       "<div>\n",
       "<style scoped>\n",
       "    .dataframe tbody tr th:only-of-type {\n",
       "        vertical-align: middle;\n",
       "    }\n",
       "\n",
       "    .dataframe tbody tr th {\n",
       "        vertical-align: top;\n",
       "    }\n",
       "\n",
       "    .dataframe thead th {\n",
       "        text-align: right;\n",
       "    }\n",
       "</style>\n",
       "<table border=\"1\" class=\"dataframe\">\n",
       "  <thead>\n",
       "    <tr style=\"text-align: right;\">\n",
       "      <th></th>\n",
       "      <th>Id</th>\n",
       "      <th>journal</th>\n",
       "      <th>year</th>\n",
       "      <th>content_type</th>\n",
       "    </tr>\n",
       "  </thead>\n",
       "  <tbody>\n",
       "    <tr>\n",
       "      <th>0</th>\n",
       "      <td>26966478</td>\n",
       "      <td>american economic review</td>\n",
       "      <td>2020</td>\n",
       "      <td>Article</td>\n",
       "    </tr>\n",
       "    <tr>\n",
       "      <th>1</th>\n",
       "      <td>26966479</td>\n",
       "      <td>american economic review</td>\n",
       "      <td>2020</td>\n",
       "      <td>Article</td>\n",
       "    </tr>\n",
       "    <tr>\n",
       "      <th>2</th>\n",
       "      <td>26966480</td>\n",
       "      <td>american economic review</td>\n",
       "      <td>2020</td>\n",
       "      <td>Article</td>\n",
       "    </tr>\n",
       "    <tr>\n",
       "      <th>3</th>\n",
       "      <td>26966481</td>\n",
       "      <td>american economic review</td>\n",
       "      <td>2020</td>\n",
       "      <td>Article</td>\n",
       "    </tr>\n",
       "    <tr>\n",
       "      <th>4</th>\n",
       "      <td>26966482</td>\n",
       "      <td>american economic review</td>\n",
       "      <td>2020</td>\n",
       "      <td>Article</td>\n",
       "    </tr>\n",
       "  </tbody>\n",
       "</table>\n",
       "</div>"
      ],
      "text/plain": [
       "         Id                   journal  year content_type\n",
       "0  26966478  american economic review  2020      Article\n",
       "1  26966479  american economic review  2020      Article\n",
       "2  26966480  american economic review  2020      Article\n",
       "3  26966481  american economic review  2020      Article\n",
       "4  26966482  american economic review  2020      Article"
      ]
     },
     "execution_count": 47,
     "metadata": {},
     "output_type": "execute_result"
    }
   ],
   "source": [
    "nodes.head()"
   ]
  },
  {
   "cell_type": "code",
   "execution_count": 34,
   "metadata": {},
   "outputs": [],
   "source": [
    "cit_network[\"match_id\"]=cit_network[\"match_id\"].astype(str)\n",
    "cit_network[\"id_o\"]=cit_network[\"id_o\"].astype(str)"
   ]
  },
  {
   "cell_type": "code",
   "execution_count": 35,
   "metadata": {},
   "outputs": [],
   "source": [
    "edges=cit_network[(cit_network[\"id_o\"]!=cit_network[\"match_id\"]) & (cit_network[\"match_id\"]!=\"CHECKREQ\")].drop_duplicates(subset=['match_id',\"id_o\"], keep=\"first\")"
   ]
  },
  {
   "cell_type": "code",
   "execution_count": 48,
   "metadata": {},
   "outputs": [],
   "source": [
    "edges=edges.rename(columns={'id_o':\"Source\", 'match_id':'Target'})\n",
    "edges.to_csv('./031_recon/edges_alt_header.csv', index=False)"
   ]
  },
  {
   "cell_type": "code",
   "execution_count": 39,
   "metadata": {},
   "outputs": [
    {
     "data": {
      "text/plain": [
       "(24442, 4)"
      ]
     },
     "execution_count": 39,
     "metadata": {},
     "output_type": "execute_result"
    }
   ],
   "source": [
    "nodes.shape"
   ]
  },
  {
   "cell_type": "code",
   "execution_count": 40,
   "metadata": {},
   "outputs": [
    {
     "data": {
      "text/plain": [
       "(107247, 3)"
      ]
     },
     "execution_count": 40,
     "metadata": {},
     "output_type": "execute_result"
    }
   ],
   "source": [
    "edges.shape"
   ]
  },
  {
   "cell_type": "code",
   "execution_count": 41,
   "metadata": {},
   "outputs": [
    {
     "data": {
      "text/plain": [
       "(108988, 3)"
      ]
     },
     "execution_count": 41,
     "metadata": {},
     "output_type": "execute_result"
    }
   ],
   "source": [
    "cit_network.shape"
   ]
  },
  {
   "cell_type": "code",
   "execution_count": 136,
   "metadata": {},
   "outputs": [],
   "source": [
    "checks=list(cit_network[cit_network['match_id']==\"CHECKREQ\"]['id_o'])"
   ]
  },
  {
   "cell_type": "code",
   "execution_count": 75,
   "metadata": {},
   "outputs": [],
   "source": [
    "inds=list(j_data[(j_data['year']>=1940)&(j_data['content_type']!='MISC')&(j_data['content_type']!='Review')]['id_o'])"
   ]
  },
  {
   "cell_type": "code",
   "execution_count": 137,
   "metadata": {},
   "outputs": [],
   "source": [
    "n_ind=list(set(ids+ids_m+checks))"
   ]
  },
  {
   "cell_type": "code",
   "execution_count": 138,
   "metadata": {},
   "outputs": [
    {
     "data": {
      "text/plain": [
       "24443"
      ]
     },
     "execution_count": 138,
     "metadata": {},
     "output_type": "execute_result"
    }
   ],
   "source": [
    "len(n_ind)"
   ]
  },
  {
   "cell_type": "code",
   "execution_count": 139,
   "metadata": {},
   "outputs": [
    {
     "data": {
      "text/plain": [
       "30595"
      ]
     },
     "execution_count": 139,
     "metadata": {},
     "output_type": "execute_result"
    }
   ],
   "source": [
    "len(inds)"
   ]
  },
  {
   "cell_type": "code",
   "execution_count": 140,
   "metadata": {},
   "outputs": [],
   "source": [
    "test=j_data[(j_data['id_o'].isin(n_ind)==False)&(j_data['content_type']!='MISC')&(j_data['content_type']!='Review')&(j_data['content_type']!='Review2')& (j_data['year']>=1940)]"
   ]
  },
  {
   "cell_type": "code",
   "execution_count": 141,
   "metadata": {},
   "outputs": [
    {
     "data": {
      "text/plain": [
       "Article       5660\n",
       "Discussion     511\n",
       "Comment        367\n",
       "Reply          342\n",
       "Rejoinder       64\n",
       "Name: content_type, dtype: int64"
      ]
     },
     "execution_count": 141,
     "metadata": {},
     "output_type": "execute_result"
    }
   ],
   "source": [
    "test['content_type'].value_counts()"
   ]
  },
  {
   "cell_type": "code",
   "execution_count": 142,
   "metadata": {},
   "outputs": [
    {
     "data": {
      "text/plain": [
       "american economic review          4381\n",
       "econometrica                       950\n",
       "journal of political economy       890\n",
       "quarterly journal of economics     447\n",
       "review of economic studies         276\n",
       "Name: journal, dtype: int64"
      ]
     },
     "execution_count": 142,
     "metadata": {},
     "output_type": "execute_result"
    }
   ],
   "source": [
    "test['journal'].value_counts()"
   ]
  },
  {
   "cell_type": "code",
   "execution_count": 143,
   "metadata": {},
   "outputs": [
    {
     "data": {
      "text/plain": [
       "[6944]"
      ]
     },
     "execution_count": 143,
     "metadata": {},
     "output_type": "execute_result"
    }
   ],
   "source": [
    "# test[test['journal']==\"american economic review\"][['year', 'content_type']].value_counts()\n",
    "# test[(test['journal']==\"american economic review\")&(test['year']==2010)]\n",
    "\n",
    "list(test['id_o'].shape)"
   ]
  },
  {
   "cell_type": "code",
   "execution_count": 144,
   "metadata": {},
   "outputs": [],
   "source": [
    "j_inds=j_data[(j_data['content_type']!='MISC')&(j_data['content_type']!='Review')&(j_data['content_type']!='Review2')& (j_data['year']>=1940)]"
   ]
  },
  {
   "cell_type": "code",
   "execution_count": null,
   "metadata": {},
   "outputs": [],
   "source": []
  },
  {
   "cell_type": "code",
   "execution_count": 145,
   "metadata": {},
   "outputs": [
    {
     "data": {
      "text/plain": [
       "(108988, 3)"
      ]
     },
     "execution_count": 145,
     "metadata": {},
     "output_type": "execute_result"
    }
   ],
   "source": [
    "cit_network.shape"
   ]
  },
  {
   "cell_type": "code",
   "execution_count": 146,
   "metadata": {},
   "outputs": [
    {
     "data": {
      "text/plain": [
       "(107247, 3)"
      ]
     },
     "execution_count": 146,
     "metadata": {},
     "output_type": "execute_result"
    }
   ],
   "source": [
    "edges.shape"
   ]
  },
  {
   "cell_type": "code",
   "execution_count": 147,
   "metadata": {},
   "outputs": [
    {
     "data": {
      "text/plain": [
       "Index(['id_o', 'match_id', 'f_key'], dtype='object')"
      ]
     },
     "execution_count": 147,
     "metadata": {},
     "output_type": "execute_result"
    }
   ],
   "source": [
    "cit_network.columns"
   ]
  },
  {
   "cell_type": "code",
   "execution_count": 94,
   "metadata": {},
   "outputs": [],
   "source": []
  },
  {
   "cell_type": "code",
   "execution_count": 148,
   "metadata": {},
   "outputs": [
    {
     "data": {
      "text/plain": [
       "(108988, 31)"
      ]
     },
     "execution_count": 148,
     "metadata": {},
     "output_type": "execute_result"
    }
   ],
   "source": [
    "relevant.shape"
   ]
  },
  {
   "cell_type": "code",
   "execution_count": 149,
   "metadata": {},
   "outputs": [
    {
     "data": {
      "text/plain": [
       "(534347, 31)"
      ]
     },
     "execution_count": 149,
     "metadata": {},
     "output_type": "execute_result"
    }
   ],
   "source": [
    "all_refs.shape"
   ]
  },
  {
   "cell_type": "code",
   "execution_count": 150,
   "metadata": {},
   "outputs": [],
   "source": [
    "digi=list(set(all_refs['id_o']))"
   ]
  },
  {
   "cell_type": "code",
   "execution_count": 151,
   "metadata": {},
   "outputs": [
    {
     "data": {
      "text/plain": [
       "24043"
      ]
     },
     "execution_count": 151,
     "metadata": {},
     "output_type": "execute_result"
    }
   ],
   "source": [
    "len(digi)"
   ]
  },
  {
   "cell_type": "code",
   "execution_count": 157,
   "metadata": {},
   "outputs": [
    {
     "data": {
      "text/html": [
       "<div>\n",
       "<style scoped>\n",
       "    .dataframe tbody tr th:only-of-type {\n",
       "        vertical-align: middle;\n",
       "    }\n",
       "\n",
       "    .dataframe tbody tr th {\n",
       "        vertical-align: top;\n",
       "    }\n",
       "\n",
       "    .dataframe thead th {\n",
       "        text-align: right;\n",
       "    }\n",
       "</style>\n",
       "<table border=\"1\" class=\"dataframe\">\n",
       "  <thead>\n",
       "    <tr style=\"text-align: right;\">\n",
       "      <th></th>\n",
       "      <th>issue_url</th>\n",
       "      <th>URL</th>\n",
       "      <th>journal</th>\n",
       "      <th>number</th>\n",
       "      <th>publisher</th>\n",
       "      <th>title</th>\n",
       "      <th>volume</th>\n",
       "      <th>year</th>\n",
       "      <th>abstract</th>\n",
       "      <th>author</th>\n",
       "      <th>pages</th>\n",
       "      <th>reviewed-author</th>\n",
       "      <th>uploaded</th>\n",
       "      <th>author_split</th>\n",
       "      <th>title_10</th>\n",
       "      <th>content_type</th>\n",
       "      <th>id_o</th>\n",
       "      <th>title_proc</th>\n",
       "    </tr>\n",
       "  </thead>\n",
       "  <tbody>\n",
       "    <tr>\n",
       "      <th>241</th>\n",
       "      <td>https://www.jstor.org/stable/10.2307/e26636969</td>\n",
       "      <td>https://www.jstor.org/stable/26636977</td>\n",
       "      <td>american economic review</td>\n",
       "      <td>5</td>\n",
       "      <td>American Economic Association</td>\n",
       "      <td>Walk on the Wild Side: Temporarily Unstable Paths and Multiplicative Sunspots</td>\n",
       "      <td>109</td>\n",
       "      <td>2019</td>\n",
       "      <td>We propose a generalization of the rational expectations framework to allow for temporarily unstable paths. Our approach introduces multiplicative sunspot shocks and it yields drifting parameters and stochastic volatility. Then, we provide an econometric strategy to estimate this generalized model on the data. The methodology allows the data to choose between different possible alternatives: determinacy, indeterminacy, and temporary instability. We apply our methodology to US inflation dynamics in the 1970s through the lens of a simple New Keynesian model. When temporarily unstable paths are allowed, the data unambiguously select them to explain the stagflation period in the 1970s.</td>\n",
       "      <td>Guido Ascari and Paolo Bonomolo and Hedibert F. Lopes</td>\n",
       "      <td>1805-1842</td>\n",
       "      <td>NaN</td>\n",
       "      <td>1.0</td>\n",
       "      <td>['Guido Ascari', 'Paolo Bonomolo', 'Hedibert F. Lopes']</td>\n",
       "      <td>Walk on the Wild Side: Temporarily Unstable Paths and Multiplicative Sunspots</td>\n",
       "      <td>Article</td>\n",
       "      <td>26636977</td>\n",
       "      <td>walk on the wild side: temporarily unstable paths and multiplicative sunspots</td>\n",
       "    </tr>\n",
       "    <tr>\n",
       "      <th>253</th>\n",
       "      <td>https://www.jstor.org/stable/10.2307/e26637201</td>\n",
       "      <td>https://www.jstor.org/stable/26637207</td>\n",
       "      <td>american economic review</td>\n",
       "      <td>4</td>\n",
       "      <td>American Economic Association</td>\n",
       "      <td>Selling to Advised Buyers</td>\n",
       "      <td>109</td>\n",
       "      <td>2019</td>\n",
       "      <td>In many cases, buyers are not informed about their valuations and rely on experts, who are informed but biased for overbidding. We study auction design when selling to such “advised buyers.” We show that a canonical dynamic auction, the English auction, has a natural equilibrium that outperforms standard static auctions in expected revenues and allocative efficiency. The ability to communicate as the auction proceeds allows for more informative communication and gives advisors the ability to persuade buyers into overbidding. The same outcome is the unique equilibrium of the English auction when bidders can commit to contracts with their advisors.</td>\n",
       "      <td>Andrey Malenko and Anton Tsoy</td>\n",
       "      <td>1323-1348</td>\n",
       "      <td>NaN</td>\n",
       "      <td>1.0</td>\n",
       "      <td>['Andrey Malenko', 'Anton Tsoy']</td>\n",
       "      <td>Selling to Advised Buyers</td>\n",
       "      <td>Article</td>\n",
       "      <td>26637207</td>\n",
       "      <td>selling to advised buyers</td>\n",
       "    </tr>\n",
       "    <tr>\n",
       "      <th>377</th>\n",
       "      <td>https://www.jstor.org/stable/10.2307/e26528515</td>\n",
       "      <td>https://www.jstor.org/stable/26528521</td>\n",
       "      <td>american economic review</td>\n",
       "      <td>7</td>\n",
       "      <td>American Economic Association</td>\n",
       "      <td>The Twin Ds: Optimal Default and Devaluation</td>\n",
       "      <td>108</td>\n",
       "      <td>2018</td>\n",
       "      <td>A salient characteristic of sovereign defaults is that they are typically accompanied by large devaluations. This paper presents new evidence of this empirical regularity known as the Twin Ds and proposes a model that rationalizes it as an optimal policy outcome. The model combines limited enforcement of debt contracts and downward nominal wage rigidity. Under optimal policy, default is shown to occur during contractions. The role of default is to free up resources for domestic absorption, and the role of exchange rate devaluation is to lower the real value of wages, thereby reducing involuntary unemployment.</td>\n",
       "      <td>Seunghoon Na and Stephanie Schmitt-Grohé and Martín Uribe and Vivian Yue</td>\n",
       "      <td>1773-1819</td>\n",
       "      <td>NaN</td>\n",
       "      <td>1.0</td>\n",
       "      <td>['Seunghoon Na', 'Stephanie Schmitt-Grohé', 'Martín Uribe', 'Vivian Yue']</td>\n",
       "      <td>The Twin Ds: Optimal Default and Devaluation</td>\n",
       "      <td>Article</td>\n",
       "      <td>26528521</td>\n",
       "      <td>the twin ds: optimal default and devaluation</td>\n",
       "    </tr>\n",
       "    <tr>\n",
       "      <th>464</th>\n",
       "      <td>https://www.jstor.org/stable/10.2307/i40206841</td>\n",
       "      <td>https://www.jstor.org/stable/44871798</td>\n",
       "      <td>american economic review</td>\n",
       "      <td>11</td>\n",
       "      <td>American Economic Association</td>\n",
       "      <td>Gresham's Law of Model Averaging</td>\n",
       "      <td>107</td>\n",
       "      <td>2017</td>\n",
       "      <td>A decision maker doubts the stationarity of his environment. In response, he uses two models, one with time-varying parameters, and another with constant parameters. Forecasts are then based on a Bayesian model averaging strategy, which mixes forecasts from the two models. In reality, structural parameters are constant, but the unknown) true model features expectational feedback, which the reduced-form models neglect. This feedback permits fears of parameter instability to become self-confirming. Within the context of a standard asset-pricing model, we use the tools of large deviations theory to show that even though the constant parameter model would converge to the rational expectations equilibrium if considered in isolation, the mere presence of an unstable alternative drives it out of consideration.</td>\n",
       "      <td>In-Koo Cho and Kenneth Kasa</td>\n",
       "      <td>3589-3616</td>\n",
       "      <td>NaN</td>\n",
       "      <td>1.0</td>\n",
       "      <td>['In-Koo Cho', 'Kenneth Kasa']</td>\n",
       "      <td>Gresham's Law of Model Averaging</td>\n",
       "      <td>Article</td>\n",
       "      <td>44871798</td>\n",
       "      <td>gresham's law of model averaging</td>\n",
       "    </tr>\n",
       "    <tr>\n",
       "      <th>471</th>\n",
       "      <td>https://www.jstor.org/stable/10.2307/i40206840</td>\n",
       "      <td>https://www.jstor.org/stable/44871773</td>\n",
       "      <td>american economic review</td>\n",
       "      <td>10</td>\n",
       "      <td>American Economic Association</td>\n",
       "      <td>Steering the Climate System: Using Inertia to Lower the Cost of Policy</td>\n",
       "      <td>107</td>\n",
       "      <td>2017</td>\n",
       "      <td>Common views hold that the efficient way to limit warming to a chosen level is to price carbon emissions at a rate that increases exponentially. We show that this Hotelling tax on carbon emissions is actually inefficient. The least-cost policy path takes advantage of the climate system's inertia to delay reducing emissions and allow greater cumulative emissions. The efficient carbon tax follows an inverse-U-shaped path and grows more slowly than the Hotelling tax. Economic models that assume exponentially increasing carbon taxes are overestimating the cost of limiting warming, overestimating the efficient near-term carbon tax, and overvaluing technologies that mature sooner.</td>\n",
       "      <td>Derek Lemoine and Ivan Rudik</td>\n",
       "      <td>2947-2957</td>\n",
       "      <td>NaN</td>\n",
       "      <td>1.0</td>\n",
       "      <td>['Derek Lemoine', 'Ivan Rudik']</td>\n",
       "      <td>Steering the Climate System: Using Inertia to Lower the Cost of Policy</td>\n",
       "      <td>Article</td>\n",
       "      <td>44871773</td>\n",
       "      <td>steering the climate system: using inertia to lower the cost of policy</td>\n",
       "    </tr>\n",
       "  </tbody>\n",
       "</table>\n",
       "</div>"
      ],
      "text/plain": [
       "                                          issue_url  \\\n",
       "241  https://www.jstor.org/stable/10.2307/e26636969   \n",
       "253  https://www.jstor.org/stable/10.2307/e26637201   \n",
       "377  https://www.jstor.org/stable/10.2307/e26528515   \n",
       "464  https://www.jstor.org/stable/10.2307/i40206841   \n",
       "471  https://www.jstor.org/stable/10.2307/i40206840   \n",
       "\n",
       "                                       URL                   journal number  \\\n",
       "241  https://www.jstor.org/stable/26636977  american economic review      5   \n",
       "253  https://www.jstor.org/stable/26637207  american economic review      4   \n",
       "377  https://www.jstor.org/stable/26528521  american economic review      7   \n",
       "464  https://www.jstor.org/stable/44871798  american economic review     11   \n",
       "471  https://www.jstor.org/stable/44871773  american economic review     10   \n",
       "\n",
       "                         publisher  \\\n",
       "241  American Economic Association   \n",
       "253  American Economic Association   \n",
       "377  American Economic Association   \n",
       "464  American Economic Association   \n",
       "471  American Economic Association   \n",
       "\n",
       "                                                                             title  \\\n",
       "241  Walk on the Wild Side: Temporarily Unstable Paths and Multiplicative Sunspots   \n",
       "253                                                      Selling to Advised Buyers   \n",
       "377                                   The Twin Ds: Optimal Default and Devaluation   \n",
       "464                                               Gresham's Law of Model Averaging   \n",
       "471         Steering the Climate System: Using Inertia to Lower the Cost of Policy   \n",
       "\n",
       "     volume  year  \\\n",
       "241     109  2019   \n",
       "253     109  2019   \n",
       "377     108  2018   \n",
       "464     107  2017   \n",
       "471     107  2017   \n",
       "\n",
       "                                                                                                                                                                                                                                                                                                                                                                                                                                                                                                                                                                                                                                                                                                                                                                                                                                           abstract  \\\n",
       "241                                                                                                                              We propose a generalization of the rational expectations framework to allow for temporarily unstable paths. Our approach introduces multiplicative sunspot shocks and it yields drifting parameters and stochastic volatility. Then, we provide an econometric strategy to estimate this generalized model on the data. The methodology allows the data to choose between different possible alternatives: determinacy, indeterminacy, and temporary instability. We apply our methodology to US inflation dynamics in the 1970s through the lens of a simple New Keynesian model. When temporarily unstable paths are allowed, the data unambiguously select them to explain the stagflation period in the 1970s.   \n",
       "253                                                                                                                                                                  In many cases, buyers are not informed about their valuations and rely on experts, who are informed but biased for overbidding. We study auction design when selling to such “advised buyers.” We show that a canonical dynamic auction, the English auction, has a natural equilibrium that outperforms standard static auctions in expected revenues and allocative efficiency. The ability to communicate as the auction proceeds allows for more informative communication and gives advisors the ability to persuade buyers into overbidding. The same outcome is the unique equilibrium of the English auction when bidders can commit to contracts with their advisors.   \n",
       "377                                                                                                                                                                                                        A salient characteristic of sovereign defaults is that they are typically accompanied by large devaluations. This paper presents new evidence of this empirical regularity known as the Twin Ds and proposes a model that rationalizes it as an optimal policy outcome. The model combines limited enforcement of debt contracts and downward nominal wage rigidity. Under optimal policy, default is shown to occur during contractions. The role of default is to free up resources for domestic absorption, and the role of exchange rate devaluation is to lower the real value of wages, thereby reducing involuntary unemployment.   \n",
       "464  A decision maker doubts the stationarity of his environment. In response, he uses two models, one with time-varying parameters, and another with constant parameters. Forecasts are then based on a Bayesian model averaging strategy, which mixes forecasts from the two models. In reality, structural parameters are constant, but the unknown) true model features expectational feedback, which the reduced-form models neglect. This feedback permits fears of parameter instability to become self-confirming. Within the context of a standard asset-pricing model, we use the tools of large deviations theory to show that even though the constant parameter model would converge to the rational expectations equilibrium if considered in isolation, the mere presence of an unstable alternative drives it out of consideration.   \n",
       "471                                                                                                                                     Common views hold that the efficient way to limit warming to a chosen level is to price carbon emissions at a rate that increases exponentially. We show that this Hotelling tax on carbon emissions is actually inefficient. The least-cost policy path takes advantage of the climate system's inertia to delay reducing emissions and allow greater cumulative emissions. The efficient carbon tax follows an inverse-U-shaped path and grows more slowly than the Hotelling tax. Economic models that assume exponentially increasing carbon taxes are overestimating the cost of limiting warming, overestimating the efficient near-term carbon tax, and overvaluing technologies that mature sooner.   \n",
       "\n",
       "                                                                       author  \\\n",
       "241                     Guido Ascari and Paolo Bonomolo and Hedibert F. Lopes   \n",
       "253                                             Andrey Malenko and Anton Tsoy   \n",
       "377  Seunghoon Na and Stephanie Schmitt-Grohé and Martín Uribe and Vivian Yue   \n",
       "464                                               In-Koo Cho and Kenneth Kasa   \n",
       "471                                              Derek Lemoine and Ivan Rudik   \n",
       "\n",
       "         pages reviewed-author  uploaded  \\\n",
       "241  1805-1842             NaN       1.0   \n",
       "253  1323-1348             NaN       1.0   \n",
       "377  1773-1819             NaN       1.0   \n",
       "464  3589-3616             NaN       1.0   \n",
       "471  2947-2957             NaN       1.0   \n",
       "\n",
       "                                                                  author_split  \\\n",
       "241                    ['Guido Ascari', 'Paolo Bonomolo', 'Hedibert F. Lopes']   \n",
       "253                                           ['Andrey Malenko', 'Anton Tsoy']   \n",
       "377  ['Seunghoon Na', 'Stephanie Schmitt-Grohé', 'Martín Uribe', 'Vivian Yue']   \n",
       "464                                             ['In-Koo Cho', 'Kenneth Kasa']   \n",
       "471                                            ['Derek Lemoine', 'Ivan Rudik']   \n",
       "\n",
       "                                                                          title_10  \\\n",
       "241  Walk on the Wild Side: Temporarily Unstable Paths and Multiplicative Sunspots   \n",
       "253                                                      Selling to Advised Buyers   \n",
       "377                                   The Twin Ds: Optimal Default and Devaluation   \n",
       "464                                               Gresham's Law of Model Averaging   \n",
       "471         Steering the Climate System: Using Inertia to Lower the Cost of Policy   \n",
       "\n",
       "    content_type      id_o  \\\n",
       "241      Article  26636977   \n",
       "253      Article  26637207   \n",
       "377      Article  26528521   \n",
       "464      Article  44871798   \n",
       "471      Article  44871773   \n",
       "\n",
       "                                                                        title_proc  \n",
       "241  walk on the wild side: temporarily unstable paths and multiplicative sunspots  \n",
       "253                                                      selling to advised buyers  \n",
       "377                                   the twin ds: optimal default and devaluation  \n",
       "464                                               gresham's law of model averaging  \n",
       "471         steering the climate system: using inertia to lower the cost of policy  "
      ]
     },
     "execution_count": 157,
     "metadata": {},
     "output_type": "execute_result"
    }
   ],
   "source": [
    "test[test['id_o'].isin(digi)==False].head()"
   ]
  },
  {
   "cell_type": "code",
   "execution_count": null,
   "metadata": {},
   "outputs": [],
   "source": []
  },
  {
   "cell_type": "code",
   "execution_count": null,
   "metadata": {},
   "outputs": [],
   "source": []
  }
 ],
 "metadata": {
  "kernelspec": {
   "display_name": "Python 3",
   "language": "python",
   "name": "python3"
  },
  "language_info": {
   "codemirror_mode": {
    "name": "ipython",
    "version": 3
   },
   "file_extension": ".py",
   "mimetype": "text/x-python",
   "name": "python",
   "nbconvert_exporter": "python",
   "pygments_lexer": "ipython3",
   "version": "3.11.2"
  }
 },
 "nbformat": 4,
 "nbformat_minor": 2
}
