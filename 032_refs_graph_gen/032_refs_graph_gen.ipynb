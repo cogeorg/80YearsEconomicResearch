{
 "cells": [
  {
   "cell_type": "code",
   "execution_count": 1,
   "metadata": {},
   "outputs": [],
   "source": [
    "# libraries required, please install pandas\n",
    "import pandas as pd\n",
    "from unidecode import unidecode\n",
    "import re\n",
    "import datetime\n",
    "from datetime import date\n",
    "import json\n",
    "import numpy as np\n",
    "import os\n",
    "import time\n",
    "# set column options\n",
    "pd.set_option('display.max_colwidth', None)\n",
    "pd.set_option('display.max_rows', None)"
   ]
  },
  {
   "cell_type": "code",
   "execution_count": 2,
   "metadata": {},
   "outputs": [],
   "source": [
    "j_data=pd.read_pickle('j_data_final.pkl')\n",
    "cit_network=pd.read_pickle('network_cit_1940_2020.pkl')\n",
    "all_refs=pd.read_pickle('refs_1940_2020.pkl')\n",
    "relevant=pd.read_pickle('refs_1940_2020_top5.pkl')"
   ]
  },
  {
   "cell_type": "code",
   "execution_count": 3,
   "metadata": {},
   "outputs": [],
   "source": [
    "ids=list(set(cit_network['id_o'].astype(str)))\n",
    "ids_m=list(set(cit_network['match_id'].astype(str)))\n",
    "\n"
   ]
  },
  {
   "cell_type": "code",
   "execution_count": 4,
   "metadata": {},
   "outputs": [
    {
     "data": {
      "text/plain": [
       "(534347, 31)"
      ]
     },
     "execution_count": 4,
     "metadata": {},
     "output_type": "execute_result"
    }
   ],
   "source": [
    "all_refs.shape"
   ]
  },
  {
   "cell_type": "code",
   "execution_count": 5,
   "metadata": {},
   "outputs": [
    {
     "data": {
      "text/plain": [
       "Index(['ref_ord', 'id_o', 'year_o', 'type', 'author', 'title', 'journal',\n",
       "       'year', 'volume', 'issue', 'pages', 'chapter_title', 'location',\n",
       "       'publisher', 'text_full', 'jstor', 'journal_proc', 'year_proc',\n",
       "       'year_latest', 'volume_proc', 'issue_proc', 'title_proc', 'match_url',\n",
       "       'outcome', 'match_id', 'f_key', 'authors', 'month', 'full_reference',\n",
       "       'status', 'alt_j'],\n",
       "      dtype='object')"
      ]
     },
     "execution_count": 5,
     "metadata": {},
     "output_type": "execute_result"
    }
   ],
   "source": [
    "all_refs.columns"
   ]
  },
  {
   "cell_type": "code",
   "execution_count": 6,
   "metadata": {},
   "outputs": [],
   "source": [
    "all_refs['pipeline_origin']=all_refs[\"f_key\"].str.split(\"_\").str[0]"
   ]
  },
  {
   "cell_type": "code",
   "execution_count": 7,
   "metadata": {},
   "outputs": [
    {
     "data": {
      "text/plain": [
       "pipeline_origin\n",
       "tesseract          480867\n",
       "mturk               53480\n",
       "Name: count, dtype: int64"
      ]
     },
     "execution_count": 7,
     "metadata": {},
     "output_type": "execute_result"
    }
   ],
   "source": [
    "all_refs[[\"pipeline_origin\"]].value_counts()"
   ]
  },
  {
   "cell_type": "code",
   "execution_count": null,
   "metadata": {},
   "outputs": [],
   "source": []
  },
  {
   "cell_type": "code",
   "execution_count": 8,
   "metadata": {},
   "outputs": [],
   "source": [
    "nodes=j_data[(j_data['id_o'].isin(ids)==True)|(j_data['id_o'].isin(ids_m)==True)][['id_o','journal', \n",
    "       'year', 'content_type']].drop_duplicates(keep='first').reset_index(drop=True)\n",
    "nodes['id_o']=nodes['id_o'].astype(str)"
   ]
  },
  {
   "cell_type": "code",
   "execution_count": 10,
   "metadata": {},
   "outputs": [],
   "source": [
    "nodes=nodes.rename(columns={'id_o':\"Id\"})\n",
    "nodes.to_csv(\"nodes_alt_header.csv\", index=None, encoding=\"UTF-8\")\n"
   ]
  },
  {
   "cell_type": "code",
   "execution_count": 11,
   "metadata": {},
   "outputs": [
    {
     "data": {
      "text/html": [
       "<div>\n",
       "<style scoped>\n",
       "    .dataframe tbody tr th:only-of-type {\n",
       "        vertical-align: middle;\n",
       "    }\n",
       "\n",
       "    .dataframe tbody tr th {\n",
       "        vertical-align: top;\n",
       "    }\n",
       "\n",
       "    .dataframe thead th {\n",
       "        text-align: right;\n",
       "    }\n",
       "</style>\n",
       "<table border=\"1\" class=\"dataframe\">\n",
       "  <thead>\n",
       "    <tr style=\"text-align: right;\">\n",
       "      <th></th>\n",
       "      <th>Id</th>\n",
       "      <th>journal</th>\n",
       "      <th>year</th>\n",
       "      <th>content_type</th>\n",
       "    </tr>\n",
       "  </thead>\n",
       "  <tbody>\n",
       "    <tr>\n",
       "      <th>0</th>\n",
       "      <td>26966478</td>\n",
       "      <td>The American Economic Review</td>\n",
       "      <td>2020</td>\n",
       "      <td>Article</td>\n",
       "    </tr>\n",
       "    <tr>\n",
       "      <th>1</th>\n",
       "      <td>26966479</td>\n",
       "      <td>The American Economic Review</td>\n",
       "      <td>2020</td>\n",
       "      <td>Article</td>\n",
       "    </tr>\n",
       "    <tr>\n",
       "      <th>2</th>\n",
       "      <td>26966480</td>\n",
       "      <td>The American Economic Review</td>\n",
       "      <td>2020</td>\n",
       "      <td>Article</td>\n",
       "    </tr>\n",
       "    <tr>\n",
       "      <th>3</th>\n",
       "      <td>26966481</td>\n",
       "      <td>The American Economic Review</td>\n",
       "      <td>2020</td>\n",
       "      <td>Article</td>\n",
       "    </tr>\n",
       "    <tr>\n",
       "      <th>4</th>\n",
       "      <td>26966482</td>\n",
       "      <td>The American Economic Review</td>\n",
       "      <td>2020</td>\n",
       "      <td>Article</td>\n",
       "    </tr>\n",
       "  </tbody>\n",
       "</table>\n",
       "</div>"
      ],
      "text/plain": [
       "         Id                       journal  year content_type\n",
       "0  26966478  The American Economic Review  2020      Article\n",
       "1  26966479  The American Economic Review  2020      Article\n",
       "2  26966480  The American Economic Review  2020      Article\n",
       "3  26966481  The American Economic Review  2020      Article\n",
       "4  26966482  The American Economic Review  2020      Article"
      ]
     },
     "execution_count": 11,
     "metadata": {},
     "output_type": "execute_result"
    }
   ],
   "source": [
    "nodes.head()"
   ]
  },
  {
   "cell_type": "code",
   "execution_count": 12,
   "metadata": {},
   "outputs": [],
   "source": [
    "cit_network[\"match_id\"]=cit_network[\"match_id\"].astype(str)\n",
    "cit_network[\"id_o\"]=cit_network[\"id_o\"].astype(str)"
   ]
  },
  {
   "cell_type": "code",
   "execution_count": 13,
   "metadata": {},
   "outputs": [],
   "source": [
    "edges=cit_network[(cit_network[\"id_o\"]!=cit_network[\"match_id\"]) & (cit_network[\"match_id\"]!=\"CHECKREQ\")].drop_duplicates(subset=['match_id',\"id_o\"], keep=\"first\")"
   ]
  },
  {
   "cell_type": "code",
   "execution_count": 14,
   "metadata": {},
   "outputs": [],
   "source": [
    "edges=edges.rename(columns={'id_o':\"Source\", 'match_id':'Target'})\n",
    "edges.to_csv('edges_alt_header.csv', index=False)"
   ]
  },
  {
   "cell_type": "code",
   "execution_count": 15,
   "metadata": {},
   "outputs": [
    {
     "data": {
      "text/plain": [
       "(24442, 4)"
      ]
     },
     "execution_count": 15,
     "metadata": {},
     "output_type": "execute_result"
    }
   ],
   "source": [
    "nodes.shape"
   ]
  },
  {
   "cell_type": "code",
   "execution_count": 16,
   "metadata": {},
   "outputs": [
    {
     "data": {
      "text/plain": [
       "(107247, 3)"
      ]
     },
     "execution_count": 16,
     "metadata": {},
     "output_type": "execute_result"
    }
   ],
   "source": [
    "edges.shape"
   ]
  },
  {
   "cell_type": "code",
   "execution_count": 17,
   "metadata": {},
   "outputs": [
    {
     "data": {
      "text/plain": [
       "(108975, 3)"
      ]
     },
     "execution_count": 17,
     "metadata": {},
     "output_type": "execute_result"
    }
   ],
   "source": [
    "cit_network.shape"
   ]
  },
  {
   "cell_type": "code",
   "execution_count": 18,
   "metadata": {},
   "outputs": [],
   "source": [
    "checks=list(cit_network[cit_network['match_id']==\"CHECKREQ\"]['id_o'])"
   ]
  },
  {
   "cell_type": "code",
   "execution_count": 19,
   "metadata": {},
   "outputs": [],
   "source": [
    "inds=list(j_data[(j_data['year']>=1940)&(j_data['content_type']!='MISC')&(j_data['content_type']!='Review')]['id_o'])"
   ]
  },
  {
   "cell_type": "code",
   "execution_count": 20,
   "metadata": {},
   "outputs": [],
   "source": [
    "n_ind=list(set(ids+ids_m+checks))"
   ]
  },
  {
   "cell_type": "code",
   "execution_count": 21,
   "metadata": {},
   "outputs": [
    {
     "data": {
      "text/plain": [
       "24443"
      ]
     },
     "execution_count": 21,
     "metadata": {},
     "output_type": "execute_result"
    }
   ],
   "source": [
    "len(n_ind)"
   ]
  },
  {
   "cell_type": "code",
   "execution_count": 22,
   "metadata": {},
   "outputs": [
    {
     "data": {
      "text/plain": [
       "30519"
      ]
     },
     "execution_count": 22,
     "metadata": {},
     "output_type": "execute_result"
    }
   ],
   "source": [
    "len(inds)"
   ]
  },
  {
   "cell_type": "code",
   "execution_count": 23,
   "metadata": {},
   "outputs": [],
   "source": [
    "test=j_data[(j_data['id_o'].isin(n_ind)==False)&(j_data['content_type']!='MISC')&(j_data['content_type']!='Review')&(j_data['content_type']!='Review2')& (j_data['year']>=1940)]"
   ]
  },
  {
   "cell_type": "code",
   "execution_count": 24,
   "metadata": {},
   "outputs": [
    {
     "data": {
      "text/plain": [
       "content_type\n",
       "Article       5487\n",
       "Discussion     536\n",
       "Comment        366\n",
       "Reply          341\n",
       "Errata          66\n",
       "Rejoinder       64\n",
       "Correction       3\n",
       "Name: count, dtype: int64"
      ]
     },
     "execution_count": 24,
     "metadata": {},
     "output_type": "execute_result"
    }
   ],
   "source": [
    "test['content_type'].value_counts()"
   ]
  },
  {
   "cell_type": "code",
   "execution_count": 25,
   "metadata": {},
   "outputs": [
    {
     "data": {
      "text/plain": [
       "journal\n",
       "The American Economic Review          4384\n",
       "Econometrica                           946\n",
       "Journal of Political Economy           811\n",
       "The Quarterly Journal of Economics     447\n",
       "The Review of Economic Studies         275\n",
       "Name: count, dtype: int64"
      ]
     },
     "execution_count": 25,
     "metadata": {},
     "output_type": "execute_result"
    }
   ],
   "source": [
    "test['journal'].value_counts()"
   ]
  },
  {
   "cell_type": "code",
   "execution_count": 26,
   "metadata": {},
   "outputs": [
    {
     "data": {
      "text/plain": [
       "[6863]"
      ]
     },
     "execution_count": 26,
     "metadata": {},
     "output_type": "execute_result"
    }
   ],
   "source": [
    "# test[test['journal']==\"american economic review\"][['year', 'content_type']].value_counts()\n",
    "# test[(test['journal']==\"american economic review\")&(test['year']==2010)]\n",
    "\n",
    "list(test['id_o'].shape)"
   ]
  },
  {
   "cell_type": "code",
   "execution_count": 27,
   "metadata": {},
   "outputs": [],
   "source": [
    "j_inds=j_data[(j_data['content_type']!='MISC')&(j_data['content_type']!='Review')&(j_data['content_type']!='Review2')& (j_data['year']>=1940)]"
   ]
  },
  {
   "cell_type": "code",
   "execution_count": null,
   "metadata": {},
   "outputs": [],
   "source": []
  },
  {
   "cell_type": "code",
   "execution_count": 28,
   "metadata": {},
   "outputs": [
    {
     "data": {
      "text/plain": [
       "(108975, 3)"
      ]
     },
     "execution_count": 28,
     "metadata": {},
     "output_type": "execute_result"
    }
   ],
   "source": [
    "cit_network.shape"
   ]
  },
  {
   "cell_type": "code",
   "execution_count": 29,
   "metadata": {},
   "outputs": [
    {
     "data": {
      "text/plain": [
       "(107247, 3)"
      ]
     },
     "execution_count": 29,
     "metadata": {},
     "output_type": "execute_result"
    }
   ],
   "source": [
    "edges.shape"
   ]
  },
  {
   "cell_type": "code",
   "execution_count": 30,
   "metadata": {},
   "outputs": [
    {
     "data": {
      "text/plain": [
       "Index(['id_o', 'match_id', 'f_key'], dtype='object')"
      ]
     },
     "execution_count": 30,
     "metadata": {},
     "output_type": "execute_result"
    }
   ],
   "source": [
    "cit_network.columns"
   ]
  },
  {
   "cell_type": "code",
   "execution_count": null,
   "metadata": {},
   "outputs": [],
   "source": []
  },
  {
   "cell_type": "code",
   "execution_count": 31,
   "metadata": {},
   "outputs": [
    {
     "data": {
      "text/plain": [
       "(108988, 31)"
      ]
     },
     "execution_count": 31,
     "metadata": {},
     "output_type": "execute_result"
    }
   ],
   "source": [
    "relevant.shape"
   ]
  },
  {
   "cell_type": "code",
   "execution_count": 32,
   "metadata": {},
   "outputs": [
    {
     "data": {
      "text/plain": [
       "(534347, 32)"
      ]
     },
     "execution_count": 32,
     "metadata": {},
     "output_type": "execute_result"
    }
   ],
   "source": [
    "all_refs.shape"
   ]
  },
  {
   "cell_type": "code",
   "execution_count": 33,
   "metadata": {},
   "outputs": [],
   "source": [
    "digi=list(set(all_refs['id_o']))"
   ]
  },
  {
   "cell_type": "code",
   "execution_count": 34,
   "metadata": {},
   "outputs": [
    {
     "data": {
      "text/plain": [
       "24043"
      ]
     },
     "execution_count": 34,
     "metadata": {},
     "output_type": "execute_result"
    }
   ],
   "source": [
    "len(digi)"
   ]
  },
  {
   "cell_type": "code",
   "execution_count": 35,
   "metadata": {},
   "outputs": [
    {
     "data": {
      "text/html": [
       "<div>\n",
       "<style scoped>\n",
       "    .dataframe tbody tr th:only-of-type {\n",
       "        vertical-align: middle;\n",
       "    }\n",
       "\n",
       "    .dataframe tbody tr th {\n",
       "        vertical-align: top;\n",
       "    }\n",
       "\n",
       "    .dataframe thead th {\n",
       "        text-align: right;\n",
       "    }\n",
       "</style>\n",
       "<table border=\"1\" class=\"dataframe\">\n",
       "  <thead>\n",
       "    <tr style=\"text-align: right;\">\n",
       "      <th></th>\n",
       "      <th>issue_url</th>\n",
       "      <th>author</th>\n",
       "      <th>title</th>\n",
       "      <th>journal</th>\n",
       "      <th>volume</th>\n",
       "      <th>number</th>\n",
       "      <th>pages</th>\n",
       "      <th>year</th>\n",
       "      <th>ISSN</th>\n",
       "      <th>abstract</th>\n",
       "      <th>...</th>\n",
       "      <th>scopus_page_end_og</th>\n",
       "      <th>scopus_year_og</th>\n",
       "      <th>s_fix</th>\n",
       "      <th>scopus_pages</th>\n",
       "      <th>scopus_indicator</th>\n",
       "      <th>id</th>\n",
       "      <th>authors_lower</th>\n",
       "      <th>page_count</th>\n",
       "      <th>author_count</th>\n",
       "      <th>id_o</th>\n",
       "    </tr>\n",
       "  </thead>\n",
       "  <tbody>\n",
       "    <tr>\n",
       "      <th>0</th>\n",
       "      <td>https://academic.oup.com//qje/issue/135/3</td>\n",
       "      <td>Enke, Benjamin</td>\n",
       "      <td>what you see is all there is</td>\n",
       "      <td>The Quarterly Journal of Economics</td>\n",
       "      <td>135</td>\n",
       "      <td>3</td>\n",
       "      <td>1363-1398</td>\n",
       "      <td>2020</td>\n",
       "      <td>0033-5533</td>\n",
       "      <td>News reports and communication are inherently constrained by space, time, and attention. As a result, news sources often condition the decision of whether to share a piece of information on the similarity between the signal and the prior belief of the audience, which generates a sample selection problem. This article experimentally studies how people form beliefs in these contexts, in particular the mechanisms behind errors in statistical reasoning. I document that a substantial fraction of experimental participants follows a simple “what you see is all there is” heuristic, according to which participants exclusively consider information that is right in front of them, and directly use the sample mean to estimate the population mean. A series of treatments aimed at identifying mechanisms suggests that for many participants, unobserved signals do not even come to mind. I provide causal evidence that the frequency of such incorrect mental models is a function of the computational complexity of the decision problem. These results point to the context dependence of what comes to mind and the resulting errors in belief updating.</td>\n",
       "      <td>...</td>\n",
       "      <td>1398</td>\n",
       "      <td>2020.0</td>\n",
       "      <td>0.0</td>\n",
       "      <td>1363-1398</td>\n",
       "      <td>0</td>\n",
       "      <td>qjaa012</td>\n",
       "      <td>enke, benjamin</td>\n",
       "      <td>35.0</td>\n",
       "      <td>1</td>\n",
       "      <td>qjaa012</td>\n",
       "    </tr>\n",
       "    <tr>\n",
       "      <th>242</th>\n",
       "      <td>https://www.jstor.org/stable/10.2307/e26636969</td>\n",
       "      <td>Guido Ascari and Paolo Bonomolo and Hedibert F. Lopes</td>\n",
       "      <td>walk on the wild side: temporarily unstable paths and multiplicative sunspots</td>\n",
       "      <td>The American Economic Review</td>\n",
       "      <td>109</td>\n",
       "      <td>5</td>\n",
       "      <td>1805-1842</td>\n",
       "      <td>2019</td>\n",
       "      <td>00028282, 19447981</td>\n",
       "      <td>We propose a generalization of the rational expectations framework to allow for temporarily unstable paths. Our approach introduces multiplicative sunspot shocks and it yields drifting parameters and stochastic volatility. Then, we provide an econometric strategy to estimate this generalized model on the data. The methodology allows the data to choose between different possible alternatives: determinacy, indeterminacy, and temporary instability. We apply our methodology to US inflation dynamics in the 1970s through the lens of a simple New Keynesian model. When temporarily unstable paths are allowed, the data unambiguously select them to explain the stagflation period in the 1970s.</td>\n",
       "      <td>...</td>\n",
       "      <td>1842</td>\n",
       "      <td>2019.0</td>\n",
       "      <td>0.0</td>\n",
       "      <td>1805-1842</td>\n",
       "      <td>0</td>\n",
       "      <td>26636977</td>\n",
       "      <td>guido ascari and paolo bonomolo and hedibert f. lopes</td>\n",
       "      <td>38.0</td>\n",
       "      <td>3</td>\n",
       "      <td>26636977</td>\n",
       "    </tr>\n",
       "    <tr>\n",
       "      <th>254</th>\n",
       "      <td>https://www.jstor.org/stable/10.2307/e26637201</td>\n",
       "      <td>Andrey Malenko and Anton Tsoy</td>\n",
       "      <td>selling to advised buyers</td>\n",
       "      <td>The American Economic Review</td>\n",
       "      <td>109</td>\n",
       "      <td>4</td>\n",
       "      <td>1323-1348</td>\n",
       "      <td>2019</td>\n",
       "      <td>00028282, 19447981</td>\n",
       "      <td>In many cases, buyers are not informed about their valuations and rely on experts, who are informed but biased for overbidding. We study auction design when selling to such “advised buyers.” We show that a canonical dynamic auction, the English auction, has a natural equilibrium that outperforms standard static auctions in expected revenues and allocative efficiency. The ability to communicate as the auction proceeds allows for more informative communication and gives advisors the ability to persuade buyers into overbidding. The same outcome is the unique equilibrium of the English auction when bidders can commit to contracts with their advisors.</td>\n",
       "      <td>...</td>\n",
       "      <td>1348</td>\n",
       "      <td>2019.0</td>\n",
       "      <td>0.0</td>\n",
       "      <td>1323-1348</td>\n",
       "      <td>0</td>\n",
       "      <td>26637207</td>\n",
       "      <td>andrey malenko and anton tsoy</td>\n",
       "      <td>26.0</td>\n",
       "      <td>2</td>\n",
       "      <td>26637207</td>\n",
       "    </tr>\n",
       "    <tr>\n",
       "      <th>378</th>\n",
       "      <td>https://www.jstor.org/stable/10.2307/e26528515</td>\n",
       "      <td>Seunghoon Na and Stephanie Schmitt-Grohe and Martin Uribe and Vivian Yue</td>\n",
       "      <td>the twin ds: optimal default and devaluation</td>\n",
       "      <td>The American Economic Review</td>\n",
       "      <td>108</td>\n",
       "      <td>7</td>\n",
       "      <td>1773-1819</td>\n",
       "      <td>2018</td>\n",
       "      <td>00028282, 19447981</td>\n",
       "      <td>A salient characteristic of sovereign defaults is that they are typically accompanied by large devaluations. This paper presents new evidence of this empirical regularity known as the Twin Ds and proposes a model that rationalizes it as an optimal policy outcome. The model combines limited enforcement of debt contracts and downward nominal wage rigidity. Under optimal policy, default is shown to occur during contractions. The role of default is to free up resources for domestic absorption, and the role of exchange rate devaluation is to lower the real value of wages, thereby reducing involuntary unemployment.</td>\n",
       "      <td>...</td>\n",
       "      <td>1819</td>\n",
       "      <td>2018.0</td>\n",
       "      <td>0.0</td>\n",
       "      <td>1773-1819</td>\n",
       "      <td>0</td>\n",
       "      <td>26528521</td>\n",
       "      <td>seunghoon na and stephanie schmitt-grohé and martín uribe and vivian yue</td>\n",
       "      <td>47.0</td>\n",
       "      <td>4</td>\n",
       "      <td>26528521</td>\n",
       "    </tr>\n",
       "    <tr>\n",
       "      <th>465</th>\n",
       "      <td>https://www.jstor.org/stable/10.2307/i40206841</td>\n",
       "      <td>In-Koo Cho and Kenneth Kasa</td>\n",
       "      <td>gresham's law of model averaging</td>\n",
       "      <td>The American Economic Review</td>\n",
       "      <td>107</td>\n",
       "      <td>11</td>\n",
       "      <td>3589-3616</td>\n",
       "      <td>2017</td>\n",
       "      <td>00028282, 19447981</td>\n",
       "      <td>A decision maker doubts the stationarity of his environment. In response, he uses two models, one with time-varying parameters, and another with constant parameters. Forecasts are then based on a Bayesian model averaging strategy, which mixes forecasts from the two models. In reality, structural parameters are constant, but the unknown) true model features expectational feedback, which the reduced-form models neglect. This feedback permits fears of parameter instability to become self-confirming. Within the context of a standard asset-pricing model, we use the tools of large deviations theory to show that even though the constant parameter model would converge to the rational expectations equilibrium if considered in isolation, the mere presence of an unstable alternative drives it out of consideration.</td>\n",
       "      <td>...</td>\n",
       "      <td>3616</td>\n",
       "      <td>2017.0</td>\n",
       "      <td>0.0</td>\n",
       "      <td>3589-3616</td>\n",
       "      <td>0</td>\n",
       "      <td>44871798</td>\n",
       "      <td>in-koo cho and kenneth kasa</td>\n",
       "      <td>28.0</td>\n",
       "      <td>2</td>\n",
       "      <td>44871798</td>\n",
       "    </tr>\n",
       "  </tbody>\n",
       "</table>\n",
       "<p>5 rows × 65 columns</p>\n",
       "</div>"
      ],
      "text/plain": [
       "                                          issue_url  \\\n",
       "0         https://academic.oup.com//qje/issue/135/3   \n",
       "242  https://www.jstor.org/stable/10.2307/e26636969   \n",
       "254  https://www.jstor.org/stable/10.2307/e26637201   \n",
       "378  https://www.jstor.org/stable/10.2307/e26528515   \n",
       "465  https://www.jstor.org/stable/10.2307/i40206841   \n",
       "\n",
       "                                                                       author  \\\n",
       "0                                                              Enke, Benjamin   \n",
       "242                     Guido Ascari and Paolo Bonomolo and Hedibert F. Lopes   \n",
       "254                                             Andrey Malenko and Anton Tsoy   \n",
       "378  Seunghoon Na and Stephanie Schmitt-Grohe and Martin Uribe and Vivian Yue   \n",
       "465                                               In-Koo Cho and Kenneth Kasa   \n",
       "\n",
       "                                                                             title  \\\n",
       "0                                                     what you see is all there is   \n",
       "242  walk on the wild side: temporarily unstable paths and multiplicative sunspots   \n",
       "254                                                      selling to advised buyers   \n",
       "378                                   the twin ds: optimal default and devaluation   \n",
       "465                                               gresham's law of model averaging   \n",
       "\n",
       "                                journal volume number      pages  year  \\\n",
       "0    The Quarterly Journal of Economics    135      3  1363-1398  2020   \n",
       "242        The American Economic Review    109      5  1805-1842  2019   \n",
       "254        The American Economic Review    109      4  1323-1348  2019   \n",
       "378        The American Economic Review    108      7  1773-1819  2018   \n",
       "465        The American Economic Review    107     11  3589-3616  2017   \n",
       "\n",
       "                   ISSN  \\\n",
       "0             0033-5533   \n",
       "242  00028282, 19447981   \n",
       "254  00028282, 19447981   \n",
       "378  00028282, 19447981   \n",
       "465  00028282, 19447981   \n",
       "\n",
       "                                                                                                                                                                                                                                                                                                                                                                                                                                                                                                                                                                                                                                                                                                                                                                                                                                                                                                                                                                                                                                                                                                                                                                                  abstract  \\\n",
       "0    News reports and communication are inherently constrained by space, time, and attention. As a result, news sources often condition the decision of whether to share a piece of information on the similarity between the signal and the prior belief of the audience, which generates a sample selection problem. This article experimentally studies how people form beliefs in these contexts, in particular the mechanisms behind errors in statistical reasoning. I document that a substantial fraction of experimental participants follows a simple “what you see is all there is” heuristic, according to which participants exclusively consider information that is right in front of them, and directly use the sample mean to estimate the population mean. A series of treatments aimed at identifying mechanisms suggests that for many participants, unobserved signals do not even come to mind. I provide causal evidence that the frequency of such incorrect mental models is a function of the computational complexity of the decision problem. These results point to the context dependence of what comes to mind and the resulting errors in belief updating.   \n",
       "242                                                                                                                                                                                                                                                                                                                                                                                                                                                                     We propose a generalization of the rational expectations framework to allow for temporarily unstable paths. Our approach introduces multiplicative sunspot shocks and it yields drifting parameters and stochastic volatility. Then, we provide an econometric strategy to estimate this generalized model on the data. The methodology allows the data to choose between different possible alternatives: determinacy, indeterminacy, and temporary instability. We apply our methodology to US inflation dynamics in the 1970s through the lens of a simple New Keynesian model. When temporarily unstable paths are allowed, the data unambiguously select them to explain the stagflation period in the 1970s.   \n",
       "254                                                                                                                                                                                                                                                                                                                                                                                                                                                                                                         In many cases, buyers are not informed about their valuations and rely on experts, who are informed but biased for overbidding. We study auction design when selling to such “advised buyers.” We show that a canonical dynamic auction, the English auction, has a natural equilibrium that outperforms standard static auctions in expected revenues and allocative efficiency. The ability to communicate as the auction proceeds allows for more informative communication and gives advisors the ability to persuade buyers into overbidding. The same outcome is the unique equilibrium of the English auction when bidders can commit to contracts with their advisors.   \n",
       "378                                                                                                                                                                                                                                                                                                                                                                                                                                                                                                                                               A salient characteristic of sovereign defaults is that they are typically accompanied by large devaluations. This paper presents new evidence of this empirical regularity known as the Twin Ds and proposes a model that rationalizes it as an optimal policy outcome. The model combines limited enforcement of debt contracts and downward nominal wage rigidity. Under optimal policy, default is shown to occur during contractions. The role of default is to free up resources for domestic absorption, and the role of exchange rate devaluation is to lower the real value of wages, thereby reducing involuntary unemployment.   \n",
       "465                                                                                                                                                                                                                                                                                                                                         A decision maker doubts the stationarity of his environment. In response, he uses two models, one with time-varying parameters, and another with constant parameters. Forecasts are then based on a Bayesian model averaging strategy, which mixes forecasts from the two models. In reality, structural parameters are constant, but the unknown) true model features expectational feedback, which the reduced-form models neglect. This feedback permits fears of parameter instability to become self-confirming. Within the context of a standard asset-pricing model, we use the tools of large deviations theory to show that even though the constant parameter model would converge to the rational expectations equilibrium if considered in isolation, the mere presence of an unstable alternative drives it out of consideration.   \n",
       "\n",
       "     ... scopus_page_end_og scopus_year_og s_fix scopus_pages  \\\n",
       "0    ...               1398         2020.0   0.0    1363-1398   \n",
       "242  ...               1842         2019.0   0.0    1805-1842   \n",
       "254  ...               1348         2019.0   0.0    1323-1348   \n",
       "378  ...               1819         2018.0   0.0    1773-1819   \n",
       "465  ...               3616         2017.0   0.0    3589-3616   \n",
       "\n",
       "    scopus_indicator        id  \\\n",
       "0                  0   qjaa012   \n",
       "242                0  26636977   \n",
       "254                0  26637207   \n",
       "378                0  26528521   \n",
       "465                0  44871798   \n",
       "\n",
       "                                                                authors_lower  \\\n",
       "0                                                              enke, benjamin   \n",
       "242                     guido ascari and paolo bonomolo and hedibert f. lopes   \n",
       "254                                             andrey malenko and anton tsoy   \n",
       "378  seunghoon na and stephanie schmitt-grohé and martín uribe and vivian yue   \n",
       "465                                               in-koo cho and kenneth kasa   \n",
       "\n",
       "    page_count  author_count      id_o  \n",
       "0         35.0             1   qjaa012  \n",
       "242       38.0             3  26636977  \n",
       "254       26.0             2  26637207  \n",
       "378       47.0             4  26528521  \n",
       "465       28.0             2  44871798  \n",
       "\n",
       "[5 rows x 65 columns]"
      ]
     },
     "execution_count": 35,
     "metadata": {},
     "output_type": "execute_result"
    }
   ],
   "source": [
    "test[test['id_o'].isin(digi)==False].head()"
   ]
  },
  {
   "cell_type": "code",
   "execution_count": null,
   "metadata": {},
   "outputs": [],
   "source": []
  },
  {
   "cell_type": "code",
   "execution_count": null,
   "metadata": {},
   "outputs": [],
   "source": []
  }
 ],
 "metadata": {
  "kernelspec": {
   "display_name": "venv",
   "language": "python",
   "name": "python3"
  },
  "language_info": {
   "codemirror_mode": {
    "name": "ipython",
    "version": 3
   },
   "file_extension": ".py",
   "mimetype": "text/x-python",
   "name": "python",
   "nbconvert_exporter": "python",
   "pygments_lexer": "ipython3",
   "version": "3.11.2"
  }
 },
 "nbformat": 4,
 "nbformat_minor": 2
}
