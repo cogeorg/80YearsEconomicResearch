{
 "cells": [
  {
   "cell_type": "code",
   "execution_count": 1,
   "metadata": {},
   "outputs": [],
   "source": [
    "# libraries required, please install pandas\n",
    "import pandas as pd\n",
    "from unidecode import unidecode\n",
    "import re\n",
    "import datetime\n",
    "from datetime import date\n",
    "import json\n",
    "import numpy as np\n",
    "import os\n",
    "import time\n",
    "# set column options\n",
    "pd.set_option('display.max_colwidth', None)\n",
    "pd.set_option('display.max_rows', None)"
   ]
  },
  {
   "cell_type": "code",
   "execution_count": 3,
   "metadata": {},
   "outputs": [],
   "source": [
    "base_path=\"/Users/sijiawu/Work/Thesis/Data/\""
   ]
  },
  {
   "cell_type": "code",
   "execution_count": 2,
   "metadata": {},
   "outputs": [],
   "source": [
    "j_data=pd.read_excel('./031_recon/jstor_data.xlsx')\n",
    "\n",
    "post_1970s=pd.read_excel('./031_recon/refs_post_1970.xlsx')\n",
    "cits_post_1970s=pd.read_excel('./031_recon/network_cit_post.xlsx')\n",
    "\n",
    "post_1970s_v2=pd.read_excel('./031_recon/refs_post_1970_v2.xlsx')\n",
    "cits_post_1970s_v2=pd.read_excel('./031_recon/network_cit_post_v2.xlsx')\n",
    "post_1970s_v2['btch']=post_1970s_v2['btch']+'_v2'\n",
    "post_1970s_v2['f_key']=post_1970s_v2['f_key']+'_v2'\n",
    "\n",
    "pre_1970s=pd.read_excel('./031_recon/refs_pre_1970.xlsx')\n",
    "cits_pre_1970s=pd.read_excel('./031_recon/network_cit_pre.xlsx')\n",
    "pre_1970s=pre_1970s.rename(columns={'id': \"ref_ord\"})\n"
   ]
  },
  {
   "cell_type": "code",
   "execution_count": 3,
   "metadata": {},
   "outputs": [],
   "source": [
    "j_data=j_data.rename(columns={\"ID\":\"id_o\"})"
   ]
  },
  {
   "cell_type": "code",
   "execution_count": 4,
   "metadata": {},
   "outputs": [
    {
     "data": {
      "text/plain": [
       "3    15433\n",
       "2    13810\n",
       "4    12518\n",
       "1     6705\n",
       "8     3563\n",
       "7      993\n",
       "6      435\n",
       "5       23\n",
       "Name: type, dtype: int64"
      ]
     },
     "execution_count": 4,
     "metadata": {},
     "output_type": "execute_result"
    }
   ],
   "source": [
    "pre_1970s['type'].value_counts()"
   ]
  },
  {
   "cell_type": "code",
   "execution_count": 5,
   "metadata": {},
   "outputs": [],
   "source": [
    "pre_sub=pre_1970s[['ref_ord', 'id_o','year_o', 'type',\n",
    "       'author', 'title', 'journal', 'year', 'volume', 'issue', 'pages',\n",
    "       'chapter_title', 'location', 'publisher', 'text_full', 'jstor',\n",
    "       'journal_proc', 'year_proc', 'year_latest',\n",
    "       'volume_proc', 'issue_proc', 'title_proc', 'match_url', 'outcome',\n",
    "       'match_id', 'f_key']]\n"
   ]
  },
  {
   "cell_type": "code",
   "execution_count": 6,
   "metadata": {},
   "outputs": [],
   "source": [
    "post_sub=post_1970s[['id_o', 'year_o','ref_ord', 'authors', 'year', 'title',\n",
    "       'month', 'publisher', 'pages', 'full_reference', 'status', 'alt_j',\n",
    "        'f_key', 'year_proc',\n",
    "       'year_latest', 'outcome', 'match_url', 'match_id']]\n"
   ]
  },
  {
   "cell_type": "code",
   "execution_count": 7,
   "metadata": {},
   "outputs": [],
   "source": [
    "post_sub_v2=post_1970s_v2[['id_o', 'year_o','ref_ord', 'authors', 'year', 'title',\n",
    "       'month', 'publisher', 'pages', 'full_reference', 'status', 'alt_j',\n",
    "        'f_key', 'year_proc',\n",
    "       'year_latest', 'outcome', 'match_url', 'match_id']]"
   ]
  },
  {
   "cell_type": "code",
   "execution_count": null,
   "metadata": {},
   "outputs": [],
   "source": []
  },
  {
   "cell_type": "code",
   "execution_count": 8,
   "metadata": {},
   "outputs": [],
   "source": [
    "all_refs=pd.concat([pre_sub,post_sub,post_sub_v2 ],axis=0).reset_index(drop=True)"
   ]
  },
  {
   "cell_type": "code",
   "execution_count": 9,
   "metadata": {},
   "outputs": [],
   "source": [
    "all_refs[\"match_id\"]=all_refs[\"match_url\"].str.split('/').str[-1]"
   ]
  },
  {
   "cell_type": "code",
   "execution_count": 10,
   "metadata": {},
   "outputs": [
    {
     "name": "stdout",
     "output_type": "stream",
     "text": [
      "Index(['ref_ord', 'id_o', 'year_o', 'type', 'author', 'title', 'journal',\n",
      "       'year', 'volume', 'issue', 'pages', 'chapter_title', 'location',\n",
      "       'publisher', 'text_full', 'jstor', 'journal_proc', 'year_proc',\n",
      "       'year_latest', 'volume_proc', 'issue_proc', 'title_proc', 'match_url',\n",
      "       'outcome', 'match_id', 'f_key', 'authors', 'month', 'full_reference',\n",
      "       'status', 'alt_j'],\n",
      "      dtype='object')\n",
      "(534347, 31)\n"
     ]
    }
   ],
   "source": [
    "print(all_refs.columns)\n",
    "print(all_refs.shape)"
   ]
  },
  {
   "cell_type": "code",
   "execution_count": 11,
   "metadata": {},
   "outputs": [],
   "source": [
    "cit_network=all_refs[(all_refs['match_id'].isna()==False)&(all_refs['id_o']!=all_refs['match_id'])].reset_index(drop=True).drop_duplicates(subset= ['id_o', 'match_id'], keep='first')[['id_o','match_id', 'f_key']]"
   ]
  },
  {
   "cell_type": "code",
   "execution_count": 12,
   "metadata": {},
   "outputs": [],
   "source": [
    "relevant=all_refs[all_refs['f_key'].isin(list(cit_network['f_key']))]"
   ]
  },
  {
   "cell_type": "code",
   "execution_count": 15,
   "metadata": {},
   "outputs": [],
   "source": [
    "j_data['id_o']=j_data['id_o'].astype(str)\n",
    "cit_network['match_id']=cit_network['match_id'].astype(str)\n",
    "cit_network['id_o']=cit_network['id_o'].astype(str)\n",
    "\n",
    "version=str(datetime.datetime.now()).replace(' ','_')\n",
    "j_data.drop_duplicates().to_excel('./031_recon/j_data_final_'+version+'.xlsx', index=False)\n",
    "cit_network.drop_duplicates(subset=['id_o','match_id'],keep='first').to_excel('./031_recon/network_cit_1940_2020_'+version+'.xlsx', index=False)\n",
    "all_refs.to_excel('./031_recon/refs_1940_2020_'+version+'.xlsx', index=False)\n",
    "relevant.to_excel('./031_recon/refs_1940_2020_top5_'+version+'.xlsx', index=False)"
   ]
  },
  {
   "cell_type": "code",
   "execution_count": null,
   "metadata": {},
   "outputs": [],
   "source": []
  }
 ],
 "metadata": {
  "kernelspec": {
   "display_name": "Python 3",
   "language": "python",
   "name": "python3"
  },
  "language_info": {
   "codemirror_mode": {
    "name": "ipython",
    "version": 3
   },
   "file_extension": ".py",
   "mimetype": "text/x-python",
   "name": "python",
   "nbconvert_exporter": "python",
   "pygments_lexer": "ipython3",
   "version": "3.11.2"
  }
 },
 "nbformat": 4,
 "nbformat_minor": 2
}
