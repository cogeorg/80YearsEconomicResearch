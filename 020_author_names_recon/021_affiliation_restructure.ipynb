{
 "cells": [
  {
   "cell_type": "markdown",
   "metadata": {},
   "source": [
    "# Combining Affiliations\n",
    "Affiliations were collected in two parts: 1940 to 2010 and 2011 to 2020. Although the two sets are individually consolidated, they are not fully consolidated against each other. Before this can happen:\n",
    "\n",
    "- The 1940 to 2010 file (pre_2010) needs to be restructured\n",
    "- Both files also contain data fields that are not necessary\n",
    "\n",
    "The variation due to the different individuals who consolidated the two data files. The following code simply combines the two data sets, checks for logical errors (eg: row contains data for 6 authors when there are only 5) and simplies the available fields to the bare minimum.\n",
    "\n",
    "Input files:\n",
    "- affiliations file pre-2010\n",
    "- affiliations file post-2010\n",
    "\n",
    "Output files:\n",
    "- pre-2010 file with all fields and corrections\n",
    "- post-2010 file with all fields and corrections\n",
    "- combined file with all fields and filled corrections\n",
    "- combined file of subset of fields"
   ]
  },
  {
   "cell_type": "code",
   "execution_count": 1179,
   "metadata": {},
   "outputs": [],
   "source": [
    "import pandas as pd\n",
    "import time\n",
    "import json\n",
    "import re\n",
    "pd.set_option('display.max_colwidth', 200)"
   ]
  },
  {
   "cell_type": "code",
   "execution_count": 1180,
   "metadata": {},
   "outputs": [],
   "source": [
    "def save_json(data, file_path, encoding_type):\n",
    "    try:\n",
    "        with open(file_path, \"w\", encoding=encoding_type) as json_file:\n",
    "            json.dump(data, json_file, ensure_ascii=False, indent=4)\n",
    "        print(f\"JSON data successfully saved to {file_path} with {encoding_type} encoding.\")\n",
    "    except IOError as e:\n",
    "        print(f\"Error saving JSON data: {e}\")"
   ]
  },
  {
   "cell_type": "code",
   "execution_count": 1181,
   "metadata": {},
   "outputs": [],
   "source": [
    "base_path=\"/Users/sijiawu/Work/Thesis/Data/\"\n",
    "content_ex=['MISC',  'Discussion', 'Review', 'Review2']\n",
    "content=['Article', 'Comment', 'Reply', 'Rejoinder',\"Errata\"]\n",
    "jid=[\"aer\",\"ecta\",\"jpe\",\"qje\",\"res\"]"
   ]
  },
  {
   "cell_type": "code",
   "execution_count": null,
   "metadata": {},
   "outputs": [],
   "source": []
  },
  {
   "cell_type": "code",
   "execution_count": 1182,
   "metadata": {},
   "outputs": [],
   "source": [
    "pre_2010=pd.read_excel(base_path+\"Affiliations/Affiliations_cleaned_1940_2010.xlsx\")\n",
    "pre_2010_remnant=pd.read_excel(base_path+\"Affiliations/affs_remnant_mixed_final.xlsx\")\n",
    "post_2010_init=pd.read_excel(base_path+\"Affiliations/Affiliations_cleaned_2011_2020_alt.xlsx\")\n",
    "post_2010_remnant=pd.read_excel(base_path+\"Affiliations/affs_remnants_alt.xlsx\")\n",
    "\n",
    "j_data=pd.read_pickle(base_path+\"Combined/020_merged_proc_scopus_inception_with_auth_split_2020.pkl\")"
   ]
  },
  {
   "cell_type": "code",
   "execution_count": 1183,
   "metadata": {},
   "outputs": [
    {
     "data": {
      "text/plain": [
       "(5127, 18)"
      ]
     },
     "execution_count": 1183,
     "metadata": {},
     "output_type": "execute_result"
    }
   ],
   "source": [
    "pre_2010_remnant.shape"
   ]
  },
  {
   "cell_type": "code",
   "execution_count": 1184,
   "metadata": {},
   "outputs": [
    {
     "data": {
      "text/plain": [
       "(22789, 40)"
      ]
     },
     "execution_count": 1184,
     "metadata": {},
     "output_type": "execute_result"
    }
   ],
   "source": [
    "pre_2010.shape"
   ]
  },
  {
   "cell_type": "code",
   "execution_count": 1185,
   "metadata": {},
   "outputs": [
    {
     "data": {
      "text/plain": [
       "(11507, 20)"
      ]
     },
     "execution_count": 1185,
     "metadata": {},
     "output_type": "execute_result"
    }
   ],
   "source": [
    "post_2010_init.shape"
   ]
  },
  {
   "cell_type": "code",
   "execution_count": 1186,
   "metadata": {},
   "outputs": [
    {
     "data": {
      "text/plain": [
       "(3038, 25)"
      ]
     },
     "execution_count": 1186,
     "metadata": {},
     "output_type": "execute_result"
    }
   ],
   "source": [
    "post_2010_remnant.shape"
   ]
  },
  {
   "cell_type": "code",
   "execution_count": 1187,
   "metadata": {},
   "outputs": [
    {
     "data": {
      "text/plain": [
       "Index(['Journal_Name', 'Authors_count', 'Authors_list', 'authors',\n",
       "       'Article_ID', 'content_type', 'stable_url', 'year', 'Ref_type',\n",
       "       'ref_string', 'ref_string_clean1', 'Screened', 'Manual',\n",
       "       '0_Auth_affs_0', '0_Auth_affs_1', '0_Auth_affs_2', '0_Auth_affs_3',\n",
       "       '0_Auth_affs_4', '1_Auth_affs_0', '1_Auth_affs_1', '1_Auth_affs_2',\n",
       "       '1_Auth_affs_3', '1_Auth_affs_4', '2_Auth_affs_0', '2_Auth_affs_1',\n",
       "       '2_Auth_affs_2', '2_Auth_affs_3', '2_Auth_affs_4', '3_Auth_affs_0',\n",
       "       '3_Auth_affs_1', '3_Auth_affs_2', '3_Auth_affs_3', '3_Auth_affs_4',\n",
       "       '4_Auth_affs_0', '4_Auth_affs_1', '4_Auth_affs_2', '4_Auth_affs_3',\n",
       "       '5_Auth_affs_0', '6_Auth_affs_0', '7_Auth_affs_0'],\n",
       "      dtype='object')"
      ]
     },
     "execution_count": 1187,
     "metadata": {},
     "output_type": "execute_result"
    }
   ],
   "source": [
    "rnames=pre_2010.columns\n",
    "rnames"
   ]
  },
  {
   "cell_type": "code",
   "execution_count": 1188,
   "metadata": {},
   "outputs": [],
   "source": [
    "dict= {}\n",
    "issues=[]\n",
    "missing_auth=[]\n",
    "a=1\n",
    "\n",
    "for i in pre_2010.index:\n",
    "    stable_cols=[\"Journal_Name\", \n",
    "                 \"Authors_count\", \n",
    "                 \"Authors_list\", \n",
    "                 \"authors\", \n",
    "                 \"Article_ID\", \n",
    "                 \"content_type\", \n",
    "                 \"stable_url\", \"year\", \"Ref_type\", \"ref_string\", \"ref_string_clean1\", 'Screened', 'Manual']\n",
    "    auth_list= pre_2010.loc[i, [\"Authors_list\"]]\n",
    "    authors= pre_2010.loc[i, [\"authors\"]]\n",
    "    count= pre_2010.loc[i, \"Authors_count\"]\n",
    "    temp=pre_2010.loc[i,stable_cols].to_dict()\n",
    "\n",
    "    m=None    \n",
    "    if pd.isna(auth_list.values[0]):\n",
    "        if (pd.isna(authors.values)==False):\n",
    "            # print(i)\n",
    "            # print(authors)\n",
    "            x=authors.values[0].split(\",\")\n",
    "            m=[]\n",
    "            for k in x:\n",
    "                y=k.split(\" And \")\n",
    "                m=m+y\n",
    "            missing_auth.append(i)\n",
    "            # print(auth_list.values[0])\n",
    "        else:\n",
    "            issues.append(i)\n",
    "            continue\n",
    "\n",
    "    proc_auth=-1\n",
    "    if m==None:\n",
    "        proc_auth=auth_list.values[0][2:-2].split(\",\")\n",
    "    else:\n",
    "        proc_auth=m\n",
    "\n",
    "    if len(proc_auth)!=int(pre_2010.loc[i, \"Authors_count\"]):\n",
    "        print(i)\n",
    "        print(authors)\n",
    "\n",
    "    temp_dict={}\n",
    "    for k in range(len(proc_auth)):\n",
    "        temp_dict[k]=proc_auth[k]\n",
    "    # print(i)\n",
    "\n",
    "    for j in rnames:\n",
    "\n",
    "        if (pd.isna(pre_2010.loc[i,j])==False) and (j not in stable_cols):\n",
    "            entry={}\n",
    "            # print('\"'+j+'\": '+pre_2010.loc[i,j])\n",
    "            label=j.split(\"_\")\n",
    "            entry[\"auth_num\"]=int(label[0])\n",
    "            entry[\"aff_num\"]=(int(label[-1])+1)\n",
    "            entry=entry|temp\n",
    "            entry[\"aff_main_final\"]=pre_2010.loc[i,j]\n",
    "            entry[\"author\"]=temp_dict[int(label[0])]\n",
    "            # print(entry)\n",
    "\n",
    "            dict[a]=entry\n",
    "            a=a+1\n",
    "            "
   ]
  },
  {
   "cell_type": "code",
   "execution_count": null,
   "metadata": {},
   "outputs": [],
   "source": []
  },
  {
   "cell_type": "code",
   "execution_count": 1189,
   "metadata": {},
   "outputs": [],
   "source": [
    "pre_2010_init=pd.DataFrame(dict).transpose()\n",
    "pre_2010_init.rename(columns={'Journal_Name': \"journal\", \n",
    "                            'Article_ID': \"id\", \n",
    "                            'Authors_count':'auth_count', \n",
    "                            'Authors_list':'auth_list',  \n",
    "                            'Ref_type': \"ref_type\", \n",
    "                            'ref_string_clean1':'ref_string_cleaner' , \n",
    "                            'Screened': 'screened', \n",
    "                            'Manual':'manual'}, inplace=True)"
   ]
  },
  {
   "cell_type": "code",
   "execution_count": 1190,
   "metadata": {},
   "outputs": [
    {
     "data": {
      "text/html": [
       "<div>\n",
       "<style scoped>\n",
       "    .dataframe tbody tr th:only-of-type {\n",
       "        vertical-align: middle;\n",
       "    }\n",
       "\n",
       "    .dataframe tbody tr th {\n",
       "        vertical-align: top;\n",
       "    }\n",
       "\n",
       "    .dataframe thead th {\n",
       "        text-align: right;\n",
       "    }\n",
       "</style>\n",
       "<table border=\"1\" class=\"dataframe\">\n",
       "  <thead>\n",
       "    <tr style=\"text-align: right;\">\n",
       "      <th></th>\n",
       "      <th>ref_string</th>\n",
       "      <th>ref_string_cleaner</th>\n",
       "    </tr>\n",
       "  </thead>\n",
       "  <tbody>\n",
       "    <tr>\n",
       "      <th>1</th>\n",
       "      <td>MR. KEYNES AND MR. MARX 135\\n\\nabove-noted differences between Keynes and Marx with respect to the depend-\\nence of the marginal efficiency of capital on the rate of real wages and on the\\npropens...</td>\n",
       "      <td>Mr. Keynes And Mr. Marx 135\\n\\nAbove-Noted Differences Between Keynes And Marx With Respect To The Depend-\\nEnce Of The Marginal Efficiency Of Capital On The Rate Of Real Wages And On The\\nPropens...</td>\n",
       "    </tr>\n",
       "  </tbody>\n",
       "</table>\n",
       "</div>"
      ],
      "text/plain": [
       "                                                                                                                                                                                                ref_string  \\\n",
       "1  MR. KEYNES AND MR. MARX 135\\n\\nabove-noted differences between Keynes and Marx with respect to the depend-\\nence of the marginal efficiency of capital on the rate of real wages and on the\\npropens...   \n",
       "\n",
       "                                                                                                                                                                                        ref_string_cleaner  \n",
       "1  Mr. Keynes And Mr. Marx 135\\n\\nAbove-Noted Differences Between Keynes And Marx With Respect To The Depend-\\nEnce Of The Marginal Efficiency Of Capital On The Rate Of Real Wages And On The\\nPropens...  "
      ]
     },
     "execution_count": 1190,
     "metadata": {},
     "output_type": "execute_result"
    }
   ],
   "source": [
    "pre_2010_init[[\"ref_string\", \"ref_string_cleaner\"]].head(1)"
   ]
  },
  {
   "cell_type": "code",
   "execution_count": 1191,
   "metadata": {},
   "outputs": [
    {
     "data": {
      "text/html": [
       "<div>\n",
       "<style scoped>\n",
       "    .dataframe tbody tr th:only-of-type {\n",
       "        vertical-align: middle;\n",
       "    }\n",
       "\n",
       "    .dataframe tbody tr th {\n",
       "        vertical-align: top;\n",
       "    }\n",
       "\n",
       "    .dataframe thead th {\n",
       "        text-align: right;\n",
       "    }\n",
       "</style>\n",
       "<table border=\"1\" class=\"dataframe\">\n",
       "  <thead>\n",
       "    <tr style=\"text-align: right;\">\n",
       "      <th></th>\n",
       "      <th>pdf_url</th>\n",
       "      <th>hitId</th>\n",
       "      <th>worker</th>\n",
       "      <th>id</th>\n",
       "      <th>year</th>\n",
       "      <th>title</th>\n",
       "      <th>journal</th>\n",
       "      <th>pages</th>\n",
       "      <th>vol</th>\n",
       "      <th>number</th>\n",
       "      <th>author</th>\n",
       "      <th>affiliation</th>\n",
       "      <th>auth_num</th>\n",
       "      <th>aff_num</th>\n",
       "      <th>aff_clean</th>\n",
       "      <th>aff_main</th>\n",
       "      <th>add_sub</th>\n",
       "      <th>aff_main_final</th>\n",
       "    </tr>\n",
       "  </thead>\n",
       "  <tbody>\n",
       "    <tr>\n",
       "      <th>0</th>\n",
       "      <td>https://myawsbucket-1231.s3.eu-west-3.amazonaws.com/missing/1832157_wo_cover.pdf</td>\n",
       "      <td>3M47JKRKD4WS8FZ62ZABUD18TU286O</td>\n",
       "      <td>A345TDMHP3DQ3G</td>\n",
       "      <td>1832157</td>\n",
       "      <td>1967</td>\n",
       "      <td>Major Issues in the Regulation of Financial Institutions: Comment</td>\n",
       "      <td>Journal of Political Economy</td>\n",
       "      <td>509-511</td>\n",
       "      <td>75</td>\n",
       "      <td>4</td>\n",
       "      <td>Charles E. Walker</td>\n",
       "      <td>American Bankers Association</td>\n",
       "      <td>0</td>\n",
       "      <td>1</td>\n",
       "      <td>NaN</td>\n",
       "      <td>NaN</td>\n",
       "      <td>NaN</td>\n",
       "      <td>American Bankers Association</td>\n",
       "    </tr>\n",
       "    <tr>\n",
       "      <th>1</th>\n",
       "      <td>https://myawsbucket-1231.s3.eu-west-3.amazonaws.com/missing/1803922_wo_cover.pdf</td>\n",
       "      <td>3A520CCNXUVA4IL05FDN2SZG0GRAEG</td>\n",
       "      <td>A3HMGR8WPY9OPS</td>\n",
       "      <td>1803922</td>\n",
       "      <td>1983</td>\n",
       "      <td>Commodities and Capital: Prices and Quantities</td>\n",
       "      <td>The American Economic Review</td>\n",
       "      <td>1-16</td>\n",
       "      <td>73</td>\n",
       "      <td>1</td>\n",
       "      <td>Gardner Ackley</td>\n",
       "      <td>American Economic Association</td>\n",
       "      <td>0</td>\n",
       "      <td>1</td>\n",
       "      <td>NaN</td>\n",
       "      <td>NaN</td>\n",
       "      <td>NaN</td>\n",
       "      <td>American Economic Association</td>\n",
       "    </tr>\n",
       "    <tr>\n",
       "      <th>2</th>\n",
       "      <td>https://myawsbucket-1231.s3.eu-west-3.amazonaws.com/missing/1808715_wo_cover.pdf</td>\n",
       "      <td>3QREJ3J44ASUM14EYSDG91SWEPLLKS</td>\n",
       "      <td>A345TDMHP3DQ3G</td>\n",
       "      <td>1808715</td>\n",
       "      <td>1979</td>\n",
       "      <td>Monopoly Output under Alternative Spatial Pricing Techniques: Reply</td>\n",
       "      <td>The American Economic Review</td>\n",
       "      <td>680-681</td>\n",
       "      <td>69</td>\n",
       "      <td>4</td>\n",
       "      <td>H. Ohta</td>\n",
       "      <td>Aoyama Gakuin University</td>\n",
       "      <td>1</td>\n",
       "      <td>1</td>\n",
       "      <td>NaN</td>\n",
       "      <td>NaN</td>\n",
       "      <td>NaN</td>\n",
       "      <td>Aoyama Gakuin University</td>\n",
       "    </tr>\n",
       "    <tr>\n",
       "      <th>3</th>\n",
       "      <td>https://myawsbucket-1231.s3.eu-west-3.amazonaws.com/missing/1809704_wo_cover.pdf</td>\n",
       "      <td>3ODOP6T3BZF37DT33U8VNO4RB3542X</td>\n",
       "      <td>A3HMGR8WPY9OPS</td>\n",
       "      <td>1809704</td>\n",
       "      <td>1978</td>\n",
       "      <td>Related Market Conditions and Interindustrial Mergers: Reply</td>\n",
       "      <td>The American Economic Review</td>\n",
       "      <td>228-230</td>\n",
       "      <td>68</td>\n",
       "      <td>1</td>\n",
       "      <td>H. Ohta</td>\n",
       "      <td>Aoyama Gakuin University</td>\n",
       "      <td>1</td>\n",
       "      <td>1</td>\n",
       "      <td>NaN</td>\n",
       "      <td>NaN</td>\n",
       "      <td>NaN</td>\n",
       "      <td>Aoyama Gakuin University</td>\n",
       "    </tr>\n",
       "    <tr>\n",
       "      <th>4</th>\n",
       "      <td>https://myawsbucket-1231.s3.eu-west-3.amazonaws.com/missing/1813335_wo_cover.pdf</td>\n",
       "      <td>3LG268AV4F123Z7H7QZ9XIOQ0KFERS</td>\n",
       "      <td>A3NH3VJF04DBJX</td>\n",
       "      <td>1813335</td>\n",
       "      <td>1974</td>\n",
       "      <td>Price Discrimination by Regulated Motor Carriers: Comment</td>\n",
       "      <td>The American Economic Review</td>\n",
       "      <td>780-784</td>\n",
       "      <td>64</td>\n",
       "      <td>4</td>\n",
       "      <td>H. Ohta</td>\n",
       "      <td>Aoyama Gakuin University</td>\n",
       "      <td>2</td>\n",
       "      <td>1</td>\n",
       "      <td>NaN</td>\n",
       "      <td>NaN</td>\n",
       "      <td>NaN</td>\n",
       "      <td>Aoyama Gakuin University</td>\n",
       "    </tr>\n",
       "  </tbody>\n",
       "</table>\n",
       "</div>"
      ],
      "text/plain": [
       "                                                                            pdf_url  \\\n",
       "0  https://myawsbucket-1231.s3.eu-west-3.amazonaws.com/missing/1832157_wo_cover.pdf   \n",
       "1  https://myawsbucket-1231.s3.eu-west-3.amazonaws.com/missing/1803922_wo_cover.pdf   \n",
       "2  https://myawsbucket-1231.s3.eu-west-3.amazonaws.com/missing/1808715_wo_cover.pdf   \n",
       "3  https://myawsbucket-1231.s3.eu-west-3.amazonaws.com/missing/1809704_wo_cover.pdf   \n",
       "4  https://myawsbucket-1231.s3.eu-west-3.amazonaws.com/missing/1813335_wo_cover.pdf   \n",
       "\n",
       "                            hitId          worker       id  year  \\\n",
       "0  3M47JKRKD4WS8FZ62ZABUD18TU286O  A345TDMHP3DQ3G  1832157  1967   \n",
       "1  3A520CCNXUVA4IL05FDN2SZG0GRAEG  A3HMGR8WPY9OPS  1803922  1983   \n",
       "2  3QREJ3J44ASUM14EYSDG91SWEPLLKS  A345TDMHP3DQ3G  1808715  1979   \n",
       "3  3ODOP6T3BZF37DT33U8VNO4RB3542X  A3HMGR8WPY9OPS  1809704  1978   \n",
       "4  3LG268AV4F123Z7H7QZ9XIOQ0KFERS  A3NH3VJF04DBJX  1813335  1974   \n",
       "\n",
       "                                                                 title  \\\n",
       "0    Major Issues in the Regulation of Financial Institutions: Comment   \n",
       "1                       Commodities and Capital: Prices and Quantities   \n",
       "2  Monopoly Output under Alternative Spatial Pricing Techniques: Reply   \n",
       "3         Related Market Conditions and Interindustrial Mergers: Reply   \n",
       "4            Price Discrimination by Regulated Motor Carriers: Comment   \n",
       "\n",
       "                        journal    pages  vol number             author  \\\n",
       "0  Journal of Political Economy  509-511   75      4  Charles E. Walker   \n",
       "1  The American Economic Review     1-16   73      1     Gardner Ackley   \n",
       "2  The American Economic Review  680-681   69      4            H. Ohta   \n",
       "3  The American Economic Review  228-230   68      1            H. Ohta   \n",
       "4  The American Economic Review  780-784   64      4            H. Ohta   \n",
       "\n",
       "                     affiliation  auth_num  aff_num  aff_clean  aff_main  \\\n",
       "0   American Bankers Association         0        1        NaN       NaN   \n",
       "1  American Economic Association         0        1        NaN       NaN   \n",
       "2       Aoyama Gakuin University         1        1        NaN       NaN   \n",
       "3       Aoyama Gakuin University         1        1        NaN       NaN   \n",
       "4       Aoyama Gakuin University         2        1        NaN       NaN   \n",
       "\n",
       "   add_sub                 aff_main_final  \n",
       "0      NaN   American Bankers Association  \n",
       "1      NaN  American Economic Association  \n",
       "2      NaN       Aoyama Gakuin University  \n",
       "3      NaN       Aoyama Gakuin University  \n",
       "4      NaN       Aoyama Gakuin University  "
      ]
     },
     "execution_count": 1191,
     "metadata": {},
     "output_type": "execute_result"
    }
   ],
   "source": [
    "pre_2010_remnant.head()"
   ]
  },
  {
   "cell_type": "code",
   "execution_count": 1192,
   "metadata": {},
   "outputs": [],
   "source": [
    "pre_2010_remnant[\"manual\"]=\"MTURK\"\n",
    "pre_2010_remnant['stable_url']=\"https://www.jstor.org/stable/\"+pre_2010_remnant.pdf_url.str.split('/').str[-1].str.split('_').str[0]\n",
    "pre_2010_remnant['screened']='y'\n",
    "\n",
    "pre_2010_df=pd.concat([pre_2010_init, pre_2010_remnant], axis=0).reset_index(drop=True)"
   ]
  },
  {
   "cell_type": "code",
   "execution_count": 1193,
   "metadata": {},
   "outputs": [],
   "source": [
    "pre_2010_df.to_excel(base_path+\"Affiliations/aff_pre_2010.xlsx\", index=False)\n",
    "pre_2010_df.to_pickle(base_path+\"Affiliations/aff_pre_2010.pkl\")"
   ]
  },
  {
   "cell_type": "code",
   "execution_count": 1194,
   "metadata": {},
   "outputs": [
    {
     "data": {
      "text/plain": [
       "(21, 28)"
      ]
     },
     "execution_count": 1194,
     "metadata": {},
     "output_type": "execute_result"
    }
   ],
   "source": [
    "pre_2010_df[pre_2010_df[\"aff_main_final\"].isna()].shape"
   ]
  },
  {
   "cell_type": "code",
   "execution_count": 1195,
   "metadata": {},
   "outputs": [
    {
     "data": {
      "text/html": [
       "<div>\n",
       "<style scoped>\n",
       "    .dataframe tbody tr th:only-of-type {\n",
       "        vertical-align: middle;\n",
       "    }\n",
       "\n",
       "    .dataframe tbody tr th {\n",
       "        vertical-align: top;\n",
       "    }\n",
       "\n",
       "    .dataframe thead th {\n",
       "        text-align: right;\n",
       "    }\n",
       "</style>\n",
       "<table border=\"1\" class=\"dataframe\">\n",
       "  <thead>\n",
       "    <tr style=\"text-align: right;\">\n",
       "      <th></th>\n",
       "      <th>id</th>\n",
       "      <th>year</th>\n",
       "      <th>title</th>\n",
       "      <th>journal</th>\n",
       "      <th>pages</th>\n",
       "      <th>vol</th>\n",
       "      <th>number</th>\n",
       "      <th>author</th>\n",
       "      <th>affiliation</th>\n",
       "      <th>auth_num</th>\n",
       "      <th>aff_num</th>\n",
       "      <th>aff_cleaner</th>\n",
       "      <th>aff_cleaner_final</th>\n",
       "      <th>aff_main_final</th>\n",
       "      <th>aff_subunit_final</th>\n",
       "      <th>aff_department_final</th>\n",
       "      <th>alt_final</th>\n",
       "      <th>country</th>\n",
       "      <th>is_business_school</th>\n",
       "      <th>is_institute</th>\n",
       "    </tr>\n",
       "  </thead>\n",
       "  <tbody>\n",
       "    <tr>\n",
       "      <th>0</th>\n",
       "      <td>41724643</td>\n",
       "      <td>2012</td>\n",
       "      <td>Political Aid Cycles</td>\n",
       "      <td>american economic review</td>\n",
       "      <td>3516-3530</td>\n",
       "      <td>102</td>\n",
       "      <td>7</td>\n",
       "      <td>Michael Faye</td>\n",
       "      <td>128 East 62nd Street, New York, NY</td>\n",
       "      <td>0</td>\n",
       "      <td>1</td>\n",
       "      <td>NaN</td>\n",
       "      <td>NaN</td>\n",
       "      <td>NaN</td>\n",
       "      <td>NaN</td>\n",
       "      <td>NaN</td>\n",
       "      <td>NaN</td>\n",
       "      <td>NaN</td>\n",
       "      <td>NaN</td>\n",
       "      <td>NaN</td>\n",
       "    </tr>\n",
       "    <tr>\n",
       "      <th>1</th>\n",
       "      <td>42920725</td>\n",
       "      <td>2014</td>\n",
       "      <td>When the Levee Breaks: Black Migration and Economic Development in the American South</td>\n",
       "      <td>american economic review</td>\n",
       "      <td>963-990</td>\n",
       "      <td>104</td>\n",
       "      <td>3</td>\n",
       "      <td>Suresh Naidu</td>\n",
       "      <td>1405 IAB MC 3328</td>\n",
       "      <td>1</td>\n",
       "      <td>1</td>\n",
       "      <td>NaN</td>\n",
       "      <td>NaN</td>\n",
       "      <td>NaN</td>\n",
       "      <td>NaN</td>\n",
       "      <td>NaN</td>\n",
       "      <td>NaN</td>\n",
       "      <td>NaN</td>\n",
       "      <td>NaN</td>\n",
       "      <td>NaN</td>\n",
       "    </tr>\n",
       "    <tr>\n",
       "      <th>2</th>\n",
       "      <td>26863278</td>\n",
       "      <td>2020</td>\n",
       "      <td>Way Down in the Hole: Adaptation to Long-Term Water Loss in Rural India</td>\n",
       "      <td>american economic review</td>\n",
       "      <td>200-224</td>\n",
       "      <td>110</td>\n",
       "      <td>1</td>\n",
       "      <td>David Blakeslee</td>\n",
       "      <td>Abu Dhabi</td>\n",
       "      <td>0</td>\n",
       "      <td>2</td>\n",
       "      <td>NaN</td>\n",
       "      <td>NaN</td>\n",
       "      <td>NaN</td>\n",
       "      <td>NaN</td>\n",
       "      <td>NaN</td>\n",
       "      <td>NaN</td>\n",
       "      <td>NaN</td>\n",
       "      <td>NaN</td>\n",
       "      <td>NaN</td>\n",
       "    </tr>\n",
       "    <tr>\n",
       "      <th>3</th>\n",
       "      <td>41407067</td>\n",
       "      <td>2011</td>\n",
       "      <td>Learning and Information Aggregation in an Exit Game</td>\n",
       "      <td>review of economic studies</td>\n",
       "      <td>1426-1461</td>\n",
       "      <td>78</td>\n",
       "      <td>4</td>\n",
       "      <td>JUUSO VÄLIMÄKI</td>\n",
       "      <td>Aalto University</td>\n",
       "      <td>1</td>\n",
       "      <td>1</td>\n",
       "      <td>Aalto University</td>\n",
       "      <td>Aalto University</td>\n",
       "      <td>Aalto University</td>\n",
       "      <td>0</td>\n",
       "      <td>0</td>\n",
       "      <td>Aalto University</td>\n",
       "      <td>NaN</td>\n",
       "      <td>NaN</td>\n",
       "      <td>NaN</td>\n",
       "    </tr>\n",
       "    <tr>\n",
       "      <th>4</th>\n",
       "      <td>26549901</td>\n",
       "      <td>2016</td>\n",
       "      <td>Politicians’ Luck of the Draw: Evidence from the Spanish Christmas Lottery</td>\n",
       "      <td>journal of political economy</td>\n",
       "      <td>1269-1294</td>\n",
       "      <td>124</td>\n",
       "      <td>5</td>\n",
       "      <td>Manuel Bagues</td>\n",
       "      <td>Aalto University</td>\n",
       "      <td>0</td>\n",
       "      <td>1</td>\n",
       "      <td>Aalto University</td>\n",
       "      <td>Aalto University</td>\n",
       "      <td>Aalto University</td>\n",
       "      <td>0</td>\n",
       "      <td>0</td>\n",
       "      <td>Aalto University</td>\n",
       "      <td>NaN</td>\n",
       "      <td>NaN</td>\n",
       "      <td>NaN</td>\n",
       "    </tr>\n",
       "  </tbody>\n",
       "</table>\n",
       "</div>"
      ],
      "text/plain": [
       "         id  year  \\\n",
       "0  41724643  2012   \n",
       "1  42920725  2014   \n",
       "2  26863278  2020   \n",
       "3  41407067  2011   \n",
       "4  26549901  2016   \n",
       "\n",
       "                                                                                   title  \\\n",
       "0                                                                   Political Aid Cycles   \n",
       "1  When the Levee Breaks: Black Migration and Economic Development in the American South   \n",
       "2                Way Down in the Hole: Adaptation to Long-Term Water Loss in Rural India   \n",
       "3                                   Learning and Information Aggregation in an Exit Game   \n",
       "4             Politicians’ Luck of the Draw: Evidence from the Spanish Christmas Lottery   \n",
       "\n",
       "                        journal      pages  vol number           author  \\\n",
       "0      american economic review  3516-3530  102      7     Michael Faye   \n",
       "1      american economic review    963-990  104      3     Suresh Naidu   \n",
       "2      american economic review    200-224  110      1  David Blakeslee   \n",
       "3    review of economic studies  1426-1461   78      4   JUUSO VÄLIMÄKI   \n",
       "4  journal of political economy  1269-1294  124      5    Manuel Bagues   \n",
       "\n",
       "                          affiliation  auth_num aff_num       aff_cleaner  \\\n",
       "0  128 East 62nd Street, New York, NY         0       1               NaN   \n",
       "1                    1405 IAB MC 3328         1       1               NaN   \n",
       "2                           Abu Dhabi         0       2               NaN   \n",
       "3                    Aalto University         1       1  Aalto University   \n",
       "4                    Aalto University         0       1  Aalto University   \n",
       "\n",
       "  aff_cleaner_final    aff_main_final aff_subunit_final aff_department_final  \\\n",
       "0               NaN               NaN               NaN                  NaN   \n",
       "1               NaN               NaN               NaN                  NaN   \n",
       "2               NaN               NaN               NaN                  NaN   \n",
       "3  Aalto University  Aalto University                 0                    0   \n",
       "4  Aalto University  Aalto University                 0                    0   \n",
       "\n",
       "          alt_final country  is_business_school  is_institute  \n",
       "0               NaN     NaN                 NaN           NaN  \n",
       "1               NaN     NaN                 NaN           NaN  \n",
       "2               NaN     NaN                 NaN           NaN  \n",
       "3  Aalto University     NaN                 NaN           NaN  \n",
       "4  Aalto University     NaN                 NaN           NaN  "
      ]
     },
     "execution_count": 1195,
     "metadata": {},
     "output_type": "execute_result"
    }
   ],
   "source": [
    "post_2010_init.head()"
   ]
  },
  {
   "cell_type": "code",
   "execution_count": 1196,
   "metadata": {},
   "outputs": [],
   "source": [
    "post_2010_remnant=post_2010_remnant[['id', 'year', 'title', 'journal', 'pages', 'vol', 'number', 'author',\n",
    "       'affiliation', 'auth_num', 'aff_num', 'aff_cleaner',\n",
    "       'aff_cleaner_final', 'aff_main_final', 'aff_subunit_final',\n",
    "       'aff_department_final', 'alt_final', 'country', 'is_business_school',\n",
    "       'is_institute']]\n",
    "\n",
    "post_2010=pd.concat([post_2010_remnant,post_2010_init]).reset_index(drop=True)\n",
    "\n",
    "post_2010['manual']=\"MTURK\"\n",
    "post_2010['screened']=\"y\"\n"
   ]
  },
  {
   "cell_type": "code",
   "execution_count": 1197,
   "metadata": {},
   "outputs": [],
   "source": [
    "check_post=[\n",
    "    {\"id\":43616932,\"auth_num\":1,\"aff_num\":1,\"affiliation\":\"Dept. of Economics and Related Studies, University of York\", \"aff_cleaner\":\"University of York\",\"aff_cleaner_final\":\"University of York\",\"aff_main_final\":\"University of York\"},\n",
    "    {\"id\":'qjz003',\"auth_num\":0,\"aff_num\":1,\"affiliation\":\"MASSACHUSETTS INSTITUTE OF TECHNOLOGY\", \"aff_cleaner\":\"mit\",\"aff_cleaner_final\":\"mit\",\"aff_main_final\":\"mit\"},\n",
    "    {\"id\":'qjz003',\"auth_num\":0,\"aff_num\":3,\"affiliation\":\"Centre for Economic and Policy Research\", \"aff_cleaner\":\"Centre for Economic and Policy Research\",\"aff_cleaner_final\":\"Centre for Economic and Policy Research\",\"aff_main_final\":\"Centre for Economic and Policy Research\"},\n",
    "    {\"id\":'qjz003',\"auth_num\":1,\"aff_num\":1,\"affiliation\":\"MASSACHUSETTS INSTITUTE OF TECHNOLOGY\", \"aff_cleaner\":\"mit\",\"aff_cleaner_final\":\"mit\",\"aff_main_final\":\"mit\"},\n",
    "    {\"id\":'qjz003',\"auth_num\":1,\"aff_num\":3,\"affiliation\":\"Centre for Economic and Policy Research\", \"aff_cleaner\":\"Centre for Economic and Policy Research\",\"aff_cleaner_final\":\"Centre for Economic and Policy Research\",\"aff_main_final\":\"Centre for Economic and Policy Research\"},\n",
    "    {\"id\":26863278,\"auth_num\":0,\"aff_num\":1,\"affiliation\":\"new york university - abu dhabi\", \"aff_cleaner\":\"new york university - abu dhabi\",\"aff_cleaner_final\":\"new york university - abu dhabi\",\"aff_main_final\":\"new york university - abu dhabi\"}\n",
    "]\n",
    "comps=[]\n",
    "for i in check_post:\n",
    "    ind=list(post_2010[(post_2010[\"id\"]==i[\"id\"])& (post_2010[\"auth_num\"]==i[\"auth_num\"])& (post_2010[\"aff_num\"]==i[\"aff_num\"])].index)\n",
    "    if len(ind)>2:\n",
    "        print(\"issue\")\n",
    "        continue\n",
    "    if len(ind)==0:\n",
    "        ind=list(post_2010[(post_2010[\"id\"]==i[\"id\"])& (post_2010[\"auth_num\"]==i[\"auth_num\"])].index)[0]\n",
    "        tmp=post_2010.loc[ind].to_dict()\n",
    "        for j in i.keys():\n",
    "            tmp[j]=i[j]\n",
    "        comps.append(tmp)\n",
    "    else:\n",
    "        for j in i.keys():\n",
    "            post_2010.loc[ind,j]=i[j]\n",
    "\n",
    "post_2010=pd.concat([pd.DataFrame(comps),post_2010]).reset_index(drop=True)"
   ]
  },
  {
   "cell_type": "code",
   "execution_count": null,
   "metadata": {},
   "outputs": [],
   "source": []
  },
  {
   "cell_type": "code",
   "execution_count": 1198,
   "metadata": {},
   "outputs": [],
   "source": [
    "post_2010=post_2010[post_2010[\"aff_main_final\"].isna()==False].reset_index(drop=True)\n",
    "post_2010.to_excel(base_path+\"Affiliations/aff_post_2010.xlsx\", index=False)\n",
    "post_2010.to_pickle(base_path+\"Affiliations/aff_post_2010.pkl\")"
   ]
  },
  {
   "cell_type": "code",
   "execution_count": 1199,
   "metadata": {},
   "outputs": [],
   "source": [
    "combined=pd.concat([post_2010, pre_2010_df], axis=0).reset_index(drop=True)"
   ]
  },
  {
   "cell_type": "code",
   "execution_count": 1200,
   "metadata": {},
   "outputs": [],
   "source": [
    "\n",
    "\n",
    "    # {\"id\":,\"auth_num\":,\"aff_num\":,\"affiliation\":\"\", \"aff_cleaner\":\"\",\"aff_cleaner_final\":\"\",\"aff_main_final\":\"\"}\n"
   ]
  },
  {
   "cell_type": "code",
   "execution_count": 1201,
   "metadata": {},
   "outputs": [],
   "source": [
    "combined['manual']=combined['manual'].fillna(\"NA\")\n",
    "combined['screened']=combined['screened'].fillna('NA')\n",
    "combined.columns\n",
    "combined[\"id\"]=combined[\"id\"].astype(str)"
   ]
  },
  {
   "cell_type": "code",
   "execution_count": 1202,
   "metadata": {},
   "outputs": [
    {
     "data": {
      "text/plain": [
       "(57265, 36)"
      ]
     },
     "execution_count": 1202,
     "metadata": {},
     "output_type": "execute_result"
    }
   ],
   "source": [
    "combined.shape"
   ]
  },
  {
   "cell_type": "code",
   "execution_count": 1203,
   "metadata": {},
   "outputs": [
    {
     "name": "stdout",
     "output_type": "stream",
     "text": [
      "29838\n",
      "25619\n",
      "4220\n"
     ]
    }
   ],
   "source": [
    "print(len(combined['id'].unique()))\n",
    "print(len(pre_2010_df['id'].unique()))\n",
    "print(len(post_2010['id'].unique()))"
   ]
  },
  {
   "cell_type": "code",
   "execution_count": null,
   "metadata": {},
   "outputs": [],
   "source": []
  },
  {
   "cell_type": "code",
   "execution_count": 1204,
   "metadata": {},
   "outputs": [],
   "source": [
    "pd.set_option('display.max_columns', None)\n",
    "pd.set_option('display.max_rows', None)"
   ]
  },
  {
   "cell_type": "code",
   "execution_count": 1205,
   "metadata": {},
   "outputs": [],
   "source": [
    "replacements=pd.read_excel(\"refactor_affs_checked.xlsx\")\n",
    "\n",
    "concat_candidate=[]\n",
    "for i in replacements.index:\n",
    "    j=combined.index[(combined['id']==replacements.loc[i,\"id\"])&(combined['auth_num']==replacements.loc[i,\"auth_num\"])&(combined['aff_num']==replacements.loc[i,\"aff_num\"])]\n",
    "    if len(j)==0:\n",
    "        temp=combined[(combined['id']==str(replacements.loc[i,\"id\"]))][[\n",
    "            'id', 'year', 'title', 'journal', 'pages', 'vol', 'number', 'auth_count', 'auth_list',\n",
    "            'authors', 'content_type', 'stable_url']].drop_duplicates().reset_index(drop=True)\n",
    "        comb=temp.iloc[0].to_dict()|replacements.iloc[i].to_dict()\n",
    "        concat_candidate.append(comb)\n",
    "        \n",
    "        # print(pd.concat([temp,replacements.iloc[i]], axis=1).shape)\n",
    "        # print(replacements.iloc[i].shape)\n",
    "    else:\n",
    "        combined.loc[j[0], 'aff_main_final']=replacements.loc[i,'aff_main_final']\n",
    "\n",
    "\n",
    "combined=pd.concat([combined,pd.DataFrame(concat_candidate)],axis=0).reset_index(drop=True)"
   ]
  },
  {
   "cell_type": "code",
   "execution_count": 1206,
   "metadata": {},
   "outputs": [
    {
     "data": {
      "text/plain": [
       "(57274, 36)"
      ]
     },
     "execution_count": 1206,
     "metadata": {},
     "output_type": "execute_result"
    }
   ],
   "source": [
    "combined.shape"
   ]
  },
  {
   "cell_type": "code",
   "execution_count": 1207,
   "metadata": {},
   "outputs": [],
   "source": [
    "repl={\n",
    "    'é':'e',\n",
    "    \"ä\":'a',\n",
    "    \"à\":'a',\n",
    "    'è':'e',\n",
    "    'á':'a',\n",
    "    'ö':'o',\n",
    "    'ü':'u',\n",
    "    'ó':'o',\n",
    "    'í':'i',\n",
    "    'ğ':'g',\n",
    "    \"&\":'and',\n",
    "    \"u.s.\":'us',\n",
    "    \"suny at\": \"state university of new york -\",\n",
    "    'd.c.':'dc',\n",
    "    'ç':'c',\n",
    "    '\\xa0':' ',\n",
    "    'ń':'n',\n",
    "    '–':'-',\n",
    "    '’':\"'\",\n",
    "    'ò':'o', \n",
    "    'ò':'o',\n",
    "    'ã':'a',\n",
    "    'ñ':'n',\n",
    "    'ú':'u', \n",
    "    'ø':'o', \n",
    "    'ê':'e'\n",
    "}\n",
    "combined[\"aff_main_final_repl\"]=combined['aff_main_final']\n",
    "\n",
    "for i in repl.keys():\n",
    "    combined[\"aff_main_final_repl\"]=combined[\"aff_main_final_repl\"].str.lower().str.replace(i,repl[i])\n"
   ]
  },
  {
   "cell_type": "code",
   "execution_count": 1208,
   "metadata": {},
   "outputs": [
    {
     "data": {
      "text/plain": [
       "3041"
      ]
     },
     "execution_count": 1208,
     "metadata": {},
     "output_type": "execute_result"
    }
   ],
   "source": [
    "s=list(combined[combined[\"aff_main_final_repl\"].isna()==False][\"aff_main_final_repl\"].unique())\n",
    "s.sort()\n",
    "len(s)"
   ]
  },
  {
   "cell_type": "code",
   "execution_count": 1209,
   "metadata": {},
   "outputs": [],
   "source": [
    "allowed=\"abcdefghijklmnopqrstuvwxyz- ,'.()1234567890\""
   ]
  },
  {
   "cell_type": "code",
   "execution_count": 1210,
   "metadata": {},
   "outputs": [
    {
     "name": "stdout",
     "output_type": "stream",
     "text": [
      "\"/\",\n",
      "brazilian school of public and business administration getulio vargas foundation - ebape/fgv\n",
      "\"/\",\n",
      "centre for population, poverty and public policy studies - ceps/instead\n",
      "\"/\",\n",
      "ceps/instead\n",
      "\";\",\n",
      "hebrew university of jerusalem;federmann centre for the study of rationality\n",
      "\"/\",\n",
      "ipea/inpes\n",
      "\"!\",\n",
      "yahoo! research\n"
     ]
    }
   ],
   "source": [
    "exclude=[]\n",
    "for i in s:\n",
    "    whole=False\n",
    "    for j in i:\n",
    "        if j not in allowed:\n",
    "            whole=True\n",
    "            exclude.append(j)\n",
    "            print('\"'+j+'\",')\n",
    "    if whole==True:\n",
    "        print(i)"
   ]
  },
  {
   "cell_type": "code",
   "execution_count": 1211,
   "metadata": {},
   "outputs": [],
   "source": [
    "consol_fin={}\n",
    "with open('consol_fin.json', 'r', encoding=\"utf-8\") as f:\n",
    "    consol_fin = json.load(f)\n",
    "\n",
    "\n",
    "consol_fin_vals=[]\n",
    "for i in consol_fin.values():\n",
    "    consol_fin_vals+=i\n",
    "\n",
    "for i in s:\n",
    "    if i in consol_fin.keys():\n",
    "        if i in consol_fin[i]:\n",
    "            continue\n",
    "        else:\n",
    "            print(\"{a: \\\"\"+i+\"\\\"}\")\n",
    "    else:\n",
    "        if i in consol_fin_vals:\n",
    "            continue\n",
    "        else: \n",
    "            print(\"{b: \\\"\"+i+\"\\\"}\")\n",
    "\n",
    "consol_fin_un={}\n",
    "for i in consol_fin.keys():\n",
    "    for j in consol_fin[i]:\n",
    "        if j in consol_fin_un.keys():\n",
    "            if (consol_fin_un[j]!=i):\n",
    "                print(\"duplicate: \"+j)\n",
    "        consol_fin_un[j]=i"
   ]
  },
  {
   "cell_type": "code",
   "execution_count": 1212,
   "metadata": {},
   "outputs": [],
   "source": [
    "combined[\"aff_main_final_repl_consol\"]=combined[\"aff_main_final_repl\"]"
   ]
  },
  {
   "cell_type": "code",
   "execution_count": 1213,
   "metadata": {},
   "outputs": [],
   "source": [
    "for i in combined.index:\n",
    "    if pd.isna(combined.loc[i, \"aff_main_final_repl_consol\"]):\n",
    "        combined.loc[i, \"aff_main_final_repl_consol\"]=\"none\"\n",
    "    else:\n",
    "        combined.loc[i, \"aff_main_final_repl_consol\"]=consol_fin_un[combined.loc[i, \"aff_main_final_repl\"]]"
   ]
  },
  {
   "cell_type": "code",
   "execution_count": 1214,
   "metadata": {},
   "outputs": [
    {
     "data": {
      "text/plain": [
       "2482"
      ]
     },
     "execution_count": 1214,
     "metadata": {},
     "output_type": "execute_result"
    }
   ],
   "source": [
    "len(combined[\"aff_main_final_repl_consol\"].unique())"
   ]
  },
  {
   "cell_type": "code",
   "execution_count": 1215,
   "metadata": {},
   "outputs": [],
   "source": [
    "aff_country=pd.read_csv(\"aff_country_match.csv\", quotechar='\"')"
   ]
  },
  {
   "cell_type": "code",
   "execution_count": 1216,
   "metadata": {},
   "outputs": [],
   "source": [
    "aff_country[\"affiliation\"]=aff_country[\"affiliation\"].str.strip()\n",
    "aff_country[\"country\"]=aff_country[\"country\"].str.strip()"
   ]
  },
  {
   "cell_type": "code",
   "execution_count": 1217,
   "metadata": {},
   "outputs": [],
   "source": [
    "aff_country_un={}\n",
    "for i in aff_country.index:\n",
    "    aff_country_un[aff_country.loc[i,\"affiliation\"]]=aff_country.loc[i,\"country\"]"
   ]
  },
  {
   "cell_type": "code",
   "execution_count": 1218,
   "metadata": {},
   "outputs": [],
   "source": [
    "combined[\"country\"]=\"\"\n",
    "for i in combined.index:\n",
    "    combined.loc[i, \"country\"]=aff_country_un[combined.loc[i, \"aff_main_final_repl_consol\"]]"
   ]
  },
  {
   "cell_type": "code",
   "execution_count": null,
   "metadata": {},
   "outputs": [],
   "source": []
  },
  {
   "cell_type": "code",
   "execution_count": null,
   "metadata": {},
   "outputs": [],
   "source": []
  },
  {
   "cell_type": "code",
   "execution_count": null,
   "metadata": {},
   "outputs": [],
   "source": []
  },
  {
   "cell_type": "code",
   "execution_count": 1221,
   "metadata": {},
   "outputs": [
    {
     "data": {
      "text/plain": [
       "2505"
      ]
     },
     "execution_count": 1221,
     "metadata": {},
     "output_type": "execute_result"
    }
   ],
   "source": [
    "len(set(consol_fin.keys()))"
   ]
  },
  {
   "cell_type": "code",
   "execution_count": 1222,
   "metadata": {},
   "outputs": [],
   "source": [
    "journals={\n",
    "    'quarterly journal of economics': \"QJE\" , \n",
    "    'econometrica':'ECTA',\n",
    "    'review of economic studies':'RES', \n",
    "    'journal of political economy':\"JPE\",\n",
    "    'american economic review':'AER', \n",
    "    'RES':'RES', \n",
    "    'QJE':\"QJE\", \n",
    "    'JPE':\"JPE\", \n",
    "    'AER':\"AER\",\n",
    "    'ECONOMETRICA':'ECTA', \n",
    "    'Journal of Political Economy':\"JPE\",\n",
    "    'The American Economic Review':'AER',\n",
    "    'The Quarterly Journal of Economics':\"QJE\", \n",
    "    'Econometrica':'ECTA',\n",
    "    'The Review of Economic Studies':'RES'\n",
    "}\n",
    "\n",
    "for i in journals.keys():\n",
    "    combined.loc[combined[\"journal\"]==i, \"journal\"]=journals[i]"
   ]
  },
  {
   "cell_type": "code",
   "execution_count": 1223,
   "metadata": {},
   "outputs": [
    {
     "data": {
      "text/plain": [
       "Index(['id', 'year', 'title', 'journal', 'pages', 'vol', 'number', 'author',\n",
       "       'affiliation', 'auth_num', 'aff_num', 'aff_cleaner',\n",
       "       'aff_cleaner_final', 'aff_main_final', 'aff_subunit_final',\n",
       "       'aff_department_final', 'alt_final', 'country', 'is_business_school',\n",
       "       'is_institute', 'manual', 'screened', 'auth_count', 'auth_list',\n",
       "       'authors', 'content_type', 'stable_url', 'ref_type', 'ref_string',\n",
       "       'ref_string_cleaner', 'pdf_url', 'hitId', 'worker', 'aff_clean',\n",
       "       'aff_main', 'add_sub', 'aff_main_final_repl',\n",
       "       'aff_main_final_repl_consol'],\n",
       "      dtype='object')"
      ]
     },
     "execution_count": 1223,
     "metadata": {},
     "output_type": "execute_result"
    }
   ],
   "source": [
    "combined.columns"
   ]
  },
  {
   "cell_type": "code",
   "execution_count": null,
   "metadata": {},
   "outputs": [],
   "source": []
  },
  {
   "cell_type": "code",
   "execution_count": 1224,
   "metadata": {},
   "outputs": [],
   "source": [
    "for i in consol_fin.keys():\n",
    "    for j in consol_fin.keys():\n",
    "        if (i in consol_fin[j]) & (i!=j):\n",
    "            print('\"'+i+'\"')"
   ]
  },
  {
   "cell_type": "code",
   "execution_count": 1225,
   "metadata": {},
   "outputs": [
    {
     "name": "stdout",
     "output_type": "stream",
     "text": [
      "\"nan\"\n",
      "\"nan\"\n",
      "\"nan\"\n",
      "\"nan\"\n",
      "\"nan\"\n",
      "\"nan\"\n",
      "\"nan\"\n",
      "\"nan\"\n",
      "\"nan\"\n",
      "\"nan\"\n",
      "\"nan\"\n",
      "\"nan\"\n",
      "\"nan\"\n",
      "\"nan\"\n",
      "\"nan\"\n",
      "\"nan\"\n",
      "\"nan\"\n",
      "\"nan\"\n",
      "\"nan\"\n",
      "\"nan\"\n",
      "\"nan\"\n"
     ]
    }
   ],
   "source": [
    "for i in combined.index:\n",
    "    if combined.loc[i,\"aff_main_final_repl\"] in consol_fin.keys():\n",
    "        continue\n",
    "    elif combined.loc[i,\"aff_main_final_repl\"] in consol_fin_vals:\n",
    "        continue\n",
    "    else:\n",
    "        print('\"'+str(combined.loc[i, \"aff_main_final_repl\"])+'\"')"
   ]
  },
  {
   "cell_type": "code",
   "execution_count": null,
   "metadata": {},
   "outputs": [],
   "source": []
  },
  {
   "cell_type": "code",
   "execution_count": 1226,
   "metadata": {},
   "outputs": [],
   "source": [
    "for i in combined.index:\n",
    "    if combined.loc[i,'author'].strip()[0]==\"'\":\n",
    "        combined.loc[i,'author']=combined.loc[i,'author'].strip()[1:].strip()\n",
    "    if combined.loc[i,'author'].strip()[-1]==\"'\":\n",
    "        combined.loc[i,'author']=combined.loc[i,'author'].strip()[0:-1].strip()\n",
    "\n",
    "combined['year']=combined['year'].astype(int)\n",
    "\n",
    "combined[\"aff_main_final_og\"]=combined[\"aff_main_final\"]\n",
    "combined[\"aff_main_final\"]=combined[\"aff_main_final_repl_consol\"]"
   ]
  },
  {
   "cell_type": "code",
   "execution_count": null,
   "metadata": {},
   "outputs": [],
   "source": []
  },
  {
   "cell_type": "code",
   "execution_count": 1230,
   "metadata": {},
   "outputs": [],
   "source": [
    "combined.to_excel(base_path+\"Affiliations/affiliations_combined.xlsx\", index=False)\n",
    "combined.to_pickle(base_path+\"Affiliations/affiliations_combined.pkl\")\n",
    "\n",
    "sub=combined[['id', 'year','author',\n",
    "       'auth_num', 'aff_num', 'aff_cleaner',\n",
    "       'aff_cleaner_final', 'aff_main_final', 'aff_subunit_final',\n",
    "       'aff_department_final', 'alt_final', 'manual', 'screened', 'country']]\n",
    "sub.to_excel(base_path+\"Affiliations/affiliations_combined_sub.xlsx\", index=False)\n",
    "sub.to_pickle(base_path+\"Affiliations/affiliations_combined_sub.pkl\")"
   ]
  },
  {
   "cell_type": "code",
   "execution_count": 1228,
   "metadata": {},
   "outputs": [
    {
     "data": {
      "text/plain": [
       "Index(['id', 'year', 'title', 'journal', 'pages', 'vol', 'number', 'author',\n",
       "       'affiliation', 'auth_num', 'aff_num', 'aff_cleaner',\n",
       "       'aff_cleaner_final', 'aff_main_final', 'aff_subunit_final',\n",
       "       'aff_department_final', 'alt_final', 'country', 'is_business_school',\n",
       "       'is_institute', 'manual', 'screened', 'auth_count', 'auth_list',\n",
       "       'authors', 'content_type', 'stable_url', 'ref_type', 'ref_string',\n",
       "       'ref_string_cleaner', 'pdf_url', 'hitId', 'worker', 'aff_clean',\n",
       "       'aff_main', 'add_sub', 'aff_main_final_repl',\n",
       "       'aff_main_final_repl_consol', 'aff_main_final_og'],\n",
       "      dtype='object')"
      ]
     },
     "execution_count": 1228,
     "metadata": {},
     "output_type": "execute_result"
    }
   ],
   "source": [
    "combined.columns"
   ]
  },
  {
   "cell_type": "code",
   "execution_count": 1232,
   "metadata": {},
   "outputs": [],
   "source": [
    "countries_aff={}\n",
    "for i in aff_country.index:\n",
    "    if aff_country.loc[i,\"country\"] in countries_aff:\n",
    "        countries_aff[aff_country.loc[i,\"country\"]].append(aff_country.loc[i,\"affiliation\"])\n",
    "    else:\n",
    "        countries_aff[aff_country.loc[i,\"country\"]]=[aff_country.loc[i,\"affiliation\"]]\n",
    "        "
   ]
  },
  {
   "cell_type": "code",
   "execution_count": 1234,
   "metadata": {},
   "outputs": [
    {
     "name": "stdout",
     "output_type": "stream",
     "text": [
      "JSON data successfully saved to countries_aff.json with utf-8 encoding.\n"
     ]
    }
   ],
   "source": [
    "save_json(countries_aff,\"countries_aff.json\",\"utf-8\")"
   ]
  },
  {
   "cell_type": "code",
   "execution_count": null,
   "metadata": {},
   "outputs": [],
   "source": []
  }
 ],
 "metadata": {
  "kernelspec": {
   "display_name": "venv",
   "language": "python",
   "name": "python3"
  },
  "language_info": {
   "codemirror_mode": {
    "name": "ipython",
    "version": 3
   },
   "file_extension": ".py",
   "mimetype": "text/x-python",
   "name": "python",
   "nbconvert_exporter": "python",
   "pygments_lexer": "ipython3",
   "version": "3.11.2"
  }
 },
 "nbformat": 4,
 "nbformat_minor": 2
}
