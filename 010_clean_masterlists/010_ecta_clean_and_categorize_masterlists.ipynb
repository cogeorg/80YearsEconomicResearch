{
 "cells": [
  {
   "cell_type": "markdown",
   "id": "5c7965c8",
   "metadata": {},
   "source": [
    "# ECTA Cleaning\n",
    "\n",
    "This notebook walks through how the ECTA articles were sorted into categories of articles and non-articles.\n",
    "\n",
    "## Load Libraries"
   ]
  },
  {
   "cell_type": "code",
   "execution_count": 55,
   "id": "497d54cc",
   "metadata": {},
   "outputs": [],
   "source": [
    "from tokenize import Ignore\n",
    "import numpy as np\n",
    "import pandas as pd\n",
    "import time\n",
    "from os import path\n",
    "import sys\n",
    "from pathlib import Path\n",
    "from PyPDF2 import PdfFileReader, PdfFileWriter\n",
    "import re\n",
    "import os\n",
    "from difflib import SequenceMatcher\n",
    "import datetime\n",
    "import matplotlib.pyplot as plt\n",
    "\n",
    "pd.set_option('display.max_rows',None)\n",
    "pd.set_option('display.max_colwidth', 120)   "
   ]
  },
  {
   "cell_type": "markdown",
   "id": "4ebeeac6",
   "metadata": {},
   "source": [
    "## Load Files\n",
    "Replace these file paths with local file paths"
   ]
  },
  {
   "cell_type": "code",
   "execution_count": 56,
   "id": "e2bbff4b",
   "metadata": {},
   "outputs": [],
   "source": [
    "base_path=\"/Users/sijiawu/Work/Thesis/Data\""
   ]
  },
  {
   "cell_type": "code",
   "execution_count": 57,
   "id": "8dccd97d",
   "metadata": {},
   "outputs": [],
   "source": [
    "masters = pd.read_excel(base_path+\"/Masterlists/ECTA_Masterlist.xlsx\")\n",
    "masters10 = pd.read_excel(base_path+ \"/2010/ECTA_master.xlsx\")\n",
    "pivots = pd.read_excel(base_path+\"/Pivots/ECTA_Pivots2020.xlsx\")"
   ]
  },
  {
   "cell_type": "markdown",
   "id": "c47696c6",
   "metadata": {},
   "source": [
    "## Create File names"
   ]
  },
  {
   "cell_type": "code",
   "execution_count": 58,
   "id": "b54a9027",
   "metadata": {},
   "outputs": [],
   "source": [
    "saveas=base_path+\"/Processed/ECTA_processed.xlsx\""
   ]
  },
  {
   "cell_type": "markdown",
   "id": "91029739",
   "metadata": {},
   "source": [
    "## Some random checks on the masters list\n",
    "\n",
    "My assumption is that all data without author names must be miscellaneous documents like reports by the committee, forewords, front matters etc.. The goal of this notebook is to check for certain that all the documents without author names are actually miscellaneous documents and then classify them as miscellaneous (MISC). Hence, first we group everything the data by title to see the repetitive general content that can likely be removed."
   ]
  },
  {
   "cell_type": "code",
   "execution_count": 59,
   "id": "b31e606d",
   "metadata": {},
   "outputs": [
    {
     "data": {
      "text/html": [
       "<div>\n",
       "<style scoped>\n",
       "    .dataframe tbody tr th:only-of-type {\n",
       "        vertical-align: middle;\n",
       "    }\n",
       "\n",
       "    .dataframe tbody tr th {\n",
       "        vertical-align: top;\n",
       "    }\n",
       "\n",
       "    .dataframe thead th {\n",
       "        text-align: right;\n",
       "    }\n",
       "</style>\n",
       "<table border=\"1\" class=\"dataframe\">\n",
       "  <thead>\n",
       "    <tr style=\"text-align: right;\">\n",
       "      <th></th>\n",
       "      <th>count</th>\n",
       "    </tr>\n",
       "    <tr>\n",
       "      <th>title</th>\n",
       "      <th></th>\n",
       "    </tr>\n",
       "  </thead>\n",
       "  <tbody>\n",
       "    <tr>\n",
       "      <th>back matter</th>\n",
       "      <td>445</td>\n",
       "    </tr>\n",
       "    <tr>\n",
       "      <th>front matter</th>\n",
       "      <td>436</td>\n",
       "    </tr>\n",
       "    <tr>\n",
       "      <th>news notes</th>\n",
       "      <td>193</td>\n",
       "    </tr>\n",
       "    <tr>\n",
       "      <th>announcements</th>\n",
       "      <td>146</td>\n",
       "    </tr>\n",
       "    <tr>\n",
       "      <th>accepted manuscripts</th>\n",
       "      <td>116</td>\n",
       "    </tr>\n",
       "    <tr>\n",
       "      <th>volume information</th>\n",
       "      <td>80</td>\n",
       "    </tr>\n",
       "    <tr>\n",
       "      <th>submission of manuscripts to econometrica</th>\n",
       "      <td>49</td>\n",
       "    </tr>\n",
       "    <tr>\n",
       "      <th>forthcoming papers</th>\n",
       "      <td>42</td>\n",
       "    </tr>\n",
       "    <tr>\n",
       "      <th>report of the secretary</th>\n",
       "      <td>31</td>\n",
       "    </tr>\n",
       "    <tr>\n",
       "      <th>report of the treasurer</th>\n",
       "      <td>31</td>\n",
       "    </tr>\n",
       "  </tbody>\n",
       "</table>\n",
       "</div>"
      ],
      "text/plain": [
       "                                           count\n",
       "title                                           \n",
       "back matter                                  445\n",
       "front matter                                 436\n",
       "news notes                                   193\n",
       "announcements                                146\n",
       "accepted manuscripts                         116\n",
       "volume information                            80\n",
       "submission of manuscripts to econometrica     49\n",
       "forthcoming papers                            42\n",
       "report of the secretary                       31\n",
       "report of the treasurer                       31"
      ]
     },
     "execution_count": 59,
     "metadata": {},
     "output_type": "execute_result"
    }
   ],
   "source": [
    "pd.set_option('display.max_rows',masters.shape[0])\n",
    "temp=masters['title'].str.lower().value_counts()\n",
    "pd.DataFrame(temp[temp>1]).head(10)"
   ]
  },
  {
   "cell_type": "markdown",
   "id": "f6337139",
   "metadata": {},
   "source": [
    "Some repetitions are due to multiple comments. Now consider this list in absence of author names."
   ]
  },
  {
   "cell_type": "code",
   "execution_count": 60,
   "id": "06234093",
   "metadata": {},
   "outputs": [
    {
     "data": {
      "text/html": [
       "<div>\n",
       "<style scoped>\n",
       "    .dataframe tbody tr th:only-of-type {\n",
       "        vertical-align: middle;\n",
       "    }\n",
       "\n",
       "    .dataframe tbody tr th {\n",
       "        vertical-align: top;\n",
       "    }\n",
       "\n",
       "    .dataframe thead th {\n",
       "        text-align: right;\n",
       "    }\n",
       "</style>\n",
       "<table border=\"1\" class=\"dataframe\">\n",
       "  <thead>\n",
       "    <tr style=\"text-align: right;\">\n",
       "      <th></th>\n",
       "      <th>count</th>\n",
       "    </tr>\n",
       "    <tr>\n",
       "      <th>title</th>\n",
       "      <th></th>\n",
       "    </tr>\n",
       "  </thead>\n",
       "  <tbody>\n",
       "    <tr>\n",
       "      <th>back matter</th>\n",
       "      <td>445</td>\n",
       "    </tr>\n",
       "    <tr>\n",
       "      <th>front matter</th>\n",
       "      <td>436</td>\n",
       "    </tr>\n",
       "    <tr>\n",
       "      <th>news notes</th>\n",
       "      <td>193</td>\n",
       "    </tr>\n",
       "    <tr>\n",
       "      <th>announcements</th>\n",
       "      <td>134</td>\n",
       "    </tr>\n",
       "    <tr>\n",
       "      <th>accepted manuscripts</th>\n",
       "      <td>116</td>\n",
       "    </tr>\n",
       "    <tr>\n",
       "      <th>volume information</th>\n",
       "      <td>80</td>\n",
       "    </tr>\n",
       "    <tr>\n",
       "      <th>submission of manuscripts to econometrica</th>\n",
       "      <td>49</td>\n",
       "    </tr>\n",
       "    <tr>\n",
       "      <th>forthcoming papers</th>\n",
       "      <td>42</td>\n",
       "    </tr>\n",
       "    <tr>\n",
       "      <th>news note</th>\n",
       "      <td>25</td>\n",
       "    </tr>\n",
       "    <tr>\n",
       "      <th>fellows of the econometric society</th>\n",
       "      <td>25</td>\n",
       "    </tr>\n",
       "  </tbody>\n",
       "</table>\n",
       "</div>"
      ],
      "text/plain": [
       "                                           count\n",
       "title                                           \n",
       "back matter                                  445\n",
       "front matter                                 436\n",
       "news notes                                   193\n",
       "announcements                                134\n",
       "accepted manuscripts                         116\n",
       "volume information                            80\n",
       "submission of manuscripts to econometrica     49\n",
       "forthcoming papers                            42\n",
       "news note                                     25\n",
       "fellows of the econometric society            25"
      ]
     },
     "execution_count": 60,
     "metadata": {},
     "output_type": "execute_result"
    }
   ],
   "source": [
    "temp1=masters[masters['author'].isna()]['title'].str.lower().value_counts()\n",
    "pd.DataFrame(temp1).head(10)"
   ]
  },
  {
   "cell_type": "code",
   "execution_count": 61,
   "id": "33d78392",
   "metadata": {},
   "outputs": [],
   "source": [
    "# block for testing regex matching\n",
    "#pd.DataFrame(masters[masters['content_type'].isna()]['title'].str.lower().value_counts())\n",
    "#masters[masters['title'].str.lower().str.match(r'(^|: )report of the')]\n",
    "#masters[masters['title'].str.lower().str.match(r'(^|.*: )report of the')]\n",
    "#masters.loc[masters['title'].str.lower().str.match(r'^combined references(.*)')==True,'content_type']='MISC'\n",
    "#masters[masters['title'].str.lower().str.match(r'.*(members|members and subscribers)$')]"
   ]
  },
  {
   "cell_type": "markdown",
   "id": "eb3f1aee",
   "metadata": {},
   "source": [
    "Judging from the above anything with greater than or equal to 5 duplicates are miscellaneous. The next code blocks classify it as such."
   ]
  },
  {
   "cell_type": "code",
   "execution_count": 62,
   "id": "f76437ec",
   "metadata": {},
   "outputs": [],
   "source": [
    "masters[\"content_type\"]=None\n",
    "temp2=masters[masters['content_type'].isna()==True]['title'].str.lower().value_counts()\n",
    "#pd.DataFrame(temp2)\n",
    "removal=list(temp2[temp2>=5].index)\n",
    "masters.loc[masters.title.str.lower().isin(removal),'content_type']='MISC'"
   ]
  },
  {
   "cell_type": "markdown",
   "id": "84adb863",
   "metadata": {},
   "source": [
    "## Combine the scraped list with the citations files\n",
    "\n",
    "I have found that masterlists contructed from citation files lack the reviewed source's name while it is present on the page of the article. Some files are just missing the title. So I'm combining the old masterlists with the new ones."
   ]
  },
  {
   "cell_type": "code",
   "execution_count": 63,
   "id": "017103ee",
   "metadata": {},
   "outputs": [],
   "source": [
    "masters[\"URL\"]=\"https:\"+masters[\"URL\"].str.split(':').str[-1]\n",
    "masters.drop('type', inplace=True, axis=1)\n",
    "masters10[\"stable_url\"]=\"https:\"+masters10[\"stable_url\"].str.split(':').str[-1]\n",
    "masters10.rename(columns = {'authors':'author','stable_url':'URL','title':'title_10'}, inplace = True)\n",
    "masters10.rename(columns = {'authors':'author','stable_url':'URL','title':'title_10'}, inplace = True)\n",
    "masters['pages']=masters['pages'].str.strip()  \n",
    "masters.loc[masters.title.str.lower() == \"back matter\", 'pages'] = pd.NA  \n",
    "masters['pages']=masters[\"pages\"].str.split('pp. ').str[-1]\n",
    "masters['pages']=masters['pages'].replace(r'--','-',regex=True).str.strip()"
   ]
  },
  {
   "cell_type": "code",
   "execution_count": 64,
   "id": "c1231a81",
   "metadata": {},
   "outputs": [],
   "source": [
    "masters[\"author_split\"]=masters['author'].str.split(' and ')\n",
    "masters=masters.merge(masters10[['URL', 'title_10']], how='left', on='URL')"
   ]
  },
  {
   "cell_type": "code",
   "execution_count": 65,
   "id": "5988794a",
   "metadata": {},
   "outputs": [],
   "source": [
    "masters.loc[(pd.isna(masters[\"title\"])==True)&(pd.isna(masters[\"reviewed-author\"])==False), 'content_type']=\"Review\"\n",
    "masters.loc[((masters['title'].str.lower().str.contains('book reviews indexed by author of book')==True)),'content_type']='Review'"
   ]
  },
  {
   "cell_type": "code",
   "execution_count": 66,
   "id": "0f5f38e1",
   "metadata": {},
   "outputs": [],
   "source": [
    "masters.loc[(pd.isna(masters[\"title\"])==True)&(pd.isna(masters[\"reviewed-author\"])==False),\"title\"]=masters[(pd.isna(masters[\"title\"])==True)&(pd.isna(masters[\"reviewed-author\"])==False)][\"title_10\"]\n",
    "masters.loc[(pd.isna(masters[\"title_10\"])==False)&(pd.isna(masters[\"title\"])==True)&(pd.isna(masters[\"reviewed-author\"])==True)&(pd.isna(masters[\"author\"])==True),\"title\"]=masters[(pd.isna(masters[\"title_10\"])==False)&(pd.isna(masters[\"title\"])==True)&(pd.isna(masters[\"reviewed-author\"])==True)&(pd.isna(masters[\"author\"])==True)][\"title_10\"]"
   ]
  },
  {
   "cell_type": "code",
   "execution_count": 67,
   "id": "fd110d1e",
   "metadata": {},
   "outputs": [],
   "source": [
    "for i in masters[(pd.isna(masters[\"title_10\"])==False)&(pd.isna(masters[\"title\"])==True)&(pd.isna(masters[\"reviewed-author\"])==True)].index:\n",
    "    temp=masters.iloc[i]\n",
    "    indic=0\n",
    "    if len(temp['author_split'])>1:\n",
    "        for j in temp['author_split']:\n",
    "            if j in temp[\"title_10\"]:\n",
    "                indic=1\n",
    "                masters.loc[i, \"title\"]=temp[\"title_10\"]\n",
    "                masters.loc[i, \"reviewed-author\"]=j\n",
    "                masters.loc[i, \"content_type\"]=\"Review\"\n",
    "                if \"Review by:\" in temp[\"title_10\"]:\n",
    "                    print(\"weird\")\n",
    "    if indic==0:\n",
    "        masters.loc[i, 'title']=temp['title_10']"
   ]
  },
  {
   "cell_type": "code",
   "execution_count": 68,
   "id": "0d46ce5b",
   "metadata": {},
   "outputs": [
    {
     "data": {
      "text/html": [
       "<div>\n",
       "<style scoped>\n",
       "    .dataframe tbody tr th:only-of-type {\n",
       "        vertical-align: middle;\n",
       "    }\n",
       "\n",
       "    .dataframe tbody tr th {\n",
       "        vertical-align: top;\n",
       "    }\n",
       "\n",
       "    .dataframe thead th {\n",
       "        text-align: right;\n",
       "    }\n",
       "</style>\n",
       "<table border=\"1\" class=\"dataframe\">\n",
       "  <thead>\n",
       "    <tr style=\"text-align: right;\">\n",
       "      <th></th>\n",
       "      <th>URL</th>\n",
       "      <th>author</th>\n",
       "      <th>title_10</th>\n",
       "      <th>abstract</th>\n",
       "      <th>content_type</th>\n",
       "      <th>issue_url</th>\n",
       "      <th>pages</th>\n",
       "    </tr>\n",
       "  </thead>\n",
       "  <tbody>\n",
       "    <tr>\n",
       "      <th>0</th>\n",
       "      <td>https://www.jstor.org/stable/45238021</td>\n",
       "      <td>NaN</td>\n",
       "      <td>Front Matter</td>\n",
       "      <td>NaN</td>\n",
       "      <td>NaN</td>\n",
       "      <td>https://www.jstor.org/stable/10.2307/i40226149</td>\n",
       "      <td>NaN</td>\n",
       "    </tr>\n",
       "    <tr>\n",
       "      <th>1</th>\n",
       "      <td>https://www.jstor.org/stable/45238022</td>\n",
       "      <td>NaN</td>\n",
       "      <td>[Illustration]</td>\n",
       "      <td>NaN</td>\n",
       "      <td>NaN</td>\n",
       "      <td>https://www.jstor.org/stable/10.2307/i40226149</td>\n",
       "      <td>NaN</td>\n",
       "    </tr>\n",
       "    <tr>\n",
       "      <th>2</th>\n",
       "      <td>https://www.jstor.org/stable/45238023</td>\n",
       "      <td>Martin Beraja, Erik Hurst and Juan Ospina</td>\n",
       "      <td>THE AGGREGATE IMPLICATIONS OF REGIONAL BUSINESS CYCLES</td>\n",
       "      <td>NaN</td>\n",
       "      <td>NaN</td>\n",
       "      <td>https://www.jstor.org/stable/10.2307/i40226149</td>\n",
       "      <td>1789-1833</td>\n",
       "    </tr>\n",
       "    <tr>\n",
       "      <th>3</th>\n",
       "      <td>https://www.jstor.org/stable/45238024</td>\n",
       "      <td>Amanda Friedenberg</td>\n",
       "      <td>BARGAINING UNDER STRATEGIC UNCERTAINTY: THE ROLE OF SECOND-ORDER OPTIMISM</td>\n",
       "      <td>NaN</td>\n",
       "      <td>NaN</td>\n",
       "      <td>https://www.jstor.org/stable/10.2307/i40226149</td>\n",
       "      <td>1835-1865</td>\n",
       "    </tr>\n",
       "    <tr>\n",
       "      <th>4</th>\n",
       "      <td>https://www.jstor.org/stable/45238025</td>\n",
       "      <td>Gabriel Carroll and Georgy Egorov</td>\n",
       "      <td>STRATEGIC COMMUNICATION WITH MINIMAL VERIFICATION</td>\n",
       "      <td>NaN</td>\n",
       "      <td>NaN</td>\n",
       "      <td>https://www.jstor.org/stable/10.2307/i40226149</td>\n",
       "      <td>1867-1892</td>\n",
       "    </tr>\n",
       "  </tbody>\n",
       "</table>\n",
       "</div>"
      ],
      "text/plain": [
       "                                     URL  \\\n",
       "0  https://www.jstor.org/stable/45238021   \n",
       "1  https://www.jstor.org/stable/45238022   \n",
       "2  https://www.jstor.org/stable/45238023   \n",
       "3  https://www.jstor.org/stable/45238024   \n",
       "4  https://www.jstor.org/stable/45238025   \n",
       "\n",
       "                                      author  \\\n",
       "0                                        NaN   \n",
       "1                                        NaN   \n",
       "2  Martin Beraja, Erik Hurst and Juan Ospina   \n",
       "3                         Amanda Friedenberg   \n",
       "4          Gabriel Carroll and Georgy Egorov   \n",
       "\n",
       "                                                                    title_10  \\\n",
       "0                                                               Front Matter   \n",
       "1                                                             [Illustration]   \n",
       "2                     THE AGGREGATE IMPLICATIONS OF REGIONAL BUSINESS CYCLES   \n",
       "3  BARGAINING UNDER STRATEGIC UNCERTAINTY: THE ROLE OF SECOND-ORDER OPTIMISM   \n",
       "4                          STRATEGIC COMMUNICATION WITH MINIMAL VERIFICATION   \n",
       "\n",
       "   abstract  content_type                                       issue_url  \\\n",
       "0       NaN           NaN  https://www.jstor.org/stable/10.2307/i40226149   \n",
       "1       NaN           NaN  https://www.jstor.org/stable/10.2307/i40226149   \n",
       "2       NaN           NaN  https://www.jstor.org/stable/10.2307/i40226149   \n",
       "3       NaN           NaN  https://www.jstor.org/stable/10.2307/i40226149   \n",
       "4       NaN           NaN  https://www.jstor.org/stable/10.2307/i40226149   \n",
       "\n",
       "        pages  \n",
       "0         NaN  \n",
       "1         NaN  \n",
       "2   1789-1833  \n",
       "3   1835-1865  \n",
       "4   1867-1892  "
      ]
     },
     "execution_count": 68,
     "metadata": {},
     "output_type": "execute_result"
    }
   ],
   "source": [
    "masters10.head()"
   ]
  },
  {
   "cell_type": "markdown",
   "id": "c3d0a4fb",
   "metadata": {},
   "source": [
    "## Classifying miscellaneous content"
   ]
  },
  {
   "cell_type": "code",
   "execution_count": 69,
   "id": "6598608d",
   "metadata": {},
   "outputs": [],
   "source": [
    "masters.loc[masters.apply(lambda k: SequenceMatcher(None, k['title'].lower(), 'front matter').ratio(), axis=1)>0.75,\"content_type\"]='MISC'\n",
    "masters.loc[masters.apply(lambda k: SequenceMatcher(None, k['title'].lower(), 'back matter').ratio(), axis=1)>0.75,\"content_type\"]='MISC'\n",
    "masters.loc[masters.apply(lambda k: SequenceMatcher(None, k['title'].lower(), 'news note(|s)').ratio(), axis=1)>0.75,\"content_type\"]='MISC'\n",
    "masters.loc[masters.apply(lambda k: SequenceMatcher(None, k['title'].lower(), 'announcements').ratio(), axis=1)>0.75,\"content_type\"]='MISC'\n",
    "masters.loc[masters.apply(lambda k: SequenceMatcher(None, k['title'].lower(), 'accepted manuscripts').ratio(), axis=1)>0.75,\"content_type\"]='MISC'\n",
    "masters.loc[masters.apply(lambda k: SequenceMatcher(None, k['title'].lower(), 'volume information').ratio(), axis=1)>0.75,\"content_type\"]='MISC'\n",
    "masters.loc[masters.apply(lambda k: SequenceMatcher(None, k['title'].lower(), 'submission of manuscripts to econometrica').ratio(), axis=1)>0.75,\"content_type\"]='MISC'\n",
    "masters.loc[masters.apply(lambda k: SequenceMatcher(None, k['title'].lower(), 'forthcoming papers').ratio(), axis=1)>0.75,\"content_type\"]='MISC'\n",
    "masters.loc[masters['title'].str.lower().str.match(r'(^|.*: )report of the'), 'content_type']='MISC'\n",
    "masters.loc[masters['title'].str.lower().str.match(r'.*report (of|on) the(.*)(editors|fellows)'), 'content_type']='MISC'\n",
    "masters.loc[masters['title'].str.lower().str.match(r'meeting of the econometric society'), 'content_type']='MISC'\n",
    "masters.loc[masters['title'].str.lower().str.match(r'(^|.*: )report of the.*')==True,'content_type']=\"MISC\"\n",
    "masters.loc[(masters['title'].str.lower().str.contains('econometric society')==True)&(masters[\"author\"].isna()==True),'content_type']=\"MISC\"\n",
    "masters.loc[masters['title'].str.lower().str.contains('econometrica')==True,'content_type']='MISC'\n",
    "masters.loc[(masters['title'].str.lower().str.contains('report')==True) & (masters['author'].isna()==True),'content_type']='MISC'\n",
    "masters.loc[masters['title'].str.lower().str.strip().str.match(r'treasurer(.*)report'),'content_type']='MISC'\n",
    "masters.loc[masters['title'].str.lower().str.strip().str.contains(r'report from the president'),'content_type']='MISC'\n",
    "masters.loc[((masters['title'].str.lower().str.contains('announcement of')==True)),'content_type']='MISC'\n",
    "masters.loc[((masters['title'].str.lower().str.match(r'editor(.*)note')==True)),'content_type']='MISC'\n",
    "masters.loc[((masters['title'].str.lower().str.match(r'(.*):program$')==True)),'content_type']='MISC'\n",
    "masters.loc[((masters['title'].str.lower().str.strip().str.match(r'accountant(.*)opinion')==True)),'content_type']='MISC'\n",
    "masters.loc[masters.apply(lambda k: SequenceMatcher(None, k['title'].lower(), 'unpublished research memoranda').ratio(), axis=1)>0.75,\"content_type\"]='MISC'\n",
    "masters.loc[((masters['title'].str.lower().str.strip().str.match(r'^(obituary|death(s?) of members)$')==True)),'content_type']='MISC'\n",
    "masters.loc[masters['title'].str.lower().str.match(r'.*fellows$'),'content_type']=\"MISC\"\n",
    "masters.loc[masters['title'].str.lower().str.contains('nomination of fellows'),'content_type']=\"MISC\"\n",
    "masters.loc[masters['title'].str.lower().str.match(r'.*editorial$'),'content_type']=\"MISC\"\n",
    "masters.loc[masters['title'].str.lower().str.match(r'(index of authors|summary of accounts)'),'content_type']='MISC'\n",
    "masters.loc[masters['title'].str.lower().str.match(r'.*(members|members and subscribers)$'),'content_type']='MISC'\n",
    "masters.loc[masters['title'].str.lower().str.contains('\\[illustration\\]'),'content_type']='MISC'\n",
    "masters.loc[masters['title'].str.lower().str.contains('\\[photograph.*\\]'),'content_type']='MISC'\n",
    "masters.loc[masters['title'].str.lower().str.contains('abstracts of papers'),'content_type']=\"MISC\"\n",
    "masters.loc[masters['title'].str.lower().str.contains('frisch medal award'),'content_type']=\"MISC\"\n",
    "masters.loc[masters['title'].str.lower().str.contains('award of frisch'),'content_type']=\"MISC\"\n",
    "masters.loc[masters['title'].str.lower().str.match(r'^membership list'),'content_type']=\"MISC\"\n",
    "masters.loc[masters['title'].str.lower().str.contains('additive preferences'),'content_type']=\"MISC\"\n",
    "masters.loc[masters['title'].str.lower().str.contains('communications'),'content_type']=\"MISC\"\n",
    "masters.loc[masters['title'].str.lower().str.contains('letters to the editor'),'content_type']=\"MISC\"\n",
    "masters.loc[masters['title'].str.lower().str.match(r'^program of.*'), 'content_type']=\"MISC\"\n",
    "masters.loc[masters['title'].str.lower().str.match(r'.*: program'),'content_type']=\"MISC\"\n",
    "masters.loc[masters['title'].str.lower().str.contains(r'call for papers'),'content_type']=\"MISC\"\n",
    "masters.loc[masters['title'].str.lower().str.match(r'election of (new |)fellow(|s)'),'content_type']=\"MISC\"\n",
    "masters.loc[masters['title'].str.lower().str.match(r'^index( of| to|$).*'),'content_type']=\"MISC\"\n",
    "masters.loc[masters['title'].str.lower().str.match(r'^introduction.*'),'content_type']=\"MISC\"\n",
    "masters.loc[masters['title'].str.lower().str.contains(r'notice of'),'content_type']=\"MISC\"\n",
    "masters.loc[masters['title'].str.lower().str.match(r'meetings (in|of)'),'content_type']=\"MISC\"\n",
    "masters.loc[masters['title'].str.lower().str.contains(r\"société d'économétrie\"), 'content_type']=\"MISC\"\n",
    "masters.loc[masters['title'].str.lower().str.contains(r\"election results\"), \"content_type\"]=\"MISC\"\n",
    "masters.loc[masters['title'].str.lower().str.contains(r\"compte.*congres\"),\"content_type\"]=\"MISC\"\n",
    "masters.loc[masters['title'].str.lower().str.match(r\"^(abbreviations|alphabetical list of periodicals|alphabetical list of associations, societies, etc.|author index|in memoriam|monograph prizes|national science foundation grant|news notes from other journals|nomination of fellow, 1984|north american regional conference|north american summer meeting, madison, wisconsin|note of appreciation|note on membership listing|notes of appreciation|notes to financial statements|omission of july issue|pagination error|postgraduate research in econometrics|postdoctoral study in statistics|reprints desired by european members|research information|second world congress|style manual|subject index|third world congress|travel grant to .* meeting|a note of appreciation|acknowledg(e|.)ment)$\"),\"content_type\"]=\"MISC\"\n",
    "masters.loc[masters['title'].str.lower().str.match(r\"^(announcement and tentative program|announcements and notes|announcements of the december 1957|appointment of co-editor|assistantships in econometrics|attendance at the oxford meeting, september 25-29, 1936|election of vice-president|fellowships|fellowships and grants|geographical list of subscribers|la conf.rence européenne de la soci.té d'.conometrie|miscellaneous index|north american summer meeting, madison, wisconsin|officers and council|officers and new council|plans for the atlantic city|plans for special publications|salute to ragnar frisch in honor of his sixty|rules for electing fellows as revised|statements of loss and fund balance for the years ended december|suggestions for fellowship|washington meeting with international|washington meeting, september|\\[program\\]: tenth indian econometric)|in memoriam \\[yehuda grunfeld\\]|obituary notice, dickson h. leavens|resumption of editorship by professor frisch\"), \"content_type\"]=\"MISC\"\n",
    "\n",
    "manual=[\"https://www.jstor.org/stable/2938202\"]\n",
    "\n",
    "masters.loc[masters[\"URL\"].isin(manual)==True, 'content_type']=\"MISC\"\n"
   ]
  },
  {
   "cell_type": "markdown",
   "id": "c7a26d55",
   "metadata": {},
   "source": [
    "\n",
    "## Classifying other content"
   ]
  },
  {
   "cell_type": "code",
   "execution_count": 70,
   "id": "cd16db7b",
   "metadata": {},
   "outputs": [
    {
     "data": {
      "text/plain": [
       "5573"
      ]
     },
     "execution_count": 70,
     "metadata": {},
     "output_type": "execute_result"
    }
   ],
   "source": [
    "sum(masters.content_type.isna())\n",
    "#masters.shape[0]"
   ]
  },
  {
   "cell_type": "code",
   "execution_count": 71,
   "id": "d02d39a1",
   "metadata": {},
   "outputs": [],
   "source": [
    "# masters.loc[masters['authors'].str.lower().str.match(r'^review(ed|) by(.*)')==True,'content_type']='Review' #reviews\n",
    "# masters.loc[(masters['title'].str.lower().str.match(r'(.*) by (.*)')==True) & (masters.author.isna()==True),'content_type']=None \n",
    "masters.loc[~(masters['author'].isna()) & (masters['reviewed-author'].isna()==False),'content_type']='Review'"
   ]
  },
  {
   "cell_type": "code",
   "execution_count": 72,
   "id": "e1712c1a",
   "metadata": {},
   "outputs": [],
   "source": [
    "masters.loc[masters['title'].str.lower().str.contains(\"erratum\")|masters['title'].str.lower().str.contains(\"errata\"), 'content_type']=\"Errata\""
   ]
  },
  {
   "cell_type": "code",
   "execution_count": 73,
   "id": "77051785",
   "metadata": {},
   "outputs": [
    {
     "data": {
      "text/plain": [
       "73"
      ]
     },
     "execution_count": 73,
     "metadata": {},
     "output_type": "execute_result"
    }
   ],
   "source": [
    "masters.loc[masters.content_type.isna() & masters.title.str.lower().str.match(r'.*: (|a )comment(|.*)$')==True,'content_type']='Comment'\n",
    "masters[masters['content_type']=='Comment'].shape[0] #comments"
   ]
  },
  {
   "cell_type": "code",
   "execution_count": 74,
   "id": "37024f91",
   "metadata": {},
   "outputs": [
    {
     "data": {
      "text/plain": [
       "43"
      ]
     },
     "execution_count": 74,
     "metadata": {},
     "output_type": "execute_result"
    }
   ],
   "source": [
    "masters.loc[masters.content_type.isna() & masters.title.str.lower().str.match(r'.*(:|\\?) (|a )reply(| to.*)$')==True,'content_type']=\"Reply\"\n",
    "masters[masters['content_type']=='Reply'].shape[0]"
   ]
  },
  {
   "cell_type": "code",
   "execution_count": 75,
   "id": "07d479ad",
   "metadata": {},
   "outputs": [
    {
     "data": {
      "text/plain": [
       "14"
      ]
     },
     "execution_count": 75,
     "metadata": {},
     "output_type": "execute_result"
    }
   ],
   "source": [
    "masters.loc[masters.content_type.isna() & masters.title.str.lower().str.match(r'.*(:|\\?) (|a )rejoinder.*$')==True,'content_type']=\"Rejoinder\"\n",
    "masters[masters['content_type']=='Rejoinder'].shape[0]"
   ]
  },
  {
   "cell_type": "code",
   "execution_count": 76,
   "id": "e4118ba3",
   "metadata": {},
   "outputs": [
    {
     "data": {
      "text/plain": [
       "9"
      ]
     },
     "execution_count": 76,
     "metadata": {},
     "output_type": "execute_result"
    }
   ],
   "source": [
    "masters.loc[masters.content_type.isna() & masters.title.str.lower().str.match(r'.*: (|a )discussion$')==True,'content_type']=\"Discussion\"\n",
    "masters.loc[masters.content_type.isna() & masters.title.str.lower().str.match(r'(^|a )discussion(|.*)$')==True,'content_type']=\"Discussion\"\n",
    "masters.loc[masters.content_type.isna() & masters.title.str.lower().str.match(r'.*:.*(|a )discussion(|s)$')==True,'content_type']='Discussion'\n",
    "masters[masters['content_type']=='Discussion'].shape[0]"
   ]
  },
  {
   "cell_type": "code",
   "execution_count": 77,
   "id": "f432a860",
   "metadata": {},
   "outputs": [
    {
     "data": {
      "text/plain": [
       "5427"
      ]
     },
     "execution_count": 77,
     "metadata": {},
     "output_type": "execute_result"
    }
   ],
   "source": [
    "masters.loc[masters['content_type'].isna(),'content_type']=\"Article\"\n",
    "masters[masters['content_type']=='Article'].shape[0]"
   ]
  },
  {
   "cell_type": "code",
   "execution_count": 78,
   "id": "53651d71",
   "metadata": {},
   "outputs": [
    {
     "data": {
      "text/plain": [
       "9"
      ]
     },
     "execution_count": 78,
     "metadata": {},
     "output_type": "execute_result"
    }
   ],
   "source": [
    "#masters[masters['title'].str.lower().str.match(r'^\\washington notes$')==True]\n",
    "masters[masters.content_type.isna() & masters.title.str.lower().str.match(r'.*(:|\\?) (|a )rejoinder.*$')==True]\n",
    "\n",
    "masters[masters.content_type=='Discussion'].shape[0]"
   ]
  },
  {
   "cell_type": "markdown",
   "id": "84e3354a",
   "metadata": {},
   "source": [
    "## Consider the pivots file\n",
    "At times, conference papers are structured differently to normal articles. Hence, it may be necessary to distinguish conference papers from common articles."
   ]
  },
  {
   "cell_type": "code",
   "execution_count": 79,
   "id": "ad5cf258",
   "metadata": {},
   "outputs": [
    {
     "data": {
      "text/plain": [
       "type\n",
       "N    447\n",
       "S      8\n",
       "Name: count, dtype: int64"
      ]
     },
     "execution_count": 79,
     "metadata": {},
     "output_type": "execute_result"
    }
   ],
   "source": [
    "pivots.loc[pivots.Jstor_issue_text.str.lower().str.match(r'(.*)(supplement|proceedings|annual meeting|survey|index|bibliographical directory)(.*)'),'type']=\"S\"\n",
    "pivots.loc[pivots.type.isna(),'type']='N'\n",
    "pivots.type.value_counts()"
   ]
  },
  {
   "cell_type": "markdown",
   "id": "a36f6b8d",
   "metadata": {},
   "source": [
    "Merge and calculate value counts of all the content types."
   ]
  },
  {
   "cell_type": "code",
   "execution_count": 80,
   "id": "d7a34c25",
   "metadata": {},
   "outputs": [],
   "source": [
    "result = pd.merge(masters, pivots[['issue_url','type']], how=\"left\", on=[\"issue_url\", \"issue_url\"])"
   ]
  },
  {
   "cell_type": "code",
   "execution_count": 81,
   "id": "4ec24247",
   "metadata": {},
   "outputs": [],
   "source": [
    "result.to_excel(saveas, index=False)"
   ]
  }
 ],
 "metadata": {
  "kernelspec": {
   "display_name": "venv",
   "language": "python",
   "name": "python3"
  },
  "language_info": {
   "codemirror_mode": {
    "name": "ipython",
    "version": 3
   },
   "file_extension": ".py",
   "mimetype": "text/x-python",
   "name": "python",
   "nbconvert_exporter": "python",
   "pygments_lexer": "ipython3",
   "version": "3.11.2"
  }
 },
 "nbformat": 4,
 "nbformat_minor": 5
}
