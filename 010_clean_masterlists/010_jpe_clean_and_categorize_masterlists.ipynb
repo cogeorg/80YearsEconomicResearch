{
 "cells": [
  {
   "cell_type": "markdown",
   "id": "1132f336",
   "metadata": {},
   "source": [
    "# JPE cleaning\n",
    "This notebook walks through how the JPE articles were sorted into categories of articles and non-articles.\n",
    "\n",
    "## Loading libraries"
   ]
  },
  {
   "cell_type": "code",
   "execution_count": 31,
   "id": "ac5e1a03",
   "metadata": {},
   "outputs": [],
   "source": [
    "from tokenize import Ignore\n",
    "import pandas as pd\n",
    "from difflib import SequenceMatcher\n",
    "import multiprocessing as mp\n",
    "import time\n",
    "from os import path\n",
    "import os\n",
    "from pathlib import Path\n",
    "from PyPDF2 import PdfFileReader, PdfFileWriter\n",
    "import re\n",
    "import numpy as np\n",
    "import matplotlib.pyplot as plt\n",
    "\n",
    "\n",
    "pd.set_option('display.max_rows',100)\n",
    "pd.set_option('display.max_colwidth', 120)   "
   ]
  },
  {
   "cell_type": "markdown",
   "id": "3098b7d7",
   "metadata": {},
   "source": [
    "## Loading Files\n",
    "Please replace file paths with local file paths and comment out unapplicable content eg: datadump"
   ]
  },
  {
   "cell_type": "code",
   "execution_count": null,
   "id": "5ef3f455",
   "metadata": {},
   "outputs": [],
   "source": [
    "root_path=\"/Users/sijiawu/Work/Thesis/Data\"\n",
    "base_path=root_path+\"/010_clean_masterlists\""
   ]
  },
  {
   "cell_type": "code",
   "execution_count": 33,
   "id": "07eec85c",
   "metadata": {},
   "outputs": [],
   "source": [
    "masters = pd.read_excel(base_path+\"/Masterlists/JPE_Masterlist.xlsx\")\n",
    "masters10 = pd.read_excel(base_path+ \"/2010/JPE_master.xlsx\")\n",
    "pivots = pd.read_excel(base_path+\"/Pivots/JPE_Pivots2020.xlsx\")"
   ]
  },
  {
   "cell_type": "markdown",
   "id": "a0ba115e",
   "metadata": {},
   "source": [
    "## Create File names\n",
    "Again, replace these with local file paths"
   ]
  },
  {
   "cell_type": "code",
   "execution_count": 34,
   "id": "30587e1d",
   "metadata": {},
   "outputs": [],
   "source": [
    "saveas=base_path+\"/Processed/JPE_processed.xlsx\""
   ]
  },
  {
   "cell_type": "markdown",
   "id": "ecbd6a34",
   "metadata": {},
   "source": [
    "## Some random checks on the masters list\n",
    "My assumption is that all data without author names must be miscellaneous documents like reports by the committee, forewords, front matters etc.. The goal of this notebook is to check for certain that all the documents without author names are actually miscellaneous documents and then classify them as miscellaneous (MISC). Hence, first we group everything the data by title to see the repetitive general content that can likely be removed."
   ]
  },
  {
   "cell_type": "code",
   "execution_count": 35,
   "id": "7222d9e6",
   "metadata": {},
   "outputs": [
    {
     "data": {
      "text/html": [
       "<div>\n",
       "<style scoped>\n",
       "    .dataframe tbody tr th:only-of-type {\n",
       "        vertical-align: middle;\n",
       "    }\n",
       "\n",
       "    .dataframe tbody tr th {\n",
       "        vertical-align: top;\n",
       "    }\n",
       "\n",
       "    .dataframe thead th {\n",
       "        text-align: right;\n",
       "    }\n",
       "</style>\n",
       "<table border=\"1\" class=\"dataframe\">\n",
       "  <thead>\n",
       "    <tr style=\"text-align: right;\">\n",
       "      <th></th>\n",
       "      <th>count</th>\n",
       "    </tr>\n",
       "    <tr>\n",
       "      <th>title</th>\n",
       "      <th></th>\n",
       "    </tr>\n",
       "  </thead>\n",
       "  <tbody>\n",
       "    <tr>\n",
       "      <th>front matter</th>\n",
       "      <td>431</td>\n",
       "    </tr>\n",
       "    <tr>\n",
       "      <th>back matter</th>\n",
       "      <td>322</td>\n",
       "    </tr>\n",
       "    <tr>\n",
       "      <th>books received</th>\n",
       "      <td>248</td>\n",
       "    </tr>\n",
       "    <tr>\n",
       "      <th>volume information</th>\n",
       "      <td>137</td>\n",
       "    </tr>\n",
       "    <tr>\n",
       "      <th>washington notes</th>\n",
       "      <td>110</td>\n",
       "    </tr>\n",
       "    <tr>\n",
       "      <th>journal of political economy: acknowledges the assistance of:</th>\n",
       "      <td>74</td>\n",
       "    </tr>\n",
       "    <tr>\n",
       "      <th>new publications</th>\n",
       "      <td>50</td>\n",
       "    </tr>\n",
       "    <tr>\n",
       "      <th>journal of political economy</th>\n",
       "      <td>43</td>\n",
       "    </tr>\n",
       "    <tr>\n",
       "      <th>back cover</th>\n",
       "      <td>29</td>\n",
       "    </tr>\n",
       "    <tr>\n",
       "      <th>[notes]</th>\n",
       "      <td>27</td>\n",
       "    </tr>\n",
       "  </tbody>\n",
       "</table>\n",
       "</div>"
      ],
      "text/plain": [
       "                                                               count\n",
       "title                                                               \n",
       "front matter                                                     431\n",
       "back matter                                                      322\n",
       "books received                                                   248\n",
       "volume information                                               137\n",
       "washington notes                                                 110\n",
       "journal of political economy: acknowledges the assistance of:     74\n",
       "new publications                                                  50\n",
       "journal of political economy                                      43\n",
       "back cover                                                        29\n",
       "[notes]                                                           27"
      ]
     },
     "execution_count": 35,
     "metadata": {},
     "output_type": "execute_result"
    }
   ],
   "source": [
    "pd.set_option('display.max_rows',masters.shape[0])\n",
    "temp=masters['title'].str.lower().value_counts()\n",
    "pd.DataFrame(temp[temp>1]).head(10)"
   ]
  },
  {
   "cell_type": "markdown",
   "id": "13ecf915",
   "metadata": {},
   "source": [
    "Some repetitions are due to multiple comments. Now consider this list in absence of author names."
   ]
  },
  {
   "cell_type": "code",
   "execution_count": 36,
   "id": "5da24974",
   "metadata": {},
   "outputs": [
    {
     "data": {
      "text/html": [
       "<div>\n",
       "<style scoped>\n",
       "    .dataframe tbody tr th:only-of-type {\n",
       "        vertical-align: middle;\n",
       "    }\n",
       "\n",
       "    .dataframe tbody tr th {\n",
       "        vertical-align: top;\n",
       "    }\n",
       "\n",
       "    .dataframe thead th {\n",
       "        text-align: right;\n",
       "    }\n",
       "</style>\n",
       "<table border=\"1\" class=\"dataframe\">\n",
       "  <thead>\n",
       "    <tr style=\"text-align: right;\">\n",
       "      <th></th>\n",
       "      <th>count</th>\n",
       "    </tr>\n",
       "    <tr>\n",
       "      <th>title</th>\n",
       "      <th></th>\n",
       "    </tr>\n",
       "  </thead>\n",
       "  <tbody>\n",
       "    <tr>\n",
       "      <th>front matter</th>\n",
       "      <td>431</td>\n",
       "    </tr>\n",
       "    <tr>\n",
       "      <th>back matter</th>\n",
       "      <td>322</td>\n",
       "    </tr>\n",
       "    <tr>\n",
       "      <th>books received</th>\n",
       "      <td>248</td>\n",
       "    </tr>\n",
       "    <tr>\n",
       "      <th>volume information</th>\n",
       "      <td>137</td>\n",
       "    </tr>\n",
       "    <tr>\n",
       "      <th>washington notes</th>\n",
       "      <td>110</td>\n",
       "    </tr>\n",
       "    <tr>\n",
       "      <th>journal of political economy: acknowledges the assistance of:</th>\n",
       "      <td>74</td>\n",
       "    </tr>\n",
       "    <tr>\n",
       "      <th>new publications</th>\n",
       "      <td>50</td>\n",
       "    </tr>\n",
       "    <tr>\n",
       "      <th>journal of political economy</th>\n",
       "      <td>43</td>\n",
       "    </tr>\n",
       "    <tr>\n",
       "      <th>back cover</th>\n",
       "      <td>29</td>\n",
       "    </tr>\n",
       "    <tr>\n",
       "      <th>recent referees</th>\n",
       "      <td>24</td>\n",
       "    </tr>\n",
       "  </tbody>\n",
       "</table>\n",
       "</div>"
      ],
      "text/plain": [
       "                                                               count\n",
       "title                                                               \n",
       "front matter                                                     431\n",
       "back matter                                                      322\n",
       "books received                                                   248\n",
       "volume information                                               137\n",
       "washington notes                                                 110\n",
       "journal of political economy: acknowledges the assistance of:     74\n",
       "new publications                                                  50\n",
       "journal of political economy                                      43\n",
       "back cover                                                        29\n",
       "recent referees                                                   24"
      ]
     },
     "execution_count": 36,
     "metadata": {},
     "output_type": "execute_result"
    }
   ],
   "source": [
    "temp2=masters[masters['author'].isna()]['title'].str.lower().value_counts()\n",
    "pd.DataFrame(temp2).head(10)"
   ]
  },
  {
   "cell_type": "code",
   "execution_count": 37,
   "id": "f4f44918",
   "metadata": {},
   "outputs": [],
   "source": [
    "masters[\"content_type\"]=None\n",
    "temp2=masters[masters['content_type'].isna()==True]['title'].str.lower().value_counts()\n",
    "#pd.DataFrame(temp2)\n",
    "removal=list(temp2[temp2>=5].index)\n",
    "masters.loc[masters.title.str.lower().isin(removal),'content_type']='MISC'"
   ]
  },
  {
   "cell_type": "markdown",
   "id": "dd87cbb0",
   "metadata": {},
   "source": [
    "## Combine the scraped list with the citations files\n",
    "\n",
    "I have found that masterlists contructed from citation files lack the reviewed source's name while it is present on the page of the article. Some files are just missing the title. So I'm combining the old masterlists with the new ones."
   ]
  },
  {
   "cell_type": "code",
   "execution_count": 38,
   "id": "16ec46b3",
   "metadata": {},
   "outputs": [],
   "source": [
    "masters[\"URL\"]=\"https:\"+masters[\"URL\"].str.split(':').str[-1]\n",
    "masters.drop('type', inplace=True, axis=1)\n",
    "masters10[\"stable_url\"]=\"https:\"+masters10[\"stable_url\"].str.split(':').str[-1]\n",
    "masters10.rename(columns = {'authors':'author','stable_url':'URL','title':'title_10'}, inplace = True)\n",
    "masters['pages']=masters['pages'].str.strip()  \n",
    "masters.loc[masters.title.str.lower() == \"back matter\", 'pages'] = pd.NA  \n",
    "pivots['type']=pd.NA\n",
    "masters['pages']=masters[\"pages\"].str.split('pp. ').str[-1]\n",
    "masters['pages']=masters['pages'].replace(r'--','-',regex=True).str.strip()"
   ]
  },
  {
   "cell_type": "code",
   "execution_count": 39,
   "id": "be41bb22",
   "metadata": {},
   "outputs": [],
   "source": [
    "masters[\"author_split\"]=masters['author'].str.split(' and ')\n",
    "masters=masters.merge(masters10[['URL', 'title_10']], how='left', on='URL')"
   ]
  },
  {
   "cell_type": "code",
   "execution_count": 40,
   "id": "cfd2b722",
   "metadata": {},
   "outputs": [],
   "source": [
    "masters.loc[(pd.isna(masters[\"title\"])==True)&(pd.isna(masters[\"reviewed-author\"])==False), 'content_type']=\"Review\"\n",
    "masters.loc[((masters['title'].str.lower().str.contains('book reviews indexed by author of book')==True)),'content_type']='Review'"
   ]
  },
  {
   "cell_type": "code",
   "execution_count": 41,
   "id": "ffaae313",
   "metadata": {},
   "outputs": [],
   "source": [
    "masters.loc[(pd.isna(masters[\"title\"])==True)&(pd.isna(masters[\"reviewed-author\"])==False),\"title\"]=masters[(pd.isna(masters[\"title\"])==True)&(pd.isna(masters[\"reviewed-author\"])==False)][\"title_10\"]\n",
    "masters.loc[(pd.isna(masters[\"title_10\"])==False)&(pd.isna(masters[\"title\"])==True)&(pd.isna(masters[\"reviewed-author\"])==True)&(pd.isna(masters[\"author\"])==True),\"title\"]=masters[(pd.isna(masters[\"title_10\"])==False)&(pd.isna(masters[\"title\"])==True)&(pd.isna(masters[\"reviewed-author\"])==True)&(pd.isna(masters[\"author\"])==True)][\"title_10\"]"
   ]
  },
  {
   "cell_type": "code",
   "execution_count": 42,
   "id": "38f21f0c",
   "metadata": {},
   "outputs": [],
   "source": [
    "for i in masters[(pd.isna(masters[\"title_10\"])==False)&(pd.isna(masters[\"title\"])==True)&(pd.isna(masters[\"reviewed-author\"])==True)].index:\n",
    "    temp=masters.iloc[i]\n",
    "    indic=0\n",
    "    if len(temp['author_split'])>1:\n",
    "        for j in temp['author_split']:\n",
    "            if j in temp[\"title_10\"]:\n",
    "                indic=1\n",
    "                masters.loc[i, \"title\"]=temp[\"title_10\"]\n",
    "                masters.loc[i, \"reviewed-author\"]=j\n",
    "                masters.loc[i, \"content_type\"]=\"Review\"\n",
    "                if \"Review by:\" in temp[\"title_10\"]:\n",
    "                    print(\"weird\")\n",
    "    if indic==0:\n",
    "        masters.loc[i, 'title']=temp['title_10']"
   ]
  },
  {
   "cell_type": "code",
   "execution_count": 43,
   "id": "8b1e2744",
   "metadata": {},
   "outputs": [
    {
     "data": {
      "text/html": [
       "<div>\n",
       "<style scoped>\n",
       "    .dataframe tbody tr th:only-of-type {\n",
       "        vertical-align: middle;\n",
       "    }\n",
       "\n",
       "    .dataframe tbody tr th {\n",
       "        vertical-align: top;\n",
       "    }\n",
       "\n",
       "    .dataframe thead th {\n",
       "        text-align: right;\n",
       "    }\n",
       "</style>\n",
       "<table border=\"1\" class=\"dataframe\">\n",
       "  <thead>\n",
       "    <tr style=\"text-align: right;\">\n",
       "      <th></th>\n",
       "      <th>URL</th>\n",
       "      <th>author</th>\n",
       "      <th>title_10</th>\n",
       "      <th>abstract</th>\n",
       "      <th>content_type</th>\n",
       "      <th>issue_url</th>\n",
       "      <th>pages</th>\n",
       "    </tr>\n",
       "  </thead>\n",
       "  <tbody>\n",
       "    <tr>\n",
       "      <th>0</th>\n",
       "      <td>https://www.jstor.org/stable/26549909</td>\n",
       "      <td>NaN</td>\n",
       "      <td>JOURNAL OF POLITICAL ECONOMY</td>\n",
       "      <td>NaN</td>\n",
       "      <td>NaN</td>\n",
       "      <td>https://www.jstor.org/stable/10.2307/e26549908</td>\n",
       "      <td>NaN</td>\n",
       "    </tr>\n",
       "    <tr>\n",
       "      <th>1</th>\n",
       "      <td>https://www.jstor.org/stable/26549910</td>\n",
       "      <td>NaN</td>\n",
       "      <td>Journal of Political Economy</td>\n",
       "      <td>NaN</td>\n",
       "      <td>NaN</td>\n",
       "      <td>https://www.jstor.org/stable/10.2307/e26549908</td>\n",
       "      <td>NaN</td>\n",
       "    </tr>\n",
       "    <tr>\n",
       "      <th>2</th>\n",
       "      <td>https://www.jstor.org/stable/26549911</td>\n",
       "      <td>Johannes Hörner and Andrzej Skrzypacz</td>\n",
       "      <td>Selling Information</td>\n",
       "      <td>NaN</td>\n",
       "      <td>NaN</td>\n",
       "      <td>https://www.jstor.org/stable/10.2307/e26549908</td>\n",
       "      <td>1515-1562</td>\n",
       "    </tr>\n",
       "    <tr>\n",
       "      <th>3</th>\n",
       "      <td>https://www.jstor.org/stable/26549912</td>\n",
       "      <td>Gabriel Chodorow-Reich and Loukas Karabarbounis</td>\n",
       "      <td>The Cyclicality of the Opportunity Cost of Employment</td>\n",
       "      <td>NaN</td>\n",
       "      <td>NaN</td>\n",
       "      <td>https://www.jstor.org/stable/10.2307/e26549908</td>\n",
       "      <td>1563-1618</td>\n",
       "    </tr>\n",
       "    <tr>\n",
       "      <th>4</th>\n",
       "      <td>https://www.jstor.org/stable/26549913</td>\n",
       "      <td>David Gill and Victoria Prowse</td>\n",
       "      <td>Cognitive Ability, Character Skills, and Learning to Play Equilibrium: A Level-k Analysis</td>\n",
       "      <td>NaN</td>\n",
       "      <td>NaN</td>\n",
       "      <td>https://www.jstor.org/stable/10.2307/e26549908</td>\n",
       "      <td>1619-1676</td>\n",
       "    </tr>\n",
       "  </tbody>\n",
       "</table>\n",
       "</div>"
      ],
      "text/plain": [
       "                                     URL  \\\n",
       "0  https://www.jstor.org/stable/26549909   \n",
       "1  https://www.jstor.org/stable/26549910   \n",
       "2  https://www.jstor.org/stable/26549911   \n",
       "3  https://www.jstor.org/stable/26549912   \n",
       "4  https://www.jstor.org/stable/26549913   \n",
       "\n",
       "                                            author  \\\n",
       "0                                              NaN   \n",
       "1                                              NaN   \n",
       "2            Johannes Hörner and Andrzej Skrzypacz   \n",
       "3  Gabriel Chodorow-Reich and Loukas Karabarbounis   \n",
       "4                   David Gill and Victoria Prowse   \n",
       "\n",
       "                                                                                    title_10  \\\n",
       "0                                                               JOURNAL OF POLITICAL ECONOMY   \n",
       "1                                                               Journal of Political Economy   \n",
       "2                                                                        Selling Information   \n",
       "3                                      The Cyclicality of the Opportunity Cost of Employment   \n",
       "4  Cognitive Ability, Character Skills, and Learning to Play Equilibrium: A Level-k Analysis   \n",
       "\n",
       "   abstract  content_type                                       issue_url  \\\n",
       "0       NaN           NaN  https://www.jstor.org/stable/10.2307/e26549908   \n",
       "1       NaN           NaN  https://www.jstor.org/stable/10.2307/e26549908   \n",
       "2       NaN           NaN  https://www.jstor.org/stable/10.2307/e26549908   \n",
       "3       NaN           NaN  https://www.jstor.org/stable/10.2307/e26549908   \n",
       "4       NaN           NaN  https://www.jstor.org/stable/10.2307/e26549908   \n",
       "\n",
       "        pages  \n",
       "0         NaN  \n",
       "1         NaN  \n",
       "2   1515-1562  \n",
       "3   1563-1618  \n",
       "4   1619-1676  "
      ]
     },
     "execution_count": 43,
     "metadata": {},
     "output_type": "execute_result"
    }
   ],
   "source": [
    "masters10.head()"
   ]
  },
  {
   "cell_type": "code",
   "execution_count": 44,
   "id": "31b7b95e",
   "metadata": {},
   "outputs": [
    {
     "data": {
      "text/html": [
       "<div>\n",
       "<style scoped>\n",
       "    .dataframe tbody tr th:only-of-type {\n",
       "        vertical-align: middle;\n",
       "    }\n",
       "\n",
       "    .dataframe tbody tr th {\n",
       "        vertical-align: top;\n",
       "    }\n",
       "\n",
       "    .dataframe thead th {\n",
       "        text-align: right;\n",
       "    }\n",
       "</style>\n",
       "<table border=\"1\" class=\"dataframe\">\n",
       "  <thead>\n",
       "    <tr style=\"text-align: right;\">\n",
       "      <th></th>\n",
       "      <th>issue_url</th>\n",
       "      <th>ISSN</th>\n",
       "      <th>URL</th>\n",
       "      <th>journal</th>\n",
       "      <th>number</th>\n",
       "      <th>publisher</th>\n",
       "      <th>title</th>\n",
       "      <th>urldate</th>\n",
       "      <th>volume</th>\n",
       "      <th>year</th>\n",
       "      <th>author</th>\n",
       "      <th>pages</th>\n",
       "      <th>abstract</th>\n",
       "      <th>reviewed-author</th>\n",
       "      <th>content_type</th>\n",
       "      <th>author_split</th>\n",
       "      <th>title_10</th>\n",
       "    </tr>\n",
       "  </thead>\n",
       "  <tbody>\n",
       "  </tbody>\n",
       "</table>\n",
       "</div>"
      ],
      "text/plain": [
       "Empty DataFrame\n",
       "Columns: [issue_url, ISSN, URL, journal, number, publisher, title, urldate, volume, year, author, pages, abstract, reviewed-author, content_type, author_split, title_10]\n",
       "Index: []"
      ]
     },
     "execution_count": 44,
     "metadata": {},
     "output_type": "execute_result"
    }
   ],
   "source": [
    "masters[masters.title.isna()]"
   ]
  },
  {
   "cell_type": "markdown",
   "id": "765c5a8c",
   "metadata": {},
   "source": [
    "## Classifying miscellaneous documents"
   ]
  },
  {
   "cell_type": "code",
   "execution_count": 45,
   "id": "85e3916b",
   "metadata": {},
   "outputs": [],
   "source": [
    "masters.loc[masters.apply(lambda k: SequenceMatcher(None, k['title'].lower(), 'front matter').ratio(), axis=1)>0.75,\"content_type\"]='MISC'\n",
    "masters.loc[masters.apply(lambda k: SequenceMatcher(None, k['title'].lower(), 'back matter').ratio(), axis=1)>0.75,\"content_type\"]='MISC'\n",
    "masters.loc[masters.apply(lambda k: SequenceMatcher(None, k['title'].lower(), 'volume information').ratio(), axis=1)>0.75,\"content_type\"]='MISC'\n",
    "masters.loc[masters.apply(lambda k: SequenceMatcher(None, k['title'].lower(), 'books recieved').ratio(), axis=1)>0.75,\"content_type\"]='MISC'\n",
    "masters.loc[masters.apply(lambda k: SequenceMatcher(None, k['title'].lower(), 'washington notes').ratio(), axis=1)>0.75,\"content_type\"]='MISC'\n",
    "masters.loc[masters['title'].str.lower().str.match(r'(in )?memor(y|i(a|u)(m|l))')==True, 'content_type']='MISC'\n",
    "masters.loc[masters.apply(lambda k: SequenceMatcher(None, k['title'].lower(), 'books reccieved').ratio(), axis=1)>0.75,'content_type']='MISC'\n",
    "masters.loc[masters['title'].str.lower().str.match(r'^journal of political economy(.*)')==True,'content_type']='MISC'\n",
    "masters.loc[masters['title'].str.lower().str.match(r'^index to volume.*')==True,'content_type']='MISC'\n",
    "masters.loc[masters['title'].str.lower().str.match(r'^new publications')==True,'content_type']='MISC'\n",
    "masters.loc[masters['title'].str.lower().str.match(r'^(prefatory |\\[)note(|s)(|\\])$')==True,'content_type']='MISC'\n",
    "masters.loc[masters['title'].str.lower().str.match(r'^(|\\[)questions and answers(\\]|)$')==True,'content_type']='MISC'\n",
    "masters.loc[masters['title'].str.lower().str.match(r'^(|short )notice(|s)$')==True,'content_type']='MISC'\n",
    "masters.loc[masters['title'].str.lower().str.match(r'^back cover(.*)')==True,'content_type']='MISC'\n",
    "masters.loc[masters['title'].str.lower().str.match(r'^introduction(.*)')==True,'content_type']='MISC'\n",
    "masters.loc[masters['title'].str.lower().str.match(r'^combined references(.*)')==True,'content_type']='MISC'\n",
    "masters.loc[masters['title'].str.lower().str.match(r'^editor')==True, 'content_type']=\"MISC\"\n",
    "masters.loc[masters['title'].str.lower().str.match(r'^from the editor')==True, 'content_type']=\"MISC\"\n",
    "masters.loc[masters['title'].str.lower().str.contains(r'^jpe.*')==True, 'content_type']='MISC'\n",
    "masters.loc[masters['title'].str.lower().str.contains(r'^preface$')==True, 'content_type']='MISC'\n",
    "masters.loc[masters['title'].str.lower().str.contains(r'^the annual meetings$')==True, 'content_type']='MISC'\n",
    "masters.loc[masters['title'].str.lower().str.contains(r'\\[photograph\\]')==True, 'content_type']=\"MISC\"\n",
    "masters.loc[masters['title'].str.lower().str.match(r'^(dissertations|john bates clark: a memorial|volume infomation|volume infromation)$')==True,'content_type']='MISC'\n",
    "masters.loc[masters['author'].str.lower().str.contains('suggested ')==True, 'content_type']='MISC'\n",
    "\n",
    "manual=[\"https://www.jstor.org/stable/26550496\",\n",
    " \"https://www.jstor.org/stable/26550454\",\n",
    " \"https://www.jstor.org/stable/26550440\",\n",
    " \"https://www.jstor.org/stable/26550429\",\n",
    " \"https://www.jstor.org/stable/26550405\",\n",
    " \"https://www.jstor.org/stable/26549923\",\n",
    " \"https://www.jstor.org/stable/26549931\",\n",
    " \"https://www.jstor.org/stable/26549919\",\n",
    " \"https://www.jstor.org/stable/26549907\",\n",
    " \"https://www.jstor.org/stable/26549896\",\n",
    " \"https://www.jstor.org/stable/26549885\",\n",
    " \"https://www.jstor.org/stable/26549875\",\n",
    " \"https://www.jstor.org/stable/26549865\",\n",
    " \"https://www.jstor.org/stable/1830706\",\n",
    " \"https://www.jstor.org/stable/1829984\",\n",
    "\"https://www.jstor.org/stable/1829099\",\n",
    "\"https://www.jstor.org/stable/1829100\",\n",
    "\"https://www.jstor.org/stable/1829101\",]\n",
    "\n",
    "masters.loc[masters[\"URL\"].isin(manual)==True, \"content_type\"]=\"MISC\"\n"
   ]
  },
  {
   "cell_type": "code",
   "execution_count": 46,
   "id": "fe2c297c",
   "metadata": {},
   "outputs": [],
   "source": [
    "## refer to tweet by JPE https://x.com/JPolEcon/status/1446209115735277583"
   ]
  },
  {
   "cell_type": "markdown",
   "id": "c2710ff7",
   "metadata": {},
   "source": [
    "## Classifying other content types"
   ]
  },
  {
   "cell_type": "code",
   "execution_count": 47,
   "id": "9c80a76f",
   "metadata": {},
   "outputs": [
    {
     "data": {
      "text/plain": [
       "6635"
      ]
     },
     "execution_count": 47,
     "metadata": {},
     "output_type": "execute_result"
    }
   ],
   "source": [
    "# check for how many articles are still unclassified\n",
    "sum(masters.content_type.isna())\n",
    "#masters.shape[0]"
   ]
  },
  {
   "cell_type": "code",
   "execution_count": 48,
   "id": "ce7617c0",
   "metadata": {},
   "outputs": [],
   "source": [
    "masters.loc[(masters['title'].str.lower().str.match(r'(.*) by (.*)')==True) & (masters.author.isna()==True),'content_type']='Review' \n",
    "#possible reviews that don't have author names\n",
    "masters.loc[~(masters['author'].isna()) & (masters['reviewed-author'].isna()==False),'content_type']='Review'\n"
   ]
  },
  {
   "cell_type": "code",
   "execution_count": null,
   "id": "56292ab1",
   "metadata": {},
   "outputs": [],
   "source": []
  },
  {
   "cell_type": "code",
   "execution_count": 49,
   "id": "be2fa406",
   "metadata": {},
   "outputs": [],
   "source": [
    "masters.loc[masters['title'].str.lower().str.contains(\"erratum\")|masters['title'].str.lower().str.contains(\"errata\"), 'content_type']=\"Errata\""
   ]
  },
  {
   "cell_type": "code",
   "execution_count": 50,
   "id": "fe47c150",
   "metadata": {},
   "outputs": [
    {
     "data": {
      "text/plain": [
       "166"
      ]
     },
     "execution_count": 50,
     "metadata": {},
     "output_type": "execute_result"
    }
   ],
   "source": [
    "masters.loc[masters.content_type.isna() & masters.title.str.lower().str.match(r'.*: (|a )comment(|.*)$')==True,'content_type']='Comment'\n",
    "masters[masters['content_type']=='Comment'].shape[0] #comments"
   ]
  },
  {
   "cell_type": "code",
   "execution_count": 51,
   "id": "e64b1bc3",
   "metadata": {},
   "outputs": [
    {
     "data": {
      "text/plain": [
       "112"
      ]
     },
     "execution_count": 51,
     "metadata": {},
     "output_type": "execute_result"
    }
   ],
   "source": [
    "masters.loc[masters.content_type.isna() & masters.title.str.lower().str.match(r'.*(:|\\?) (|a )reply(| to.*)$')==True,'content_type']=\"Reply\"\n",
    "masters[masters['content_type']=='Reply'].shape[0]"
   ]
  },
  {
   "cell_type": "code",
   "execution_count": 52,
   "id": "7a0bc9e8",
   "metadata": {},
   "outputs": [
    {
     "data": {
      "text/plain": [
       "47"
      ]
     },
     "execution_count": 52,
     "metadata": {},
     "output_type": "execute_result"
    }
   ],
   "source": [
    "masters.loc[masters.content_type.isna() & masters.title.str.lower().str.match(r'.*(:|\\?) (|a )rejoinder.*$')==True,'content_type']=\"Rejoinder\"\n",
    "masters[masters['content_type']=='Rejoinder'].shape[0]"
   ]
  },
  {
   "cell_type": "code",
   "execution_count": 53,
   "id": "10d5c799",
   "metadata": {},
   "outputs": [
    {
     "data": {
      "text/plain": [
       "11"
      ]
     },
     "execution_count": 53,
     "metadata": {},
     "output_type": "execute_result"
    }
   ],
   "source": [
    "masters.loc[masters.content_type.isna() & masters.title.str.lower().str.match(r'.*: (|a )discussion$')==True,'content_type']=\"Discussion\"\n",
    "masters.loc[masters.content_type.isna() & masters.title.str.lower().str.match(r'(^|a )discussion(|.*)$')==True,'content_type']=\"Discussion\"\n",
    "masters.loc[masters.content_type.isna() & masters.title.str.lower().str.match(r'.*:.*(|a )discussion(|s)$')==True,'content_type']='Discussion'\n",
    "masters[masters['content_type']=='Discussion'].shape[0]"
   ]
  },
  {
   "cell_type": "code",
   "execution_count": 54,
   "id": "773126ed",
   "metadata": {},
   "outputs": [
    {
     "data": {
      "text/plain": [
       "6281"
      ]
     },
     "execution_count": 54,
     "metadata": {},
     "output_type": "execute_result"
    }
   ],
   "source": [
    "masters.loc[masters['content_type'].isna(),'content_type']=\"Article\"\n",
    "masters[masters['content_type']=='Article'].shape[0]"
   ]
  },
  {
   "cell_type": "code",
   "execution_count": 55,
   "id": "6a7068dd",
   "metadata": {},
   "outputs": [
    {
     "data": {
      "text/html": [
       "<div>\n",
       "<style scoped>\n",
       "    .dataframe tbody tr th:only-of-type {\n",
       "        vertical-align: middle;\n",
       "    }\n",
       "\n",
       "    .dataframe tbody tr th {\n",
       "        vertical-align: top;\n",
       "    }\n",
       "\n",
       "    .dataframe thead th {\n",
       "        text-align: right;\n",
       "    }\n",
       "</style>\n",
       "<table border=\"1\" class=\"dataframe\">\n",
       "  <thead>\n",
       "    <tr style=\"text-align: right;\">\n",
       "      <th></th>\n",
       "      <th>year</th>\n",
       "      <th>issue_url</th>\n",
       "      <th>Jstor_issue_text</th>\n",
       "      <th>journal</th>\n",
       "      <th>type</th>\n",
       "    </tr>\n",
       "  </thead>\n",
       "  <tbody>\n",
       "    <tr>\n",
       "      <th>0</th>\n",
       "      <td>2020</td>\n",
       "      <td>uchicago_jpe128_9.bib</td>\n",
       "      <td>NaN</td>\n",
       "      <td>jpoliecon</td>\n",
       "      <td>&lt;NA&gt;</td>\n",
       "    </tr>\n",
       "    <tr>\n",
       "      <th>1</th>\n",
       "      <td>2020</td>\n",
       "      <td>uchicago_jpe128_8.bib</td>\n",
       "      <td>NaN</td>\n",
       "      <td>jpoliecon</td>\n",
       "      <td>&lt;NA&gt;</td>\n",
       "    </tr>\n",
       "    <tr>\n",
       "      <th>2</th>\n",
       "      <td>2020</td>\n",
       "      <td>uchicago_jpe128_7.bib</td>\n",
       "      <td>NaN</td>\n",
       "      <td>jpoliecon</td>\n",
       "      <td>&lt;NA&gt;</td>\n",
       "    </tr>\n",
       "    <tr>\n",
       "      <th>3</th>\n",
       "      <td>2020</td>\n",
       "      <td>uchicago_jpe128_6.bib</td>\n",
       "      <td>NaN</td>\n",
       "      <td>jpoliecon</td>\n",
       "      <td>&lt;NA&gt;</td>\n",
       "    </tr>\n",
       "    <tr>\n",
       "      <th>4</th>\n",
       "      <td>2020</td>\n",
       "      <td>uchicago_jpe128_5.bib</td>\n",
       "      <td>NaN</td>\n",
       "      <td>jpoliecon</td>\n",
       "      <td>&lt;NA&gt;</td>\n",
       "    </tr>\n",
       "  </tbody>\n",
       "</table>\n",
       "</div>"
      ],
      "text/plain": [
       "   year              issue_url Jstor_issue_text    journal  type\n",
       "0  2020  uchicago_jpe128_9.bib              NaN  jpoliecon  <NA>\n",
       "1  2020  uchicago_jpe128_8.bib              NaN  jpoliecon  <NA>\n",
       "2  2020  uchicago_jpe128_7.bib              NaN  jpoliecon  <NA>\n",
       "3  2020  uchicago_jpe128_6.bib              NaN  jpoliecon  <NA>\n",
       "4  2020  uchicago_jpe128_5.bib              NaN  jpoliecon  <NA>"
      ]
     },
     "execution_count": 55,
     "metadata": {},
     "output_type": "execute_result"
    }
   ],
   "source": [
    "# block for testing regex matches\n",
    "#masters[masters['title'].str.lower().str.match(r'^\\washington notes$')==True]\n",
    "#masters[masters.content_type.isna() & masters.title.str.lower().str.match(r'.*(:|\\?) (|a )rejoinder.*$')==True]\n",
    "#masters[masters.content_type=='Discussion'].shape[0]\n",
    "pivots.head()"
   ]
  },
  {
   "cell_type": "markdown",
   "id": "ab9eecd6",
   "metadata": {},
   "source": [
    "## Consider the pivots file\n",
    "At times, conference papers are structured differently to normal articles. Hence, it may be necessary to distinguish conference papers from common articles. Separate special issues (S) from normal issues (N)"
   ]
  },
  {
   "cell_type": "code",
   "execution_count": 56,
   "id": "e00d8cb3",
   "metadata": {},
   "outputs": [
    {
     "data": {
      "text/plain": [
       "type\n",
       "N    814\n",
       "S     10\n",
       "Name: count, dtype: int64"
      ]
     },
     "execution_count": 56,
     "metadata": {},
     "output_type": "execute_result"
    }
   ],
   "source": [
    "pivots.loc[pivots.Jstor_issue_text.isna(),\"Jstor_issue_text\"]=\"None\"\n",
    "pivots.loc[pivots.Jstor_issue_text.str.lower().str.match(r'.*(conference|s1).*'),'type']=\"S\"\n",
    "pivots.loc[pivots.type.isna(),'type']='N'\n",
    "pivots.type.value_counts()\n"
   ]
  },
  {
   "cell_type": "markdown",
   "id": "825792ca",
   "metadata": {},
   "source": [
    "Merge pivots and masters together"
   ]
  },
  {
   "cell_type": "code",
   "execution_count": 57,
   "id": "f4858fcb",
   "metadata": {},
   "outputs": [],
   "source": [
    "result = pd.merge(masters, pivots[['issue_url','type']], how=\"left\", on=[\"issue_url\", \"issue_url\"])"
   ]
  },
  {
   "cell_type": "code",
   "execution_count": 58,
   "id": "c7e72776",
   "metadata": {},
   "outputs": [],
   "source": [
    "result.to_excel(saveas, index=False)"
   ]
  },
  {
   "cell_type": "code",
   "execution_count": 59,
   "id": "b4a9428e",
   "metadata": {},
   "outputs": [
    {
     "data": {
      "text/plain": [
       "content_type\n",
       "Article       6281\n",
       "Review        6009\n",
       "MISC          1705\n",
       "Comment        166\n",
       "Reply          112\n",
       "Rejoinder       47\n",
       "Errata          14\n",
       "Discussion      11\n",
       "Name: count, dtype: int64"
      ]
     },
     "execution_count": 59,
     "metadata": {},
     "output_type": "execute_result"
    }
   ],
   "source": [
    "masters.content_type.value_counts()"
   ]
  }
 ],
 "metadata": {
  "kernelspec": {
   "display_name": "venv",
   "language": "python",
   "name": "python3"
  },
  "language_info": {
   "codemirror_mode": {
    "name": "ipython",
    "version": 3
   },
   "file_extension": ".py",
   "mimetype": "text/x-python",
   "name": "python",
   "nbconvert_exporter": "python",
   "pygments_lexer": "ipython3",
   "version": "3.11.2"
  }
 },
 "nbformat": 4,
 "nbformat_minor": 5
}
