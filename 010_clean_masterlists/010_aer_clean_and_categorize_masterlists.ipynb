{
 "cells": [
  {
   "cell_type": "markdown",
   "id": "fde58e7f",
   "metadata": {},
   "source": [
    "# AER Cleaning\n",
    "\n",
    "This notebook walks through how the AER articles were sorted into categories of articles and non-articles.\n",
    "\n",
    "## Load Libraries"
   ]
  },
  {
   "cell_type": "code",
   "execution_count": 1,
   "id": "3cbfd5c9",
   "metadata": {},
   "outputs": [],
   "source": [
    "from tokenize import Ignore\n",
    "import pandas as pd\n",
    "import time\n",
    "from os import path\n",
    "import sys\n",
    "from pathlib import Path\n",
    "from PyPDF2 import PdfFileReader, PdfFileWriter\n",
    "import re\n",
    "import os\n",
    "from difflib import SequenceMatcher\n",
    "import datetime\n",
    "import numpy as np\n",
    "import matplotlib.pyplot as plt\n",
    "\n",
    "pd.set_option('display.max_rows',100)\n",
    "pd.set_option('display.max_colwidth', 120)"
   ]
  },
  {
   "cell_type": "markdown",
   "id": "3f84f0b9",
   "metadata": {},
   "source": [
    "## Load Files\n",
    "\n",
    "Replace the file paths below to match local file paths"
   ]
  },
  {
   "cell_type": "code",
   "execution_count": 2,
   "id": "7e8fd79d",
   "metadata": {},
   "outputs": [],
   "source": [
    "base_path=\"/Users/sijiawu/Work/Thesis/Data\""
   ]
  },
  {
   "cell_type": "code",
   "execution_count": 3,
   "id": "639038d8",
   "metadata": {},
   "outputs": [],
   "source": [
    "masters = pd.read_excel(base_path+\"/Masterlists/AER_Masterlist.xlsx\")\n",
    "masters10 = pd.read_excel(base_path+ \"/2010/AER_master.xlsx\")\n",
    "pivots = pd.read_excel(base_path+\"/Pivots/AER_Pivots2020.xlsx\")"
   ]
  },
  {
   "cell_type": "markdown",
   "id": "dc3f84f0",
   "metadata": {},
   "source": [
    "## Create file names"
   ]
  },
  {
   "cell_type": "code",
   "execution_count": 4,
   "id": "c3de9d76",
   "metadata": {},
   "outputs": [],
   "source": [
    "saveas=base_path+\"/Processed/AER_processed.xlsx\""
   ]
  },
  {
   "cell_type": "markdown",
   "id": "4eec5937",
   "metadata": {},
   "source": [
    "## Some random checks on the masters list\n",
    "\n",
    "My assumption is that all data without author names must be miscellaneous documents like reports by the committee, forewords, front matters etc.. The goal of this notebook is to check for certain that all the documents without author names are actually miscellaneous documents and then classify them as miscellaneous (MISC). Hence, first we group everything the data by title to see the repetitive general content that can likely be removed.\n",
    "\n",
    "Note: in both cases I've restricted to output to 20 to for sake of viewing on github - there is no scroll function for output.\n"
   ]
  },
  {
   "cell_type": "code",
   "execution_count": 5,
   "id": "34b02cb7",
   "metadata": {},
   "outputs": [
    {
     "data": {
      "text/html": [
       "<div>\n",
       "<style scoped>\n",
       "    .dataframe tbody tr th:only-of-type {\n",
       "        vertical-align: middle;\n",
       "    }\n",
       "\n",
       "    .dataframe tbody tr th {\n",
       "        vertical-align: top;\n",
       "    }\n",
       "\n",
       "    .dataframe thead th {\n",
       "        text-align: right;\n",
       "    }\n",
       "</style>\n",
       "<table border=\"1\" class=\"dataframe\">\n",
       "  <thead>\n",
       "    <tr style=\"text-align: right;\">\n",
       "      <th></th>\n",
       "      <th>count</th>\n",
       "    </tr>\n",
       "    <tr>\n",
       "      <th>title</th>\n",
       "      <th></th>\n",
       "    </tr>\n",
       "  </thead>\n",
       "  <tbody>\n",
       "    <tr>\n",
       "      <th>new books</th>\n",
       "      <td>2013</td>\n",
       "    </tr>\n",
       "    <tr>\n",
       "      <th>front matter</th>\n",
       "      <td>565</td>\n",
       "    </tr>\n",
       "    <tr>\n",
       "      <th>discussion</th>\n",
       "      <td>542</td>\n",
       "    </tr>\n",
       "    <tr>\n",
       "      <th>back matter</th>\n",
       "      <td>454</td>\n",
       "    </tr>\n",
       "    <tr>\n",
       "      <th>notes</th>\n",
       "      <td>304</td>\n",
       "    </tr>\n",
       "    <tr>\n",
       "      <th>periodicals</th>\n",
       "      <td>204</td>\n",
       "    </tr>\n",
       "    <tr>\n",
       "      <th>volume information</th>\n",
       "      <td>112</td>\n",
       "    </tr>\n",
       "    <tr>\n",
       "      <th>titles of new books</th>\n",
       "      <td>106</td>\n",
       "    </tr>\n",
       "    <tr>\n",
       "      <th>documents, reports, and legislation</th>\n",
       "      <td>89</td>\n",
       "    </tr>\n",
       "    <tr>\n",
       "      <th>report of the finance committee</th>\n",
       "      <td>66</td>\n",
       "    </tr>\n",
       "    <tr>\n",
       "      <th>report of the auditor</th>\n",
       "      <td>38</td>\n",
       "    </tr>\n",
       "    <tr>\n",
       "      <th>foreword</th>\n",
       "      <td>33</td>\n",
       "    </tr>\n",
       "    <tr>\n",
       "      <th>minutes of the executive committee meetings</th>\n",
       "      <td>28</td>\n",
       "    </tr>\n",
       "    <tr>\n",
       "      <th>publications of the american economic association</th>\n",
       "      <td>24</td>\n",
       "    </tr>\n",
       "    <tr>\n",
       "      <th>editors' introduction</th>\n",
       "      <td>23</td>\n",
       "    </tr>\n",
       "    <tr>\n",
       "      <th>report of the representative to the national bureau of economic research</th>\n",
       "      <td>21</td>\n",
       "    </tr>\n",
       "    <tr>\n",
       "      <th>report of the committee on economic education</th>\n",
       "      <td>21</td>\n",
       "    </tr>\n",
       "    <tr>\n",
       "      <th>independent auditors' report</th>\n",
       "      <td>18</td>\n",
       "    </tr>\n",
       "    <tr>\n",
       "      <th>documents, reports and legislation</th>\n",
       "      <td>16</td>\n",
       "    </tr>\n",
       "    <tr>\n",
       "      <th>report of the auditing committee</th>\n",
       "      <td>16</td>\n",
       "    </tr>\n",
       "  </tbody>\n",
       "</table>\n",
       "</div>"
      ],
      "text/plain": [
       "                                                                          count\n",
       "title                                                                          \n",
       "new books                                                                  2013\n",
       "front matter                                                                565\n",
       "discussion                                                                  542\n",
       "back matter                                                                 454\n",
       "notes                                                                       304\n",
       "periodicals                                                                 204\n",
       "volume information                                                          112\n",
       "titles of new books                                                         106\n",
       "documents, reports, and legislation                                          89\n",
       "report of the finance committee                                              66\n",
       "report of the auditor                                                        38\n",
       "foreword                                                                     33\n",
       "minutes of the executive committee meetings                                  28\n",
       "publications of the american economic association                            24\n",
       "editors' introduction                                                        23\n",
       "report of the representative to the national bureau of economic research     21\n",
       "report of the committee on economic education                                21\n",
       "independent auditors' report                                                 18\n",
       "documents, reports and legislation                                           16\n",
       "report of the auditing committee                                             16"
      ]
     },
     "execution_count": 5,
     "metadata": {},
     "output_type": "execute_result"
    }
   ],
   "source": [
    "temp=masters['title'].str.lower().value_counts()\n",
    "pd.DataFrame(temp[temp>1]).head(20)"
   ]
  },
  {
   "cell_type": "markdown",
   "id": "bbb3ae00",
   "metadata": {},
   "source": [
    "Some repetitions are due to multiple comments. Now consider this list in absence of author names."
   ]
  },
  {
   "cell_type": "code",
   "execution_count": 6,
   "id": "79638c99",
   "metadata": {},
   "outputs": [
    {
     "data": {
      "text/html": [
       "<div>\n",
       "<style scoped>\n",
       "    .dataframe tbody tr th:only-of-type {\n",
       "        vertical-align: middle;\n",
       "    }\n",
       "\n",
       "    .dataframe tbody tr th {\n",
       "        vertical-align: top;\n",
       "    }\n",
       "\n",
       "    .dataframe thead th {\n",
       "        text-align: right;\n",
       "    }\n",
       "</style>\n",
       "<table border=\"1\" class=\"dataframe\">\n",
       "  <thead>\n",
       "    <tr style=\"text-align: right;\">\n",
       "      <th></th>\n",
       "      <th>count</th>\n",
       "    </tr>\n",
       "    <tr>\n",
       "      <th>title</th>\n",
       "      <th></th>\n",
       "    </tr>\n",
       "  </thead>\n",
       "  <tbody>\n",
       "    <tr>\n",
       "      <th>new books</th>\n",
       "      <td>2007</td>\n",
       "    </tr>\n",
       "    <tr>\n",
       "      <th>front matter</th>\n",
       "      <td>565</td>\n",
       "    </tr>\n",
       "    <tr>\n",
       "      <th>back matter</th>\n",
       "      <td>453</td>\n",
       "    </tr>\n",
       "    <tr>\n",
       "      <th>notes</th>\n",
       "      <td>301</td>\n",
       "    </tr>\n",
       "    <tr>\n",
       "      <th>periodicals</th>\n",
       "      <td>204</td>\n",
       "    </tr>\n",
       "    <tr>\n",
       "      <th>volume information</th>\n",
       "      <td>112</td>\n",
       "    </tr>\n",
       "    <tr>\n",
       "      <th>titles of new books</th>\n",
       "      <td>106</td>\n",
       "    </tr>\n",
       "    <tr>\n",
       "      <th>documents, reports, and legislation</th>\n",
       "      <td>72</td>\n",
       "    </tr>\n",
       "    <tr>\n",
       "      <th>report of the finance committee</th>\n",
       "      <td>63</td>\n",
       "    </tr>\n",
       "    <tr>\n",
       "      <th>report of the auditor</th>\n",
       "      <td>37</td>\n",
       "    </tr>\n",
       "    <tr>\n",
       "      <th>minutes of the executive committee meetings</th>\n",
       "      <td>27</td>\n",
       "    </tr>\n",
       "    <tr>\n",
       "      <th>publications of the american economic association</th>\n",
       "      <td>24</td>\n",
       "    </tr>\n",
       "    <tr>\n",
       "      <th>report of the committee on economic education</th>\n",
       "      <td>20</td>\n",
       "    </tr>\n",
       "    <tr>\n",
       "      <th>report of the representative to the national bureau of economic research</th>\n",
       "      <td>19</td>\n",
       "    </tr>\n",
       "    <tr>\n",
       "      <th>independent auditors' report</th>\n",
       "      <td>18</td>\n",
       "    </tr>\n",
       "    <tr>\n",
       "      <th>report of the auditing committee</th>\n",
       "      <td>16</td>\n",
       "    </tr>\n",
       "    <tr>\n",
       "      <th>purposes of the american economic association</th>\n",
       "      <td>14</td>\n",
       "    </tr>\n",
       "    <tr>\n",
       "      <th>report of the census advisory committee</th>\n",
       "      <td>14</td>\n",
       "    </tr>\n",
       "    <tr>\n",
       "      <th>announcements</th>\n",
       "      <td>14</td>\n",
       "    </tr>\n",
       "    <tr>\n",
       "      <th>documents, reports and legislation</th>\n",
       "      <td>14</td>\n",
       "    </tr>\n",
       "  </tbody>\n",
       "</table>\n",
       "</div>"
      ],
      "text/plain": [
       "                                                                          count\n",
       "title                                                                          \n",
       "new books                                                                  2007\n",
       "front matter                                                                565\n",
       "back matter                                                                 453\n",
       "notes                                                                       301\n",
       "periodicals                                                                 204\n",
       "volume information                                                          112\n",
       "titles of new books                                                         106\n",
       "documents, reports, and legislation                                          72\n",
       "report of the finance committee                                              63\n",
       "report of the auditor                                                        37\n",
       "minutes of the executive committee meetings                                  27\n",
       "publications of the american economic association                            24\n",
       "report of the committee on economic education                                20\n",
       "report of the representative to the national bureau of economic research     19\n",
       "independent auditors' report                                                 18\n",
       "report of the auditing committee                                             16\n",
       "purposes of the american economic association                                14\n",
       "report of the census advisory committee                                      14\n",
       "announcements                                                                14\n",
       "documents, reports and legislation                                           14"
      ]
     },
     "execution_count": 6,
     "metadata": {},
     "output_type": "execute_result"
    }
   ],
   "source": [
    "temp2=masters[masters['author'].isna()]['title'].str.lower().value_counts()\n",
    "pd.DataFrame(temp2).head(20)"
   ]
  },
  {
   "cell_type": "code",
   "execution_count": 7,
   "id": "9c9366f7-d447-4259-8b76-593d5423224d",
   "metadata": {},
   "outputs": [
    {
     "data": {
      "text/plain": [
       "'Why are Prices Sticky?: Discussion'"
      ]
     },
     "execution_count": 7,
     "metadata": {},
     "output_type": "execute_result"
    }
   ],
   "source": [
    "masters10.loc[6149,'title']"
   ]
  },
  {
   "cell_type": "code",
   "execution_count": 8,
   "id": "76996da2",
   "metadata": {},
   "outputs": [
    {
     "data": {
      "text/plain": [
       "Index(['stable_url', 'authors', 'title', 'abstract', 'content_type',\n",
       "       'issue_url', 'pages'],\n",
       "      dtype='object')"
      ]
     },
     "execution_count": 8,
     "metadata": {},
     "output_type": "execute_result"
    }
   ],
   "source": [
    "masters10.columns"
   ]
  },
  {
   "cell_type": "markdown",
   "id": "091cbc37",
   "metadata": {},
   "source": [
    "There is also many reports with unique titles due to the year of the report being included in the title. Discussions are no longer part of the table excluding non-authored articles indicating these may be non-adminstrative documents.\n",
    "\n",
    "The next block corrects for individual errors that were noted."
   ]
  },
  {
   "cell_type": "code",
   "execution_count": 9,
   "id": "2ceb4482",
   "metadata": {},
   "outputs": [
    {
     "name": "stderr",
     "output_type": "stream",
     "text": [
      "/var/folders/5b/5mt219qj6l552yrf3l89xgdh0000gn/T/ipykernel_89353/3939795049.py:8: FutureWarning: Setting an item of incompatible dtype is deprecated and will raise an error in a future version of pandas. Value 'Discussion' has dtype incompatible with float64, please explicitly cast to a compatible dtype first.\n",
      "  masters10.loc[6425,'content_type']=\"Discussion\"\n"
     ]
    }
   ],
   "source": [
    "#Block for misspelling or renaming of data\n",
    "masters10.loc[8990,'title']=\"Back Matter\"\n",
    "masters10.loc[10861,'title']=\"Back Matter\"\n",
    "masters10.loc[16376,'title']=\"Foreword\"\n",
    "masters10.loc[25807,'title']=\"Documents, Reports and Legislation\"\n",
    "masters10.loc[25815,'authors']=\"Alexander Marx\"\n",
    "masters10.loc[25720,'authors']=\"Review by: James Bonar\"\n",
    "masters10.loc[6425,'content_type']=\"Discussion\"\n",
    "masters10.loc[2284,'authors']=\"Victoria Ivashina and David Scharfstein\"\n",
    "masters10.loc[503,'authors']=\"Jennifer L. Doleac and Benjamin Hansen\"\n",
    "masters10.loc[22177,'authors']=\"Review by: W. L. Crum\"\n",
    "masters10.loc[22176,'authors']=\"Review by: Gardiner C. Means\"\n",
    "masters10.loc[24681,'authors']=\"Review by: Victor H. Pelz\"\n",
    "masters10.loc[6073,'authors']='Haizhou Huang'\n",
    "masters10.loc[19384,'authors']='Review by: Anon'\n",
    "masters10.loc[6149,'content_type']=\"Discussion\"\n",
    "masters10.loc[18729,'authors']='Anon'\n",
    "masters10.loc[14710,'authors']='Anon'\n",
    "masters10.loc[14710,'title']='Human Resources: The Wealth of a Nation by Eli Ginzberg: Erratum'\n",
    "masters10.loc[24876,'authors']='Review by: Henry Pratt Fairchild'\n",
    "masters10.loc[11919,'authors']='Review by: Anon'\n",
    "masters10.loc[23831,'authors']='Review by: Roy G. Blakey'\n",
    "masters10.loc[24620,'authors']='Review by: Ralph H. Blanchard'\n",
    "masters10.loc[27402,'authors']='Review by: Anon'\n",
    "masters10.loc[19927,'authors']='Anon'\n",
    "\n",
    "masters.loc[11764, 'title']=\"Discussion\"\n"
   ]
  },
  {
   "cell_type": "code",
   "execution_count": 10,
   "id": "604b420d",
   "metadata": {},
   "outputs": [],
   "source": [
    "#Block for misspelling or renaming of data\n",
    "masters10.loc[masters10['stable_url']=='https://www.jstor.org/stable/1801690','title']=\"Back Matter\"\n",
    "masters10.loc[masters10['stable_url']=='https://www.jstor.org/stable/1910576','title']=\"Back Matter\"\n",
    "masters10.loc[masters10['stable_url']=='https://www.jstor.org/stable/1818315','title']=\"Foreword\"\n",
    "masters10.loc[masters10['stable_url']=='https://www.jstor.org/stable/1827575','title']=\"Documents, Reports and Legislation\"\n",
    "masters10.loc[masters10['stable_url']=='https://www.jstor.org/stable/1808527','authors']=\"Alexander Marx\"\n",
    "masters10.loc[masters10['stable_url']=='https://www.jstor.org/stable/1814356','authors']=\"Review by: James Bonar\"\n",
    "masters10.loc[masters10['stable_url']=='https://www.jstor.org/stable/2006616','content_type']=\"Discussion\"\n",
    "masters10.loc[masters10['stable_url']=='https://www.jstor.org/stable/27804963','authors']=\"Victoria Ivashina and David Scharfstein\"\n",
    "masters10.loc[masters10['stable_url']=='https://www.jstor.org/stable/44250460','authors']=\"Jennifer L. Doleac and Benjamin Hansen\"\n",
    "masters10.loc[masters10['stable_url']=='https://www.jstor.org/stable/1808382','authors']=\"Review by: W. L. Crum\"\n",
    "masters10.loc[masters10['stable_url']=='https://www.jstor.org/stable/1808381','authors']=\"Review by: Gardiner C. Means\"\n",
    "masters10.loc[masters10['stable_url']=='https://www.jstor.org/stable/1802635','authors']=\"Review by: Victor H. Pelz\"\n",
    "masters10.loc[masters10['stable_url']=='https://www.jstor.org/stable/2006938','authors']='Haizhou Huang'\n",
    "masters10.loc[masters10['stable_url']=='https://www.jstor.org/stable/1813742','authors']='Review by: Anon'\n",
    "masters10.loc[masters10['stable_url']=='https://www.jstor.org/stable/2006833','content_type']=\"Discussion\"\n",
    "masters10.loc[masters10['stable_url']=='https://www.jstor.org/stable/1801847','authors']='Anon'\n",
    "masters10.loc[masters10['stable_url']=='https://www.jstor.org/stable/1809912','authors']='Anon'\n",
    "masters10.loc[masters10['stable_url']=='https://www.jstor.org/stable/1809912','title']='Human Resources: The Wealth of a Nation by Eli Ginzberg: Erratum'\n",
    "masters10.loc[masters10['stable_url']=='https://www.jstor.org/stable/1808685','authors']='Review by: Henry Pratt Fairchild'\n",
    "masters10.loc[masters10['stable_url']=='https://www.jstor.org/stable/1812165','authors']='Review by: Anon'\n",
    "masters10.loc[masters10['stable_url']=='https://www.jstor.org/stable/22','authors']='Review by: Roy G. Blakey'\n",
    "masters10.loc[masters10['stable_url']=='https://www.jstor.org/stable/1804820','authors']='Review by: Ralph H. Blanchard'\n",
    "masters10.loc[masters10['stable_url']=='https://www.jstor.org/stable/1802952','authors']='Review by: Anon'\n",
    "masters10.loc[masters10['stable_url']=='https://www.jstor.org/stable/1807448','authors']='Anon'\n",
    "\n"
   ]
  },
  {
   "cell_type": "code",
   "execution_count": 11,
   "id": "5e0b0bdd-4a66-486d-a5e4-fe9778ce385a",
   "metadata": {},
   "outputs": [
    {
     "data": {
      "text/plain": [
       "Index(['type', 'issue_url', 'ISSN', 'URL', 'journal', 'number', 'publisher',\n",
       "       'title', 'urldate', 'volume', 'year', 'abstract', 'author', 'pages',\n",
       "       'reviewed-author', 'uploaded'],\n",
       "      dtype='object')"
      ]
     },
     "execution_count": 11,
     "metadata": {},
     "output_type": "execute_result"
    }
   ],
   "source": [
    "masters.columns"
   ]
  },
  {
   "cell_type": "markdown",
   "id": "7f7c64ab",
   "metadata": {},
   "source": [
    "## Combine the scraped list with the citations files\n",
    "\n",
    "I have found that masterlists contructed from citation files lack the reviewed source's name while it is present on the page of the article. Some files are just missing the title. So I'm combining the old masterlists with the new ones."
   ]
  },
  {
   "cell_type": "code",
   "execution_count": 12,
   "id": "cdc39a26",
   "metadata": {},
   "outputs": [],
   "source": [
    "masters[\"URL\"]=\"https:\"+masters[\"URL\"].str.split(':').str[-1]\n",
    "masters.drop('type', inplace=True, axis=1)\n",
    "masters10[\"stable_url\"]=\"https:\"+masters10[\"stable_url\"].str.split(':').str[-1]\n",
    "masters10.rename(columns = {'authors':'author','stable_url':'URL','title':'title_10'}, inplace = True)\n",
    "masters['pages']=masters['pages'].str.strip()  \n",
    "masters.loc[masters.title.str.lower() == \"back matter\", 'pages'] = pd.NA  \n",
    "pivots['type']=pd.NA\n",
    "masters['pages']=masters[\"pages\"].str.split('pp. ').str[-1]\n",
    "masters['pages']=masters['pages'].replace(r'--','-',regex=True).str.strip()"
   ]
  },
  {
   "cell_type": "markdown",
   "id": "e3295424-619e-4170-a4fb-8f4ccd78a34e",
   "metadata": {},
   "source": [
    "## Format Author Names\n",
    "\n",
    "there are two sets of data here. The master lists constructed from scraping each page and the masterlists constructed from the bibtex files for each article."
   ]
  },
  {
   "cell_type": "code",
   "execution_count": 13,
   "id": "1a93d296",
   "metadata": {},
   "outputs": [],
   "source": [
    "masters[\"author_split\"]=masters['author'].str.split(' and ')\n"
   ]
  },
  {
   "cell_type": "code",
   "execution_count": 14,
   "id": "6772a9f6",
   "metadata": {},
   "outputs": [],
   "source": [
    "masters=masters.merge(masters10[['URL', 'title_10']], how='left', on='URL')\n",
    "masters.loc[(pd.isna(masters[\"title\"])==True)&(pd.isna(masters[\"reviewed-author\"])==False), 'content_type']=\"Review\"\n"
   ]
  },
  {
   "cell_type": "code",
   "execution_count": 15,
   "id": "73e61b5a",
   "metadata": {},
   "outputs": [],
   "source": [
    "masters.loc[(pd.isna(masters[\"title\"])==True)&(pd.isna(masters[\"reviewed-author\"])==False),\"title\"]=masters[(pd.isna(masters[\"title\"])==True)&(pd.isna(masters[\"reviewed-author\"])==False)][\"title_10\"]\n",
    "masters.loc[(pd.isna(masters[\"title_10\"])==False)&(pd.isna(masters[\"title\"])==True)&(pd.isna(masters[\"reviewed-author\"])==True)&(pd.isna(masters[\"author\"])==True),\"title\"]=masters[(pd.isna(masters[\"title_10\"])==False)&(pd.isna(masters[\"title\"])==True)&(pd.isna(masters[\"reviewed-author\"])==True)&(pd.isna(masters[\"author\"])==True)][\"title_10\"]"
   ]
  },
  {
   "cell_type": "code",
   "execution_count": null,
   "id": "b48ca9f4",
   "metadata": {},
   "outputs": [],
   "source": []
  },
  {
   "cell_type": "code",
   "execution_count": 16,
   "id": "50aaf183",
   "metadata": {},
   "outputs": [],
   "source": [
    "for i in masters[(pd.isna(masters[\"title_10\"])==False)&(pd.isna(masters[\"title\"])==True)&(pd.isna(masters[\"reviewed-author\"])==True)].index:\n",
    "    temp=masters.iloc[i]\n",
    "    indic=0\n",
    "    if len(temp['author_split'])>1:\n",
    "        for j in temp['author_split']:\n",
    "            if j in temp[\"title_10\"]:\n",
    "                indic=1\n",
    "                masters.loc[i, \"title\"]=temp[\"title_10\"]\n",
    "                masters.loc[i, \"reviewed-author\"]=j\n",
    "                if \"Review by:\" in temp[\"title_10\"]:\n",
    "                    print(\"weird\")\n",
    "    if indic==0:\n",
    "        masters.loc[i, 'title']=temp['title_10']"
   ]
  },
  {
   "cell_type": "code",
   "execution_count": 17,
   "id": "b482a7ce",
   "metadata": {},
   "outputs": [],
   "source": [
    "masters.loc[masters['number']==datetime.datetime(2023, 4, 5, 0, 0),\"number\"]=\"4-5\"\n",
    "masters.loc[masters['number']==datetime.datetime(2023, 1, 2, 0, 0),\"number\"]=\"1-2\"\n"
   ]
  },
  {
   "cell_type": "markdown",
   "id": "3c16fdd9",
   "metadata": {},
   "source": [
    "## Classifying Miscellaneous content"
   ]
  },
  {
   "cell_type": "code",
   "execution_count": 18,
   "id": "73546e09",
   "metadata": {},
   "outputs": [],
   "source": [
    "masters.loc[masters.title.str.lower() == \"back matter\", 'content_type'] = \"MISC\"  \n",
    "masters.loc[masters.title.str.lower() == \"front matter\", 'content_type'] = \"MISC\"\n",
    "masters.loc[masters.title.str.lower() == \"volume matter\", 'content_type'] = \"MISC\"\n",
    "masters.loc[masters.title == \"Announcements\", 'content_type'] = \"MISC\"\n",
    "masters.loc[masters.title == \"Announcement\", 'content_type'] = \"MISC\"\n",
    "masters.loc[masters.title.str.lower() == \"foreword\", 'content_type'] = \"MISC\"\n",
    "masters.loc[masters.title == \"Periodicals\", 'content_type'] = \"MISC\"\n",
    "\n",
    "masters.loc[masters.title.str.lower() == \"doctoral dissertations\", 'content_type'] = \"MISC\"\n",
    "masters.loc[masters.title == \"Editorial Statement\", 'content_type'] = \"MISC\"\n",
    "masters.loc[masters.title.str.lower() == \"list of members\", 'content_type'] = \"MISC\" \n",
    "masters.loc[masters.title.str.lower() == \"annual meetings\", 'content_type'] = \"MISC\" \n",
    "masters.loc[masters.title.str.lower() == \"biographical listing of members\", 'content_type'] = \"MISC\" \n",
    "masters.loc[masters.title.str.lower() == \"honorary members\", 'content_type'] = \"MISC\" \n",
    "masters.loc[masters.title.str.lower().str.contains(\"preliminary announcement of the program\"), 'content_type'] = \"MISC\"\n",
    "masters.loc[masters[\"title\"].str.contains(\"Distinguished Fellow\"),'content_type']=\"MISC\"\n",
    "masters.loc[masters[\"title\"].str.lower().str.contains(\"\\[photograph\\]\"),'content_type']=\"MISC\"\n",
    "masters.loc[masters[\"title\"].str.lower().str.contains(\"volume information\"),'content_type']=\"MISC\"\n",
    "masters.loc[masters['title'].str.contains(\"The John Bates Clark Award\"),'content_type']=\"MISC\"\n",
    "masters.loc[masters[\"title\"].str.lower().str.contains(\"new books\"),'content_type']=\"MISC\"\n",
    "masters.loc[masters[\"title\"].str.lower().str.contains(\"titles of new books\"),'content_type']=\"MISC\"\n",
    "masters.loc[masters[\"title\"].str.lower().str.contains(\"new book\"),'content_type']=\"MISC\"\n",
    "masters.loc[masters[\"title\"].str.lower().str.contains(\"the american economic association\"),'content_type']=\"MISC\"\n",
    "masters.loc[masters[\"title\"].str.lower().str.contains(\"in memoriam\"),'content_type']=\"MISC\"\n",
    "masters.loc[masters[\"title\"].str.lower().str.contains(\"in memorium\"),'content_type']=\"MISC\"\n",
    "masters.loc[masters[\"title\"].str.lower().str.contains(\"memorial:\"),'content_type']=\"MISC\"\n",
    "masters.loc[masters[\"title\"].str.lower().str.contains(\"list of doctoral dissertations\"),'content_type']=\"MISC\"\n",
    "masters.loc[masters[\"title\"].str.lower().str.contains(\"notes\") & masters['author'].isna(),'content_type']=\"MISC\"\n",
    "masters.loc[masters[\"title\"].str.lower().str.contains(\"documents, reports and legislation\"),'content_type']=\"MISC\"\n",
    "masters.loc[masters[\"title\"].str.lower().str.contains(\"documents, reports, and legislation\"),'content_type']=\"MISC\"\n",
    "masters.loc[masters[\"title\"].str.lower().str.contains(\"editor\") & masters[\"title\"].str.lower().str.contains(\"introduction\"),'content_type']=\"MISC\"\n",
    "masters.loc[masters['title'].str.match(r\"^Editorial Note\")==True, \"content_type\"]=\"MISC\"\n",
    "masters.loc[masters['title'].str.match(r\"^Editor's Note\")==True, \"content_type\"]=\"MISC\"\n",
    "masters.loc[masters[\"title\"].str.lower().str.contains(\"classification of members\"),'content_type']=\"MISC\"\n",
    "masters.loc[masters[\"title\"].str.lower().str.contains(\"aer survey of members\"),'content_type']=\"MISC\"\n",
    "masters.loc[masters[\"title\"].str.lower().str.contains(\"annual business meeting\"),'content_type']=\"MISC\"\n",
    "masters.loc[masters[\"title\"].str.lower().str.contains(\"auditor\") & masters[\"title\"].str.lower().str.contains(\"report\"),'content_type']=\"MISC\"\n",
    "masters.loc[masters[\"title\"].str.lower().str.contains(\"proceedings of the\") & masters[\"title\"].str.lower().str.contains(\"annual meeting\"),'content_type']=\"MISC\"\n",
    "masters.loc[masters[\"title\"].str.lower().str.contains(\"report of the\") & masters['author'].isna(),'content_type']=\"MISC\"\n",
    "masters.loc[masters['title'].str.lower().str.match(r'^report of the treasurer')==True, 'content_type']=\"MISC\"\n",
    "masters.loc[masters['title'].str.lower().str.match(r'^report of the director:')==True, 'content_type']=\"MISC\"\n",
    "masters.loc[masters['title'].str.lower().str.match(r'^report of the managing editor')==True,'content_type']=\"MISC\"\n",
    "masters.loc[masters['title'].str.lower().str.match(r'^report of the editor:')==True,'content_type']=\"MISC\"\n",
    "masters.loc[masters['title'].str.lower().str.match(r'^report of the secretary')==True,'content_type']=\"MISC\"\n",
    "masters.loc[masters[\"title\"].str.lower().str.contains(\"minutes of the\") & masters['author'].isna(),'content_type']=\"MISC\"\n",
    "masters.loc[masters[\"title\"].str.lower().str.contains(\"minutes of business meetings\") & masters['author'].isna(),'content_type']=\"MISC\"\n",
    "masters.loc[masters[\"title\"].str.len()<3,'content_type']='MISC'\n",
    "masters.loc[masters['title'].str.match(r'^Program.*')==True,'content_type']='MISC'\n",
    "masters.loc[masters['title'].str.match(r'^Business Meeting.*')==True,'content_type']='MISC'\n",
    "masters.loc[masters['title'].str.lower().str.match(r'introductory remarks')==True,'content_type']='MISC'\n",
    "\n",
    "#masters[masters['title'].str.lower().str.contains(\"review\")]['title']\n",
    "masters.loc[masters['title'].str.lower().str.match(r'the committee on.*')==True,'content_type']='MISC'\n",
    "masters.loc[masters['title'].str.lower().str.match(r'^report of.* representative')==True,'content_type']='MISC'\n",
    "masters.loc[masters['title'].str.lower().str.match(r'^report of.*committee on')==True,'content_type']='MISC'\n",
    "masters.loc[masters['title'].str.lower().str.match(r'^report of.* finance committee')==True,'content_type']='MISC'\n",
    "masters.loc[masters['title'].str.lower().str.match(r'.*francis.*walker.*award')==True,'content_type']='MISC'\n",
    "\n",
    "masters.loc[masters['title'].str.lower().str.match(r'^\\[communication\\]$')==True,'content_type']='MISC'\n",
    "masters.loc[masters['title'].str.lower().str.match(r'^\\[introduction\\]$')==True,'content_type']='MISC'\n",
    "masters.loc[masters['title'].str.lower().str.match(r'^introduction$')==True,'content_type']='MISC'\n",
    "\n",
    "masters.loc[masters['author'].isna() & masters['content_type'].isna(),'content_type']='MISC' \n",
    "\n",
    "manual=[\"https://www.jstor.org/stable/1812108\",\n",
    "        \"https://www.jstor.org/stable/1813763\"]\n",
    "\n",
    "masters.loc[masters[\"URL\"].isin(manual)==True, \"content_type\"]=\"MISC\""
   ]
  },
  {
   "cell_type": "code",
   "execution_count": 19,
   "id": "1a64aeea",
   "metadata": {},
   "outputs": [],
   "source": [
    "#masters[masters[\"title\"].str.lower().str.contains('affiliation')][['title','stable_url']]\n",
    "#masters[masters['title'].str.lower().str.match(r'^report of the secretary')==True]\n",
    "#masters[masters[\"title\"].str.lower().str.contains(\"aer survey of members\")][['title','stable_url']]"
   ]
  },
  {
   "cell_type": "markdown",
   "id": "2b60b812",
   "metadata": {},
   "source": [
    "... One last check. Note: I found that after removing most of the miscellaneous content the remainder that did not have author names were not articles."
   ]
  },
  {
   "cell_type": "code",
   "execution_count": 20,
   "id": "931a2121",
   "metadata": {},
   "outputs": [],
   "source": [
    "# print(masters[masters['author'].isna() & masters['content_type'].isna()]['title'].shape[0])\n",
    "# masters[masters['author'].isna() & masters['content_type'].isna()][['title','URL']].sort_values('title')"
   ]
  },
  {
   "cell_type": "code",
   "execution_count": 21,
   "id": "b55b4a3e",
   "metadata": {},
   "outputs": [],
   "source": [
    "# pd.DataFrame(masters[masters['content_type'].isna()]['title'].str.lower().value_counts())\n",
    "#masters[masters.title.str.lower().str.match(r'.*:.*') & masters.content_type.isna()].head()"
   ]
  },
  {
   "cell_type": "code",
   "execution_count": 22,
   "id": "12c41cc1",
   "metadata": {},
   "outputs": [],
   "source": [
    "pd.set_option('display.max_rows',masters.shape[0])\n",
    "pd.set_option('display.max_colwidth', 100)\n",
    "#pd.DataFrame(masters[['title', 'stable_url']][(masters['content_type']!='MISC') &(masters['authors'].str.lower().str.contains(\"review\")==False)]).sort_values('title'\n"
   ]
  },
  {
   "cell_type": "code",
   "execution_count": null,
   "id": "d7f7e7f3",
   "metadata": {},
   "outputs": [],
   "source": []
  },
  {
   "cell_type": "markdown",
   "id": "92e2d3e8",
   "metadata": {},
   "source": [
    "## Separating out other types"
   ]
  },
  {
   "cell_type": "code",
   "execution_count": 23,
   "id": "e3c89bce",
   "metadata": {},
   "outputs": [
    {
     "data": {
      "text/plain": [
       "6801"
      ]
     },
     "execution_count": 23,
     "metadata": {},
     "output_type": "execute_result"
    }
   ],
   "source": [
    "#masters.loc[~(masters['authors'].isna()) & masters['authors'].str.lower().str.match(r'.*review by:.*'),'content_type']='Review'\n",
    "masters.loc[~(masters['author'].isna()) & (masters['reviewed-author'].isna()==False),'content_type']='Review'\n",
    "masters[masters.content_type=='Review'].shape[0]"
   ]
  },
  {
   "cell_type": "code",
   "execution_count": 24,
   "id": "3d52fefc",
   "metadata": {},
   "outputs": [
    {
     "data": {
      "text/plain": [
       "858"
      ]
     },
     "execution_count": 24,
     "metadata": {},
     "output_type": "execute_result"
    }
   ],
   "source": [
    "masters.loc[masters.content_type.isna() & masters.title.str.lower().str.match(r'.*(:|\\?) (|a )comment(|.*)$')==True,'content_type']='Comment'\n",
    "masters.loc[masters.content_type.isna() & masters.title.str.lower().str.match(r'.*(:|\\?) (|a )further comment(|.*)$')==True,'content_type']='Comment'\n",
    "masters[masters['content_type']=='Comment'].shape[0]"
   ]
  },
  {
   "cell_type": "code",
   "execution_count": 25,
   "id": "ab3db321",
   "metadata": {},
   "outputs": [],
   "source": [
    "masters.loc[masters['title'].str.lower().str.contains(\"erratum\")|masters['title'].str.lower().str.contains(\"errata\"), 'content_type']=\"Errata\""
   ]
  },
  {
   "cell_type": "code",
   "execution_count": 26,
   "id": "a2ae45d5",
   "metadata": {},
   "outputs": [
    {
     "data": {
      "text/plain": [
       "506"
      ]
     },
     "execution_count": 26,
     "metadata": {},
     "output_type": "execute_result"
    }
   ],
   "source": [
    "masters.loc[masters.content_type.isna() & masters.title.str.lower().str.match(r'.*(:|\\?) (|a )reply(| to.*)$')==True,'content_type']=\"Reply\"\n",
    "masters[masters['content_type']=='Reply'].shape[0]"
   ]
  },
  {
   "cell_type": "code",
   "execution_count": null,
   "id": "381bd84a",
   "metadata": {},
   "outputs": [],
   "source": []
  },
  {
   "cell_type": "code",
   "execution_count": 27,
   "id": "c2bc9ddc",
   "metadata": {},
   "outputs": [
    {
     "data": {
      "text/plain": [
       "718"
      ]
     },
     "execution_count": 27,
     "metadata": {},
     "output_type": "execute_result"
    }
   ],
   "source": [
    "masters.loc[masters.content_type.isna() & masters.title.str.lower().str.match(r'.*: (|a )discussion$')==True,'content_type']=\"Discussion\"\n",
    "masters.loc[masters.content_type.isna() & masters.title.str.lower().str.match(r'(^|a )discussion(|.*)$')==True,'content_type']=\"Discussion\"\n",
    "masters.loc[masters.content_type.isna() & masters.title.str.lower().str.match(r'.*:.*(|a )discussion(|s)$')==True,'content_type']='Discussion'\n",
    "masters.loc[masters.title.str.lower().str.match(r'.*--discussion.*') & masters.content_type.isna(),'content_type']='Discussion'\n",
    "masters.loc[(masters['title'].str.lower().str.contains(\"round table\")==True)&(masters['content_type']!=\"MISC\"),'content_type']=\"Discussion\"\n",
    "masters[masters['content_type']=='Discussion'].shape[0]"
   ]
  },
  {
   "cell_type": "code",
   "execution_count": null,
   "id": "8afe6472",
   "metadata": {},
   "outputs": [],
   "source": []
  },
  {
   "cell_type": "code",
   "execution_count": 28,
   "id": "598136de",
   "metadata": {},
   "outputs": [
    {
     "data": {
      "text/plain": [
       "52"
      ]
     },
     "execution_count": 28,
     "metadata": {},
     "output_type": "execute_result"
    }
   ],
   "source": [
    "masters.loc[masters.content_type.isna() & masters.title.str.lower().str.match(r'.*(:|\\?) (|a )rejoinder.*$')==True,'content_type']=\"Rejoinder\"\n",
    "masters[masters['content_type']=='Rejoinder'].shape[0]"
   ]
  },
  {
   "cell_type": "code",
   "execution_count": 29,
   "id": "5de04d67",
   "metadata": {},
   "outputs": [
    {
     "data": {
      "text/plain": [
       "12797"
      ]
     },
     "execution_count": 29,
     "metadata": {},
     "output_type": "execute_result"
    }
   ],
   "source": [
    "masters.loc[masters['content_type'].isna(),'content_type']=\"Article\"\n",
    "masters[masters['content_type']=='Article'].shape[0]"
   ]
  },
  {
   "cell_type": "code",
   "execution_count": 30,
   "id": "0171b3f6",
   "metadata": {},
   "outputs": [],
   "source": [
    "# block for testing regex strings\n",
    "#masters[masters.content_type.isna() & masters.title.str.lower().str.match(r'.*: (|a )discussion(|.*)$')==True] #false positive for discussion\n",
    "#masters[masters.content_type.isna() & masters.title.str.lower().str.match(r'.*: (|a )comment(|.*)$')==True] comments to specific people\n",
    "#masters[masters.title.str.lower().str.match(r'^(|a )note.*')]"
   ]
  },
  {
   "cell_type": "code",
   "execution_count": 31,
   "id": "1fd67de5",
   "metadata": {},
   "outputs": [
    {
     "data": {
      "text/plain": [
       "12797"
      ]
     },
     "execution_count": 31,
     "metadata": {},
     "output_type": "execute_result"
    }
   ],
   "source": [
    "masters[masters.content_type=='Article'].shape[0] #articles in data set"
   ]
  },
  {
   "cell_type": "code",
   "execution_count": null,
   "id": "a39567b8",
   "metadata": {},
   "outputs": [],
   "source": []
  },
  {
   "cell_type": "code",
   "execution_count": null,
   "id": "7d995c75",
   "metadata": {},
   "outputs": [],
   "source": []
  },
  {
   "cell_type": "code",
   "execution_count": 32,
   "id": "5887b5aa",
   "metadata": {},
   "outputs": [
    {
     "data": {
      "text/plain": [
       "11431"
      ]
     },
     "execution_count": 32,
     "metadata": {},
     "output_type": "execute_result"
    }
   ],
   "source": [
    "masters[(masters['content_type']=='Article') & (masters['year']>1939)].shape[0] #all articles after 1940"
   ]
  },
  {
   "cell_type": "code",
   "execution_count": 33,
   "id": "af3e9e6d",
   "metadata": {},
   "outputs": [
    {
     "data": {
      "text/plain": [
       "9459"
      ]
     },
     "execution_count": 33,
     "metadata": {},
     "output_type": "execute_result"
    }
   ],
   "source": [
    "masters[(masters['content_type']=='Article') & (masters.year>1939) & (masters.year<2011)].shape[0] #articles between 1940 and 2010"
   ]
  },
  {
   "cell_type": "markdown",
   "id": "173064f4",
   "metadata": {},
   "source": [
    "## Consider the pivots file\n",
    "\n",
    "At times, conference papers are structured differently to normal articles. Hence, it may be necessary to distinguish conference papers from common articles. The next code block separates special issues (S) from normal issues (N)"
   ]
  },
  {
   "cell_type": "code",
   "execution_count": 34,
   "id": "e962a35f",
   "metadata": {},
   "outputs": [
    {
     "data": {
      "text/html": [
       "<div>\n",
       "<style scoped>\n",
       "    .dataframe tbody tr th:only-of-type {\n",
       "        vertical-align: middle;\n",
       "    }\n",
       "\n",
       "    .dataframe tbody tr th {\n",
       "        vertical-align: top;\n",
       "    }\n",
       "\n",
       "    .dataframe thead th {\n",
       "        text-align: right;\n",
       "    }\n",
       "</style>\n",
       "<table border=\"1\" class=\"dataframe\">\n",
       "  <thead>\n",
       "    <tr style=\"text-align: right;\">\n",
       "      <th></th>\n",
       "      <th>year</th>\n",
       "      <th>issue_url</th>\n",
       "      <th>Jstor_issue_text</th>\n",
       "      <th>journal</th>\n",
       "      <th>type</th>\n",
       "    </tr>\n",
       "  </thead>\n",
       "  <tbody>\n",
       "    <tr>\n",
       "      <th>42</th>\n",
       "      <td>2017</td>\n",
       "      <td>https://www.jstor.org/stable/10.2307/i40178116</td>\n",
       "      <td>No. 5 PAPERS AND PROCEEDINGS OF THE One Hundred Twenty-Ninth Annual Meeting OF THE AMERICAN ECON...</td>\n",
       "      <td>amereconrevi</td>\n",
       "      <td>S</td>\n",
       "    </tr>\n",
       "    <tr>\n",
       "      <th>54</th>\n",
       "      <td>2016</td>\n",
       "      <td>https://www.jstor.org/stable/10.2307/i40158602</td>\n",
       "      <td>No. 5 PAPERS AND PROCEEDINGS OF THE One Hundred Twenty-Eighth Annual Meeting OF THE AMERICAN ECO...</td>\n",
       "      <td>amereconrevi</td>\n",
       "      <td>S</td>\n",
       "    </tr>\n",
       "    <tr>\n",
       "      <th>66</th>\n",
       "      <td>2015</td>\n",
       "      <td>https://www.jstor.org/stable/10.2307/i40156735</td>\n",
       "      <td>No. 5 PAPERS AND PROCEEDINGS OF THE One Hundred Twenty-Seventh Annual Meeting OF THE AMERICAN EC...</td>\n",
       "      <td>amereconrevi</td>\n",
       "      <td>S</td>\n",
       "    </tr>\n",
       "    <tr>\n",
       "      <th>78</th>\n",
       "      <td>2014</td>\n",
       "      <td>https://www.jstor.org/stable/10.2307/i40112127</td>\n",
       "      <td>No. 5 PAPERS AND PROCEEDINGS OF One Hundred Twenty-Sixth Annual Meeting OF THE AMERICAN ECONOMIC...</td>\n",
       "      <td>amereconrevi</td>\n",
       "      <td>S</td>\n",
       "    </tr>\n",
       "    <tr>\n",
       "      <th>87</th>\n",
       "      <td>2013</td>\n",
       "      <td>https://www.jstor.org/stable/10.2307/i23469657</td>\n",
       "      <td>No. 3 PAPERS AND PROCEEDINGS OF THE One Hundred Twenty-Fifth Annual Meeting OF THE AMERICAN ECON...</td>\n",
       "      <td>amereconrevi</td>\n",
       "      <td>S</td>\n",
       "    </tr>\n",
       "  </tbody>\n",
       "</table>\n",
       "</div>"
      ],
      "text/plain": [
       "    year                                       issue_url  \\\n",
       "42  2017  https://www.jstor.org/stable/10.2307/i40178116   \n",
       "54  2016  https://www.jstor.org/stable/10.2307/i40158602   \n",
       "66  2015  https://www.jstor.org/stable/10.2307/i40156735   \n",
       "78  2014  https://www.jstor.org/stable/10.2307/i40112127   \n",
       "87  2013  https://www.jstor.org/stable/10.2307/i23469657   \n",
       "\n",
       "                                                                                       Jstor_issue_text  \\\n",
       "42  No. 5 PAPERS AND PROCEEDINGS OF THE One Hundred Twenty-Ninth Annual Meeting OF THE AMERICAN ECON...   \n",
       "54  No. 5 PAPERS AND PROCEEDINGS OF THE One Hundred Twenty-Eighth Annual Meeting OF THE AMERICAN ECO...   \n",
       "66  No. 5 PAPERS AND PROCEEDINGS OF THE One Hundred Twenty-Seventh Annual Meeting OF THE AMERICAN EC...   \n",
       "78  No. 5 PAPERS AND PROCEEDINGS OF One Hundred Twenty-Sixth Annual Meeting OF THE AMERICAN ECONOMIC...   \n",
       "87  No. 3 PAPERS AND PROCEEDINGS OF THE One Hundred Twenty-Fifth Annual Meeting OF THE AMERICAN ECON...   \n",
       "\n",
       "         journal type  \n",
       "42  amereconrevi    S  \n",
       "54  amereconrevi    S  \n",
       "66  amereconrevi    S  \n",
       "78  amereconrevi    S  \n",
       "87  amereconrevi    S  "
      ]
     },
     "execution_count": 34,
     "metadata": {},
     "output_type": "execute_result"
    }
   ],
   "source": [
    "pivots.loc[pivots.Jstor_issue_text.str.lower().str.match(r'(.*)(supplement|proceedings|annual meeting|survey)(.*)'),'type']=\"S\"\n",
    "pivots.loc[pivots.type.isna(),'type']='N'\n",
    "pivots[pivots.type=='S'].head()"
   ]
  },
  {
   "cell_type": "markdown",
   "id": "41fe367e",
   "metadata": {},
   "source": [
    "Merging the pivots with masters"
   ]
  },
  {
   "cell_type": "code",
   "execution_count": 35,
   "id": "667c8f6f",
   "metadata": {},
   "outputs": [],
   "source": [
    "result = pd.merge(masters, pivots[['issue_url','type']], how=\"left\", on=[\"issue_url\", \"issue_url\"])\n"
   ]
  },
  {
   "cell_type": "code",
   "execution_count": 36,
   "id": "286f1165",
   "metadata": {},
   "outputs": [],
   "source": [
    "result.to_excel(saveas, index=False)\n"
   ]
  }
 ],
 "metadata": {
  "kernelspec": {
   "display_name": "venv",
   "language": "python",
   "name": "python3"
  },
  "language_info": {
   "codemirror_mode": {
    "name": "ipython",
    "version": 3
   },
   "file_extension": ".py",
   "mimetype": "text/x-python",
   "name": "python",
   "nbconvert_exporter": "python",
   "pygments_lexer": "ipython3",
   "version": "3.11.2"
  }
 },
 "nbformat": 4,
 "nbformat_minor": 5
}
