{
 "cells": [
  {
   "cell_type": "markdown",
   "id": "5c7965c8",
   "metadata": {},
   "source": [
    "# ECTA Cleaning\n",
    "\n",
    "This notebook walks through how the ECTA articles were sorted into categories of articles and non-articles.\n",
    "\n",
    "## Load Libraries"
   ]
  },
  {
   "cell_type": "code",
   "execution_count": 345,
   "id": "497d54cc",
   "metadata": {},
   "outputs": [],
   "source": [
    "from tokenize import Ignore\n",
    "from numpy import NaN\n",
    "import numpy as np\n",
    "import pandas as pd\n",
    "import time\n",
    "from os import path\n",
    "import sys\n",
    "from pathlib import Path\n",
    "from PyPDF2 import PdfFileReader, PdfFileWriter\n",
    "import re\n",
    "import os\n",
    "from difflib import SequenceMatcher\n",
    "import datetime\n",
    "import matplotlib.pyplot as plt\n",
    "\n",
    "pd.set_option('display.max_rows',None)\n",
    "pd.set_option('display.max_colwidth', 120)   "
   ]
  },
  {
   "cell_type": "markdown",
   "id": "4ebeeac6",
   "metadata": {},
   "source": [
    "## Load Files\n",
    "Replace these file paths with local file paths"
   ]
  },
  {
   "cell_type": "code",
   "execution_count": 332,
   "id": "e2bbff4b",
   "metadata": {},
   "outputs": [],
   "source": [
    "base_path=\"/Users/sijiawu/Work/Refs Danae/Thesis/Data\""
   ]
  },
  {
   "cell_type": "code",
   "execution_count": 333,
   "id": "8dccd97d",
   "metadata": {},
   "outputs": [],
   "source": [
    "masters = pd.read_excel(base_path+\"/Masterlists/ECTA_Masterlist.xlsx\")\n",
    "masters10 = pd.read_excel(base_path+ \"/2010/ECTA_master.xlsx\")\n",
    "pivots = pd.read_excel(base_path+\"/Pivots/ECTA_Pivots2020.xlsx\")\n",
    "scopus = pd.read_excel(base_path+\"/SCOPUS/ECTA_SCOPUS.xlsx\")"
   ]
  },
  {
   "cell_type": "markdown",
   "id": "c47696c6",
   "metadata": {},
   "source": [
    "## Create File names"
   ]
  },
  {
   "cell_type": "code",
   "execution_count": 334,
   "id": "b54a9027",
   "metadata": {},
   "outputs": [],
   "source": [
    "saveas=base_path+\"/Processed/ECTA_processed.xlsx\""
   ]
  },
  {
   "cell_type": "markdown",
   "id": "91029739",
   "metadata": {},
   "source": [
    "## Some random checks on the masters list\n",
    "\n",
    "My assumption is that all data without author names must be miscellaneous documents like reports by the committee, forewords, front matters etc.. The goal of this notebook is to check for certain that all the documents without author names are actually miscellaneous documents and then classify them as miscellaneous (MISC). Hence, first we group everything the data by title to see the repetitive general content that can likely be removed."
   ]
  },
  {
   "cell_type": "code",
   "execution_count": 249,
   "id": "b31e606d",
   "metadata": {},
   "outputs": [
    {
     "data": {
      "text/html": [
       "<div>\n",
       "<style scoped>\n",
       "    .dataframe tbody tr th:only-of-type {\n",
       "        vertical-align: middle;\n",
       "    }\n",
       "\n",
       "    .dataframe tbody tr th {\n",
       "        vertical-align: top;\n",
       "    }\n",
       "\n",
       "    .dataframe thead th {\n",
       "        text-align: right;\n",
       "    }\n",
       "</style>\n",
       "<table border=\"1\" class=\"dataframe\">\n",
       "  <thead>\n",
       "    <tr style=\"text-align: right;\">\n",
       "      <th></th>\n",
       "      <th>count</th>\n",
       "    </tr>\n",
       "    <tr>\n",
       "      <th>title</th>\n",
       "      <th></th>\n",
       "    </tr>\n",
       "  </thead>\n",
       "  <tbody>\n",
       "    <tr>\n",
       "      <th>back matter</th>\n",
       "      <td>445</td>\n",
       "    </tr>\n",
       "    <tr>\n",
       "      <th>front matter</th>\n",
       "      <td>436</td>\n",
       "    </tr>\n",
       "    <tr>\n",
       "      <th>news notes</th>\n",
       "      <td>193</td>\n",
       "    </tr>\n",
       "    <tr>\n",
       "      <th>announcements</th>\n",
       "      <td>146</td>\n",
       "    </tr>\n",
       "    <tr>\n",
       "      <th>accepted manuscripts</th>\n",
       "      <td>116</td>\n",
       "    </tr>\n",
       "    <tr>\n",
       "      <th>volume information</th>\n",
       "      <td>80</td>\n",
       "    </tr>\n",
       "    <tr>\n",
       "      <th>submission of manuscripts to econometrica</th>\n",
       "      <td>49</td>\n",
       "    </tr>\n",
       "    <tr>\n",
       "      <th>forthcoming papers</th>\n",
       "      <td>42</td>\n",
       "    </tr>\n",
       "    <tr>\n",
       "      <th>report of the secretary</th>\n",
       "      <td>31</td>\n",
       "    </tr>\n",
       "    <tr>\n",
       "      <th>report of the treasurer</th>\n",
       "      <td>31</td>\n",
       "    </tr>\n",
       "  </tbody>\n",
       "</table>\n",
       "</div>"
      ],
      "text/plain": [
       "                                           count\n",
       "title                                           \n",
       "back matter                                  445\n",
       "front matter                                 436\n",
       "news notes                                   193\n",
       "announcements                                146\n",
       "accepted manuscripts                         116\n",
       "volume information                            80\n",
       "submission of manuscripts to econometrica     49\n",
       "forthcoming papers                            42\n",
       "report of the secretary                       31\n",
       "report of the treasurer                       31"
      ]
     },
     "execution_count": 249,
     "metadata": {},
     "output_type": "execute_result"
    }
   ],
   "source": [
    "pd.set_option('display.max_rows',masters.shape[0])\n",
    "temp=masters['title'].str.lower().value_counts()\n",
    "pd.DataFrame(temp[temp>1]).head(10)"
   ]
  },
  {
   "cell_type": "markdown",
   "id": "f6337139",
   "metadata": {},
   "source": [
    "Some repetitions are due to multiple comments. Now consider this list in absence of author names."
   ]
  },
  {
   "cell_type": "code",
   "execution_count": 250,
   "id": "06234093",
   "metadata": {},
   "outputs": [
    {
     "data": {
      "text/html": [
       "<div>\n",
       "<style scoped>\n",
       "    .dataframe tbody tr th:only-of-type {\n",
       "        vertical-align: middle;\n",
       "    }\n",
       "\n",
       "    .dataframe tbody tr th {\n",
       "        vertical-align: top;\n",
       "    }\n",
       "\n",
       "    .dataframe thead th {\n",
       "        text-align: right;\n",
       "    }\n",
       "</style>\n",
       "<table border=\"1\" class=\"dataframe\">\n",
       "  <thead>\n",
       "    <tr style=\"text-align: right;\">\n",
       "      <th></th>\n",
       "      <th>count</th>\n",
       "    </tr>\n",
       "    <tr>\n",
       "      <th>title</th>\n",
       "      <th></th>\n",
       "    </tr>\n",
       "  </thead>\n",
       "  <tbody>\n",
       "    <tr>\n",
       "      <th>back matter</th>\n",
       "      <td>445</td>\n",
       "    </tr>\n",
       "    <tr>\n",
       "      <th>front matter</th>\n",
       "      <td>436</td>\n",
       "    </tr>\n",
       "    <tr>\n",
       "      <th>news notes</th>\n",
       "      <td>193</td>\n",
       "    </tr>\n",
       "    <tr>\n",
       "      <th>announcements</th>\n",
       "      <td>134</td>\n",
       "    </tr>\n",
       "    <tr>\n",
       "      <th>accepted manuscripts</th>\n",
       "      <td>116</td>\n",
       "    </tr>\n",
       "    <tr>\n",
       "      <th>volume information</th>\n",
       "      <td>80</td>\n",
       "    </tr>\n",
       "    <tr>\n",
       "      <th>submission of manuscripts to econometrica</th>\n",
       "      <td>49</td>\n",
       "    </tr>\n",
       "    <tr>\n",
       "      <th>forthcoming papers</th>\n",
       "      <td>42</td>\n",
       "    </tr>\n",
       "    <tr>\n",
       "      <th>news note</th>\n",
       "      <td>25</td>\n",
       "    </tr>\n",
       "    <tr>\n",
       "      <th>fellows of the econometric society</th>\n",
       "      <td>25</td>\n",
       "    </tr>\n",
       "  </tbody>\n",
       "</table>\n",
       "</div>"
      ],
      "text/plain": [
       "                                           count\n",
       "title                                           \n",
       "back matter                                  445\n",
       "front matter                                 436\n",
       "news notes                                   193\n",
       "announcements                                134\n",
       "accepted manuscripts                         116\n",
       "volume information                            80\n",
       "submission of manuscripts to econometrica     49\n",
       "forthcoming papers                            42\n",
       "news note                                     25\n",
       "fellows of the econometric society            25"
      ]
     },
     "execution_count": 250,
     "metadata": {},
     "output_type": "execute_result"
    }
   ],
   "source": [
    "temp1=masters[masters['author'].isna()]['title'].str.lower().value_counts()\n",
    "pd.DataFrame(temp1).head(10)"
   ]
  },
  {
   "cell_type": "code",
   "execution_count": 251,
   "id": "33d78392",
   "metadata": {},
   "outputs": [],
   "source": [
    "# block for testing regex matching\n",
    "#pd.DataFrame(masters[masters['content_type'].isna()]['title'].str.lower().value_counts())\n",
    "#masters[masters['title'].str.lower().str.match(r'(^|: )report of the')]\n",
    "#masters[masters['title'].str.lower().str.match(r'(^|.*: )report of the')]\n",
    "#masters.loc[masters['title'].str.lower().str.match(r'^combined references(.*)')==True,'content_type']='MISC'\n",
    "#masters[masters['title'].str.lower().str.match(r'.*(members|members and subscribers)$')]"
   ]
  },
  {
   "cell_type": "markdown",
   "id": "eb3f1aee",
   "metadata": {},
   "source": [
    "Judging from the above anything with greater than or equal to 5 duplicates are miscellaneous. The next code blocks classify it as such."
   ]
  },
  {
   "cell_type": "code",
   "execution_count": 335,
   "id": "f76437ec",
   "metadata": {},
   "outputs": [],
   "source": [
    "masters[\"content_type\"]=None\n",
    "temp2=masters[masters['content_type'].isna()==True]['title'].str.lower().value_counts()\n",
    "#pd.DataFrame(temp2)\n",
    "removal=list(temp2[temp2>=5].index)\n",
    "masters.loc[masters.title.str.lower().isin(removal),'content_type']='MISC'"
   ]
  },
  {
   "cell_type": "markdown",
   "id": "84adb863",
   "metadata": {},
   "source": [
    "## Combine the scraped list with the citations files\n",
    "\n",
    "I have found that masterlists contructed from citation files lack the reviewed source's name while it is present on the page of the article. Some files are just missing the title. So I'm combining the old masterlists with the new ones."
   ]
  },
  {
   "cell_type": "code",
   "execution_count": 336,
   "id": "017103ee",
   "metadata": {},
   "outputs": [],
   "source": [
    "masters[\"URL\"]=\"https:\"+masters[\"URL\"].str.split(':').str[-1]\n",
    "masters.drop('type', inplace=True, axis=1)\n",
    "masters10[\"stable_url\"]=\"https:\"+masters10[\"stable_url\"].str.split(':').str[-1]\n",
    "masters10.rename(columns = {'authors':'author','stable_url':'URL','title':'title_10'}, inplace = True)\n",
    "masters10.rename(columns = {'authors':'author','stable_url':'URL','title':'title_10'}, inplace = True)\n",
    "scopus.rename(columns = {'abstract':'abstractSCO', 'title':'titleSCO', 'journal':'journalSCO', 'authors':'authorsSCO','issue':'number'}, inplace = True)\n",
    "masters['pages']=masters['pages'].str.strip()  \n",
    "masters.loc[masters.title.str.lower() == \"back matter\", 'pages'] = NaN  \n",
    "pivots['type']=NaN\n",
    "masters['pages']=masters[\"pages\"].str.split('pp. ').str[-1]\n",
    "masters['pages']=masters['pages'].replace(r'--','-',regex=True).str.strip()"
   ]
  },
  {
   "cell_type": "code",
   "execution_count": 337,
   "id": "c1231a81",
   "metadata": {},
   "outputs": [],
   "source": [
    "masters[\"author_split\"]=masters['author'].str.split(' and ')\n",
    "masters=masters.merge(masters10[['URL', 'title_10']], how='left', on='URL')"
   ]
  },
  {
   "cell_type": "code",
   "execution_count": 338,
   "id": "5988794a",
   "metadata": {},
   "outputs": [],
   "source": [
    "masters.loc[(pd.isna(masters[\"title\"])==True)&(pd.isna(masters[\"reviewed-author\"])==False), 'content_type']=\"Review\"\n",
    "masters.loc[((masters['title'].str.lower().str.contains('book reviews indexed by author of book')==True)),'content_type']='Review'"
   ]
  },
  {
   "cell_type": "code",
   "execution_count": 339,
   "id": "0f5f38e1",
   "metadata": {},
   "outputs": [],
   "source": [
    "masters.loc[(pd.isna(masters[\"title\"])==True)&(pd.isna(masters[\"reviewed-author\"])==False),\"title\"]=masters[(pd.isna(masters[\"title\"])==True)&(pd.isna(masters[\"reviewed-author\"])==False)][\"title_10\"]\n",
    "masters.loc[(pd.isna(masters[\"title_10\"])==False)&(pd.isna(masters[\"title\"])==True)&(pd.isna(masters[\"reviewed-author\"])==True)&(pd.isna(masters[\"author\"])==True),\"title\"]=masters[(pd.isna(masters[\"title_10\"])==False)&(pd.isna(masters[\"title\"])==True)&(pd.isna(masters[\"reviewed-author\"])==True)&(pd.isna(masters[\"author\"])==True)][\"title_10\"]"
   ]
  },
  {
   "cell_type": "code",
   "execution_count": 340,
   "id": "fd110d1e",
   "metadata": {},
   "outputs": [],
   "source": [
    "for i in masters[(pd.isna(masters[\"title_10\"])==False)&(pd.isna(masters[\"title\"])==True)&(pd.isna(masters[\"reviewed-author\"])==True)].index:\n",
    "    temp=masters.iloc[i]\n",
    "    indic=0\n",
    "    if len(temp['author_split'])>1:\n",
    "        for j in temp['author_split']:\n",
    "            if j in temp[\"title_10\"]:\n",
    "                indic=1\n",
    "                masters.loc[i, \"title\"]=temp[\"title_10\"]\n",
    "                masters.loc[i, \"reviewed-author\"]=j\n",
    "                masters.loc[i, \"content_type\"]=\"Review\"\n",
    "                if \"Review by:\" in temp[\"title_10\"]:\n",
    "                    print(\"weird\")\n",
    "    if indic==0:\n",
    "        masters.loc[i, 'title']=temp['title_10']"
   ]
  },
  {
   "cell_type": "code",
   "execution_count": 341,
   "id": "0d46ce5b",
   "metadata": {},
   "outputs": [
    {
     "data": {
      "text/html": [
       "<div>\n",
       "<style scoped>\n",
       "    .dataframe tbody tr th:only-of-type {\n",
       "        vertical-align: middle;\n",
       "    }\n",
       "\n",
       "    .dataframe tbody tr th {\n",
       "        vertical-align: top;\n",
       "    }\n",
       "\n",
       "    .dataframe thead th {\n",
       "        text-align: right;\n",
       "    }\n",
       "</style>\n",
       "<table border=\"1\" class=\"dataframe\">\n",
       "  <thead>\n",
       "    <tr style=\"text-align: right;\">\n",
       "      <th></th>\n",
       "      <th>URL</th>\n",
       "      <th>author</th>\n",
       "      <th>title_10</th>\n",
       "      <th>abstract</th>\n",
       "      <th>content_type</th>\n",
       "      <th>issue_url</th>\n",
       "      <th>pages</th>\n",
       "    </tr>\n",
       "  </thead>\n",
       "  <tbody>\n",
       "    <tr>\n",
       "      <th>0</th>\n",
       "      <td>https://www.jstor.org/stable/45238021</td>\n",
       "      <td>NaN</td>\n",
       "      <td>Front Matter</td>\n",
       "      <td>NaN</td>\n",
       "      <td>NaN</td>\n",
       "      <td>https://www.jstor.org/stable/10.2307/i40226149</td>\n",
       "      <td>NaN</td>\n",
       "    </tr>\n",
       "    <tr>\n",
       "      <th>1</th>\n",
       "      <td>https://www.jstor.org/stable/45238022</td>\n",
       "      <td>NaN</td>\n",
       "      <td>[Illustration]</td>\n",
       "      <td>NaN</td>\n",
       "      <td>NaN</td>\n",
       "      <td>https://www.jstor.org/stable/10.2307/i40226149</td>\n",
       "      <td>NaN</td>\n",
       "    </tr>\n",
       "    <tr>\n",
       "      <th>2</th>\n",
       "      <td>https://www.jstor.org/stable/45238023</td>\n",
       "      <td>Martin Beraja, Erik Hurst and Juan Ospina</td>\n",
       "      <td>THE AGGREGATE IMPLICATIONS OF REGIONAL BUSINESS CYCLES</td>\n",
       "      <td>NaN</td>\n",
       "      <td>NaN</td>\n",
       "      <td>https://www.jstor.org/stable/10.2307/i40226149</td>\n",
       "      <td>1789-1833</td>\n",
       "    </tr>\n",
       "    <tr>\n",
       "      <th>3</th>\n",
       "      <td>https://www.jstor.org/stable/45238024</td>\n",
       "      <td>Amanda Friedenberg</td>\n",
       "      <td>BARGAINING UNDER STRATEGIC UNCERTAINTY: THE ROLE OF SECOND-ORDER OPTIMISM</td>\n",
       "      <td>NaN</td>\n",
       "      <td>NaN</td>\n",
       "      <td>https://www.jstor.org/stable/10.2307/i40226149</td>\n",
       "      <td>1835-1865</td>\n",
       "    </tr>\n",
       "    <tr>\n",
       "      <th>4</th>\n",
       "      <td>https://www.jstor.org/stable/45238025</td>\n",
       "      <td>Gabriel Carroll and Georgy Egorov</td>\n",
       "      <td>STRATEGIC COMMUNICATION WITH MINIMAL VERIFICATION</td>\n",
       "      <td>NaN</td>\n",
       "      <td>NaN</td>\n",
       "      <td>https://www.jstor.org/stable/10.2307/i40226149</td>\n",
       "      <td>1867-1892</td>\n",
       "    </tr>\n",
       "  </tbody>\n",
       "</table>\n",
       "</div>"
      ],
      "text/plain": [
       "                                     URL  \\\n",
       "0  https://www.jstor.org/stable/45238021   \n",
       "1  https://www.jstor.org/stable/45238022   \n",
       "2  https://www.jstor.org/stable/45238023   \n",
       "3  https://www.jstor.org/stable/45238024   \n",
       "4  https://www.jstor.org/stable/45238025   \n",
       "\n",
       "                                      author  \\\n",
       "0                                        NaN   \n",
       "1                                        NaN   \n",
       "2  Martin Beraja, Erik Hurst and Juan Ospina   \n",
       "3                         Amanda Friedenberg   \n",
       "4          Gabriel Carroll and Georgy Egorov   \n",
       "\n",
       "                                                                    title_10  \\\n",
       "0                                                               Front Matter   \n",
       "1                                                             [Illustration]   \n",
       "2                     THE AGGREGATE IMPLICATIONS OF REGIONAL BUSINESS CYCLES   \n",
       "3  BARGAINING UNDER STRATEGIC UNCERTAINTY: THE ROLE OF SECOND-ORDER OPTIMISM   \n",
       "4                          STRATEGIC COMMUNICATION WITH MINIMAL VERIFICATION   \n",
       "\n",
       "   abstract  content_type                                       issue_url  \\\n",
       "0       NaN           NaN  https://www.jstor.org/stable/10.2307/i40226149   \n",
       "1       NaN           NaN  https://www.jstor.org/stable/10.2307/i40226149   \n",
       "2       NaN           NaN  https://www.jstor.org/stable/10.2307/i40226149   \n",
       "3       NaN           NaN  https://www.jstor.org/stable/10.2307/i40226149   \n",
       "4       NaN           NaN  https://www.jstor.org/stable/10.2307/i40226149   \n",
       "\n",
       "        pages  \n",
       "0         NaN  \n",
       "1         NaN  \n",
       "2   1789-1833  \n",
       "3   1835-1865  \n",
       "4   1867-1892  "
      ]
     },
     "execution_count": 341,
     "metadata": {},
     "output_type": "execute_result"
    }
   ],
   "source": [
    "masters10.head()"
   ]
  },
  {
   "cell_type": "markdown",
   "id": "c3d0a4fb",
   "metadata": {},
   "source": [
    "## Classifying miscellaneous content"
   ]
  },
  {
   "cell_type": "code",
   "execution_count": 259,
   "id": "6598608d",
   "metadata": {},
   "outputs": [],
   "source": [
    "masters.loc[masters.apply(lambda k: SequenceMatcher(None, k['title'].lower(), 'front matter').ratio(), axis=1)>0.75,\"content_type\"]='MISC'\n",
    "masters.loc[masters.apply(lambda k: SequenceMatcher(None, k['title'].lower(), 'back matter').ratio(), axis=1)>0.75,\"content_type\"]='MISC'\n",
    "masters.loc[masters.apply(lambda k: SequenceMatcher(None, k['title'].lower(), 'news note(|s)').ratio(), axis=1)>0.75,\"content_type\"]='MISC'\n",
    "masters.loc[masters.apply(lambda k: SequenceMatcher(None, k['title'].lower(), 'announcements').ratio(), axis=1)>0.75,\"content_type\"]='MISC'\n",
    "masters.loc[masters.apply(lambda k: SequenceMatcher(None, k['title'].lower(), 'accepted manuscripts').ratio(), axis=1)>0.75,\"content_type\"]='MISC'\n",
    "masters.loc[masters.apply(lambda k: SequenceMatcher(None, k['title'].lower(), 'volume information').ratio(), axis=1)>0.75,\"content_type\"]='MISC'\n",
    "masters.loc[masters.apply(lambda k: SequenceMatcher(None, k['title'].lower(), 'submission of manuscripts to econometrica').ratio(), axis=1)>0.75,\"content_type\"]='MISC'\n",
    "masters.loc[masters.apply(lambda k: SequenceMatcher(None, k['title'].lower(), 'forthcoming papers').ratio(), axis=1)>0.75,\"content_type\"]='MISC'\n",
    "masters.loc[masters['title'].str.lower().str.match(r'(^|.*: )report of the'), 'content_type']='MISC'\n",
    "masters.loc[masters['title'].str.lower().str.match(r'.*report (of|on) the(.*)(editors|fellows)'), 'content_type']='MISC'\n",
    "masters.loc[masters['title'].str.lower().str.match(r'meeting of the econometric society'), 'content_type']='MISC'\n",
    "masters.loc[masters['title'].str.lower().str.match(r'(^|.*: )report of the.*')==True,'content_type']=\"MISC\"\n",
    "masters.loc[(masters['title'].str.lower().str.contains('econometric society')==True)&(masters[\"author\"].isna()==True),'content_type']=\"MISC\"\n",
    "masters.loc[masters['title'].str.lower().str.contains('econometrica')==True,'content_type']='MISC'\n",
    "masters.loc[(masters['title'].str.lower().str.contains('report')==True) & (masters['author'].isna()==True),'content_type']='MISC'\n",
    "masters.loc[masters['title'].str.lower().str.strip().str.match(r'treasurer(.*)report'),'content_type']='MISC'\n",
    "masters.loc[masters['title'].str.lower().str.strip().str.contains(r'report from the president'),'content_type']='MISC'\n",
    "masters.loc[((masters['title'].str.lower().str.contains('announcement of')==True)),'content_type']='MISC'\n",
    "masters.loc[((masters['title'].str.lower().str.match(r'editor(.*)note')==True)),'content_type']='MISC'\n",
    "masters.loc[((masters['title'].str.lower().str.match(r'(.*):program$')==True)),'content_type']='MISC'\n",
    "masters.loc[((masters['title'].str.lower().str.strip().str.match(r'accountant(.*)opinion')==True)),'content_type']='MISC'\n",
    "masters.loc[masters.apply(lambda k: SequenceMatcher(None, k['title'].lower(), 'unpublished research memoranda').ratio(), axis=1)>0.75,\"content_type\"]='MISC'\n",
    "masters.loc[((masters['title'].str.lower().str.strip().str.match(r'^(obituary|death(s?) of members)$')==True)),'content_type']='MISC'\n",
    "masters.loc[masters['title'].str.lower().str.match(r'.*fellows$'),'content_type']=\"MISC\"\n",
    "masters.loc[masters['title'].str.lower().str.contains('nomination of fellows'),'content_type']=\"MISC\"\n",
    "masters.loc[masters['title'].str.lower().str.match(r'.*editorial$'),'content_type']=\"MISC\"\n",
    "masters.loc[masters['title'].str.lower().str.match(r'(index of authors|summary of accounts)'),'content_type']='MISC'\n",
    "masters.loc[masters['title'].str.lower().str.match(r'.*(members|members and subscribers)$'),'content_type']='MISC'\n",
    "masters.loc[masters['title'].str.lower().str.contains('\\[illustration\\]'),'content_type']='MISC'\n",
    "masters.loc[masters['title'].str.lower().str.contains('\\[photograph.*\\]'),'content_type']='MISC'\n",
    "masters.loc[masters['title'].str.lower().str.contains('abstracts of papers'),'content_type']=\"MISC\"\n",
    "masters.loc[masters['title'].str.lower().str.contains('frisch medal award'),'content_type']=\"MISC\"\n",
    "masters.loc[masters['title'].str.lower().str.contains('award of frisch'),'content_type']=\"MISC\"\n",
    "masters.loc[masters['title'].str.lower().str.match(r'^membership list'),'content_type']=\"MISC\"\n",
    "masters.loc[masters['title'].str.lower().str.contains('additive preferences'),'content_type']=\"MISC\"\n",
    "masters.loc[masters['title'].str.lower().str.contains('communications'),'content_type']=\"MISC\"\n",
    "masters.loc[masters['title'].str.lower().str.contains('letters to the editor'),'content_type']=\"MISC\"\n",
    "masters.loc[masters['title'].str.lower().str.match(r'^program of.*'), 'content_type']=\"MISC\"\n",
    "masters.loc[masters['title'].str.lower().str.match(r'.*: program'),'content_type']=\"MISC\"\n",
    "masters.loc[masters['title'].str.lower().str.contains(r'call for papers'),'content_type']=\"MISC\"\n",
    "masters.loc[masters['title'].str.lower().str.match(r'election of (new |)fellow(|s)'),'content_type']=\"MISC\"\n",
    "masters.loc[masters['title'].str.lower().str.match(r'^index( of| to|$).*'),'content_type']=\"MISC\"\n",
    "masters.loc[masters['title'].str.lower().str.match(r'^introduction.*'),'content_type']=\"MISC\"\n",
    "masters.loc[masters['title'].str.lower().str.contains(r'notice of'),'content_type']=\"MISC\"\n",
    "masters.loc[masters['title'].str.lower().str.match(r'meetings (in|of)'),'content_type']=\"MISC\"\n",
    "masters.loc[masters['title'].str.lower().str.contains(r\"société d'économétrie\"), 'content_type']=\"MISC\"\n",
    "masters.loc[masters['title'].str.lower().str.contains(r\"election results\"), \"content_type\"]=\"MISC\"\n",
    "masters.loc[masters['title'].str.lower().str.contains(r\"compte.*congres\"),\"content_type\"]=\"MISC\"\n",
    "masters.loc[masters['title'].str.lower().str.match(r\"^(abbreviations|alphabetical list of periodicals|alphabetical list of associations, societies, etc.|author index|in memoriam|monograph prizes|national science foundation grant|news notes from other journals|nomination of fellow, 1984|north american regional conference|north american summer meeting, madison, wisconsin|note of appreciation|note on membership listing|notes of appreciation|notes to financial statements|omission of july issue|pagination error|postgraduate research in econometrics|postdoctoral study in statistics|reprints desired by european members|research information|second world congress|style manual|subject index|third world congress|travel grant to .* meeting|a note of appreciation|acknowledg(e|.)ment)$\"),\"content_type\"]=\"MISC\"\n",
    "masters.loc[masters['title'].str.lower().str.match(r\"^(announcement and tentative program|announcements and notes|announcements of the december 1957|appointment of co-editor|assistantships in econometrics|attendance at the oxford meeting, september 25-29, 1936|election of vice-president|fellowships|fellowships and grants|geographical list of subscribers|la conf.rence européenne de la soci.té d'.conometrie|miscellaneous index|north american summer meeting, madison, wisconsin|officers and council|officers and new council|plans for the atlantic city|plans for special publications|salute to ragnar frisch in honor of his sixty|rules for electing fellows as revised|statements of loss and fund balance for the years ended december|suggestions for fellowship|washington meeting with international|washington meeting, september|\\[program\\]: tenth indian econometric)|in memoriam \\[yehuda grunfeld\\]|obituary notice, dickson h. leavens|resumption of editorship by professor frisch\"), \"content_type\"]=\"MISC\"\n"
   ]
  },
  {
   "cell_type": "code",
   "execution_count": null,
   "id": "96cc63fd",
   "metadata": {},
   "outputs": [],
   "source": []
  },
  {
   "cell_type": "code",
   "execution_count": null,
   "id": "e0c7636a",
   "metadata": {},
   "outputs": [],
   "source": []
  },
  {
   "cell_type": "code",
   "execution_count": null,
   "id": "e9a1430f",
   "metadata": {},
   "outputs": [],
   "source": []
  },
  {
   "cell_type": "markdown",
   "id": "c7a26d55",
   "metadata": {},
   "source": [
    "\n",
    "## Classifying other content"
   ]
  },
  {
   "cell_type": "code",
   "execution_count": 260,
   "id": "cd16db7b",
   "metadata": {},
   "outputs": [
    {
     "data": {
      "text/plain": [
       "5574"
      ]
     },
     "execution_count": 260,
     "metadata": {},
     "output_type": "execute_result"
    }
   ],
   "source": [
    "sum(masters.content_type.isna())\n",
    "#masters.shape[0]"
   ]
  },
  {
   "cell_type": "code",
   "execution_count": 261,
   "id": "d02d39a1",
   "metadata": {},
   "outputs": [],
   "source": [
    "# masters.loc[masters['authors'].str.lower().str.match(r'^review(ed|) by(.*)')==True,'content_type']='Review' #reviews\n",
    "# masters.loc[(masters['title'].str.lower().str.match(r'(.*) by (.*)')==True) & (masters.author.isna()==True),'content_type']=None \n",
    "masters.loc[~(masters['author'].isna()) & (masters['reviewed-author'].isna()==False),'content_type']='Review'"
   ]
  },
  {
   "cell_type": "code",
   "execution_count": null,
   "id": "e1712c1a",
   "metadata": {},
   "outputs": [],
   "source": []
  },
  {
   "cell_type": "code",
   "execution_count": 262,
   "id": "77051785",
   "metadata": {},
   "outputs": [
    {
     "data": {
      "text/plain": [
       "73"
      ]
     },
     "execution_count": 262,
     "metadata": {},
     "output_type": "execute_result"
    }
   ],
   "source": [
    "masters.loc[masters.content_type.isna() & masters.title.str.lower().str.match(r'.*: (|a )comment(|.*)$')==True,'content_type']='Comment'\n",
    "masters[masters['content_type']=='Comment'].shape[0] #comments"
   ]
  },
  {
   "cell_type": "code",
   "execution_count": 263,
   "id": "37024f91",
   "metadata": {},
   "outputs": [
    {
     "data": {
      "text/plain": [
       "43"
      ]
     },
     "execution_count": 263,
     "metadata": {},
     "output_type": "execute_result"
    }
   ],
   "source": [
    "masters.loc[masters.content_type.isna() & masters.title.str.lower().str.match(r'.*(:|\\?) (|a )reply(| to.*)$')==True,'content_type']=\"Reply\"\n",
    "masters[masters['content_type']=='Reply'].shape[0]"
   ]
  },
  {
   "cell_type": "code",
   "execution_count": 264,
   "id": "07d479ad",
   "metadata": {},
   "outputs": [
    {
     "data": {
      "text/plain": [
       "14"
      ]
     },
     "execution_count": 264,
     "metadata": {},
     "output_type": "execute_result"
    }
   ],
   "source": [
    "masters.loc[masters.content_type.isna() & masters.title.str.lower().str.match(r'.*(:|\\?) (|a )rejoinder.*$')==True,'content_type']=\"Rejoinder\"\n",
    "masters[masters['content_type']=='Rejoinder'].shape[0]"
   ]
  },
  {
   "cell_type": "code",
   "execution_count": 265,
   "id": "e4118ba3",
   "metadata": {},
   "outputs": [
    {
     "data": {
      "text/plain": [
       "9"
      ]
     },
     "execution_count": 265,
     "metadata": {},
     "output_type": "execute_result"
    }
   ],
   "source": [
    "masters.loc[masters.content_type.isna() & masters.title.str.lower().str.match(r'.*: (|a )discussion$')==True,'content_type']=\"Discussion\"\n",
    "masters.loc[masters.content_type.isna() & masters.title.str.lower().str.match(r'(^|a )discussion(|.*)$')==True,'content_type']=\"Discussion\"\n",
    "masters.loc[masters.content_type.isna() & masters.title.str.lower().str.match(r'.*:.*(|a )discussion(|s)$')==True,'content_type']='Discussion'\n",
    "masters[masters['content_type']=='Discussion'].shape[0]"
   ]
  },
  {
   "cell_type": "code",
   "execution_count": 266,
   "id": "f432a860",
   "metadata": {},
   "outputs": [
    {
     "data": {
      "text/plain": [
       "5435"
      ]
     },
     "execution_count": 266,
     "metadata": {},
     "output_type": "execute_result"
    }
   ],
   "source": [
    "masters.loc[masters['content_type'].isna(),'content_type']=\"Article\"\n",
    "masters[masters['content_type']=='Article'].shape[0]"
   ]
  },
  {
   "cell_type": "code",
   "execution_count": null,
   "id": "6cc2055e",
   "metadata": {},
   "outputs": [],
   "source": []
  },
  {
   "cell_type": "code",
   "execution_count": 267,
   "id": "53651d71",
   "metadata": {},
   "outputs": [
    {
     "data": {
      "text/plain": [
       "9"
      ]
     },
     "execution_count": 267,
     "metadata": {},
     "output_type": "execute_result"
    }
   ],
   "source": [
    "#masters[masters['title'].str.lower().str.match(r'^\\washington notes$')==True]\n",
    "masters[masters.content_type.isna() & masters.title.str.lower().str.match(r'.*(:|\\?) (|a )rejoinder.*$')==True]\n",
    "\n",
    "masters[masters.content_type=='Discussion'].shape[0]"
   ]
  },
  {
   "cell_type": "code",
   "execution_count": null,
   "id": "53aabdd4",
   "metadata": {},
   "outputs": [],
   "source": []
  },
  {
   "cell_type": "markdown",
   "id": "743732fc",
   "metadata": {},
   "source": [
    "## Summary Statistics\n",
    "\n",
    "The values below show the full dataset. The masterlist is merged with pivot files to be able to sort by date."
   ]
  },
  {
   "cell_type": "code",
   "execution_count": 268,
   "id": "1939ac88",
   "metadata": {},
   "outputs": [
    {
     "data": {
      "text/html": [
       "<div>\n",
       "<style scoped>\n",
       "    .dataframe tbody tr th:only-of-type {\n",
       "        vertical-align: middle;\n",
       "    }\n",
       "\n",
       "    .dataframe tbody tr th {\n",
       "        vertical-align: top;\n",
       "    }\n",
       "\n",
       "    .dataframe thead th {\n",
       "        text-align: right;\n",
       "    }\n",
       "</style>\n",
       "<table border=\"1\" class=\"dataframe\">\n",
       "  <thead>\n",
       "    <tr style=\"text-align: right;\">\n",
       "      <th></th>\n",
       "      <th>count</th>\n",
       "    </tr>\n",
       "    <tr>\n",
       "      <th>content_type</th>\n",
       "      <th></th>\n",
       "    </tr>\n",
       "  </thead>\n",
       "  <tbody>\n",
       "    <tr>\n",
       "      <th>Article</th>\n",
       "      <td>5435</td>\n",
       "    </tr>\n",
       "    <tr>\n",
       "      <th>MISC</th>\n",
       "      <td>2890</td>\n",
       "    </tr>\n",
       "    <tr>\n",
       "      <th>Review</th>\n",
       "      <td>875</td>\n",
       "    </tr>\n",
       "    <tr>\n",
       "      <th>Comment</th>\n",
       "      <td>73</td>\n",
       "    </tr>\n",
       "    <tr>\n",
       "      <th>Reply</th>\n",
       "      <td>43</td>\n",
       "    </tr>\n",
       "    <tr>\n",
       "      <th>Rejoinder</th>\n",
       "      <td>14</td>\n",
       "    </tr>\n",
       "    <tr>\n",
       "      <th>Discussion</th>\n",
       "      <td>9</td>\n",
       "    </tr>\n",
       "  </tbody>\n",
       "</table>\n",
       "</div>"
      ],
      "text/plain": [
       "              count\n",
       "content_type       \n",
       "Article        5435\n",
       "MISC           2890\n",
       "Review          875\n",
       "Comment          73\n",
       "Reply            43\n",
       "Rejoinder        14\n",
       "Discussion        9"
      ]
     },
     "execution_count": 268,
     "metadata": {},
     "output_type": "execute_result"
    }
   ],
   "source": [
    "pd.DataFrame(masters['content_type'].value_counts())"
   ]
  },
  {
   "cell_type": "markdown",
   "id": "84e3354a",
   "metadata": {},
   "source": [
    "## Consider the pivots file\n",
    "At times, conference papers are structured differently to normal articles. Hence, it may be necessary to distinguish conference papers from common articles."
   ]
  },
  {
   "cell_type": "code",
   "execution_count": 269,
   "id": "ad5cf258",
   "metadata": {},
   "outputs": [
    {
     "data": {
      "text/plain": [
       "type\n",
       "N    447\n",
       "S      8\n",
       "Name: count, dtype: int64"
      ]
     },
     "execution_count": 269,
     "metadata": {},
     "output_type": "execute_result"
    }
   ],
   "source": [
    "pivots.loc[pivots.Jstor_issue_text.str.lower().str.match(r'(.*)(supplement|proceedings|annual meeting|survey|index|bibliographical directory)(.*)'),'type']=\"S\"\n",
    "pivots.loc[pivots.type.isna(),'type']='N'\n",
    "pivots.type.value_counts()"
   ]
  },
  {
   "cell_type": "code",
   "execution_count": null,
   "id": "ef5bc356",
   "metadata": {},
   "outputs": [],
   "source": []
  },
  {
   "cell_type": "markdown",
   "id": "a36f6b8d",
   "metadata": {},
   "source": [
    "Merge and calculate value counts of all the content types."
   ]
  },
  {
   "cell_type": "code",
   "execution_count": 270,
   "id": "d7a34c25",
   "metadata": {},
   "outputs": [],
   "source": [
    "result = pd.merge(masters, pivots[['issue_url','type']], how=\"left\", on=[\"issue_url\", \"issue_url\"])"
   ]
  },
  {
   "cell_type": "code",
   "execution_count": 271,
   "id": "f5be5465",
   "metadata": {},
   "outputs": [
    {
     "data": {
      "text/html": [
       "<div>\n",
       "<style scoped>\n",
       "    .dataframe tbody tr th:only-of-type {\n",
       "        vertical-align: middle;\n",
       "    }\n",
       "\n",
       "    .dataframe tbody tr th {\n",
       "        vertical-align: top;\n",
       "    }\n",
       "\n",
       "    .dataframe thead th {\n",
       "        text-align: right;\n",
       "    }\n",
       "</style>\n",
       "<table border=\"1\" class=\"dataframe\">\n",
       "  <thead>\n",
       "    <tr style=\"text-align: right;\">\n",
       "      <th></th>\n",
       "      <th>count</th>\n",
       "    </tr>\n",
       "    <tr>\n",
       "      <th>content_type</th>\n",
       "      <th></th>\n",
       "    </tr>\n",
       "  </thead>\n",
       "  <tbody>\n",
       "    <tr>\n",
       "      <th>Article</th>\n",
       "      <td>5435</td>\n",
       "    </tr>\n",
       "    <tr>\n",
       "      <th>MISC</th>\n",
       "      <td>2890</td>\n",
       "    </tr>\n",
       "    <tr>\n",
       "      <th>Review</th>\n",
       "      <td>875</td>\n",
       "    </tr>\n",
       "    <tr>\n",
       "      <th>Comment</th>\n",
       "      <td>73</td>\n",
       "    </tr>\n",
       "    <tr>\n",
       "      <th>Reply</th>\n",
       "      <td>43</td>\n",
       "    </tr>\n",
       "    <tr>\n",
       "      <th>Rejoinder</th>\n",
       "      <td>14</td>\n",
       "    </tr>\n",
       "    <tr>\n",
       "      <th>Discussion</th>\n",
       "      <td>9</td>\n",
       "    </tr>\n",
       "  </tbody>\n",
       "</table>\n",
       "</div>"
      ],
      "text/plain": [
       "              count\n",
       "content_type       \n",
       "Article        5435\n",
       "MISC           2890\n",
       "Review          875\n",
       "Comment          73\n",
       "Reply            43\n",
       "Rejoinder        14\n",
       "Discussion        9"
      ]
     },
     "execution_count": 271,
     "metadata": {},
     "output_type": "execute_result"
    }
   ],
   "source": [
    "pd.DataFrame(result.content_type.value_counts())"
   ]
  },
  {
   "cell_type": "code",
   "execution_count": 272,
   "id": "ea8fdd25",
   "metadata": {},
   "outputs": [
    {
     "data": {
      "text/html": [
       "<div>\n",
       "<style scoped>\n",
       "    .dataframe tbody tr th:only-of-type {\n",
       "        vertical-align: middle;\n",
       "    }\n",
       "\n",
       "    .dataframe tbody tr th {\n",
       "        vertical-align: top;\n",
       "    }\n",
       "\n",
       "    .dataframe thead th {\n",
       "        text-align: right;\n",
       "    }\n",
       "</style>\n",
       "<table border=\"1\" class=\"dataframe\">\n",
       "  <thead>\n",
       "    <tr style=\"text-align: right;\">\n",
       "      <th></th>\n",
       "      <th>count</th>\n",
       "    </tr>\n",
       "    <tr>\n",
       "      <th>content_type</th>\n",
       "      <th></th>\n",
       "    </tr>\n",
       "  </thead>\n",
       "  <tbody>\n",
       "    <tr>\n",
       "      <th>Article</th>\n",
       "      <td>5232</td>\n",
       "    </tr>\n",
       "    <tr>\n",
       "      <th>MISC</th>\n",
       "      <td>2741</td>\n",
       "    </tr>\n",
       "    <tr>\n",
       "      <th>Review</th>\n",
       "      <td>875</td>\n",
       "    </tr>\n",
       "    <tr>\n",
       "      <th>Comment</th>\n",
       "      <td>73</td>\n",
       "    </tr>\n",
       "    <tr>\n",
       "      <th>Reply</th>\n",
       "      <td>41</td>\n",
       "    </tr>\n",
       "    <tr>\n",
       "      <th>Rejoinder</th>\n",
       "      <td>10</td>\n",
       "    </tr>\n",
       "    <tr>\n",
       "      <th>Discussion</th>\n",
       "      <td>9</td>\n",
       "    </tr>\n",
       "  </tbody>\n",
       "</table>\n",
       "</div>"
      ],
      "text/plain": [
       "              count\n",
       "content_type       \n",
       "Article        5232\n",
       "MISC           2741\n",
       "Review          875\n",
       "Comment          73\n",
       "Reply            41\n",
       "Rejoinder        10\n",
       "Discussion        9"
      ]
     },
     "execution_count": 272,
     "metadata": {},
     "output_type": "execute_result"
    }
   ],
   "source": [
    "pd.DataFrame(result[result.year>1939].content_type.value_counts())"
   ]
  },
  {
   "cell_type": "code",
   "execution_count": 273,
   "id": "6d9c512d",
   "metadata": {},
   "outputs": [
    {
     "data": {
      "text/html": [
       "<div>\n",
       "<style scoped>\n",
       "    .dataframe tbody tr th:only-of-type {\n",
       "        vertical-align: middle;\n",
       "    }\n",
       "\n",
       "    .dataframe tbody tr th {\n",
       "        vertical-align: top;\n",
       "    }\n",
       "\n",
       "    .dataframe thead th {\n",
       "        text-align: right;\n",
       "    }\n",
       "</style>\n",
       "<table border=\"1\" class=\"dataframe\">\n",
       "  <thead>\n",
       "    <tr style=\"text-align: right;\">\n",
       "      <th></th>\n",
       "      <th>count</th>\n",
       "    </tr>\n",
       "    <tr>\n",
       "      <th>content_type</th>\n",
       "      <th></th>\n",
       "    </tr>\n",
       "  </thead>\n",
       "  <tbody>\n",
       "    <tr>\n",
       "      <th>Article</th>\n",
       "      <td>4583</td>\n",
       "    </tr>\n",
       "    <tr>\n",
       "      <th>MISC</th>\n",
       "      <td>2515</td>\n",
       "    </tr>\n",
       "    <tr>\n",
       "      <th>Review</th>\n",
       "      <td>875</td>\n",
       "    </tr>\n",
       "    <tr>\n",
       "      <th>Comment</th>\n",
       "      <td>67</td>\n",
       "    </tr>\n",
       "    <tr>\n",
       "      <th>Reply</th>\n",
       "      <td>39</td>\n",
       "    </tr>\n",
       "    <tr>\n",
       "      <th>Rejoinder</th>\n",
       "      <td>10</td>\n",
       "    </tr>\n",
       "    <tr>\n",
       "      <th>Discussion</th>\n",
       "      <td>9</td>\n",
       "    </tr>\n",
       "  </tbody>\n",
       "</table>\n",
       "</div>"
      ],
      "text/plain": [
       "              count\n",
       "content_type       \n",
       "Article        4583\n",
       "MISC           2515\n",
       "Review          875\n",
       "Comment          67\n",
       "Reply            39\n",
       "Rejoinder        10\n",
       "Discussion        9"
      ]
     },
     "execution_count": 273,
     "metadata": {},
     "output_type": "execute_result"
    }
   ],
   "source": [
    "pd.DataFrame(result[(result.year>1939) & (result.year<2011)].content_type.value_counts())"
   ]
  },
  {
   "cell_type": "code",
   "execution_count": 349,
   "id": "4ec24247",
   "metadata": {},
   "outputs": [],
   "source": [
    "result.to_excel(saveas, index=False)"
   ]
  },
  {
   "cell_type": "markdown",
   "id": "ae6a6e8e",
   "metadata": {},
   "source": [
    "## This section aims to match up Scopus records and Jstor articles\n",
    "If an article's affiliations, citations or abstracts are recorded on Scopus, I want to exclude them from the set of pdf's that are sent to docParser. Matching up the Scopus data is also useful for comparing the textual accuracy of OCR parsers. I use volume, issue, year and page numbers which are common to both the scopus data and the Jstor metadata to match articles. \n",
    "\n",
    "Then I use a sequence comparison between the journal titles of the matched articles to decide if the scopus data has been matched correctly. If the match ratio is below 70%, the title is investigated and if wrong, the scopus data for that matched article is eihter corrected or discarded. If the scopus data is missing all of affiliations, abstract and citations fields then the match is also discarded.\n",
    "\n",
    "Finally, if the document type of scopus is different to the classification done during the cleaning section, the article is reclassified according to the Scopus document type."
   ]
  },
  {
   "cell_type": "code",
   "execution_count": 317,
   "id": "545ff04c",
   "metadata": {},
   "outputs": [
    {
     "name": "stdout",
     "output_type": "stream",
     "text": [
      "(1716, 14)\n"
     ]
    },
    {
     "data": {
      "text/plain": [
       "issue_url                  object\n",
       "ISSN                       object\n",
       "URL                        object\n",
       "journal                    object\n",
       "number                     object\n",
       "publisher                  object\n",
       "title                      object\n",
       "urldate            datetime64[ns]\n",
       "volume                      int64\n",
       "year                        int64\n",
       "abstract                   object\n",
       "author                     object\n",
       "pages                      object\n",
       "reviewed-author            object\n",
       "uploaded                    int64\n",
       "content_type               object\n",
       "author_split               object\n",
       "title_10                   object\n",
       "type                       object\n",
       "dtype: object"
      ]
     },
     "execution_count": 317,
     "metadata": {},
     "output_type": "execute_result"
    }
   ],
   "source": [
    "cleaned=pd.read_excel(saveas)\n",
    "scopus['pages']=scopus['pages'].str.strip()\n",
    "print(scopus.shape)\n",
    "cleaned.dtypes"
   ]
  },
  {
   "cell_type": "code",
   "execution_count": 318,
   "id": "12e3c638",
   "metadata": {},
   "outputs": [
    {
     "data": {
      "text/plain": [
       "authorsSCO         object\n",
       "titleSCO           object\n",
       "journalSCO         object\n",
       "volume              int64\n",
       "number             object\n",
       "year                int64\n",
       "pages              object\n",
       "DOI                object\n",
       "affiliations       object\n",
       "abstractSCO        object\n",
       "citations          object\n",
       "document type      object\n",
       "index keywords     object\n",
       "author keywords    object\n",
       "dtype: object"
      ]
     },
     "execution_count": 318,
     "metadata": {},
     "output_type": "execute_result"
    }
   ],
   "source": [
    "scopus.dtypes"
   ]
  },
  {
   "cell_type": "code",
   "execution_count": 319,
   "id": "b9e925a3",
   "metadata": {},
   "outputs": [],
   "source": [
    "cleaned['volume']=cleaned['volume'].astype(int)\n",
    "scopus['volume']=scopus['volume'].astype(int)\n",
    "\n",
    "scopus['year']=scopus['year'].astype(int)\n",
    "cleaned['year']=cleaned['year'].astype(int)\n",
    "\n",
    "scopus['pages']=scopus['pages'].str.strip()\n",
    "cleaned['pages']=cleaned['pages'].astype(str)\n",
    "\n",
    "cleaned['number']=cleaned['number'].astype(str)\n",
    "scopus=scopus[scopus.number.isna()==False].reset_index(drop =True)\n",
    "scopus['number'] = scopus['number'].astype(int)\n",
    "scopus['number'] = scopus['number'].astype(str)"
   ]
  },
  {
   "cell_type": "code",
   "execution_count": 320,
   "id": "b575f8ec",
   "metadata": {},
   "outputs": [],
   "source": [
    "Merged=pd.merge(cleaned, scopus, on=['year','number','volume','pages'], how='left')\n"
   ]
  },
  {
   "cell_type": "code",
   "execution_count": null,
   "id": "5b2cfdcd",
   "metadata": {},
   "outputs": [],
   "source": []
  },
  {
   "cell_type": "code",
   "execution_count": 322,
   "id": "3c8644b6",
   "metadata": {},
   "outputs": [
    {
     "name": "stdout",
     "output_type": "stream",
     "text": [
      "1635\n",
      "(1716, 14)\n"
     ]
    }
   ],
   "source": [
    "#Note that we only have data up to 2020 in the masterlists because of the moving wall, but that's all that's required here so it's okay\n",
    "print(sum(scopus['year']<=2020))\n",
    "print(scopus.shape)"
   ]
  },
  {
   "cell_type": "code",
   "execution_count": 323,
   "id": "0e3ee15c",
   "metadata": {},
   "outputs": [],
   "source": [
    "# x=cleaned[['year','issue','volume','pages']].value_counts().reset_index()\n",
    "# checks=pd.merge(cleaned, x, on=['year', 'issue','volume','pages'], how='left')\n",
    "# y=pd.merge(checks[(pd.isna(checks[0])==False) & (checks[0]<2)], scopus, on=['year', 'issue','volume','pages'], how='left')\n",
    "# temp=checks[checks[0]>=2].rename(columns={'authors':'authors_x','title':'title_x','abstract':'abstract_x','journal':'journal_x'})\n",
    "# Merged=pd.concat([y,temp]).reset_index(drop=True)"
   ]
  },
  {
   "cell_type": "code",
   "execution_count": null,
   "id": "3e84d2fb",
   "metadata": {},
   "outputs": [],
   "source": []
  },
  {
   "cell_type": "code",
   "execution_count": 324,
   "id": "d3c2ae0f",
   "metadata": {},
   "outputs": [
    {
     "name": "stdout",
     "output_type": "stream",
     "text": [
      "2020\n",
      "0.7323943661971831\n",
      "0.4186046511627907\n",
      "https://www.jstor.org/stable/48597216\n",
      "vol: 88\n",
      "issue: 5\n",
      "pages: 2221-2228\n",
      "jstor: CORRIGENDUM TO “TRADING AND INFORMATION DIFFUSION IN OVER-THE-COUNTER MARKETS”\n",
      "scopus: Corrigendum to “TRADING AND INFORMATION DIFFUSION IN OVER-THE-COUNTER MARKETS”(Leisure/Loisir, (2012), 36, 1, (105), 10.3982/ECTA17318)\n",
      "jstor: Ana Babus and Péter Kondor and Yilin Wang\n",
      "scopus: Babus, A.--a--\n",
      "Kondor, P.--b--\n",
      "Wang, Y.--c-- \n",
      "scopus index: Index([1661], dtype='int64')\n",
      "37\n",
      "\n",
      "2014\n",
      "0.803921568627451\n",
      "0.44\n",
      "https://www.jstor.org/stable/24029298\n",
      "vol: 82\n",
      "issue: 5\n",
      "pages: 1945-1978\n",
      "jstor: PERCEIVED AMBIGUITY AND RELEVANT MEASURES\n",
      "scopus: Notes and comments: Perceived ambiguity and relevant measures\n",
      "jstor: Peter Klibanoff and Sujoy Mukerji and Kyoungwon Seo\n",
      "scopus: Klibanoff, P.--a--\n",
      "Mukerji, S.--b--\n",
      "Seo, K.--c-- \n",
      "scopus index: Index([1310], dtype='int64')\n",
      "567\n",
      "\n",
      "2013\n",
      "0.7928994082840237\n",
      "0.46296296296296297\n",
      "https://www.jstor.org/stable/23357275\n",
      "vol: 81\n",
      "issue: 1\n",
      "pages: 393-406\n",
      "jstor: CORRIGENDUM TO \"COMPETING MECHANISMS IN A COMMON VALUE ENVIRONMENT\"\n",
      "scopus: Corrigendum to \"Competing mechanisms in a common value environment\" [Econometrica, 68, (2000) 799-837]\n",
      "jstor: Bruno Biais and David Martimort and Jean-Charles Rochet\n",
      "scopus: Biais, B.--a--\n",
      "Martimort, D.--b--\n",
      "Rochet, J.-C.--c-- \n",
      "scopus index: Index([1068], dtype='int64')\n",
      "712\n",
      "\n",
      "2010\n",
      "0.8871595330739299\n",
      "0.4533333333333333\n",
      "https://www.jstor.org/stable/40664489\n",
      "vol: 78\n",
      "issue: 2\n",
      "pages: 719-733\n",
      "jstor: A DYNAMIC MODEL FOR BINARY PANEL DATA WITH UNOBSERVED HETEROGENEITY ADMITTING A          $\\sqrt n $          -CONSISTENT CONDITIONAL ESTIMATOR\n",
      "scopus: A dynamic model for binary panel data with unobserved heterogeneity admitting a √n-consistent conditional estimator\n",
      "jstor: Francesco Bartolucci and Valentina Nigro\n",
      "scopus: Bartolucci, F.--a--\n",
      "Nigro, V.--b-- \n",
      "scopus index: Index([934], dtype='int64')\n",
      "943\n",
      "\n",
      "2009\n",
      "0.7937743190661478\n",
      "0.4375\n",
      "https://www.jstor.org/stable/25621375\n",
      "vol: 77\n",
      "issue: 5\n",
      "pages: 1703-1704\n",
      "jstor: Corrigendum to \"Bootstrap Algorithms for Testing and Determining the Cointegration Rank in Var Models\"\n",
      "scopus: Erratum: Corrigendum to \"bootstrap algorithms for testing and determining the cointegration rank in VAR models\"((Econometrica)Vol. 77(5) ( 2009), 17031704)\n",
      "jstor: Anders Rygh Swensen\n",
      "scopus: Swensen, A.R.\n",
      "scopus index: Index([973], dtype='int64')\n",
      "996\n",
      "\n",
      "2009\n",
      "0.7619047619047619\n",
      "0.6238532110091743\n",
      "https://www.jstor.org/stable/40056532\n",
      "vol: 77\n",
      "issue: 1\n",
      "pages: 317-318\n",
      "jstor: Corrigendum to \"Existence and Uniqueness of Solutions to the Bellman Equation in the Unbounded Case\"\n",
      "scopus: Erratum: Existence and uniqueness of solutions to the Bellman equation in the unbounded case (Econometrica (2003) 71:5 (1519-1555))\n",
      "jstor: Juan Pablo Rincón-Zapatero and Carlos Rodríguez-Palmero\n",
      "scopus: Rincón-Zapatero, J.P.--a--\n",
      "Rodríguez-Palmero, C.--b-- \n",
      "scopus index: Index([1011], dtype='int64')\n",
      "1050\n",
      "\n",
      "2008\n",
      "0.6029411764705882\n",
      "0.4406779661016949\n",
      "https://www.jstor.org/stable/40056461\n",
      "vol: 76\n",
      "issue: 3\n",
      "pages: 661-662\n",
      "jstor: Corrigendum to \"Estimating Long Memory in Volatility\"\n",
      "scopus: Erratum: Estimating long memory in volatility (Economietrica (2005) 73 (1283-1328))\n",
      "jstor: Clifford M. Hurvich and Eric Moulines and Philippe Soulier\n",
      "scopus: Hurvich, C.M.--a--\n",
      "Moulines, E.--b--\n",
      "Soulier, P.--b-- --c-- \n",
      "scopus index: Index([703], dtype='int64')\n",
      "1104\n",
      "\n",
      "2006\n",
      "0.7373737373737373\n",
      "0.5142857142857142\n",
      "https://www.jstor.org/stable/4123090\n",
      "vol: 74\n",
      "issue: 6\n",
      "pages: 1723-1724\n",
      "jstor: Corrigendum to \"Existence of Equilibrium in Single and Double Private Value Auctions\"\n",
      "scopus: Erratum: Existence of equilibrium in single and double private value auctions (Econometrica (November 2006) 74:6)\n",
      "jstor: Luciano I. de Castro\n",
      "scopus: De Castro, L.I.\n",
      "scopus index: Index([789], dtype='int64')\n",
      "1211\n",
      "\n",
      "2004\n",
      "0.7186147186147186\n",
      "0.41333333333333333\n",
      "https://www.jstor.org/stable/3598773\n",
      "vol: 72\n",
      "issue: 6\n",
      "pages: 1927-1929\n",
      "jstor: Corrigendum to \"Communication and Equilibrium in Discontinuous Games of Incomplete Information\"\n",
      "scopus: Erratum: Communication and equilibrium in discontinuous games of incomplete information (Econometrica (September 2002) 70:5 (1711-1740))\n",
      "jstor: Matthew O. Jackson and Leo K. Simon and Jeroen M. Swinkels and William R. Zame\n",
      "scopus: Jackson, M.O.--a--\n",
      "Simon, L.K.--b--\n",
      "Swinkels, J.M.--c--\n",
      "Zame, W.R.--d-- \n",
      "scopus index: Index([550], dtype='int64')\n",
      "1377\n",
      "\n",
      "2002\n",
      "0.8412698412698413\n",
      "0.54\n",
      "https://www.jstor.org/stable/3081993\n",
      "vol: 70\n",
      "issue: 6\n",
      "pages: 2481-2488\n",
      "jstor: Rationalizing Choice Functions by Multiple Rationales\n",
      "scopus: Notes and comments: Rationalizing choice functions by multiple rationales\n",
      "jstor: Gil Kalai and Ariel Rubinstein and Ran Spiegler\n",
      "scopus: Kalai, G.--a--\n",
      "Rubinstein, A.--b--\n",
      "Spiegler, R.--c-- \n",
      "scopus index: Index([336], dtype='int64')\n",
      "1566\n",
      "\n",
      "1981\n",
      "0.9080459770114943\n",
      "0.5882352941176471\n",
      "https://www.jstor.org/stable/1911522\n",
      "vol: 49\n",
      "issue: 3\n",
      "pages: 781-793\n",
      "jstor: Several Tests for Model Specification in the Presence of Alternative Hypotheses\n",
      "scopus: Several tests for model specification in the presence of alternative hypotheses ( econometric).\n",
      "jstor: Russell Davidson and James G. MacKinnon\n",
      "scopus: Davidson, R., Mackinnon, J.G.\n",
      "scopus index: Index([155], dtype='int64')\n",
      "4069\n",
      "\n",
      "1980\n",
      "0.7913669064748201\n",
      "0.5818181818181818\n",
      "https://www.jstor.org/stable/1912823\n",
      "vol: 48\n",
      "issue: 6\n",
      "pages: 1541-1546\n",
      "jstor: Extending the Classical Normal Errors-in-Variables Model\n",
      "scopus: Extending the classical normal errors in-variables model ( statistical techniques).\n",
      "jstor: Steven Garber and Steven Klepper\n",
      "scopus: Garber, S., Klepper, S.\n",
      "scopus index: Index([159], dtype='int64')\n",
      "4178\n",
      "\n",
      "1980\n",
      "0.8057553956834532\n",
      "0.5\n",
      "https://www.jstor.org/stable/1912824\n",
      "vol: 48\n",
      "issue: 6\n",
      "pages: 1547-1551\n",
      "jstor: On Seemingly Unrelated Regressions with Error Components\n",
      "scopus: On seemingly unrelated regressions with error components ( statistical techniques).\n",
      "jstor: Badi H. Baltagi\n",
      "scopus: Baltagi, B.H.\n",
      "scopus index: Index([164], dtype='int64')\n",
      "4179\n",
      "\n",
      "1980\n",
      "0.8695652173913043\n",
      "0.6470588235294118\n",
      "https://www.jstor.org/stable/1912825\n",
      "vol: 48\n",
      "issue: 6\n",
      "pages: 1553-1563\n",
      "jstor: The Durbin-Watson Test for Serial Correlation when there is no Intercept in the Regression\n",
      "scopus: The Durbin-Watson test for serial correlation when there is no intercept in the regression ( statistical techniques).\n",
      "jstor: R. W. Farebrother\n",
      "scopus: Farebrother, R.W.\n",
      "scopus index: Index([161], dtype='int64')\n",
      "4180\n",
      "\n",
      "1980\n",
      "0.8383233532934131\n",
      "0.37037037037037035\n",
      "https://www.jstor.org/stable/1912173\n",
      "vol: 48\n",
      "issue: 5\n",
      "pages: 1099-1105\n",
      "jstor: Approximating a Truncated Normal Regression with the Method of Moments\n",
      "scopus: Approximating a truncated normal regression with the method of moments ( statistical techniques).\n",
      "jstor: Randall J. Olsen\n",
      "scopus: Olsen, R.J.\n",
      "scopus index: Index([169], dtype='int64')\n",
      "4192\n",
      "\n",
      "1980\n",
      "0.8984375\n",
      "0.5\n",
      "https://www.jstor.org/stable/1912174\n",
      "vol: 48\n",
      "issue: 5\n",
      "pages: 1107-1138\n",
      "jstor: Some Approximations to the Distribution of Econometric Criteria which are Asymptotically Distributed as Chi-Squared\n",
      "scopus: Some approximations to the distribution of econometric criteria which are asymptotically distributed as Chi-squared (statistical techniques).\n",
      "jstor: J. D. Sargan\n",
      "scopus: Sargan, J.D.\n",
      "scopus index: Index([167], dtype='int64')\n",
      "4193\n",
      "\n",
      "1980\n",
      "0.7567567567567568\n",
      "0.45454545454545453\n",
      "https://www.jstor.org/stable/1913132\n",
      "vol: 48\n",
      "issue: 3\n",
      "pages: 721-746\n",
      "jstor: Nonlinear Regression on Cross-Section Data\n",
      "scopus: Nonlinear regression on cross-section data ( statistical techniques).\n",
      "jstor: Halbert White\n",
      "scopus: White, H.\n",
      "scopus index: Index([165], dtype='int64')\n",
      "4247\n",
      "\n",
      "1979\n",
      "0.9213483146067416\n",
      "0.42857142857142855\n",
      "https://www.jstor.org/stable/1914014\n",
      "vol: 47\n",
      "issue: 6\n",
      "pages: 1499-1512\n",
      "jstor: Estimating the Time Costs of Highway Congestion\n",
      "scopus: Estimating the time of highway congestion.\n",
      "jstor: Donald N. Dewees\n",
      "scopus: Dewees, D.N.\n",
      "scopus index: Index([176], dtype='int64')\n",
      "4329\n",
      "\n",
      "18\n"
     ]
    }
   ],
   "source": [
    "count=0\n",
    "for m in Merged.index:\n",
    "    if(pd.isna(Merged.iloc[m]['titleSCO'])==False):\n",
    "        ratio=SequenceMatcher(None, Merged.iloc[m]['title'].lower(), Merged.iloc[m]['titleSCO'].lower()).ratio()\n",
    "        if((ratio<0.95) & (Merged.iloc[m]['content_type']!='MISC')):\n",
    "            print(Merged.iloc[m]['year'])\n",
    "            print(ratio)\n",
    "            count+=1\n",
    "            if (pd.isna(Merged.iloc[m]['author'])==False) & (pd.isna(Merged.iloc[m]['authorsSCO'])==False):\n",
    "                A_ratio=SequenceMatcher(None, Merged.iloc[m]['author'].lower(), Merged.iloc[m]['authorsSCO'].lower()).ratio()\n",
    "                print(A_ratio)\n",
    "            else:\n",
    "                print('Author issue')\n",
    "                print(Merged.iloc[m]['author'])\n",
    "                print(Merged.iloc[m]['authorSCO'])\n",
    "            print(Merged.iloc[m]['URL'])\n",
    "            print('vol: '+str(Merged.iloc[m]['volume']))\n",
    "            print('issue: '+str(Merged.iloc[m]['number']))\n",
    "            print('pages: '+Merged.iloc[m]['pages'])\n",
    "            print('jstor: '+Merged.iloc[m]['title'])\n",
    "            print('scopus: '+Merged.iloc[m]['titleSCO'])\n",
    "            print('jstor: '+str(Merged.iloc[m]['author']))\n",
    "            print('scopus: '+str(Merged.iloc[m]['authorsSCO']))\n",
    "            print('scopus index: '+str(scopus[scopus['titleSCO']==Merged.iloc[m]['titleSCO']].index))\n",
    "            print(m)\n",
    "            print()\n",
    "print(count)"
   ]
  },
  {
   "cell_type": "code",
   "execution_count": 325,
   "id": "4b29f096",
   "metadata": {},
   "outputs": [
    {
     "data": {
      "text/plain": [
       "1602"
      ]
     },
     "execution_count": 325,
     "metadata": {},
     "output_type": "execute_result"
    }
   ],
   "source": [
    "sum(Merged['titleSCO'].isna()==False)"
   ]
  },
  {
   "cell_type": "code",
   "execution_count": 326,
   "id": "50fc43a2",
   "metadata": {},
   "outputs": [
    {
     "data": {
      "text/html": [
       "<div>\n",
       "<style scoped>\n",
       "    .dataframe tbody tr th:only-of-type {\n",
       "        vertical-align: middle;\n",
       "    }\n",
       "\n",
       "    .dataframe tbody tr th {\n",
       "        vertical-align: top;\n",
       "    }\n",
       "\n",
       "    .dataframe thead th {\n",
       "        text-align: right;\n",
       "    }\n",
       "</style>\n",
       "<table border=\"1\" class=\"dataframe\">\n",
       "  <thead>\n",
       "    <tr style=\"text-align: right;\">\n",
       "      <th></th>\n",
       "      <th>issue_url</th>\n",
       "      <th>ISSN</th>\n",
       "      <th>URL</th>\n",
       "      <th>journal</th>\n",
       "      <th>number</th>\n",
       "      <th>publisher</th>\n",
       "      <th>title</th>\n",
       "      <th>urldate</th>\n",
       "      <th>volume</th>\n",
       "      <th>year</th>\n",
       "      <th>...</th>\n",
       "      <th>authorsSCO</th>\n",
       "      <th>titleSCO</th>\n",
       "      <th>journalSCO</th>\n",
       "      <th>DOI</th>\n",
       "      <th>affiliations</th>\n",
       "      <th>abstractSCO</th>\n",
       "      <th>citations</th>\n",
       "      <th>document type</th>\n",
       "      <th>index keywords</th>\n",
       "      <th>author keywords</th>\n",
       "    </tr>\n",
       "  </thead>\n",
       "  <tbody>\n",
       "    <tr>\n",
       "      <th>0</th>\n",
       "      <td>https://www.jstor.org/stable/10.2307/e48507458</td>\n",
       "      <td>00129682, 14680262</td>\n",
       "      <td>https://www.jstor.org/stable/48628737</td>\n",
       "      <td>Econometrica</td>\n",
       "      <td>6</td>\n",
       "      <td>[Wiley, The Econometric Society]</td>\n",
       "      <td>Front Matter</td>\n",
       "      <td>2023-09-05</td>\n",
       "      <td>88</td>\n",
       "      <td>2020</td>\n",
       "      <td>...</td>\n",
       "      <td>NaN</td>\n",
       "      <td>NaN</td>\n",
       "      <td>NaN</td>\n",
       "      <td>NaN</td>\n",
       "      <td>NaN</td>\n",
       "      <td>NaN</td>\n",
       "      <td>NaN</td>\n",
       "      <td>NaN</td>\n",
       "      <td>NaN</td>\n",
       "      <td>NaN</td>\n",
       "    </tr>\n",
       "    <tr>\n",
       "      <th>1</th>\n",
       "      <td>https://www.jstor.org/stable/10.2307/e48507458</td>\n",
       "      <td>00129682, 14680262</td>\n",
       "      <td>https://www.jstor.org/stable/48628738</td>\n",
       "      <td>Econometrica</td>\n",
       "      <td>6</td>\n",
       "      <td>[Wiley, The Econometric Society]</td>\n",
       "      <td>ON THE INFORMATIVENESS OF DESCRIPTIVE STATISTICS FOR STRUCTURAL ESTIMATES</td>\n",
       "      <td>2023-09-05</td>\n",
       "      <td>88</td>\n",
       "      <td>2020</td>\n",
       "      <td>...</td>\n",
       "      <td>Andrews, I.--a-- --d--\\nGentzkow, M.--b-- --d-- --d-- \\nShapiro, J.M.--c-- --d-- --d--</td>\n",
       "      <td>On the Informativeness of Descriptive Statistics for Structural Estimates</td>\n",
       "      <td>Econometrica</td>\n",
       "      <td>10.3982/ECTA16768</td>\n",
       "      <td>a--Department of Economics, Harvard University, United States\\nb--Department of Economics, Stanford University, Unit...</td>\n",
       "      <td>We propose a way to formalize the relationship between descriptive analysis and structural estimation. A researcher ...</td>\n",
       "      <td>Alatas, V., Banerjee, A., Hanna, R., Olken, B.A., Purnamasari, R., Wai-Poi, M.|Self-Targeting: Evidence From a Field...</td>\n",
       "      <td>Article</td>\n",
       "      <td>NaN</td>\n",
       "      <td>Local misspecification;  transparency</td>\n",
       "    </tr>\n",
       "    <tr>\n",
       "      <th>2</th>\n",
       "      <td>https://www.jstor.org/stable/10.2307/e48507458</td>\n",
       "      <td>00129682, 14680262</td>\n",
       "      <td>https://www.jstor.org/stable/48628739</td>\n",
       "      <td>Econometrica</td>\n",
       "      <td>6</td>\n",
       "      <td>[Wiley, The Econometric Society]</td>\n",
       "      <td>A COMMENT ON: “On the Informativeness of Descriptive Statistics for Structural Estimates” by Isaiah Andrews, Matthew...</td>\n",
       "      <td>2023-09-05</td>\n",
       "      <td>88</td>\n",
       "      <td>2020</td>\n",
       "      <td>...</td>\n",
       "      <td>Bonhomme, S.</td>\n",
       "      <td>A Comment on: “On the Informativeness of Descriptive Statistics for Structural Estimates” by Isaiah Andrews, Matthew...</td>\n",
       "      <td>Econometrica</td>\n",
       "      <td>10.3982/ECTA18789</td>\n",
       "      <td>Department of Economics, University of Chicago, United States</td>\n",
       "      <td>NaN</td>\n",
       "      <td>Andrews, I., Gentzkow, M., Shapiro, J.M.|Measuring the Sensitivity of Parameter Estimates to Estimation Moments|(201...</td>\n",
       "      <td>Article</td>\n",
       "      <td>NaN</td>\n",
       "      <td>NaN</td>\n",
       "    </tr>\n",
       "    <tr>\n",
       "      <th>3</th>\n",
       "      <td>https://www.jstor.org/stable/10.2307/e48507458</td>\n",
       "      <td>00129682, 14680262</td>\n",
       "      <td>https://www.jstor.org/stable/48628740</td>\n",
       "      <td>Econometrica</td>\n",
       "      <td>6</td>\n",
       "      <td>[Wiley, The Econometric Society]</td>\n",
       "      <td>A COMMENT ON: “On the Informativeness of Descriptive Statistics for Structural Estimates” by Isaiah Andrews, Matthew...</td>\n",
       "      <td>2023-09-05</td>\n",
       "      <td>88</td>\n",
       "      <td>2020</td>\n",
       "      <td>...</td>\n",
       "      <td>Kitamura, Y.</td>\n",
       "      <td>A Comment on: “On the Informativeness of Descriptive Statistics for Structural Estimates” by Isaiah Andrews, Matthew...</td>\n",
       "      <td>Econometrica</td>\n",
       "      <td>10.3982/ECTA18788</td>\n",
       "      <td>Department of Economics, Cowles Foundation, Yale University, United States</td>\n",
       "      <td>NaN</td>\n",
       "      <td>Andrews, I., Gentzkow, M., Shapiro, J.M.|Measuring the Sensitivity of Parameter Estimates to Estimation Moments|(201...</td>\n",
       "      <td>Article</td>\n",
       "      <td>NaN</td>\n",
       "      <td>NaN</td>\n",
       "    </tr>\n",
       "    <tr>\n",
       "      <th>4</th>\n",
       "      <td>https://www.jstor.org/stable/10.2307/e48507458</td>\n",
       "      <td>00129682, 14680262</td>\n",
       "      <td>https://www.jstor.org/stable/48628741</td>\n",
       "      <td>Econometrica</td>\n",
       "      <td>6</td>\n",
       "      <td>[Wiley, The Econometric Society]</td>\n",
       "      <td>A COMMENT ON: “On the Informativeness of Descriptive Statistics for Structural Estimates” by Isaiah Andrews, Matthew...</td>\n",
       "      <td>2023-09-05</td>\n",
       "      <td>88</td>\n",
       "      <td>2020</td>\n",
       "      <td>...</td>\n",
       "      <td>Santos, A.</td>\n",
       "      <td>A Comment on: “On the Informativeness of Descriptive Statistics for Structural Estimates” by Isaiah Andrews, Matthew...</td>\n",
       "      <td>Econometrica</td>\n",
       "      <td>10.3982/ECTA18787</td>\n",
       "      <td>Department of Economics, UCLA, United States</td>\n",
       "      <td>NaN</td>\n",
       "      <td>Andrews, I., Gentzkow, M., Shapiro, J.M.|(2020) On the Informativeness of Descriptive Statistics for Structural Esti...</td>\n",
       "      <td>Article</td>\n",
       "      <td>NaN</td>\n",
       "      <td>NaN</td>\n",
       "    </tr>\n",
       "  </tbody>\n",
       "</table>\n",
       "<p>5 rows × 29 columns</p>\n",
       "</div>"
      ],
      "text/plain": [
       "                                        issue_url                ISSN  \\\n",
       "0  https://www.jstor.org/stable/10.2307/e48507458  00129682, 14680262   \n",
       "1  https://www.jstor.org/stable/10.2307/e48507458  00129682, 14680262   \n",
       "2  https://www.jstor.org/stable/10.2307/e48507458  00129682, 14680262   \n",
       "3  https://www.jstor.org/stable/10.2307/e48507458  00129682, 14680262   \n",
       "4  https://www.jstor.org/stable/10.2307/e48507458  00129682, 14680262   \n",
       "\n",
       "                                     URL       journal number  \\\n",
       "0  https://www.jstor.org/stable/48628737  Econometrica      6   \n",
       "1  https://www.jstor.org/stable/48628738  Econometrica      6   \n",
       "2  https://www.jstor.org/stable/48628739  Econometrica      6   \n",
       "3  https://www.jstor.org/stable/48628740  Econometrica      6   \n",
       "4  https://www.jstor.org/stable/48628741  Econometrica      6   \n",
       "\n",
       "                          publisher  \\\n",
       "0  [Wiley, The Econometric Society]   \n",
       "1  [Wiley, The Econometric Society]   \n",
       "2  [Wiley, The Econometric Society]   \n",
       "3  [Wiley, The Econometric Society]   \n",
       "4  [Wiley, The Econometric Society]   \n",
       "\n",
       "                                                                                                                     title  \\\n",
       "0                                                                                                             Front Matter   \n",
       "1                                                ON THE INFORMATIVENESS OF DESCRIPTIVE STATISTICS FOR STRUCTURAL ESTIMATES   \n",
       "2  A COMMENT ON: “On the Informativeness of Descriptive Statistics for Structural Estimates” by Isaiah Andrews, Matthew...   \n",
       "3  A COMMENT ON: “On the Informativeness of Descriptive Statistics for Structural Estimates” by Isaiah Andrews, Matthew...   \n",
       "4  A COMMENT ON: “On the Informativeness of Descriptive Statistics for Structural Estimates” by Isaiah Andrews, Matthew...   \n",
       "\n",
       "     urldate  volume  year  ...  \\\n",
       "0 2023-09-05      88  2020  ...   \n",
       "1 2023-09-05      88  2020  ...   \n",
       "2 2023-09-05      88  2020  ...   \n",
       "3 2023-09-05      88  2020  ...   \n",
       "4 2023-09-05      88  2020  ...   \n",
       "\n",
       "                                                                                authorsSCO  \\\n",
       "0                                                                                      NaN   \n",
       "1  Andrews, I.--a-- --d--\\nGentzkow, M.--b-- --d-- --d-- \\nShapiro, J.M.--c-- --d-- --d--    \n",
       "2                                                                             Bonhomme, S.   \n",
       "3                                                                             Kitamura, Y.   \n",
       "4                                                                               Santos, A.   \n",
       "\n",
       "                                                                                                                  titleSCO  \\\n",
       "0                                                                                                                      NaN   \n",
       "1                                                On the Informativeness of Descriptive Statistics for Structural Estimates   \n",
       "2  A Comment on: “On the Informativeness of Descriptive Statistics for Structural Estimates” by Isaiah Andrews, Matthew...   \n",
       "3  A Comment on: “On the Informativeness of Descriptive Statistics for Structural Estimates” by Isaiah Andrews, Matthew...   \n",
       "4  A Comment on: “On the Informativeness of Descriptive Statistics for Structural Estimates” by Isaiah Andrews, Matthew...   \n",
       "\n",
       "     journalSCO                DOI  \\\n",
       "0           NaN                NaN   \n",
       "1  Econometrica  10.3982/ECTA16768   \n",
       "2  Econometrica  10.3982/ECTA18789   \n",
       "3  Econometrica  10.3982/ECTA18788   \n",
       "4  Econometrica  10.3982/ECTA18787   \n",
       "\n",
       "                                                                                                              affiliations  \\\n",
       "0                                                                                                                      NaN   \n",
       "1  a--Department of Economics, Harvard University, United States\\nb--Department of Economics, Stanford University, Unit...   \n",
       "2                                                            Department of Economics, University of Chicago, United States   \n",
       "3                                               Department of Economics, Cowles Foundation, Yale University, United States   \n",
       "4                                                                             Department of Economics, UCLA, United States   \n",
       "\n",
       "                                                                                                               abstractSCO  \\\n",
       "0                                                                                                                      NaN   \n",
       "1  We propose a way to formalize the relationship between descriptive analysis and structural estimation. A researcher ...   \n",
       "2                                                                                                                      NaN   \n",
       "3                                                                                                                      NaN   \n",
       "4                                                                                                                      NaN   \n",
       "\n",
       "                                                                                                                 citations  \\\n",
       "0                                                                                                                      NaN   \n",
       "1  Alatas, V., Banerjee, A., Hanna, R., Olken, B.A., Purnamasari, R., Wai-Poi, M.|Self-Targeting: Evidence From a Field...   \n",
       "2  Andrews, I., Gentzkow, M., Shapiro, J.M.|Measuring the Sensitivity of Parameter Estimates to Estimation Moments|(201...   \n",
       "3  Andrews, I., Gentzkow, M., Shapiro, J.M.|Measuring the Sensitivity of Parameter Estimates to Estimation Moments|(201...   \n",
       "4  Andrews, I., Gentzkow, M., Shapiro, J.M.|(2020) On the Informativeness of Descriptive Statistics for Structural Esti...   \n",
       "\n",
       "  document type index keywords                        author keywords  \n",
       "0           NaN            NaN                                    NaN  \n",
       "1       Article            NaN  Local misspecification;  transparency  \n",
       "2       Article            NaN                                    NaN  \n",
       "3       Article            NaN                                    NaN  \n",
       "4       Article            NaN                                    NaN  \n",
       "\n",
       "[5 rows x 29 columns]"
      ]
     },
     "execution_count": 326,
     "metadata": {},
     "output_type": "execute_result"
    }
   ],
   "source": [
    "Merged.head()"
   ]
  },
  {
   "cell_type": "code",
   "execution_count": 327,
   "id": "1fa4c2f7",
   "metadata": {},
   "outputs": [],
   "source": [
    "Merged.to_excel(base_path+'/Combined/ECTA_M_sco_du.xlsx', index=False)"
   ]
  },
  {
   "cell_type": "code",
   "execution_count": 328,
   "id": "fd28c435",
   "metadata": {},
   "outputs": [],
   "source": [
    "Merged=pd.read_excel(base_path+'/Combined/ECTA_M_sco_du.xlsx')"
   ]
  },
  {
   "cell_type": "code",
   "execution_count": null,
   "id": "68aeb59f",
   "metadata": {},
   "outputs": [],
   "source": []
  },
  {
   "cell_type": "markdown",
   "id": "a6d40516",
   "metadata": {},
   "source": [
    "## Scopus Coverage\n",
    "Some plots to visualize scopus coverage for references and affiliations."
   ]
  },
  {
   "cell_type": "code",
   "execution_count": 329,
   "id": "276526a9",
   "metadata": {},
   "outputs": [
    {
     "data": {
      "text/plain": [
       "<matplotlib.legend.Legend at 0x28d50f450>"
      ]
     },
     "execution_count": 329,
     "metadata": {},
     "output_type": "execute_result"
    },
    {
     "data": {
      "image/png": "[encoded data removed]",
      "text/plain": [
       "<Figure size 2500x1000 with 1 Axes>"
      ]
     },
     "metadata": {},
     "output_type": "display_data"
    }
   ],
   "source": [
    "plt.rcParams[\"figure.figsize\"] = (25, 10)\n",
    "dta=Merged[(Merged['content_type']!='MISC')]['year'].value_counts()\n",
    "plt.bar(dta.index,dta, label='Articles', alpha=0.4)\n",
    "dta2=Merged[(Merged['affiliations'].isnull()==False) & (Merged['content_type']!='MISC')]['year'].value_counts()\n",
    "dta3=scopus[(scopus['affiliations'].isnull()==False) & (scopus['year']>2020)]['year'].value_counts()\n",
    "plt.bar(dta2.index, dta2, label='Scopus coverage', alpha=0.4)\n",
    "plt.bar(dta3.index, dta3, label='Additional Scopus coverage', alpha=0.4)\n",
    "plt.title('Barchart of ECTA Scopus coverage for affiliations overlaying counts of non-miscellaneous documents in \\nECTA for each year between 1940 and 2018 (inclusive). Note that JSTOR coverage ends at 2018.', fontsize=20)\n",
    "plt.xticks(np.arange(1930, 2030, 10))\n",
    "plt.legend(prop={'size': 20})"
   ]
  },
  {
   "cell_type": "code",
   "execution_count": null,
   "id": "94fae19b",
   "metadata": {},
   "outputs": [],
   "source": []
  },
  {
   "cell_type": "code",
   "execution_count": 330,
   "id": "9ffaac5d",
   "metadata": {},
   "outputs": [
    {
     "data": {
      "text/plain": [
       "<matplotlib.legend.Legend at 0x28d020790>"
      ]
     },
     "execution_count": 330,
     "metadata": {},
     "output_type": "execute_result"
    },
    {
     "data": {
      "image/png": "[encoded data removed]",
      "text/plain": [
       "<Figure size 2500x1000 with 1 Axes>"
      ]
     },
     "metadata": {},
     "output_type": "display_data"
    }
   ],
   "source": [
    "plt.rcParams[\"figure.figsize\"] = (25, 10)\n",
    "dta=Merged['year'].value_counts()\n",
    "dta.index\n",
    "plt.bar(dta.index, dta, alpha=0.4, label='Articles')\n",
    "\n",
    "dta4=Merged[(Merged['citations'].isnull()==False) & (Merged['content_type']!='MISC')]['year'].value_counts()\n",
    "plt.bar(dta4.index, dta4, alpha=0.4, label='Scopus coverage')\n",
    "dta5=scopus[(scopus['citations'].isnull()==False) & (scopus['year']>2020)]['year'].value_counts()\n",
    "plt.bar(dta5.index, dta5, alpha=0.4, label='Addtional Scopus coverage')\n",
    "plt.title('Barchart of ECTA Scopus coverage for references overlaying counts of non-miscellaneous documents in ECTA for each year before 2018 (inclusive)')\n",
    "plt.xticks(np.arange(1930, 2030, 10))\n",
    "plt.legend()"
   ]
  },
  {
   "cell_type": "code",
   "execution_count": null,
   "id": "8797b34c",
   "metadata": {},
   "outputs": [],
   "source": []
  }
 ],
 "metadata": {
  "kernelspec": {
   "display_name": "lib",
   "language": "python",
   "name": "lib"
  },
  "language_info": {
   "codemirror_mode": {
    "name": "ipython",
    "version": 3
   },
   "file_extension": ".py",
   "mimetype": "text/x-python",
   "name": "python",
   "nbconvert_exporter": "python",
   "pygments_lexer": "ipython3",
   "version": "3.11.2"
  }
 },
 "nbformat": 4,
 "nbformat_minor": 5
}
