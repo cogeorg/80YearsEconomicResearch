{
 "cells": [
  {
   "cell_type": "markdown",
   "id": "497d54cc",
   "metadata": {},
   "source": [
    "# RES Cleaning\n",
    "\n",
    "This notebook walks through how the RES articles were sorted into categories of articles and non-articles.\n",
    "\n",
    "## Load Libraries"
   ]
  },
  {
   "cell_type": "code",
   "execution_count": 25,
   "id": "bd3eef3a",
   "metadata": {},
   "outputs": [],
   "source": [
    "from tokenize import Ignore\n",
    "import pandas as pd\n",
    "import time\n",
    "from os import path\n",
    "import sys\n",
    "from pathlib import Path\n",
    "from PyPDF2 import PdfFileReader, PdfFileWriter\n",
    "import re\n",
    "import os\n",
    "from difflib import SequenceMatcher\n",
    "import datetime\n",
    "import numpy as np\n",
    "import matplotlib.pyplot as plt\n",
    "\n",
    "pd.set_option('display.max_rows',100)\n",
    "pd.set_option('display.max_colwidth', 200)    "
   ]
  },
  {
   "cell_type": "markdown",
   "id": "ba58244a",
   "metadata": {},
   "source": [
    "## Load Files\n",
    "\n",
    "Replace the file paths below to match local file paths. Note: comment out files that are not available eg: datadumps."
   ]
  },
  {
   "cell_type": "code",
   "execution_count": 26,
   "id": "f7e2d430",
   "metadata": {},
   "outputs": [],
   "source": [
    "base_path=\"/Users/sijiawu/Work/Thesis/Data\""
   ]
  },
  {
   "cell_type": "code",
   "execution_count": 27,
   "id": "8dccd97d",
   "metadata": {},
   "outputs": [],
   "source": [
    "masters = pd.read_excel(base_path+\"/Masterlists/RESTUD_Masterlist.xlsx\")\n",
    "masters10 = pd.read_excel(base_path+ \"/2010/RESTUD_master.xlsx\")\n",
    "pivots = pd.read_excel(base_path+\"/Pivots/RESTUD_Pivots2020.xlsx\")"
   ]
  },
  {
   "cell_type": "markdown",
   "id": "27239554",
   "metadata": {},
   "source": [
    "## Create File Names"
   ]
  },
  {
   "cell_type": "code",
   "execution_count": 28,
   "id": "b54a9027",
   "metadata": {},
   "outputs": [],
   "source": [
    "saveas=base_path+\"/Processed/RES_processed.xlsx\""
   ]
  },
  {
   "cell_type": "markdown",
   "id": "ac6b732a",
   "metadata": {},
   "source": [
    "## Some random checks on the masters list\n",
    "\n",
    "My assumption is that all data without author names must be miscellaneous documents like reports by the committee, forewords, front matters etc.. The goal of this notebook is to check for certain that all the documents without author names are actually miscellaneous documents and then classify them as miscellaneous (MISC). Hence, first we group everything the data by title to see the repetitive general content that can likely be removed."
   ]
  },
  {
   "cell_type": "code",
   "execution_count": 29,
   "id": "b31e606d",
   "metadata": {},
   "outputs": [
    {
     "data": {
      "text/html": [
       "<div>\n",
       "<style scoped>\n",
       "    .dataframe tbody tr th:only-of-type {\n",
       "        vertical-align: middle;\n",
       "    }\n",
       "\n",
       "    .dataframe tbody tr th {\n",
       "        vertical-align: top;\n",
       "    }\n",
       "\n",
       "    .dataframe thead th {\n",
       "        text-align: right;\n",
       "    }\n",
       "</style>\n",
       "<table border=\"1\" class=\"dataframe\">\n",
       "  <thead>\n",
       "    <tr style=\"text-align: right;\">\n",
       "      <th></th>\n",
       "      <th>count</th>\n",
       "    </tr>\n",
       "    <tr>\n",
       "      <th>title</th>\n",
       "      <th></th>\n",
       "    </tr>\n",
       "  </thead>\n",
       "  <tbody>\n",
       "    <tr>\n",
       "      <th>front matter</th>\n",
       "      <td>303</td>\n",
       "    </tr>\n",
       "    <tr>\n",
       "      <th>back matter</th>\n",
       "      <td>284</td>\n",
       "    </tr>\n",
       "    <tr>\n",
       "      <th>volume information</th>\n",
       "      <td>73</td>\n",
       "    </tr>\n",
       "    <tr>\n",
       "      <th>accepted manuscripts</th>\n",
       "      <td>9</td>\n",
       "    </tr>\n",
       "    <tr>\n",
       "      <th>books and monographs received</th>\n",
       "      <td>8</td>\n",
       "    </tr>\n",
       "    <tr>\n",
       "      <th>periodicals received</th>\n",
       "      <td>8</td>\n",
       "    </tr>\n",
       "    <tr>\n",
       "      <th>editorial announcement</th>\n",
       "      <td>8</td>\n",
       "    </tr>\n",
       "    <tr>\n",
       "      <th>editorial</th>\n",
       "      <td>5</td>\n",
       "    </tr>\n",
       "    <tr>\n",
       "      <th>comment</th>\n",
       "      <td>5</td>\n",
       "    </tr>\n",
       "    <tr>\n",
       "      <th>introduction</th>\n",
       "      <td>4</td>\n",
       "    </tr>\n",
       "    <tr>\n",
       "      <th>books and periodicals received</th>\n",
       "      <td>3</td>\n",
       "    </tr>\n",
       "    <tr>\n",
       "      <th>announcement</th>\n",
       "      <td>3</td>\n",
       "    </tr>\n",
       "    <tr>\n",
       "      <th>i</th>\n",
       "      <td>3</td>\n",
       "    </tr>\n",
       "    <tr>\n",
       "      <th>economic thought in the soviet union</th>\n",
       "      <td>3</td>\n",
       "    </tr>\n",
       "    <tr>\n",
       "      <th>editorial announcements</th>\n",
       "      <td>2</td>\n",
       "    </tr>\n",
       "    <tr>\n",
       "      <th>new results in an old framework: comment on samuelson and modigliani</th>\n",
       "      <td>2</td>\n",
       "    </tr>\n",
       "    <tr>\n",
       "      <th>materials for a theory of the duration of the process of tax shifting</th>\n",
       "      <td>2</td>\n",
       "    </tr>\n",
       "    <tr>\n",
       "      <th>ii</th>\n",
       "      <td>2</td>\n",
       "    </tr>\n",
       "    <tr>\n",
       "      <th>empirical evidence on the acceleration principle</th>\n",
       "      <td>2</td>\n",
       "    </tr>\n",
       "    <tr>\n",
       "      <th>the production function and the theory of capital</th>\n",
       "      <td>2</td>\n",
       "    </tr>\n",
       "    <tr>\n",
       "      <th>measuring the power of undervalued currency to stimulate exports</th>\n",
       "      <td>2</td>\n",
       "    </tr>\n",
       "    <tr>\n",
       "      <th>errata: neutral inventions and production functions</th>\n",
       "      <td>2</td>\n",
       "    </tr>\n",
       "  </tbody>\n",
       "</table>\n",
       "</div>"
      ],
      "text/plain": [
       "                                                                       count\n",
       "title                                                                       \n",
       "front matter                                                             303\n",
       "back matter                                                              284\n",
       "volume information                                                        73\n",
       "accepted manuscripts                                                       9\n",
       "books and monographs received                                              8\n",
       "periodicals received                                                       8\n",
       "editorial announcement                                                     8\n",
       "editorial                                                                  5\n",
       "comment                                                                    5\n",
       "introduction                                                               4\n",
       "books and periodicals received                                             3\n",
       "announcement                                                               3\n",
       "i                                                                          3\n",
       "economic thought in the soviet union                                       3\n",
       "editorial announcements                                                    2\n",
       "new results in an old framework: comment on samuelson and modigliani       2\n",
       "materials for a theory of the duration of the process of tax shifting      2\n",
       "ii                                                                         2\n",
       "empirical evidence on the acceleration principle                           2\n",
       "the production function and the theory of capital                          2\n",
       "measuring the power of undervalued currency to stimulate exports           2\n",
       "errata: neutral inventions and production functions                        2"
      ]
     },
     "execution_count": 29,
     "metadata": {},
     "output_type": "execute_result"
    }
   ],
   "source": [
    "pd.set_option('display.max_rows',masters.shape[0])\n",
    "temp=masters['title'].str.lower().value_counts()\n",
    "pd.DataFrame(temp[temp>1])"
   ]
  },
  {
   "cell_type": "markdown",
   "id": "be81d470",
   "metadata": {},
   "source": [
    "Some repetitions are due to multiple comments. Now consider this list in absence of author names."
   ]
  },
  {
   "cell_type": "code",
   "execution_count": 30,
   "id": "06234093",
   "metadata": {},
   "outputs": [
    {
     "data": {
      "text/html": [
       "<div>\n",
       "<style scoped>\n",
       "    .dataframe tbody tr th:only-of-type {\n",
       "        vertical-align: middle;\n",
       "    }\n",
       "\n",
       "    .dataframe tbody tr th {\n",
       "        vertical-align: top;\n",
       "    }\n",
       "\n",
       "    .dataframe thead th {\n",
       "        text-align: right;\n",
       "    }\n",
       "</style>\n",
       "<table border=\"1\" class=\"dataframe\">\n",
       "  <thead>\n",
       "    <tr style=\"text-align: right;\">\n",
       "      <th></th>\n",
       "      <th>count</th>\n",
       "    </tr>\n",
       "    <tr>\n",
       "      <th>title</th>\n",
       "      <th></th>\n",
       "    </tr>\n",
       "  </thead>\n",
       "  <tbody>\n",
       "    <tr>\n",
       "      <th>front matter</th>\n",
       "      <td>303</td>\n",
       "    </tr>\n",
       "    <tr>\n",
       "      <th>back matter</th>\n",
       "      <td>284</td>\n",
       "    </tr>\n",
       "    <tr>\n",
       "      <th>volume information</th>\n",
       "      <td>73</td>\n",
       "    </tr>\n",
       "    <tr>\n",
       "      <th>accepted manuscripts</th>\n",
       "      <td>9</td>\n",
       "    </tr>\n",
       "    <tr>\n",
       "      <th>periodicals received</th>\n",
       "      <td>8</td>\n",
       "    </tr>\n",
       "    <tr>\n",
       "      <th>books and monographs received</th>\n",
       "      <td>8</td>\n",
       "    </tr>\n",
       "    <tr>\n",
       "      <th>announcement</th>\n",
       "      <td>3</td>\n",
       "    </tr>\n",
       "    <tr>\n",
       "      <th>books and periodicals received</th>\n",
       "      <td>3</td>\n",
       "    </tr>\n",
       "    <tr>\n",
       "      <th>introduction</th>\n",
       "      <td>2</td>\n",
       "    </tr>\n",
       "    <tr>\n",
       "      <th>errata: neutral inventions and production functions</th>\n",
       "      <td>2</td>\n",
       "    </tr>\n",
       "    <tr>\n",
       "      <th>[correction]: entrepreneur's risk, lender's risk and investment</th>\n",
       "      <td>1</td>\n",
       "    </tr>\n",
       "    <tr>\n",
       "      <th>subject index</th>\n",
       "      <td>1</td>\n",
       "    </tr>\n",
       "    <tr>\n",
       "      <th>errata: optimal savings under uncertainty</th>\n",
       "      <td>1</td>\n",
       "    </tr>\n",
       "    <tr>\n",
       "      <th>editorial</th>\n",
       "      <td>1</td>\n",
       "    </tr>\n",
       "    <tr>\n",
       "      <th>economic thought in the soviet union</th>\n",
       "      <td>1</td>\n",
       "    </tr>\n",
       "    <tr>\n",
       "      <th>correction: business saving and normal income</th>\n",
       "      <td>1</td>\n",
       "    </tr>\n",
       "    <tr>\n",
       "      <th>corrections: a reply to professor chang</th>\n",
       "      <td>1</td>\n",
       "    </tr>\n",
       "    <tr>\n",
       "      <th>corrections: the stability of the cournot oligopoly solution: a further generalization</th>\n",
       "      <td>1</td>\n",
       "    </tr>\n",
       "    <tr>\n",
       "      <th>corrections: existence of a utility function to represent preferences</th>\n",
       "      <td>1</td>\n",
       "    </tr>\n",
       "    <tr>\n",
       "      <th>index</th>\n",
       "      <td>1</td>\n",
       "    </tr>\n",
       "    <tr>\n",
       "      <th>correction: preferences, votes and the transitivity of majority decisions</th>\n",
       "      <td>1</td>\n",
       "    </tr>\n",
       "    <tr>\n",
       "      <th>periodicals</th>\n",
       "      <td>1</td>\n",
       "    </tr>\n",
       "    <tr>\n",
       "      <th>errata: radner--efficiency prices for infinite horron production programmes</th>\n",
       "      <td>1</td>\n",
       "    </tr>\n",
       "    <tr>\n",
       "      <th>errata: the explanation of productivity change</th>\n",
       "      <td>1</td>\n",
       "    </tr>\n",
       "    <tr>\n",
       "      <th>author index</th>\n",
       "      <td>1</td>\n",
       "    </tr>\n",
       "    <tr>\n",
       "      <th>european meeting of the econometric society, vienna, 1977</th>\n",
       "      <td>1</td>\n",
       "    </tr>\n",
       "    <tr>\n",
       "      <th>correction to \"on optimal development in a multi-sector economy\"</th>\n",
       "      <td>1</td>\n",
       "    </tr>\n",
       "    <tr>\n",
       "      <th>errata</th>\n",
       "      <td>1</td>\n",
       "    </tr>\n",
       "    <tr>\n",
       "      <th>corrigendum: optimal public expenditure with inefficient unemployment</th>\n",
       "      <td>1</td>\n",
       "    </tr>\n",
       "    <tr>\n",
       "      <th>erratum: pecuniary externalities in economies with financial frictions</th>\n",
       "      <td>1</td>\n",
       "    </tr>\n",
       "    <tr>\n",
       "      <th>corrigendum: signaling private choices</th>\n",
       "      <td>1</td>\n",
       "    </tr>\n",
       "    <tr>\n",
       "      <th>erratum: the institutional causes of china's great famine, 1959-1961</th>\n",
       "      <td>1</td>\n",
       "    </tr>\n",
       "    <tr>\n",
       "      <th>erratum: endogenous games and mechanisms: side payments among players</th>\n",
       "      <td>1</td>\n",
       "    </tr>\n",
       "    <tr>\n",
       "      <th>erratum: sovereign debt without default penalties</th>\n",
       "      <td>1</td>\n",
       "    </tr>\n",
       "    <tr>\n",
       "      <th>erratum: market size, trade, and productivity</th>\n",
       "      <td>1</td>\n",
       "    </tr>\n",
       "    <tr>\n",
       "      <th>corrigendum: consistent testing for stochastic dominance under general sampling schemes</th>\n",
       "      <td>1</td>\n",
       "    </tr>\n",
       "    <tr>\n",
       "      <th>erratum: the relationship between education and adult mortality in the united states adriana lleras-muney</th>\n",
       "      <td>1</td>\n",
       "    </tr>\n",
       "    <tr>\n",
       "      <th>erratum: who wants a good reputation?</th>\n",
       "      <td>1</td>\n",
       "    </tr>\n",
       "    <tr>\n",
       "      <th>editorial announcement</th>\n",
       "      <td>1</td>\n",
       "    </tr>\n",
       "    <tr>\n",
       "      <th>errata: variable returns to scale, non-uniqueness of equilibrium and the gains from international trade</th>\n",
       "      <td>1</td>\n",
       "    </tr>\n",
       "    <tr>\n",
       "      <th>errata: volume information</th>\n",
       "      <td>1</td>\n",
       "    </tr>\n",
       "    <tr>\n",
       "      <th>index to volumes 47-56 1980-1989</th>\n",
       "      <td>1</td>\n",
       "    </tr>\n",
       "    <tr>\n",
       "      <th>index to volumes 26-48 1959-1981</th>\n",
       "      <td>1</td>\n",
       "    </tr>\n",
       "    <tr>\n",
       "      <th>european meeting of the econometric society athens, 1979</th>\n",
       "      <td>1</td>\n",
       "    </tr>\n",
       "    <tr>\n",
       "      <th>corrigendum: community enforcement of trust with bounded memory</th>\n",
       "      <td>1</td>\n",
       "    </tr>\n",
       "    <tr>\n",
       "      <th>a correction: interest in the theory of production</th>\n",
       "      <td>1</td>\n",
       "    </tr>\n",
       "  </tbody>\n",
       "</table>\n",
       "</div>"
      ],
      "text/plain": [
       "                                                                                                           count\n",
       "title                                                                                                           \n",
       "front matter                                                                                                 303\n",
       "back matter                                                                                                  284\n",
       "volume information                                                                                            73\n",
       "accepted manuscripts                                                                                           9\n",
       "periodicals received                                                                                           8\n",
       "books and monographs received                                                                                  8\n",
       "announcement                                                                                                   3\n",
       "books and periodicals received                                                                                 3\n",
       "introduction                                                                                                   2\n",
       "errata: neutral inventions and production functions                                                            2\n",
       "[correction]: entrepreneur's risk, lender's risk and investment                                                1\n",
       "subject index                                                                                                  1\n",
       "errata: optimal savings under uncertainty                                                                      1\n",
       "editorial                                                                                                      1\n",
       "economic thought in the soviet union                                                                           1\n",
       "correction: business saving and normal income                                                                  1\n",
       "corrections: a reply to professor chang                                                                        1\n",
       "corrections: the stability of the cournot oligopoly solution: a further generalization                         1\n",
       "corrections: existence of a utility function to represent preferences                                          1\n",
       "index                                                                                                          1\n",
       "correction: preferences, votes and the transitivity of majority decisions                                      1\n",
       "periodicals                                                                                                    1\n",
       "errata: radner--efficiency prices for infinite horron production programmes                                    1\n",
       "errata: the explanation of productivity change                                                                 1\n",
       "author index                                                                                                   1\n",
       "european meeting of the econometric society, vienna, 1977                                                      1\n",
       "correction to \"on optimal development in a multi-sector economy\"                                               1\n",
       "errata                                                                                                         1\n",
       "corrigendum: optimal public expenditure with inefficient unemployment                                          1\n",
       "erratum: pecuniary externalities in economies with financial frictions                                         1\n",
       "corrigendum: signaling private choices                                                                         1\n",
       "erratum: the institutional causes of china's great famine, 1959-1961                                           1\n",
       "erratum: endogenous games and mechanisms: side payments among players                                          1\n",
       "erratum: sovereign debt without default penalties                                                              1\n",
       "erratum: market size, trade, and productivity                                                                  1\n",
       "corrigendum: consistent testing for stochastic dominance under general sampling schemes                        1\n",
       "erratum: the relationship between education and adult mortality in the united states adriana lleras-muney      1\n",
       "erratum: who wants a good reputation?                                                                          1\n",
       "editorial announcement                                                                                         1\n",
       "errata: variable returns to scale, non-uniqueness of equilibrium and the gains from international trade        1\n",
       "errata: volume information                                                                                     1\n",
       "index to volumes 47-56 1980-1989                                                                               1\n",
       "index to volumes 26-48 1959-1981                                                                               1\n",
       "european meeting of the econometric society athens, 1979                                                       1\n",
       "corrigendum: community enforcement of trust with bounded memory                                                1\n",
       "a correction: interest in the theory of production                                                             1"
      ]
     },
     "execution_count": 30,
     "metadata": {},
     "output_type": "execute_result"
    }
   ],
   "source": [
    "temp1=masters[masters['author'].isna()]['title'].str.lower().value_counts()\n",
    "pd.DataFrame(temp1)"
   ]
  },
  {
   "cell_type": "code",
   "execution_count": 31,
   "id": "33d78392",
   "metadata": {},
   "outputs": [
    {
     "data": {
      "text/html": [
       "<div>\n",
       "<style scoped>\n",
       "    .dataframe tbody tr th:only-of-type {\n",
       "        vertical-align: middle;\n",
       "    }\n",
       "\n",
       "    .dataframe tbody tr th {\n",
       "        vertical-align: top;\n",
       "    }\n",
       "\n",
       "    .dataframe thead th {\n",
       "        text-align: right;\n",
       "    }\n",
       "</style>\n",
       "<table border=\"1\" class=\"dataframe\">\n",
       "  <thead>\n",
       "    <tr style=\"text-align: right;\">\n",
       "      <th></th>\n",
       "      <th>type</th>\n",
       "      <th>issue_url</th>\n",
       "      <th>ISSN</th>\n",
       "      <th>URL</th>\n",
       "      <th>journal</th>\n",
       "      <th>number</th>\n",
       "      <th>publisher</th>\n",
       "      <th>title</th>\n",
       "      <th>urldate</th>\n",
       "      <th>volume</th>\n",
       "      <th>year</th>\n",
       "      <th>abstract</th>\n",
       "      <th>author</th>\n",
       "      <th>pages</th>\n",
       "      <th>reviewed-author</th>\n",
       "      <th>uploaded</th>\n",
       "    </tr>\n",
       "  </thead>\n",
       "  <tbody>\n",
       "  </tbody>\n",
       "</table>\n",
       "</div>"
      ],
      "text/plain": [
       "Empty DataFrame\n",
       "Columns: [type, issue_url, ISSN, URL, journal, number, publisher, title, urldate, volume, year, abstract, author, pages, reviewed-author, uploaded]\n",
       "Index: []"
      ]
     },
     "execution_count": 31,
     "metadata": {},
     "output_type": "execute_result"
    }
   ],
   "source": [
    "#pd.DataFrame(masters[masters['content_type'].isna()]['title'].str.lower().value_counts())\n",
    "#masters[masters['title'].str.lower().str.match(r'(^|: )report of the')]\n",
    "#masters[masters['title'].str.lower().str.match(r'(^|.*: )report of the')]\n",
    "#masters.loc[masters['title'].str.lower().str.match(r'^combined references(.*)')==True,'content_type']='MISC'\n",
    "\n",
    "# this is a random panel for testing code\n",
    "masters[masters[\"title\"].isna()==True]"
   ]
  },
  {
   "cell_type": "markdown",
   "id": "9099af8f",
   "metadata": {},
   "source": [
    "Notice that titles with duplicates of greater or equal to 4 are miscellaneous items and so they are classified in bulk"
   ]
  },
  {
   "cell_type": "code",
   "execution_count": 32,
   "id": "c11c1308",
   "metadata": {},
   "outputs": [],
   "source": [
    "temp2=masters['title'].str.lower().value_counts()\n",
    "removal=list(temp2[temp2>=8].index)\n",
    "masters.loc[masters.title.str.lower().isin(removal),'content_type']='MISC'"
   ]
  },
  {
   "cell_type": "markdown",
   "id": "a3e99d7e",
   "metadata": {},
   "source": [
    "## Combine the scraped list with the citations files\n",
    "This is to rename the fields to differentiate scopus and jstor data fields and drop some miscellaneous columns that are not necessary. There are no reviews in RES (ironically) or atleast what jstor classifies as reviews.\n",
    "\n",
    "In general, I have found that masterlists contructed from citation files lack the reviewed source's name while it is present on the page of the article. Some files are also just missing the title. So I'm combining the old masterlists with the new ones."
   ]
  },
  {
   "cell_type": "code",
   "execution_count": 33,
   "id": "cf9fc809",
   "metadata": {},
   "outputs": [],
   "source": [
    "#preprocessing step\n",
    "pivots['type']=pd.NA\n",
    "masters[\"URL\"]=\"https:\"+masters[\"URL\"].str.split(':').str[-1]\n",
    "masters.drop('type', inplace=True, axis=1)\n",
    "masters10[\"stable_url\"]=\"https:\"+masters10[\"stable_url\"].str.split(':').str[-1]\n",
    "masters10.rename(columns = {'authors':'author','stable_url':'URL','title':'title_10'}, inplace = True)\n",
    "masters['pages']=masters['pages'].str.strip()  \n",
    "masters.loc[masters.title.str.lower() == \"back matter\", 'pages'] = pd.NA  \n",
    "masters['pages']=masters[\"pages\"].str.split('pp. ').str[-1]\n",
    "masters['pages']=masters['pages'].replace(r'--','-',regex=True).str.strip()"
   ]
  },
  {
   "cell_type": "code",
   "execution_count": 34,
   "id": "01e56cc7",
   "metadata": {},
   "outputs": [],
   "source": [
    "masters[\"author_split\"]=masters['author'].str.split(' and ')\n"
   ]
  },
  {
   "cell_type": "code",
   "execution_count": 35,
   "id": "15f936b5",
   "metadata": {},
   "outputs": [],
   "source": [
    "masters=masters.merge(masters10[['URL', 'title_10']], how='left', on='URL')\n",
    "masters.loc[(pd.isna(masters[\"title\"])==True)&(pd.isna(masters[\"reviewed-author\"])==False), 'content_type']=\"Review\""
   ]
  },
  {
   "cell_type": "code",
   "execution_count": null,
   "id": "f48de4c0",
   "metadata": {},
   "outputs": [],
   "source": []
  },
  {
   "cell_type": "code",
   "execution_count": null,
   "id": "871412d1",
   "metadata": {},
   "outputs": [],
   "source": []
  },
  {
   "cell_type": "markdown",
   "id": "8987db8a",
   "metadata": {},
   "source": [
    "Classify some titles via regex"
   ]
  },
  {
   "cell_type": "code",
   "execution_count": 36,
   "id": "a5e4a72f",
   "metadata": {},
   "outputs": [],
   "source": [
    "masters.loc[masters['title'].str.lower().str.contains('books and periodicals')==True,'content_type']='MISC'\n",
    "masters.loc[masters['title'].str.lower().str.match(r'^editorial')==True,'content_type']='MISC'\n",
    "masters.loc[masters['title'].str.lower().str.match(r'^announcement')==True,'content_type']='MISC'\n",
    "masters.loc[masters['title'].str.lower().str.match(r'^author index')==True,'content_type']='MISC'\n",
    "masters.loc[masters['title'].str.lower().str.match(r'^index to volumes.*')==True,'content_type']='MISC'\n",
    "masters.loc[masters['title'].str.lower().str.match(r'^index$')==True,'content_type']='MISC'\n",
    "masters.loc[(masters['title'].str.lower().str.match(r'^introduction$')==True)&(masters['author'].isna()==True),'content_type']='MISC'\n",
    "masters.loc[masters['title'].str.lower().str.match(r'^subject index$')==True,'content_type']='MISC'\n",
    "masters.loc[masters['title'].str.lower().str.contains(r'econometric society')==True,'content_type']='MISC'\n",
    "masters.loc[masters['title'].str.lower().str.contains(r'periodicals')==True,'content_type']='MISC'"
   ]
  },
  {
   "cell_type": "code",
   "execution_count": null,
   "id": "a83c23fb",
   "metadata": {},
   "outputs": [],
   "source": [
    " "
   ]
  },
  {
   "cell_type": "code",
   "execution_count": null,
   "id": "6598608d",
   "metadata": {},
   "outputs": [],
   "source": []
  },
  {
   "cell_type": "markdown",
   "id": "55cd0a40",
   "metadata": {},
   "source": [
    "## Classifying other content"
   ]
  },
  {
   "cell_type": "code",
   "execution_count": 37,
   "id": "cd16db7b",
   "metadata": {},
   "outputs": [
    {
     "data": {
      "text/plain": [
       "3422"
      ]
     },
     "execution_count": 37,
     "metadata": {},
     "output_type": "execute_result"
    }
   ],
   "source": [
    "sum(masters.content_type.isna())\n",
    "#masters.shape[0]"
   ]
  },
  {
   "cell_type": "code",
   "execution_count": 38,
   "id": "d02d39a1",
   "metadata": {},
   "outputs": [
    {
     "data": {
      "text/plain": [
       "0"
      ]
     },
     "execution_count": 38,
     "metadata": {},
     "output_type": "execute_result"
    }
   ],
   "source": [
    "masters.loc[masters['author'].str.lower().str.match(r'^review(ed|) by(.*)')==True,'content_type']='Review' #reviews\n",
    "masters.loc[(masters['title'].str.lower().str.match(r'(.*) by (.*)')==True) & (masters.author.isna()==True),'content_type']='Review2' \n",
    "#possible reviews that don't have author names\n",
    "masters[(masters['content_type']=='Review2') | (masters['content_type']=='Review')].shape[0] #reviews"
   ]
  },
  {
   "cell_type": "code",
   "execution_count": 39,
   "id": "cb191c34",
   "metadata": {},
   "outputs": [],
   "source": [
    "masters.loc[masters['title'].str.lower().str.contains(\"erratum\")|masters['title'].str.lower().str.contains(\"errata\"), 'content_type']=\"Errata\""
   ]
  },
  {
   "cell_type": "code",
   "execution_count": 40,
   "id": "77051785",
   "metadata": {},
   "outputs": [
    {
     "data": {
      "text/plain": [
       "60"
      ]
     },
     "execution_count": 40,
     "metadata": {},
     "output_type": "execute_result"
    }
   ],
   "source": [
    "masters.loc[masters.content_type.isna() & masters.title.str.lower().str.match(r'.*(:|\\?).*comment.*$')==True,'content_type']='Comment'\n",
    "masters.loc[masters.content_type.isna() & masters.title.str.lower().str.match(r'.*comment$')==True,'content_type']='Comment'\n",
    "masters.loc[masters.content_type.isna() & masters.title.str.lower().str.match(r'(a further|further) comment.*$')==True,'content_type']='Comment'\n",
    "masters[masters['content_type']=='Comment'].shape[0] \n",
    "#comments"
   ]
  },
  {
   "cell_type": "code",
   "execution_count": 41,
   "id": "37024f91",
   "metadata": {},
   "outputs": [
    {
     "data": {
      "text/plain": [
       "15"
      ]
     },
     "execution_count": 41,
     "metadata": {},
     "output_type": "execute_result"
    }
   ],
   "source": [
    "masters.loc[masters.content_type.isna() & masters.title.str.lower().str.match(r'.*(:|\\?) (|a )reply(| to.*)$')==True,'content_type']=\"Reply\"\n",
    "masters[masters['content_type']=='Reply'].shape[0]"
   ]
  },
  {
   "cell_type": "code",
   "execution_count": 42,
   "id": "07d479ad",
   "metadata": {},
   "outputs": [
    {
     "data": {
      "text/plain": [
       "9"
      ]
     },
     "execution_count": 42,
     "metadata": {},
     "output_type": "execute_result"
    }
   ],
   "source": [
    "masters.loc[masters.content_type.isna() & masters.title.str.lower().str.match(r'.*(:|\\?|).*rejoinder.*$')==True,'content_type']=\"Rejoinder\"\n",
    "masters[masters['content_type']=='Rejoinder'].shape[0]\n"
   ]
  },
  {
   "cell_type": "code",
   "execution_count": 43,
   "id": "e4118ba3",
   "metadata": {},
   "outputs": [
    {
     "data": {
      "text/plain": [
       "0"
      ]
     },
     "execution_count": 43,
     "metadata": {},
     "output_type": "execute_result"
    }
   ],
   "source": [
    "masters.loc[masters.content_type.isna() & masters.title.str.lower().str.match(r'.*: (|a )discussion$')==True,'content_type']=\"Discussion\"\n",
    "masters.loc[masters.content_type.isna() & masters.title.str.lower().str.match(r'(^|a )discussion(|.*)$')==True,'content_type']=\"Discussion\"\n",
    "masters.loc[masters.content_type.isna() & masters.title.str.lower().str.match(r'.*:.*(|a )discussion(|s)$')==True,'content_type']='Discussion'\n",
    "masters[masters['content_type']=='Discussion'].shape[0]\n"
   ]
  },
  {
   "cell_type": "code",
   "execution_count": 44,
   "id": "f432a860",
   "metadata": {},
   "outputs": [
    {
     "data": {
      "text/plain": [
       "3312"
      ]
     },
     "execution_count": 44,
     "metadata": {},
     "output_type": "execute_result"
    }
   ],
   "source": [
    "masters.loc[masters['content_type'].isna(),'content_type']=\"Article\"\n",
    "masters[masters['content_type']=='Article'].shape[0]"
   ]
  },
  {
   "cell_type": "code",
   "execution_count": null,
   "id": "6cc2055e",
   "metadata": {},
   "outputs": [],
   "source": []
  },
  {
   "cell_type": "code",
   "execution_count": 45,
   "id": "53651d71",
   "metadata": {},
   "outputs": [],
   "source": [
    "# block for testing regex patterns\n",
    "#masters[masters['title'].str.lower().str.match(r'^\\washington notes$')==True]\n",
    "#masters[masters.content_type.isna() & masters.title.str.lower().str.match(r'.*(:|\\?) (|a )rejoinder.*$')==True]\n",
    "#masters[masters.content_type=='Discussion'].shape[0]"
   ]
  },
  {
   "cell_type": "markdown",
   "id": "ad6706e8",
   "metadata": {},
   "source": [
    "## Consider the pivots file\n",
    "At times, conference papers are structured differently to normal articles. Hence, it may be necessary to distinguish conference papers from common articles. The next code block separates special issues (S) from normal issues (N)"
   ]
  },
  {
   "cell_type": "code",
   "execution_count": 46,
   "id": "ad5cf258",
   "metadata": {},
   "outputs": [
    {
     "data": {
      "text/plain": [
       "type\n",
       "N    313\n",
       "S      8\n",
       "Name: count, dtype: int64"
      ]
     },
     "execution_count": 46,
     "metadata": {},
     "output_type": "execute_result"
    }
   ],
   "source": [
    "pivots.loc[pivots.Jstor_issue_text.isna(),\"Jstor_issue_text\"]=\"None\"\n",
    "pivots.loc[pivots.Jstor_issue_text.str.lower().str.match(r'(.*)(special issue|symposium|index to volumes|survey)(.*)'),'type']=\"S\"\n",
    "pivots.loc[pivots.type.isna(),'type']='N'\n",
    "pivots.type.value_counts()"
   ]
  },
  {
   "cell_type": "code",
   "execution_count": null,
   "id": "f1ac8214",
   "metadata": {},
   "outputs": [],
   "source": []
  },
  {
   "cell_type": "markdown",
   "id": "5da4c071",
   "metadata": {},
   "source": [
    "Merge masterlist and pivot list"
   ]
  },
  {
   "cell_type": "code",
   "execution_count": 47,
   "id": "d7a34c25",
   "metadata": {},
   "outputs": [],
   "source": [
    "result = pd.merge(masters, pivots[['issue_url','type']], how=\"left\", on=[\"issue_url\", \"issue_url\"])"
   ]
  },
  {
   "cell_type": "code",
   "execution_count": 48,
   "id": "4ec24247",
   "metadata": {},
   "outputs": [],
   "source": [
    "result.to_excel(saveas, index=False)"
   ]
  }
 ],
 "metadata": {
  "kernelspec": {
   "display_name": "venv",
   "language": "python",
   "name": "python3"
  },
  "language_info": {
   "codemirror_mode": {
    "name": "ipython",
    "version": 3
   },
   "file_extension": ".py",
   "mimetype": "text/x-python",
   "name": "python",
   "nbconvert_exporter": "python",
   "pygments_lexer": "ipython3",
   "version": "3.11.2"
  }
 },
 "nbformat": 4,
 "nbformat_minor": 5
}
