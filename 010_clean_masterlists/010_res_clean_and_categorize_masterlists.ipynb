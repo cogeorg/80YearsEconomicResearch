{
 "cells": [
  {
   "cell_type": "markdown",
   "id": "497d54cc",
   "metadata": {},
   "source": [
    "# RES Cleaning\n",
    "\n",
    "This notebook walks through how the RES articles were sorted into categories of articles and non-articles.\n",
    "\n",
    "## Load Libraries"
   ]
  },
  {
   "cell_type": "code",
   "execution_count": 1,
   "id": "bd3eef3a",
   "metadata": {},
   "outputs": [],
   "source": [
    "from tokenize import Ignore\n",
    "import pandas as pd\n",
    "import time\n",
    "from os import path\n",
    "import sys\n",
    "from pathlib import Path\n",
    "from PyPDF2 import PdfFileReader, PdfFileWriter\n",
    "import re\n",
    "import os\n",
    "from difflib import SequenceMatcher\n",
    "import datetime\n",
    "import numpy as np\n",
    "import matplotlib.pyplot as plt\n",
    "\n",
    "pd.set_option('display.max_rows',100)\n",
    "pd.set_option('display.max_colwidth', 200)    "
   ]
  },
  {
   "cell_type": "markdown",
   "id": "ba58244a",
   "metadata": {},
   "source": [
    "## Load Files\n",
    "\n",
    "Replace the file paths below to match local file paths. Note: comment out files that are not available eg: datadumps."
   ]
  },
  {
   "cell_type": "code",
   "execution_count": 2,
   "id": "f7e2d430",
   "metadata": {},
   "outputs": [],
   "source": [
    "base_path=\"/Users/sijiawu/Work/Thesis/Data\""
   ]
  },
  {
   "cell_type": "code",
   "execution_count": 3,
   "id": "8dccd97d",
   "metadata": {},
   "outputs": [],
   "source": [
    "masters = pd.read_excel(base_path+\"/Masterlists/RESTUD_Masterlist.xlsx\")\n",
    "masters10 = pd.read_excel(base_path+ \"/2010/RESTUD_master.xlsx\")\n",
    "pivots = pd.read_excel(base_path+\"/Pivots/RESTUD_Pivots2020.xlsx\")"
   ]
  },
  {
   "cell_type": "markdown",
   "id": "27239554",
   "metadata": {},
   "source": [
    "## Create File Names"
   ]
  },
  {
   "cell_type": "code",
   "execution_count": 4,
   "id": "b54a9027",
   "metadata": {},
   "outputs": [],
   "source": [
    "saveas=base_path+\"/Processed/RES_processed.xlsx\""
   ]
  },
  {
   "cell_type": "markdown",
   "id": "ac6b732a",
   "metadata": {},
   "source": [
    "## Some random checks on the masters list\n",
    "\n",
    "My assumption is that all data without author names must be miscellaneous documents like reports by the committee, forewords, front matters etc.. The goal of this notebook is to check for certain that all the documents without author names are actually miscellaneous documents and then classify them as miscellaneous (MISC). Hence, first we group everything the data by title to see the repetitive general content that can likely be removed."
   ]
  },
  {
   "cell_type": "code",
   "execution_count": 5,
   "id": "b31e606d",
   "metadata": {},
   "outputs": [
    {
     "data": {
      "text/html": [
       "<div>\n",
       "<style scoped>\n",
       "    .dataframe tbody tr th:only-of-type {\n",
       "        vertical-align: middle;\n",
       "    }\n",
       "\n",
       "    .dataframe tbody tr th {\n",
       "        vertical-align: top;\n",
       "    }\n",
       "\n",
       "    .dataframe thead th {\n",
       "        text-align: right;\n",
       "    }\n",
       "</style>\n",
       "<table border=\"1\" class=\"dataframe\">\n",
       "  <thead>\n",
       "    <tr style=\"text-align: right;\">\n",
       "      <th></th>\n",
       "      <th>count</th>\n",
       "    </tr>\n",
       "    <tr>\n",
       "      <th>title</th>\n",
       "      <th></th>\n",
       "    </tr>\n",
       "  </thead>\n",
       "  <tbody>\n",
       "    <tr>\n",
       "      <th>front matter</th>\n",
       "      <td>303</td>\n",
       "    </tr>\n",
       "    <tr>\n",
       "      <th>back matter</th>\n",
       "      <td>284</td>\n",
       "    </tr>\n",
       "    <tr>\n",
       "      <th>volume information</th>\n",
       "      <td>73</td>\n",
       "    </tr>\n",
       "    <tr>\n",
       "      <th>accepted manuscripts</th>\n",
       "      <td>9</td>\n",
       "    </tr>\n",
       "    <tr>\n",
       "      <th>books and monographs received</th>\n",
       "      <td>8</td>\n",
       "    </tr>\n",
       "    <tr>\n",
       "      <th>periodicals received</th>\n",
       "      <td>8</td>\n",
       "    </tr>\n",
       "    <tr>\n",
       "      <th>editorial announcement</th>\n",
       "      <td>8</td>\n",
       "    </tr>\n",
       "    <tr>\n",
       "      <th>editorial</th>\n",
       "      <td>5</td>\n",
       "    </tr>\n",
       "    <tr>\n",
       "      <th>comment</th>\n",
       "      <td>5</td>\n",
       "    </tr>\n",
       "    <tr>\n",
       "      <th>introduction</th>\n",
       "      <td>4</td>\n",
       "    </tr>\n",
       "    <tr>\n",
       "      <th>books and periodicals received</th>\n",
       "      <td>3</td>\n",
       "    </tr>\n",
       "    <tr>\n",
       "      <th>announcement</th>\n",
       "      <td>3</td>\n",
       "    </tr>\n",
       "    <tr>\n",
       "      <th>i</th>\n",
       "      <td>3</td>\n",
       "    </tr>\n",
       "    <tr>\n",
       "      <th>economic thought in the soviet union</th>\n",
       "      <td>3</td>\n",
       "    </tr>\n",
       "    <tr>\n",
       "      <th>editorial announcements</th>\n",
       "      <td>2</td>\n",
       "    </tr>\n",
       "    <tr>\n",
       "      <th>new results in an old framework: comment on samuelson and modigliani</th>\n",
       "      <td>2</td>\n",
       "    </tr>\n",
       "    <tr>\n",
       "      <th>materials for a theory of the duration of the process of tax shifting</th>\n",
       "      <td>2</td>\n",
       "    </tr>\n",
       "    <tr>\n",
       "      <th>ii</th>\n",
       "      <td>2</td>\n",
       "    </tr>\n",
       "    <tr>\n",
       "      <th>empirical evidence on the acceleration principle</th>\n",
       "      <td>2</td>\n",
       "    </tr>\n",
       "    <tr>\n",
       "      <th>the production function and the theory of capital</th>\n",
       "      <td>2</td>\n",
       "    </tr>\n",
       "    <tr>\n",
       "      <th>measuring the power of undervalued currency to stimulate exports</th>\n",
       "      <td>2</td>\n",
       "    </tr>\n",
       "    <tr>\n",
       "      <th>errata: neutral inventions and production functions</th>\n",
       "      <td>2</td>\n",
       "    </tr>\n",
       "  </tbody>\n",
       "</table>\n",
       "</div>"
      ],
      "text/plain": [
       "                                                                       count\n",
       "title                                                                       \n",
       "front matter                                                             303\n",
       "back matter                                                              284\n",
       "volume information                                                        73\n",
       "accepted manuscripts                                                       9\n",
       "books and monographs received                                              8\n",
       "periodicals received                                                       8\n",
       "editorial announcement                                                     8\n",
       "editorial                                                                  5\n",
       "comment                                                                    5\n",
       "introduction                                                               4\n",
       "books and periodicals received                                             3\n",
       "announcement                                                               3\n",
       "i                                                                          3\n",
       "economic thought in the soviet union                                       3\n",
       "editorial announcements                                                    2\n",
       "new results in an old framework: comment on samuelson and modigliani       2\n",
       "materials for a theory of the duration of the process of tax shifting      2\n",
       "ii                                                                         2\n",
       "empirical evidence on the acceleration principle                           2\n",
       "the production function and the theory of capital                          2\n",
       "measuring the power of undervalued currency to stimulate exports           2\n",
       "errata: neutral inventions and production functions                        2"
      ]
     },
     "execution_count": 5,
     "metadata": {},
     "output_type": "execute_result"
    }
   ],
   "source": [
    "pd.set_option('display.max_rows',masters.shape[0])\n",
    "temp=masters['title'].str.lower().value_counts()\n",
    "pd.DataFrame(temp[temp>1])"
   ]
  },
  {
   "cell_type": "markdown",
   "id": "be81d470",
   "metadata": {},
   "source": [
    "Some repetitions are due to multiple comments. Now consider this list in absence of author names."
   ]
  },
  {
   "cell_type": "code",
   "execution_count": 6,
   "id": "06234093",
   "metadata": {},
   "outputs": [
    {
     "data": {
      "text/html": [
       "<div>\n",
       "<style scoped>\n",
       "    .dataframe tbody tr th:only-of-type {\n",
       "        vertical-align: middle;\n",
       "    }\n",
       "\n",
       "    .dataframe tbody tr th {\n",
       "        vertical-align: top;\n",
       "    }\n",
       "\n",
       "    .dataframe thead th {\n",
       "        text-align: right;\n",
       "    }\n",
       "</style>\n",
       "<table border=\"1\" class=\"dataframe\">\n",
       "  <thead>\n",
       "    <tr style=\"text-align: right;\">\n",
       "      <th></th>\n",
       "      <th>count</th>\n",
       "    </tr>\n",
       "    <tr>\n",
       "      <th>title</th>\n",
       "      <th></th>\n",
       "    </tr>\n",
       "  </thead>\n",
       "  <tbody>\n",
       "    <tr>\n",
       "      <th>front matter</th>\n",
       "      <td>303</td>\n",
       "    </tr>\n",
       "    <tr>\n",
       "      <th>back matter</th>\n",
       "      <td>284</td>\n",
       "    </tr>\n",
       "    <tr>\n",
       "      <th>volume information</th>\n",
       "      <td>73</td>\n",
       "    </tr>\n",
       "    <tr>\n",
       "      <th>accepted manuscripts</th>\n",
       "      <td>9</td>\n",
       "    </tr>\n",
       "    <tr>\n",
       "      <th>periodicals received</th>\n",
       "      <td>8</td>\n",
       "    </tr>\n",
       "    <tr>\n",
       "      <th>books and monographs received</th>\n",
       "      <td>8</td>\n",
       "    </tr>\n",
       "    <tr>\n",
       "      <th>announcement</th>\n",
       "      <td>3</td>\n",
       "    </tr>\n",
       "    <tr>\n",
       "      <th>books and periodicals received</th>\n",
       "      <td>3</td>\n",
       "    </tr>\n",
       "    <tr>\n",
       "      <th>introduction</th>\n",
       "      <td>2</td>\n",
       "    </tr>\n",
       "    <tr>\n",
       "      <th>errata: neutral inventions and production functions</th>\n",
       "      <td>2</td>\n",
       "    </tr>\n",
       "    <tr>\n",
       "      <th>[correction]: entrepreneur's risk, lender's risk and investment</th>\n",
       "      <td>1</td>\n",
       "    </tr>\n",
       "    <tr>\n",
       "      <th>subject index</th>\n",
       "      <td>1</td>\n",
       "    </tr>\n",
       "    <tr>\n",
       "      <th>errata: optimal savings under uncertainty</th>\n",
       "      <td>1</td>\n",
       "    </tr>\n",
       "    <tr>\n",
       "      <th>editorial</th>\n",
       "      <td>1</td>\n",
       "    </tr>\n",
       "    <tr>\n",
       "      <th>economic thought in the soviet union</th>\n",
       "      <td>1</td>\n",
       "    </tr>\n",
       "    <tr>\n",
       "      <th>correction: business saving and normal income</th>\n",
       "      <td>1</td>\n",
       "    </tr>\n",
       "    <tr>\n",
       "      <th>corrections: a reply to professor chang</th>\n",
       "      <td>1</td>\n",
       "    </tr>\n",
       "    <tr>\n",
       "      <th>corrections: the stability of the cournot oligopoly solution: a further generalization</th>\n",
       "      <td>1</td>\n",
       "    </tr>\n",
       "    <tr>\n",
       "      <th>corrections: existence of a utility function to represent preferences</th>\n",
       "      <td>1</td>\n",
       "    </tr>\n",
       "    <tr>\n",
       "      <th>index</th>\n",
       "      <td>1</td>\n",
       "    </tr>\n",
       "    <tr>\n",
       "      <th>correction: preferences, votes and the transitivity of majority decisions</th>\n",
       "      <td>1</td>\n",
       "    </tr>\n",
       "    <tr>\n",
       "      <th>periodicals</th>\n",
       "      <td>1</td>\n",
       "    </tr>\n",
       "    <tr>\n",
       "      <th>errata: radner--efficiency prices for infinite horron production programmes</th>\n",
       "      <td>1</td>\n",
       "    </tr>\n",
       "    <tr>\n",
       "      <th>errata: the explanation of productivity change</th>\n",
       "      <td>1</td>\n",
       "    </tr>\n",
       "    <tr>\n",
       "      <th>author index</th>\n",
       "      <td>1</td>\n",
       "    </tr>\n",
       "    <tr>\n",
       "      <th>european meeting of the econometric society, vienna, 1977</th>\n",
       "      <td>1</td>\n",
       "    </tr>\n",
       "    <tr>\n",
       "      <th>correction to \"on optimal development in a multi-sector economy\"</th>\n",
       "      <td>1</td>\n",
       "    </tr>\n",
       "    <tr>\n",
       "      <th>errata</th>\n",
       "      <td>1</td>\n",
       "    </tr>\n",
       "    <tr>\n",
       "      <th>corrigendum: optimal public expenditure with inefficient unemployment</th>\n",
       "      <td>1</td>\n",
       "    </tr>\n",
       "    <tr>\n",
       "      <th>erratum: pecuniary externalities in economies with financial frictions</th>\n",
       "      <td>1</td>\n",
       "    </tr>\n",
       "    <tr>\n",
       "      <th>corrigendum: signaling private choices</th>\n",
       "      <td>1</td>\n",
       "    </tr>\n",
       "    <tr>\n",
       "      <th>erratum: the institutional causes of china's great famine, 1959-1961</th>\n",
       "      <td>1</td>\n",
       "    </tr>\n",
       "    <tr>\n",
       "      <th>erratum: endogenous games and mechanisms: side payments among players</th>\n",
       "      <td>1</td>\n",
       "    </tr>\n",
       "    <tr>\n",
       "      <th>erratum: sovereign debt without default penalties</th>\n",
       "      <td>1</td>\n",
       "    </tr>\n",
       "    <tr>\n",
       "      <th>erratum: market size, trade, and productivity</th>\n",
       "      <td>1</td>\n",
       "    </tr>\n",
       "    <tr>\n",
       "      <th>corrigendum: consistent testing for stochastic dominance under general sampling schemes</th>\n",
       "      <td>1</td>\n",
       "    </tr>\n",
       "    <tr>\n",
       "      <th>erratum: the relationship between education and adult mortality in the united states adriana lleras-muney</th>\n",
       "      <td>1</td>\n",
       "    </tr>\n",
       "    <tr>\n",
       "      <th>erratum: who wants a good reputation?</th>\n",
       "      <td>1</td>\n",
       "    </tr>\n",
       "    <tr>\n",
       "      <th>editorial announcement</th>\n",
       "      <td>1</td>\n",
       "    </tr>\n",
       "    <tr>\n",
       "      <th>errata: variable returns to scale, non-uniqueness of equilibrium and the gains from international trade</th>\n",
       "      <td>1</td>\n",
       "    </tr>\n",
       "    <tr>\n",
       "      <th>errata: volume information</th>\n",
       "      <td>1</td>\n",
       "    </tr>\n",
       "    <tr>\n",
       "      <th>index to volumes 47-56 1980-1989</th>\n",
       "      <td>1</td>\n",
       "    </tr>\n",
       "    <tr>\n",
       "      <th>index to volumes 26-48 1959-1981</th>\n",
       "      <td>1</td>\n",
       "    </tr>\n",
       "    <tr>\n",
       "      <th>european meeting of the econometric society athens, 1979</th>\n",
       "      <td>1</td>\n",
       "    </tr>\n",
       "    <tr>\n",
       "      <th>corrigendum: community enforcement of trust with bounded memory</th>\n",
       "      <td>1</td>\n",
       "    </tr>\n",
       "    <tr>\n",
       "      <th>a correction: interest in the theory of production</th>\n",
       "      <td>1</td>\n",
       "    </tr>\n",
       "  </tbody>\n",
       "</table>\n",
       "</div>"
      ],
      "text/plain": [
       "                                                                                                           count\n",
       "title                                                                                                           \n",
       "front matter                                                                                                 303\n",
       "back matter                                                                                                  284\n",
       "volume information                                                                                            73\n",
       "accepted manuscripts                                                                                           9\n",
       "periodicals received                                                                                           8\n",
       "books and monographs received                                                                                  8\n",
       "announcement                                                                                                   3\n",
       "books and periodicals received                                                                                 3\n",
       "introduction                                                                                                   2\n",
       "errata: neutral inventions and production functions                                                            2\n",
       "[correction]: entrepreneur's risk, lender's risk and investment                                                1\n",
       "subject index                                                                                                  1\n",
       "errata: optimal savings under uncertainty                                                                      1\n",
       "editorial                                                                                                      1\n",
       "economic thought in the soviet union                                                                           1\n",
       "correction: business saving and normal income                                                                  1\n",
       "corrections: a reply to professor chang                                                                        1\n",
       "corrections: the stability of the cournot oligopoly solution: a further generalization                         1\n",
       "corrections: existence of a utility function to represent preferences                                          1\n",
       "index                                                                                                          1\n",
       "correction: preferences, votes and the transitivity of majority decisions                                      1\n",
       "periodicals                                                                                                    1\n",
       "errata: radner--efficiency prices for infinite horron production programmes                                    1\n",
       "errata: the explanation of productivity change                                                                 1\n",
       "author index                                                                                                   1\n",
       "european meeting of the econometric society, vienna, 1977                                                      1\n",
       "correction to \"on optimal development in a multi-sector economy\"                                               1\n",
       "errata                                                                                                         1\n",
       "corrigendum: optimal public expenditure with inefficient unemployment                                          1\n",
       "erratum: pecuniary externalities in economies with financial frictions                                         1\n",
       "corrigendum: signaling private choices                                                                         1\n",
       "erratum: the institutional causes of china's great famine, 1959-1961                                           1\n",
       "erratum: endogenous games and mechanisms: side payments among players                                          1\n",
       "erratum: sovereign debt without default penalties                                                              1\n",
       "erratum: market size, trade, and productivity                                                                  1\n",
       "corrigendum: consistent testing for stochastic dominance under general sampling schemes                        1\n",
       "erratum: the relationship between education and adult mortality in the united states adriana lleras-muney      1\n",
       "erratum: who wants a good reputation?                                                                          1\n",
       "editorial announcement                                                                                         1\n",
       "errata: variable returns to scale, non-uniqueness of equilibrium and the gains from international trade        1\n",
       "errata: volume information                                                                                     1\n",
       "index to volumes 47-56 1980-1989                                                                               1\n",
       "index to volumes 26-48 1959-1981                                                                               1\n",
       "european meeting of the econometric society athens, 1979                                                       1\n",
       "corrigendum: community enforcement of trust with bounded memory                                                1\n",
       "a correction: interest in the theory of production                                                             1"
      ]
     },
     "execution_count": 6,
     "metadata": {},
     "output_type": "execute_result"
    }
   ],
   "source": [
    "temp1=masters[masters['author'].isna()]['title'].str.lower().value_counts()\n",
    "pd.DataFrame(temp1)"
   ]
  },
  {
   "cell_type": "code",
   "execution_count": 7,
   "id": "33d78392",
   "metadata": {},
   "outputs": [
    {
     "data": {
      "text/html": [
       "<div>\n",
       "<style scoped>\n",
       "    .dataframe tbody tr th:only-of-type {\n",
       "        vertical-align: middle;\n",
       "    }\n",
       "\n",
       "    .dataframe tbody tr th {\n",
       "        vertical-align: top;\n",
       "    }\n",
       "\n",
       "    .dataframe thead th {\n",
       "        text-align: right;\n",
       "    }\n",
       "</style>\n",
       "<table border=\"1\" class=\"dataframe\">\n",
       "  <thead>\n",
       "    <tr style=\"text-align: right;\">\n",
       "      <th></th>\n",
       "      <th>type</th>\n",
       "      <th>issue_url</th>\n",
       "      <th>ISSN</th>\n",
       "      <th>URL</th>\n",
       "      <th>journal</th>\n",
       "      <th>number</th>\n",
       "      <th>publisher</th>\n",
       "      <th>title</th>\n",
       "      <th>urldate</th>\n",
       "      <th>volume</th>\n",
       "      <th>year</th>\n",
       "      <th>abstract</th>\n",
       "      <th>author</th>\n",
       "      <th>pages</th>\n",
       "      <th>reviewed-author</th>\n",
       "      <th>uploaded</th>\n",
       "    </tr>\n",
       "  </thead>\n",
       "  <tbody>\n",
       "  </tbody>\n",
       "</table>\n",
       "</div>"
      ],
      "text/plain": [
       "Empty DataFrame\n",
       "Columns: [type, issue_url, ISSN, URL, journal, number, publisher, title, urldate, volume, year, abstract, author, pages, reviewed-author, uploaded]\n",
       "Index: []"
      ]
     },
     "execution_count": 7,
     "metadata": {},
     "output_type": "execute_result"
    }
   ],
   "source": [
    "#pd.DataFrame(masters[masters['content_type'].isna()]['title'].str.lower().value_counts())\n",
    "#masters[masters['title'].str.lower().str.match(r'(^|: )report of the')]\n",
    "#masters[masters['title'].str.lower().str.match(r'(^|.*: )report of the')]\n",
    "#masters.loc[masters['title'].str.lower().str.match(r'^combined references(.*)')==True,'content_type']='MISC'\n",
    "\n",
    "# this is a random panel for testing code\n",
    "masters[masters[\"title\"].isna()==True]"
   ]
  },
  {
   "cell_type": "markdown",
   "id": "9099af8f",
   "metadata": {},
   "source": [
    "Notice that titles with duplicates of greater or equal to 4 are miscellaneous items and so they are classified in bulk"
   ]
  },
  {
   "cell_type": "code",
   "execution_count": 8,
   "id": "c11c1308",
   "metadata": {},
   "outputs": [],
   "source": [
    "temp2=masters['title'].str.lower().value_counts()\n",
    "removal=list(temp2[temp2>=8].index)\n",
    "masters.loc[masters.title.str.lower().isin(removal),'content_type']='MISC'"
   ]
  },
  {
   "cell_type": "markdown",
   "id": "a3e99d7e",
   "metadata": {},
   "source": [
    "## Combine the scraped list with the citations files\n",
    "This is to rename the fields to differentiate scopus and jstor data fields and drop some miscellaneous columns that are not necessary. There are no reviews in RES (ironically) or atleast what jstor classifies as reviews.\n",
    "\n",
    "In general, I have found that masterlists contructed from citation files lack the reviewed source's name while it is present on the page of the article. Some files are also just missing the title. So I'm combining the old masterlists with the new ones."
   ]
  },
  {
   "cell_type": "code",
   "execution_count": 9,
   "id": "cf9fc809",
   "metadata": {},
   "outputs": [],
   "source": [
    "#preprocessing step\n",
    "pivots['type']=pd.NA\n",
    "masters[\"URL\"]=\"https:\"+masters[\"URL\"].str.split(':').str[-1]\n",
    "masters.drop('type', inplace=True, axis=1)\n",
    "masters10[\"stable_url\"]=\"https:\"+masters10[\"stable_url\"].str.split(':').str[-1]\n",
    "masters10.rename(columns = {'authors':'author','stable_url':'URL','title':'title_10'}, inplace = True)\n",
    "masters['pages']=masters['pages'].str.strip()  \n",
    "masters.loc[masters.title.str.lower() == \"back matter\", 'pages'] = pd.NA  \n",
    "masters['pages']=masters[\"pages\"].str.split('pp. ').str[-1]\n",
    "masters['pages']=masters['pages'].replace(r'--','-',regex=True).str.strip()"
   ]
  },
  {
   "cell_type": "code",
   "execution_count": 10,
   "id": "01e56cc7",
   "metadata": {},
   "outputs": [],
   "source": [
    "masters[\"author_split\"]=masters['author'].str.split(' and ')\n"
   ]
  },
  {
   "cell_type": "code",
   "execution_count": 11,
   "id": "15f936b5",
   "metadata": {},
   "outputs": [],
   "source": [
    "masters=masters.merge(masters10[['URL', 'title_10']], how='left', on='URL')\n",
    "masters.loc[(pd.isna(masters[\"title\"])==True)&(pd.isna(masters[\"reviewed-author\"])==False), 'content_type']=\"Review\""
   ]
  },
  {
   "cell_type": "code",
   "execution_count": null,
   "id": "f48de4c0",
   "metadata": {},
   "outputs": [],
   "source": []
  },
  {
   "cell_type": "code",
   "execution_count": null,
   "id": "871412d1",
   "metadata": {},
   "outputs": [],
   "source": []
  },
  {
   "cell_type": "markdown",
   "id": "8987db8a",
   "metadata": {},
   "source": [
    "Classify some titles via regex"
   ]
  },
  {
   "cell_type": "code",
   "execution_count": 12,
   "id": "a5e4a72f",
   "metadata": {},
   "outputs": [],
   "source": [
    "masters.loc[masters['title'].str.lower().str.contains('books and periodicals')==True,'content_type']='MISC'\n",
    "masters.loc[masters['title'].str.lower().str.match(r'^editorial')==True,'content_type']='MISC'\n",
    "masters.loc[masters['title'].str.lower().str.match(r'^announcement')==True,'content_type']='MISC'\n",
    "masters.loc[masters['title'].str.lower().str.match(r'^author index')==True,'content_type']='MISC'\n",
    "masters.loc[masters['title'].str.lower().str.match(r'^index to volumes.*')==True,'content_type']='MISC'\n",
    "masters.loc[masters['title'].str.lower().str.match(r'^index$')==True,'content_type']='MISC'\n",
    "masters.loc[(masters['title'].str.lower().str.match(r'^introduction$')==True)&(masters['author'].isna()==True),'content_type']='MISC'\n",
    "masters.loc[masters['title'].str.lower().str.match(r'^subject index$')==True,'content_type']='MISC'\n",
    "masters.loc[masters['title'].str.lower().str.contains(r'econometric society')==True,'content_type']='MISC'\n",
    "masters.loc[masters['title'].str.lower().str.contains(r'periodicals')==True,'content_type']='MISC'"
   ]
  },
  {
   "cell_type": "code",
   "execution_count": null,
   "id": "a83c23fb",
   "metadata": {},
   "outputs": [],
   "source": [
    " "
   ]
  },
  {
   "cell_type": "code",
   "execution_count": null,
   "id": "6598608d",
   "metadata": {},
   "outputs": [],
   "source": []
  },
  {
   "cell_type": "markdown",
   "id": "55cd0a40",
   "metadata": {},
   "source": [
    "## Classifying other content"
   ]
  },
  {
   "cell_type": "code",
   "execution_count": 13,
   "id": "cd16db7b",
   "metadata": {},
   "outputs": [
    {
     "data": {
      "text/plain": [
       "3422"
      ]
     },
     "execution_count": 13,
     "metadata": {},
     "output_type": "execute_result"
    }
   ],
   "source": [
    "sum(masters.content_type.isna())\n",
    "#masters.shape[0]"
   ]
  },
  {
   "cell_type": "code",
   "execution_count": 14,
   "id": "d02d39a1",
   "metadata": {},
   "outputs": [
    {
     "data": {
      "text/plain": [
       "0"
      ]
     },
     "execution_count": 14,
     "metadata": {},
     "output_type": "execute_result"
    }
   ],
   "source": [
    "masters.loc[masters['author'].str.lower().str.match(r'^review(ed|) by(.*)')==True,'content_type']='Review' #reviews\n",
    "masters.loc[(masters['title'].str.lower().str.match(r'(.*) by (.*)')==True) & (masters.author.isna()==True),'content_type']='Review2' \n",
    "#possible reviews that don't have author names\n",
    "masters[(masters['content_type']=='Review2') | (masters['content_type']=='Review')].shape[0] #reviews"
   ]
  },
  {
   "cell_type": "code",
   "execution_count": 15,
   "id": "77051785",
   "metadata": {},
   "outputs": [
    {
     "data": {
      "text/plain": [
       "60"
      ]
     },
     "execution_count": 15,
     "metadata": {},
     "output_type": "execute_result"
    }
   ],
   "source": [
    "masters.loc[masters.content_type.isna() & masters.title.str.lower().str.match(r'.*(:|\\?).*comment.*$')==True,'content_type']='Comment'\n",
    "masters.loc[masters.content_type.isna() & masters.title.str.lower().str.match(r'.*comment$')==True,'content_type']='Comment'\n",
    "masters.loc[masters.content_type.isna() & masters.title.str.lower().str.match(r'(a further|further) comment.*$')==True,'content_type']='Comment'\n",
    "masters[masters['content_type']=='Comment'].shape[0] \n",
    "#comments"
   ]
  },
  {
   "cell_type": "code",
   "execution_count": 16,
   "id": "37024f91",
   "metadata": {},
   "outputs": [
    {
     "data": {
      "text/plain": [
       "15"
      ]
     },
     "execution_count": 16,
     "metadata": {},
     "output_type": "execute_result"
    }
   ],
   "source": [
    "masters.loc[masters.content_type.isna() & masters.title.str.lower().str.match(r'.*(:|\\?) (|a )reply(| to.*)$')==True,'content_type']=\"Reply\"\n",
    "masters[masters['content_type']=='Reply'].shape[0]"
   ]
  },
  {
   "cell_type": "code",
   "execution_count": 17,
   "id": "07d479ad",
   "metadata": {},
   "outputs": [
    {
     "data": {
      "text/plain": [
       "9"
      ]
     },
     "execution_count": 17,
     "metadata": {},
     "output_type": "execute_result"
    }
   ],
   "source": [
    "masters.loc[masters.content_type.isna() & masters.title.str.lower().str.match(r'.*(:|\\?|).*rejoinder.*$')==True,'content_type']=\"Rejoinder\"\n",
    "masters[masters['content_type']=='Rejoinder'].shape[0]\n"
   ]
  },
  {
   "cell_type": "code",
   "execution_count": 18,
   "id": "e4118ba3",
   "metadata": {},
   "outputs": [
    {
     "data": {
      "text/plain": [
       "0"
      ]
     },
     "execution_count": 18,
     "metadata": {},
     "output_type": "execute_result"
    }
   ],
   "source": [
    "masters.loc[masters.content_type.isna() & masters.title.str.lower().str.match(r'.*: (|a )discussion$')==True,'content_type']=\"Discussion\"\n",
    "masters.loc[masters.content_type.isna() & masters.title.str.lower().str.match(r'(^|a )discussion(|.*)$')==True,'content_type']=\"Discussion\"\n",
    "masters.loc[masters.content_type.isna() & masters.title.str.lower().str.match(r'.*:.*(|a )discussion(|s)$')==True,'content_type']='Discussion'\n",
    "masters[masters['content_type']=='Discussion'].shape[0]\n"
   ]
  },
  {
   "cell_type": "code",
   "execution_count": 19,
   "id": "f432a860",
   "metadata": {},
   "outputs": [
    {
     "data": {
      "text/plain": [
       "3338"
      ]
     },
     "execution_count": 19,
     "metadata": {},
     "output_type": "execute_result"
    }
   ],
   "source": [
    "masters.loc[masters['content_type'].isna(),'content_type']=\"Article\"\n",
    "masters[masters['content_type']=='Article'].shape[0]"
   ]
  },
  {
   "cell_type": "code",
   "execution_count": null,
   "id": "6cc2055e",
   "metadata": {},
   "outputs": [],
   "source": []
  },
  {
   "cell_type": "code",
   "execution_count": 20,
   "id": "53651d71",
   "metadata": {},
   "outputs": [],
   "source": [
    "# block for testing regex patterns\n",
    "#masters[masters['title'].str.lower().str.match(r'^\\washington notes$')==True]\n",
    "#masters[masters.content_type.isna() & masters.title.str.lower().str.match(r'.*(:|\\?) (|a )rejoinder.*$')==True]\n",
    "#masters[masters.content_type=='Discussion'].shape[0]"
   ]
  },
  {
   "cell_type": "markdown",
   "id": "ad6706e8",
   "metadata": {},
   "source": [
    "## Consider the pivots file\n",
    "At times, conference papers are structured differently to normal articles. Hence, it may be necessary to distinguish conference papers from common articles. The next code block separates special issues (S) from normal issues (N)"
   ]
  },
  {
   "cell_type": "code",
   "execution_count": 21,
   "id": "ad5cf258",
   "metadata": {},
   "outputs": [
    {
     "data": {
      "text/plain": [
       "type\n",
       "N    313\n",
       "S      8\n",
       "Name: count, dtype: int64"
      ]
     },
     "execution_count": 21,
     "metadata": {},
     "output_type": "execute_result"
    }
   ],
   "source": [
    "pivots.loc[pivots.Jstor_issue_text.isna(),\"Jstor_issue_text\"]=\"None\"\n",
    "pivots.loc[pivots.Jstor_issue_text.str.lower().str.match(r'(.*)(special issue|symposium|index to volumes|survey)(.*)'),'type']=\"S\"\n",
    "pivots.loc[pivots.type.isna(),'type']='N'\n",
    "pivots.type.value_counts()"
   ]
  },
  {
   "cell_type": "code",
   "execution_count": null,
   "id": "f1ac8214",
   "metadata": {},
   "outputs": [],
   "source": []
  },
  {
   "cell_type": "markdown",
   "id": "5da4c071",
   "metadata": {},
   "source": [
    "Merge masterlist and pivot list"
   ]
  },
  {
   "cell_type": "code",
   "execution_count": 22,
   "id": "d7a34c25",
   "metadata": {},
   "outputs": [],
   "source": [
    "result = pd.merge(masters, pivots[['issue_url','type']], how=\"left\", on=[\"issue_url\", \"issue_url\"])"
   ]
  },
  {
   "cell_type": "code",
   "execution_count": 23,
   "id": "4ec24247",
   "metadata": {},
   "outputs": [],
   "source": [
    "result.to_excel(saveas, index=False)"
   ]
  },
  {
   "cell_type": "markdown",
   "id": "42e5a1d1",
   "metadata": {},
   "source": [
    "## This section aims to match up Scopus records and Jstor articles\n",
    "If an article's affiliations, citations or abstracts are recorded on Scopus. matching up the Scopus data is useful for comparing the textual accuracy of OCR parsers. I use volume, issue, year and page numbers which are common to both the scopus data and the Jstor metadata to match articles. \n",
    "\n",
    "Then I use a sequence comparison between the journal titles of the matched articles to decide if the scopus data has been matched correctly. If the match ratio is below 70%, the title is investigated and if wrong, the scopus data for that matched article is either corrected or discarded. \n",
    "\n",
    "The next section reads in the processed data previously saved. Please make sure the path in the variable 'cleaned' matches the file path on your local machine."
   ]
  },
  {
   "cell_type": "code",
   "execution_count": 208,
   "id": "b9a44dfa",
   "metadata": {},
   "outputs": [
    {
     "data": {
      "text/plain": [
       "issue_url                  object\n",
       "ISSN                       object\n",
       "URL                        object\n",
       "journal                    object\n",
       "number                     object\n",
       "publisher                  object\n",
       "title                      object\n",
       "urldate            datetime64[ns]\n",
       "volume                      int64\n",
       "year                        int64\n",
       "abstract                   object\n",
       "author                     object\n",
       "pages                      object\n",
       "reviewed-author           float64\n",
       "uploaded                    int64\n",
       "content_type               object\n",
       "author_split               object\n",
       "title_10                   object\n",
       "type                       object\n",
       "dtype: object"
      ]
     },
     "execution_count": 208,
     "metadata": {},
     "output_type": "execute_result"
    }
   ],
   "source": [
    "cleaned=pd.read_excel(saveas)\n",
    "cleaned.dtypes"
   ]
  },
  {
   "cell_type": "code",
   "execution_count": 209,
   "id": "f34cab59",
   "metadata": {},
   "outputs": [
    {
     "data": {
      "text/plain": [
       "authorsSCO          object\n",
       "titleSCO            object\n",
       "journalSCO          object\n",
       "volume             float64\n",
       "number             float64\n",
       "year                 int64\n",
       "pages               object\n",
       "DOI                 object\n",
       "affiliations        object\n",
       "abstractSCO         object\n",
       "citations           object\n",
       "document type       object\n",
       "index keywords      object\n",
       "author keywords     object\n",
       "dtype: object"
      ]
     },
     "execution_count": 209,
     "metadata": {},
     "output_type": "execute_result"
    }
   ],
   "source": [
    "scopus.dtypes"
   ]
  },
  {
   "cell_type": "code",
   "execution_count": null,
   "id": "c961e69d",
   "metadata": {},
   "outputs": [],
   "source": []
  },
  {
   "cell_type": "code",
   "execution_count": null,
   "id": "6e8dd88f",
   "metadata": {},
   "outputs": [],
   "source": []
  },
  {
   "cell_type": "code",
   "execution_count": null,
   "id": "03d19da1",
   "metadata": {},
   "outputs": [],
   "source": []
  },
  {
   "cell_type": "code",
   "execution_count": null,
   "id": "a5459774",
   "metadata": {},
   "outputs": [],
   "source": []
  },
  {
   "cell_type": "markdown",
   "id": "ec15b55f",
   "metadata": {},
   "source": [
    "set the types"
   ]
  },
  {
   "cell_type": "code",
   "execution_count": 210,
   "id": "597a070a",
   "metadata": {},
   "outputs": [],
   "source": [
    "cleaned['volume']=cleaned['volume'].astype(int)\n",
    "scopus=scopus[scopus.volume.isna()==False].reset_index(drop =True)\n",
    "scopus=scopus[scopus.volume!=\".\"].reset_index(drop =True)\n",
    "scopus['volume']=scopus['volume'].astype(int)\n",
    "\n",
    "scopus['year']=scopus['year'].astype(int)\n",
    "cleaned['year']=cleaned['year'].astype(int)\n",
    "\n",
    "scopus['pages']=scopus['pages'].str.strip()\n",
    "\n",
    "cleaned['number']=cleaned['number'].astype(str)\n",
    "scopus=scopus[scopus.number.isna()==False].reset_index(drop =True)\n",
    "scopus=scopus[(scopus.number!=142)&(scopus.number!=168)].reset_index(drop = True)\n",
    "scopus['number']=scopus['number'].astype(int)\n",
    "scopus['number']=scopus['number'].astype(str)\n"
   ]
  },
  {
   "cell_type": "markdown",
   "id": "724ab30c",
   "metadata": {},
   "source": [
    "This is the number of entries on Scopus"
   ]
  },
  {
   "cell_type": "code",
   "execution_count": 211,
   "id": "25abd814",
   "metadata": {},
   "outputs": [
    {
     "name": "stdout",
     "output_type": "stream",
     "text": [
      "2912\n",
      "(2983, 14)\n"
     ]
    }
   ],
   "source": [
    "#Note that we only have data up to 2019 in the masterlists because of the moving wall on JSTOR but additional content was downloaded from the og site\n",
    "print(sum(scopus['year']<2020))\n",
    "print(scopus.shape)"
   ]
  },
  {
   "cell_type": "markdown",
   "id": "2db522ac",
   "metadata": {},
   "source": [
    "Merge on year, issue, volume and pages."
   ]
  },
  {
   "cell_type": "code",
   "execution_count": 212,
   "id": "efb4688a",
   "metadata": {},
   "outputs": [],
   "source": [
    "Merged=pd.merge(cleaned, scopus, on=['year','number','volume','pages'], how='left')\n",
    "pd.set_option('display.max_columns', None)"
   ]
  },
  {
   "cell_type": "code",
   "execution_count": null,
   "id": "1dc00caa",
   "metadata": {},
   "outputs": [],
   "source": []
  },
  {
   "cell_type": "markdown",
   "id": "00444d18",
   "metadata": {},
   "source": [
    "Check how many of the scopus entries matched."
   ]
  },
  {
   "cell_type": "code",
   "execution_count": 213,
   "id": "5f63a486",
   "metadata": {},
   "outputs": [
    {
     "data": {
      "text/plain": [
       "2820"
      ]
     },
     "execution_count": 213,
     "metadata": {},
     "output_type": "execute_result"
    }
   ],
   "source": [
    "sum(Merged['titleSCO'].isna()==False)"
   ]
  },
  {
   "cell_type": "markdown",
   "id": "e0508864",
   "metadata": {},
   "source": [
    "Quick maths: There are 3970 total documents for Review of econ. studies (RES) between, 3180 of these are actual articles. Scopus matched up to 2698 entries in the RES masterlist. This means there is 146 entries in Scopus that do not match up to something in the masterlists. And atleast 1272 entries in the masterlist without scopus records. Conclusion: 60% coverage ain't too bad! Now let's see if there is actual references and affiliations or did Scopus just bullshit us all.\n",
    "\n",
    "Consider the titles that have a less than 70% match."
   ]
  },
  {
   "cell_type": "code",
   "execution_count": 220,
   "id": "d2e12523",
   "metadata": {},
   "outputs": [
    {
     "name": "stdout",
     "output_type": "stream",
     "text": [
      "2017\n",
      "0.7070707070707071\n",
      "https://www.jstor.org/stable/26543875\n",
      "vol: 84\n",
      "issue: 4\n",
      "pages: 1869-1869\n",
      "jstor: Erratum: Pecuniary Externalities in Economies with Financial Frictions\n",
      "scopus: Erratum: \"Pecuniary externalities in economies with financial frictions\" [Review of Economic Studies] doi: 10.1093/restud/rdx010\n",
      "jstor: nan\n",
      "scopus: Dávila, E., Korinek, A.\n",
      "scopus index: Index([2635], dtype='int64')\n",
      "2635    NaN\n",
      "Name: affiliations, dtype: object\n",
      "259\n",
      "\n",
      "2017\n",
      "0.5547445255474452\n",
      "https://www.jstor.org/stable/26543876\n",
      "vol: 84\n",
      "issue: 4\n",
      "pages: 1870-1870\n",
      "jstor: Corrigendum: Signaling Private Choices\n",
      "scopus: Corrigendum to: \"Signaling Private Choices\" [Review of Economic Studies] doi: 10.1093/restud/rdx012\n",
      "jstor: nan\n",
      "scopus: In, Y., Wright, J.\n",
      "scopus index: Index([2639], dtype='int64')\n",
      "2639    NaN\n",
      "Name: affiliations, dtype: object\n",
      "260\n",
      "\n",
      "2013\n",
      "0.5858585858585859\n",
      "0.4444444444444444\n",
      "https://www.jstor.org/stable/43551460\n",
      "vol: 80\n",
      "issue: 3\n",
      "pages: 1178-1214\n",
      "jstor: Estimating Ethnic Preferences Using Ethnic Housing Quotas in Singapore\n",
      "scopus: Estimating ethnic preferences\n",
      "jstor: MAISY WONG\n",
      "scopus: Wong, M.\n",
      "scopus index: Index([2465], dtype='int64')\n",
      "2465    University of Pennsylvania, United States\n",
      "Name: affiliations, dtype: object\n",
      "511\n",
      "\n",
      "2013\n",
      "0.5991189427312775\n",
      "https://www.jstor.org/stable/43551504\n",
      "vol: 80\n",
      "issue: 2\n",
      "pages: 840-843\n",
      "jstor: Erratum: Endogenous Games and Mechanisms: Side Payments among Players\n",
      "scopus: Erratum to endogenous games and mechanisms: Side payments among players by matthew o. jackson and simonwilkie, review of economic studies, 72, 543-566 (2005)]\n",
      "jstor: nan\n",
      "scopus: nan\n",
      "scopus index: Index([], dtype='int64')\n",
      "Series([], Name: affiliations, dtype: object)\n",
      "527\n",
      "\n",
      "2008\n",
      "0.6274509803921569\n",
      "https://www.jstor.org/stable/4626198\n",
      "vol: 75\n",
      "issue: 1\n",
      "pages: 333-337\n",
      "jstor: Corrigendum: Consistent Testing for Stochastic Dominance under General Sampling Schemes\n",
      "scopus: Erratum: Consistent Testing for Stochastic Dominance under General Sampling Schemes\" (The Review of Economic Studies vol. 72 (735-765) 10.1111/J.1467-937X.2005.00350.X)\n",
      "jstor: nan\n",
      "scopus: nan\n",
      "scopus index: Index([], dtype='int64')\n",
      "Series([], Name: affiliations, dtype: object)\n",
      "837\n",
      "\n",
      "1995\n",
      "0.88\n",
      "0.4444444444444444\n",
      "https://www.jstor.org/stable/2298038\n",
      "vol: 62\n",
      "issue: 3\n",
      "pages: 469-489\n",
      "jstor: R&D and Economic Growth\n",
      "scopus: R and d and economic growth\n",
      "jstor: Nancy L. Stokey\n",
      "scopus: Stokey, N.L.\n",
      "scopus index: Index([1868], dtype='int64')\n",
      "1868    University of Chicago, United States\n",
      "Name: affiliations, dtype: object\n",
      "1443\n",
      "\n",
      "1991\n",
      "0.7833333333333333\n",
      "https://www.jstor.org/stable/2297835\n",
      "vol: 58\n",
      "issue: 4\n",
      "pages: 807-816\n",
      "jstor: Variable Returns to Scale, Non-Uniqueness of Equilibirum and the Gains from International Trade\n",
      "scopus: Variable Returns to Scale, Non-Uniqueness of Equilibrium and the Gains from International Trade (Volume 58(4), No. 196, July 1991, pages 807-816)\n",
      "jstor: Murray C. Kemp and Albert G. Schweinberger\n",
      "scopus: nan\n",
      "scopus index: Index([], dtype='int64')\n",
      "Series([], Name: affiliations, dtype: object)\n",
      "1659\n",
      "\n",
      "1981\n",
      "0.7777777777777778\n",
      "0.5\n",
      "https://www.jstor.org/stable/2297131\n",
      "vol: 48\n",
      "issue: 1\n",
      "pages: 179-183\n",
      "jstor: On Sums of Production Set Frontiers\n",
      "scopus: Notes and comments: On sums of production set frontiers\n",
      "jstor: John A. Weymark\n",
      "scopus: Weymark, J.A.\n",
      "scopus index: Index([1394], dtype='int64')\n",
      "1394    CORE and Duke University, United States\n",
      "Name: affiliations, dtype: object\n",
      "2314\n",
      "\n",
      "1977\n",
      "0.7272727272727273\n",
      "0.42424242424242425\n",
      "https://www.jstor.org/stable/2296982\n",
      "vol: 44\n",
      "issue: 1\n",
      "pages: 177-182\n",
      "jstor: More on Prices vs. Quantities\n",
      "scopus: Notes and comments more on priées vs. Quantities\n",
      "jstor: Jean Jacques Laffont\n",
      "scopus: Laffont, J.J.\n",
      "scopus index: Index([1125], dtype='int64')\n",
      "1125    Laboratoire d’Econométrie de VEcole Polytechnique, Paris, France\n",
      "Name: affiliations, dtype: object\n",
      "2593\n",
      "\n",
      "1976\n",
      "0.8888888888888888\n",
      "0.5185185185185185\n",
      "https://www.jstor.org/stable/2296610\n",
      "vol: 43\n",
      "issue: 1\n",
      "pages: 175-178\n",
      "jstor: Learning by Doing and Infant Industry Protection: A Partial Equilibrium Approach\n",
      "scopus: Notes and comments: Learning by doing and infant industry protection: A partial equilibrium approach\n",
      "jstor: Gershon Feder and Andrew Schmitz\n",
      "scopus: Feder, G., Schmitz, A.\n",
      "scopus index: Index([1212], dtype='int64')\n",
      "1212    University of California, Berkeley, United States\n",
      "Name: affiliations, dtype: object\n",
      "2666\n",
      "\n",
      "1971\n",
      "0.7764705882352941\n",
      "0.631578947368421\n",
      "https://www.jstor.org/stable/2296783\n",
      "vol: 38\n",
      "issue: 2\n",
      "pages: 265-267\n",
      "jstor: Majority Voting and Social Choice\n",
      "scopus: Notes and comments majority voting and social choice\n",
      "jstor: J. Craven\n",
      "scopus: Craven, J.\n",
      "scopus index: Index([1031], dtype='int64')\n",
      "1031    King's College, Cambridge, United Kingdom\n",
      "Name: affiliations, dtype: object\n",
      "2960\n",
      "\n",
      "1971\n",
      "0.15517241379310345\n",
      "0.631578947368421\n",
      "https://www.jstor.org/stable/2296621\n",
      "vol: 38\n",
      "issue: 1\n",
      "pages: 45-46\n",
      "jstor: [The Existence and Persistence of Cycles in a Non-linear Model: Kaldor's 1940 Model Re-examined]: A Comment\n",
      "scopus: A comment\n",
      "jstor: N. Kaldor\n",
      "scopus: Kaldor, N.\n",
      "scopus index: Index([308, 1022], dtype='int64')\n",
      "308                                           NaN\n",
      "1022    King’s College, Cambridge, United Kingdom\n",
      "Name: affiliations, dtype: object\n",
      "2969\n",
      "\n",
      "1970\n",
      "0.17391304347826086\n",
      "0.7272727272727273\n",
      "https://www.jstor.org/stable/2296732\n",
      "vol: 37\n",
      "issue: 3\n",
      "pages: 441-445\n",
      "jstor: Expedient Choice of Transforms in Phase-Diagramming\n",
      "scopus: Notes and comments\n",
      "jstor: J. Conlisk and R. Ramanathan\n",
      "scopus: Conlisk, J., Ramanathan, R.\n",
      "scopus index: Index([740], dtype='int64')\n",
      "740    University of California, San Diego, United States\n",
      "Name: affiliations, dtype: object\n",
      "3006\n",
      "\n",
      "1969\n",
      "0.6727272727272727\n",
      "0.5714285714285714\n",
      "https://www.jstor.org/stable/2296467\n",
      "vol: 36\n",
      "issue: 4\n",
      "pages: 399-415\n",
      "jstor: On Experimental Research in Oligopoly\n",
      "scopus: Symposium on experimental economics on experimental research in oligopoly\n",
      "jstor: J. W. Friedman\n",
      "scopus: Friedman, J.W.\n",
      "scopus index: Index([794], dtype='int64')\n",
      "794    University of Rochester, United States\n",
      "Name: affiliations, dtype: object\n",
      "3045\n",
      "\n",
      "1969\n",
      "0.7164179104477612\n",
      "0.631578947368421\n",
      "https://www.jstor.org/stable/2296435\n",
      "vol: 36\n",
      "issue: 3\n",
      "pages: 395-398\n",
      "jstor: On Putty-Clay: A Comment\n",
      "scopus: Note and comments: On putty-clay: A comment\n",
      "jstor: R. Britto\n",
      "scopus: Britto, R.\n",
      "scopus index: Index([809], dtype='int64')\n",
      "809    University of California, Los Angeles, United States\n",
      "Name: affiliations, dtype: object\n",
      "3064\n",
      "\n",
      "1966\n",
      "0.6796116504854369\n",
      "0.64\n",
      "https://www.jstor.org/stable/2974427\n",
      "vol: 33\n",
      "issue: 4\n",
      "pages: 307-308\n",
      "jstor: New Results in an Old Framework: Comment on Samuelson and Modigliani\n",
      "scopus: Comment on samuelson and modigliani\n",
      "jstor: Joan Robinson\n",
      "scopus: Robinson, J.\n",
      "scopus index: Index([559], dtype='int64')\n",
      "559    Cambridge, United Kingdom\n",
      "Name: affiliations, dtype: object\n",
      "3199\n",
      "\n",
      "1966\n",
      "0.46616541353383456\n",
      "0.7457627118644068\n",
      "https://www.jstor.org/stable/2974429\n",
      "vol: 33\n",
      "issue: 4\n",
      "pages: 321-330\n",
      "jstor: Marginal Productivity and the Macro-Economic Theories of Distribution: Reply to Pasinetti and Robinson\n",
      "scopus: Reply to pasinetti and robinson\n",
      "jstor: P. Samuelson and F. Modigliani\n",
      "scopus: Samuelson, P., Modigliani, F.\n",
      "scopus index: Index([583], dtype='int64')\n",
      "583    Massachusetts Institute of Technology, United States\n",
      "Name: affiliations, dtype: object\n",
      "3201\n",
      "\n",
      "1961\n",
      "0.6987951807228916\n",
      "0.45454545454545453\n",
      "https://www.jstor.org/stable/2295705\n",
      "vol: 28\n",
      "issue: 2\n",
      "pages: 77-88\n",
      "jstor: I. The Story of a Mare's Nest\n",
      "scopus: Prices and the turnpike: i. the story of a mare's nest\n",
      "jstor: J. R. Hicks\n",
      "scopus: Hicks, J.R.\n",
      "scopus index: Index([727], dtype='int64')\n",
      "727    NaN\n",
      "Name: affiliations, dtype: object\n",
      "3412\n",
      "\n",
      "1961\n",
      "0.7755102040816326\n",
      "0.72\n",
      "https://www.jstor.org/stable/2295706\n",
      "vol: 28\n",
      "issue: 2\n",
      "pages: 89-97\n",
      "jstor: Proof of a Turnpike Theorem: The \"No Joint Production\" Case\n",
      "scopus: Prices and the turnpike: Ii. proof of a turnpike theorem: The “no joint production” case\n",
      "jstor: M. Morishima\n",
      "scopus: Morishima, M.\n",
      "scopus index: Index([725], dtype='int64')\n",
      "725    Osaka, Japan\n",
      "Name: affiliations, dtype: object\n",
      "3413\n",
      "\n",
      "1961\n",
      "0.8623853211009175\n",
      "0.6\n",
      "https://www.jstor.org/stable/2295707\n",
      "vol: 28\n",
      "issue: 2\n",
      "pages: 98-104\n",
      "jstor: Paths of Economic Growth that are Optimal with Regard only to Final States: A Turnpike Theorem\n",
      "scopus: Prices and the turnpike: iii. paths of economic growth that are optimal with regard only to final states: a turnpike theorem\n",
      "jstor: Roy Radner\n",
      "scopus: Radner, R.\n",
      "scopus index: Index([710], dtype='int64')\n",
      "710    NaN\n",
      "Name: affiliations, dtype: object\n",
      "3414\n",
      "\n",
      "1960\n",
      "0.6862745098039216\n",
      "0.5\n",
      "https://www.jstor.org/stable/2296246\n",
      "vol: 28\n",
      "issue: 1\n",
      "pages: 29-31\n",
      "jstor: Monetary and Value Theory: Comments\n",
      "scopus: A symposium on monetary theory: monetary and value theory: comments\n",
      "jstor: W. J. Baumol\n",
      "scopus: Baumol, W.J.\n",
      "scopus index: Index([379], dtype='int64')\n",
      "379    NaN\n",
      "Name: affiliations, dtype: object\n",
      "3426\n",
      "\n",
      "1960\n",
      "0.7681159420289855\n",
      "0.6101694915254238\n",
      "https://www.jstor.org/stable/2296247\n",
      "vol: 28\n",
      "issue: 1\n",
      "pages: 32-36\n",
      "jstor: On the Invariance of Demand for Cash and other Assets\n",
      "scopus: A symposium on monetary theory: On the invariance of demand for cash and other assets\n",
      "jstor: R. W. Clower and M. L. Burstein\n",
      "scopus: Clower, R.W., Burstein, M.L.\n",
      "scopus index: Index([397], dtype='int64')\n",
      "397    Northwestern, United States\n",
      "Name: affiliations, dtype: object\n",
      "3427\n",
      "\n",
      "1953\n",
      "0.25\n",
      "0.45454545454545453\n",
      "https://www.jstor.org/stable/2295775\n",
      "vol: 21\n",
      "issue: 3\n",
      "pages: 218-221\n",
      "jstor: [A Note on a Point in Value and Capital]: A Reply\n",
      "scopus: A reply\n",
      "jstor: J. R. Hicks\n",
      "scopus: Hicks, J.R.\n",
      "scopus index: Index([550], dtype='int64')\n",
      "550    NaN\n",
      "Name: affiliations, dtype: object\n",
      "3639\n",
      "\n",
      "1953\n",
      "0.19130434782608696\n",
      "0.47619047619047616\n",
      "https://www.jstor.org/stable/2295778\n",
      "vol: 21\n",
      "issue: 3\n",
      "pages: 229-231\n",
      "jstor: [The Role of National Income Estimates in the Statistical Policy of an Underdeveloped Area]: A Rejoinder\n",
      "scopus: A rejoinder\n",
      "jstor: Dudley Seers\n",
      "scopus: Seers, D.\n",
      "scopus index: Index([537], dtype='int64')\n",
      "537    NaN\n",
      "Name: affiliations, dtype: object\n",
      "3642\n",
      "\n",
      "1953\n",
      "0.2413793103448276\n",
      "0.41379310344827586\n",
      "https://www.jstor.org/stable/2295782\n",
      "vol: 21\n",
      "issue: 3\n",
      "pages: 246-246\n",
      "jstor: [A Futher Note on the Theory of Inflation]: A Reply\n",
      "scopus: A reply\n",
      "jstor: C. G. F. Simkin\n",
      "scopus: Simkin, C.G.F.\n",
      "scopus index: Index([544], dtype='int64')\n",
      "544    NaN\n",
      "Name: affiliations, dtype: object\n",
      "3646\n",
      "\n",
      "1949\n",
      "0.6728971962616822\n",
      "https://www.jstor.org/stable/2295720\n",
      "vol: 16\n",
      "issue: 2\n",
      "pages: 102-116\n",
      "jstor: Economic Thought in the Soviet Union\n",
      "scopus: Economic thought in the soviet union: Ii.—economic planning and control\n",
      "jstor: nan\n",
      "scopus: nan\n",
      "scopus index: Index([], dtype='int64')\n",
      "Series([], Name: affiliations, dtype: object)\n",
      "3791\n",
      "\n",
      "1946\n",
      "0.22784810126582278\n",
      "0.5\n",
      "https://www.jstor.org/stable/2296089\n",
      "vol: 14\n",
      "issue: 2\n",
      "pages: 95-97\n",
      "jstor: [A New View of the Economics of International Readjustment]: A Comment\n",
      "scopus: A comment\n",
      "jstor: R. F. Harrod\n",
      "scopus: Harrod, R.F.\n",
      "scopus index: Index([306], dtype='int64')\n",
      "306    Oxford, United States\n",
      "Name: affiliations, dtype: object\n",
      "3820\n",
      "\n",
      "1946\n",
      "0.4090909090909091\n",
      "0.631578947368421\n",
      "https://www.jstor.org/stable/2295758\n",
      "vol: 14\n",
      "issue: 1\n",
      "pages: 49-49\n",
      "jstor: [Community Indifference]: A Comment\n",
      "scopus: A comment\n",
      "jstor: N. Kaldor\n",
      "scopus: Kaldor, N.\n",
      "scopus index: Index([308, 1022], dtype='int64')\n",
      "308                                           NaN\n",
      "1022    King’s College, Cambridge, United Kingdom\n",
      "Name: affiliations, dtype: object\n",
      "3828\n",
      "\n",
      "1940\n",
      "0.23684210526315788\n",
      "0.45454545454545453\n",
      "https://www.jstor.org/stable/2967420\n",
      "vol: 8\n",
      "issue: 1\n",
      "pages: 64-65\n",
      "jstor: [Complementarity and Interrelations of Shifts in Demand]: A Comment\n",
      "scopus: A comment\n",
      "jstor: J. R. Hicks\n",
      "scopus: Hicks, J.R.\n",
      "scopus index: Index([17], dtype='int64')\n",
      "17    Manchester, United Kingdom\n",
      "Name: affiliations, dtype: object\n",
      "3927\n",
      "\n",
      "1940\n",
      "0.6176470588235294\n",
      "0.48\n",
      "https://www.jstor.org/stable/2967407\n",
      "vol: 7\n",
      "issue: 3\n",
      "pages: 196-201\n",
      "jstor: A Note on the Theory of the Forward Market\n",
      "scopus: A symposium on the theory of the forward market: I. a note on the theory of the forward market\n",
      "jstor: Nicholas Kaldor\n",
      "scopus: Kaldor, N.\n",
      "scopus index: Index([0], dtype='int64')\n",
      "0    London, United Kingdom\n",
      "Name: affiliations, dtype: object\n",
      "3937\n",
      "\n",
      "1940\n",
      "0.5423728813559322\n",
      "0.5384615384615384\n",
      "https://www.jstor.org/stable/2967409\n",
      "vol: 7\n",
      "issue: 3\n",
      "pages: 202-205\n",
      "jstor: Mr. Kaldor on the Forward Market\n",
      "scopus: A symposium on the theory of the forward market: iii. mr. kaldor on the forward market\n",
      "jstor: R. G. Hawtrey\n",
      "scopus: Hawtrey, R.G.\n",
      "scopus index: Index([5], dtype='int64')\n",
      "5    NaN\n",
      "Name: affiliations, dtype: object\n",
      "3939\n",
      "\n",
      "1938\n",
      "0.717391304347826\n",
      "0.6\n",
      "https://www.jstor.org/stable/2967529\n",
      "vol: 5\n",
      "issue: 2\n",
      "pages: 143-151\n",
      "jstor: The Power of Undervalued Currency: A Methodological Comment\n",
      "scopus: The power of undervalued currency\n",
      "jstor: Wilfred Malenbaum\n",
      "scopus: Malenbaum, W.\n",
      "scopus index: Index([63], dtype='int64')\n",
      "63    London, United Kingdom\n",
      "Name: affiliations, dtype: object\n",
      "4006\n",
      "\n",
      "1938\n",
      "0.27450980392156865\n",
      "0.5925925925925926\n",
      "https://www.jstor.org/stable/2967530\n",
      "vol: 5\n",
      "issue: 2\n",
      "pages: 152-157\n",
      "jstor: [The Power of Undervalued Currency]: A Reply\n",
      "scopus: A reply\n",
      "jstor: Victor Edelberg\n",
      "scopus: Edelberg, V.\n",
      "scopus index: Index([56], dtype='int64')\n",
      "56    London, United Kingdom\n",
      "Name: affiliations, dtype: object\n",
      "4007\n",
      "\n",
      "1938\n",
      "0.6216216216216216\n",
      "https://www.jstor.org/stable/2967531\n",
      "vol: 5\n",
      "issue: 2\n",
      "pages: 157-157\n",
      "jstor: A Correction: Economics and Insurance\n",
      "scopus: Economics and insurance: a correction\n",
      "jstor: L. T. Little\n",
      "scopus: nan\n",
      "scopus index: Index([], dtype='int64')\n",
      "Series([], Name: affiliations, dtype: object)\n",
      "4008\n",
      "\n",
      "1936\n",
      "0.875\n",
      "0.5\n",
      "https://www.jstor.org/stable/2967660\n",
      "vol: 4\n",
      "issue: 1\n",
      "pages: 53-71\n",
      "jstor: On the Economic Theory of Socialism: Part One\n",
      "scopus: On the economic theory of socialism\n",
      "jstor: Oskar Lange\n",
      "scopus: Lange, O.\n",
      "scopus index: Index([117], dtype='int64')\n",
      "117    NaN\n",
      "Name: affiliations, dtype: object\n",
      "4046\n",
      "\n",
      "1936\n",
      "0.37333333333333335\n",
      "0.5925925925925926\n",
      "https://www.jstor.org/stable/2967506\n",
      "vol: 3\n",
      "issue: 2\n",
      "pages: 147-148\n",
      "jstor: I. Note on Dr. Machlup's Article\n",
      "scopus: Further notes on elasticity of substitution\n",
      "jstor: Milton Friedman\n",
      "scopus: Friedman, M.\n",
      "scopus index: Index([112], dtype='int64')\n",
      "112    Chicago, United States\n",
      "Name: affiliations, dtype: object\n",
      "4063\n",
      "\n",
      "1936\n",
      "0.5631067961165048\n",
      "0.5\n",
      "https://www.jstor.org/stable/2967508\n",
      "vol: 3\n",
      "issue: 2\n",
      "pages: 150-151\n",
      "jstor: III. The Question of Symmetry\n",
      "scopus: Further notes on elasticity of substitution: iii. the question of symmetry\n",
      "jstor: A. P. Lerner\n",
      "scopus: Lerner, A.P.\n",
      "scopus index: Index([96], dtype='int64')\n",
      "96    Leon Fellow of the University of London, United Kingdom\n",
      "Name: affiliations, dtype: object\n",
      "4065\n",
      "\n",
      "1936\n",
      "0.07692307692307693\n",
      "0.32\n",
      "https://www.jstor.org/stable/2967509\n",
      "vol: 3\n",
      "issue: 2\n",
      "pages: 151-152\n",
      "jstor: IV. Reply\n",
      "scopus: Further notes on elasticity of substitution\n",
      "jstor: Fritz Machlup\n",
      "scopus: Lerner, A.P.\n",
      "scopus index: Index([110], dtype='int64')\n",
      "110    University of London, United Kingdom\n",
      "Name: affiliations, dtype: object\n",
      "4066\n",
      "\n",
      "1936\n",
      "0.7142857142857143\n",
      "0.5833333333333334\n",
      "https://www.jstor.org/stable/2967509\n",
      "vol: 3\n",
      "issue: 2\n",
      "pages: 151-152\n",
      "jstor: IV. Reply\n",
      "scopus: Reply\n",
      "jstor: Fritz Machlup\n",
      "scopus: Machlup, F.\n",
      "scopus index: Index([111], dtype='int64')\n",
      "111    Buffalo, NY, United States\n",
      "Name: affiliations, dtype: object\n",
      "4067\n",
      "\n",
      "1936\n",
      "0.058823529411764705\n",
      "0.6666666666666666\n",
      "https://www.jstor.org/stable/2967510\n",
      "vol: 3\n",
      "issue: 2\n",
      "pages: 153-155\n",
      "jstor: I\n",
      "scopus: Further notes on index numbers: i\n",
      "jstor: H. Staehle\n",
      "scopus: Staehle, H.\n",
      "scopus index: Index([100], dtype='int64')\n",
      "100    NaN\n",
      "Name: affiliations, dtype: object\n",
      "4068\n",
      "\n",
      "1936\n",
      "0.7922077922077922\n",
      "0.41379310344827586\n",
      "https://www.jstor.org/stable/2967511\n",
      "vol: 3\n",
      "issue: 2\n",
      "pages: 155-157\n",
      "jstor: II. Mr. Lerner's Supplementary Limits for Price Index Numbers\n",
      "scopus: Further notes on index numbers: ii. mr. lerner's supplementary limits for price index numbers\n",
      "jstor: M. F. W. Joseph\n",
      "scopus: Joseph, M.F.W.\n",
      "scopus index: Index([99], dtype='int64')\n",
      "99    NaN\n",
      "Name: affiliations, dtype: object\n",
      "4069\n",
      "\n",
      "1935\n",
      "0.24074074074074073\n",
      "0.3333333333333333\n",
      "https://www.jstor.org/stable/2967557\n",
      "vol: 2\n",
      "issue: 2\n",
      "pages: 104-116\n",
      "jstor: A Proposal for Making Monetary Management Effective in the United States\n",
      "scopus: The “Chicago Plan” of banking reform\n",
      "jstor: Albert G. Hart\n",
      "scopus: Hart, A.G.\n",
      "scopus index: Index([130], dtype='int64')\n",
      "130    Chicago, United States\n",
      "Name: affiliations, dtype: object\n",
      "4088\n",
      "\n",
      "1935\n",
      "0.688\n",
      "0.41379310344827586\n",
      "https://www.jstor.org/stable/2967558\n",
      "vol: 2\n",
      "issue: 2\n",
      "pages: 117-121\n",
      "jstor: The Application of the Proposals in England\n",
      "scopus: The chicago plan of banking reform: Ii the application of the proposals in england\n",
      "jstor: Charles H. Walker\n",
      "scopus: Walker, C.H.\n",
      "scopus index: Index([122], dtype='int64')\n",
      "122    NaN\n",
      "Name: affiliations, dtype: object\n",
      "4089\n",
      "\n",
      "1935\n",
      "0.3492063492063492\n",
      "0.5\n",
      "https://www.jstor.org/stable/2967562\n",
      "vol: 2\n",
      "issue: 2\n",
      "pages: 152-154\n",
      "jstor: [Economic Theory and Socialist Economy]: A Rejoinder\n",
      "scopus: A rejoinder\n",
      "jstor: A. P. Lerner\n",
      "scopus: Lerner, A.P.\n",
      "scopus index: Index([133], dtype='int64')\n",
      "133    London, United Kingdom\n",
      "Name: affiliations, dtype: object\n",
      "4093\n",
      "\n",
      "1934\n",
      "0.6666666666666666\n",
      "0.3333333333333333\n",
      "https://www.jstor.org/stable/2967547\n",
      "vol: 2\n",
      "issue: 1\n",
      "pages: 18-30\n",
      "jstor: Taxation and Production: The Wicksell Analysis\n",
      "scopus: Taxation and production\n",
      "jstor: Ursula K. Webb\n",
      "scopus: Webb, U.K.\n",
      "scopus index: Index([148], dtype='int64')\n",
      "148    NaN\n",
      "Name: affiliations, dtype: object\n",
      "4099\n",
      "\n",
      "1934\n",
      "0.03571428571428571\n",
      "0.6666666666666666\n",
      "https://www.jstor.org/stable/2967552\n",
      "vol: 2\n",
      "issue: 1\n",
      "pages: 66-69\n",
      "jstor: I\n",
      "scopus: Notes on the determinateness of the utility function: I\n",
      "jstor: E. H. Phelps Brown\n",
      "scopus: Phelps Brown, E.H.\n",
      "scopus index: Index([152], dtype='int64')\n",
      "152    Oxford, United Kingdom\n",
      "Name: affiliations, dtype: object\n",
      "4104\n",
      "\n",
      "1934\n",
      "0.06896551724137931\n",
      "0.6875\n",
      "https://www.jstor.org/stable/2967553\n",
      "vol: 2\n",
      "issue: 1\n",
      "pages: 69-75\n",
      "jstor: II\n",
      "scopus: Notes on the determinateness of the utility function: Ii\n",
      "jstor: Harro Bernardelli\n",
      "scopus: Bernardelli, H.\n",
      "scopus index: Index([164], dtype='int64')\n",
      "164    Liverpool, United States\n",
      "Name: affiliations, dtype: object\n",
      "4105\n",
      "\n",
      "1934\n",
      "0.10909090909090909\n",
      "0.5882352941176471\n",
      "https://www.jstor.org/stable/2967554\n",
      "vol: 2\n",
      "issue: 1\n",
      "pages: 75-77\n",
      "jstor: III\n",
      "scopus: Notes on the determinateness of the utility function\n",
      "jstor: O. Lange\n",
      "scopus: Lange, O.\n",
      "scopus index: Index([163], dtype='int64')\n",
      "163    Cambridge, MA, United States\n",
      "Name: affiliations, dtype: object\n",
      "4106\n",
      "\n",
      "1934\n",
      "0.5\n",
      "0.5\n",
      "https://www.jstor.org/stable/2967620\n",
      "vol: 1\n",
      "issue: 2\n",
      "pages: 141-143\n",
      "jstor: Taxation and Returns: A Rejoinder\n",
      "scopus: A rejoinder\n",
      "jstor: L. M. Fraser\n",
      "scopus: Fraser, L.M.\n",
      "scopus index: Index([155], dtype='int64')\n",
      "155    Oxford, United Kingdom\n",
      "Name: affiliations, dtype: object\n",
      "4124\n",
      "\n",
      "1934\n",
      "0.05\n",
      "0.6666666666666666\n",
      "https://www.jstor.org/stable/2967621\n",
      "vol: 1\n",
      "issue: 2\n",
      "pages: 144-147\n",
      "jstor: I\n",
      "scopus: Notes on the elasticity of substitution\n",
      "jstor: L. Tarshis\n",
      "scopus: Tarshis, L.\n",
      "scopus index: Index([146, 158], dtype='int64')\n",
      "146    Cambridge, United Kingdom\n",
      "158     Cambridge, United States\n",
      "Name: affiliations, dtype: object\n",
      "4125\n",
      "\n",
      "1934\n",
      "0.125\n",
      "0.5\n",
      "https://www.jstor.org/stable/2967622\n",
      "vol: 1\n",
      "issue: 2\n",
      "pages: 147-148\n",
      "jstor: II\n",
      "scopus: The review of economic studies\n",
      "jstor: A. P. Lerner\n",
      "scopus: Lerner, A.P.\n",
      "scopus index: Index([157], dtype='int64')\n",
      "157    London, United Kingdom\n",
      "Name: affiliations, dtype: object\n",
      "4126\n",
      "\n",
      "1934\n",
      "0.8090909090909091\n",
      "0.45454545454545453\n",
      "https://www.jstor.org/stable/2967623\n",
      "vol: 1\n",
      "issue: 2\n",
      "pages: 149-152\n",
      "jstor: III.--The Elasticity of Substitution and the Incidence of an Imperial Inhabited House Duty\n",
      "scopus: Notes on the elasticity of substitution: iii.-the elasticity of substitution and the incidence of an imperial inhabited house duty\n",
      "jstor: J. E. Meade\n",
      "scopus: Meade, J.E.\n",
      "scopus index: Index([153], dtype='int64')\n",
      "153    Hertford College, Oxford, United Kingdom\n",
      "Name: affiliations, dtype: object\n",
      "4127\n",
      "\n",
      "1934\n",
      "0.8053097345132744\n",
      "0.45454545454545453\n",
      "https://www.jstor.org/stable/2967624\n",
      "vol: 1\n",
      "issue: 2\n",
      "pages: 152-153\n",
      "jstor: IV.--The Elasticity of Substitution and the Elasticity of Demand for One Factor of Production\n",
      "scopus: Notes on the elasticity of substitution: IV. the elasticity of substitution and the elasticity of demand for one factor of production\n",
      "jstor: J. E. Meade\n",
      "scopus: Meade, J.E.\n",
      "scopus index: Index([151], dtype='int64')\n",
      "151    Hertford College, Oxford, United States\n",
      "Name: affiliations, dtype: object\n",
      "4128\n",
      "\n",
      "53\n"
     ]
    }
   ],
   "source": [
    "count=0\n",
    "for m in Merged.index:\n",
    "    \n",
    "    if(pd.isna(Merged.iloc[m]['titleSCO'])==False):\n",
    "        ratio=SequenceMatcher(None, Merged.iloc[m]['title'].lower(), Merged.iloc[m]['titleSCO'].lower()).ratio()\n",
    "\n",
    "        if((ratio<=0.9) & (Merged.iloc[m]['content_type']!='MISC')):\n",
    "            print(Merged.iloc[m]['year'])\n",
    "            print(ratio)\n",
    "            count+=1\n",
    "            if (pd.isna(Merged.iloc[m]['author'])==False)&(pd.isna(Merged.iloc[m]['authorsSCO'])==False):\n",
    "                A_ratio=SequenceMatcher(None, Merged.iloc[m]['author'].lower(), Merged.iloc[m]['authorsSCO'].lower()).ratio()\n",
    "                print(A_ratio)\n",
    "            \n",
    "            print(Merged.iloc[m]['URL'])\n",
    "            print('vol: '+str(Merged.iloc[m]['volume']))\n",
    "            print('issue: '+str(Merged.iloc[m]['number']))\n",
    "            print('pages: '+Merged.iloc[m]['pages'])\n",
    "            print('jstor: '+Merged.iloc[m]['title'])\n",
    "            print('scopus: '+Merged.iloc[m]['titleSCO'])\n",
    "            print('jstor: '+str(Merged.iloc[m]['author']))\n",
    "            print('scopus: '+str(Merged.iloc[m]['authorsSCO']))\n",
    "            print('scopus index: '+str(scopus[(scopus['titleSCO']==Merged.iloc[m]['titleSCO'])&(scopus['authorsSCO']==Merged.iloc[m]['authorsSCO'])].index))\n",
    "            print(scopus.loc[(scopus['titleSCO']==Merged.iloc[m]['titleSCO'])&(scopus['authorsSCO']==Merged.iloc[m]['authorsSCO']),\"affiliations\"])\n",
    "            print(m)\n",
    "            print()\n",
    "print(count)"
   ]
  },
  {
   "cell_type": "markdown",
   "id": "901e38fc",
   "metadata": {},
   "source": [
    "This code is used to search for title or author matches in the jstor masterlists to find entries to correct the scopus data."
   ]
  },
  {
   "cell_type": "code",
   "execution_count": 111,
   "id": "55a65aef",
   "metadata": {},
   "outputs": [],
   "source": [
    "#search='Bargaining With Two-Sided Incomplete Information: An Infinite Horizon Model With Alternating Offers'\n",
    "#search='Acyclic choice without the pareto principle'\n",
    "#search='On Bayesian Implementable Allocations'\n",
    "#search='How fast do rational agents learn'\n",
    "search='A. P. lerner'\n",
    "for i in cleaned.index:\n",
    "    if pd.isna(cleaned.iloc[i]['authors'])==False:\n",
    "        c=SequenceMatcher(None, cleaned.iloc[i]['authors'].lower(), search).ratio()\n",
    "        if c>0.7:\n",
    "            print(cleaned.iloc[i])"
   ]
  },
  {
   "cell_type": "code",
   "execution_count": null,
   "id": "c0eb6b3d",
   "metadata": {},
   "outputs": [],
   "source": []
  },
  {
   "cell_type": "markdown",
   "id": "bfe4ccea",
   "metadata": {},
   "source": [
    "Now let's do some manual corrections."
   ]
  },
  {
   "cell_type": "code",
   "execution_count": 215,
   "id": "f7f011e4",
   "metadata": {},
   "outputs": [],
   "source": [
    "\n",
    "#scopus index 1170 wrong citation altogether in scopus drop from scopus set\n",
    "\n",
    "#these recorded incorrect pages\n",
    "scopus.loc[1243,'pages']='693-699 '\n",
    "scopus.loc[1496,'pages']='175-192'\n",
    "\n",
    "scopus.loc[1494,'pages']='193-208'\n",
    "scopus.loc[1599, 'pages']='329-347'\n",
    "\n",
    "scopus.loc[1162,'pages']=\"389-391\"\n",
    "scopus.loc[949, 'titleSCO']=\"The Optimal Linear Income-tax\"\n",
    "scopus.drop(1244, axis=0, inplace=True) #uncomment later for full run"
   ]
  },
  {
   "cell_type": "markdown",
   "id": "6c23d69b",
   "metadata": {},
   "source": [
    "Re-merge the scopus data and the cleaned masterlists"
   ]
  },
  {
   "cell_type": "code",
   "execution_count": 216,
   "id": "a489b9b5",
   "metadata": {},
   "outputs": [],
   "source": [
    "Merged=pd.merge(cleaned, scopus, on=['year', 'number','volume','pages'], how='left')"
   ]
  },
  {
   "cell_type": "markdown",
   "id": "433dc071",
   "metadata": {},
   "source": [
    "Check for whether there is an issue in document type and correct it."
   ]
  },
  {
   "cell_type": "code",
   "execution_count": 218,
   "id": "e87b9432",
   "metadata": {},
   "outputs": [],
   "source": [
    "pd.DataFrame(Merged[Merged['document type'].str.len()>100])\n",
    "Merged.loc[340,'document_type']='Article'\n",
    "Merged.loc[344,'document_type']='Article'"
   ]
  },
  {
   "cell_type": "markdown",
   "id": "1d31c7ab",
   "metadata": {},
   "source": [
    "saving..."
   ]
  },
  {
   "cell_type": "code",
   "execution_count": 175,
   "id": "ac523b96",
   "metadata": {},
   "outputs": [],
   "source": [
    "Merged.to_excel(base_path+'/Combined/RES_M_sco_du.xlsx', index=False)"
   ]
  },
  {
   "cell_type": "markdown",
   "id": "60dea846",
   "metadata": {},
   "source": [
    "# Merged dataset field description\n",
    "\n",
    "This is a description of fields in the Merged dataset that combines JPE masterlist, pivot list, Scopus data pre-2018. The Merged dataset is stored in RES_M_sco_du.xlsx. Note that RES does not contain any reference data scraped from JSTOR.\n",
    "\n",
    "    'stable_url' : JSTOR url for article \n",
    "    'Jstor_authors' : Author names recorded by JSTOR\n",
    "    'Jstor_title' : Title of article recorded by JSTOR\n",
    "    'Jstor_abstract' : abstract recorded by JSTOR nb: this is blank at the moment\n",
    "    'content_type' : Article type determined during cleaning. Includes MISC for miscellaneous, Reviews, Note, Comment, Rejoinder and Article categorizations\n",
    "    'issue_url' : url of issue article belongs to on JSTOR\n",
    "    'pages' : pages as recorded by JSTOR\n",
    "    'year' : Year of publication recorded by JSTOR\n",
    "    'volume' : Volume of article recorded by JSTOR\n",
    "    'issue' : issue of article recorded by JSTOR\n",
    "    'Jstor_journal' : journal name JSTOR\n",
    "    'type' : Type of issue determined during cleaning. S for special issue. N for normal issue\n",
    "    'scopus_authors' : Author names recorded by Scopus\n",
    "    'scopus_title' : Title recorded by Scopus\n",
    "    'scopus_journal' : Journal name recorded by Scopus\n",
    "    'DOI' : DOI recorded by scopus\n",
    "    'affiliations' : affiliations of authors as recorded by scopus\n",
    "    'scopus_abstract' : abstract of article recorded by scopus\n",
    "    'citations' : citations of article recorded by scopus\n",
    "    'document type' : Article type recorded by scopus, may differ from that in cleaning\n",
    "    'index keywords' : from scopus\n",
    "    'author keywords' : from scopus "
   ]
  },
  {
   "cell_type": "code",
   "execution_count": 219,
   "id": "08d20e61",
   "metadata": {},
   "outputs": [],
   "source": []
  },
  {
   "cell_type": "code",
   "execution_count": 4,
   "id": "00f8e05f",
   "metadata": {},
   "outputs": [
    {
     "data": {
      "text/plain": [
       "(805, 24)"
      ]
     },
     "execution_count": 4,
     "metadata": {},
     "output_type": "execute_result"
    }
   ],
   "source": [
    "inv=Merged[(Merged['year']<=1971) & (Merged['year']>=1940)&(Merged['content_type']!='MISC')&(Merged['content_type']!='Review')&(Merged['content_type']!='Discussion')]\n",
    "inv.shape"
   ]
  },
  {
   "cell_type": "code",
   "execution_count": 5,
   "id": "2186ed4b",
   "metadata": {},
   "outputs": [
    {
     "data": {
      "text/plain": [
       "array(['MISC', 'Article', 'Comment', 'Reply', 'Rejoinder'], dtype=object)"
      ]
     },
     "execution_count": 5,
     "metadata": {},
     "output_type": "execute_result"
    }
   ],
   "source": [
    "Merged.content_type.unique()"
   ]
  },
  {
   "cell_type": "markdown",
   "id": "8ad17369",
   "metadata": {},
   "source": [
    "### Plots of counts\n",
    "Exploratory analysis of available data in scopus and datadumps."
   ]
  },
  {
   "cell_type": "code",
   "execution_count": 232,
   "id": "5a65d21f",
   "metadata": {},
   "outputs": [
    {
     "data": {
      "text/plain": [
       "<matplotlib.legend.Legend at 0x152553bd0>"
      ]
     },
     "execution_count": 232,
     "metadata": {},
     "output_type": "execute_result"
    },
    {
     "data": {
      "image/png": "[encoded data removed]",
      "text/plain": [
       "<Figure size 2500x1000 with 1 Axes>"
      ]
     },
     "metadata": {},
     "output_type": "display_data"
    }
   ],
   "source": [
    "plt.rcParams[\"figure.figsize\"] = (25, 10)\n",
    "dta=Merged[(Merged['content_type']!='MISC')]['year'].value_counts()\n",
    "plt.bar(dta.index,dta, label='Articles', alpha=0.4)\n",
    "dta2=Merged[(Merged['affiliations'].isnull()==False) & (Merged['content_type']!='MISC')]['year'].value_counts()\n",
    "dta3=scopus[(scopus['affiliations'].isnull()==False) & (scopus['year']>2020)]['year'].value_counts()\n",
    "plt.bar(dta2.index, dta2, label='Scopus coverage', alpha=0.4)\n",
    "plt.bar(dta3.index, dta3, label='Additional Scopus coverage', alpha=0.4)\n",
    "plt.title('Barchart of RES Scopus coverage for affiliations overlaying counts of non-miscellaneous documents in \\nRES for each year between 1940 and 2018 (inclusive). Note that JSTOR coverage ends at 2018.', fontsize=20)\n",
    "plt.xticks(np.arange(1930, 2030, 10))\n",
    "plt.legend(prop={'size': 20})\n"
   ]
  },
  {
   "cell_type": "markdown",
   "id": "96314906",
   "metadata": {},
   "source": [
    "Some years of coverage are almost complete, it may not be necessary to use OCR to extract affiliations. I propose there's only a real point to set up the OCR if there if more than 80% of the articles in a issue are missing affiliations. \n",
    "\n",
    "Consider the missing counts of articles per issue by getting counts of total per issue and scopus affiliations per issue."
   ]
  },
  {
   "cell_type": "code",
   "execution_count": 223,
   "id": "f245be93",
   "metadata": {},
   "outputs": [],
   "source": [
    "sc_aff=Merged[(Merged['affiliations'].isnull()==False) & (Merged['content_type']!='MISC')][['year','volume','number']].value_counts()\n",
    "js_aff=Merged[(Merged['content_type']!='MISC')][['year','volume','number']].value_counts()"
   ]
  },
  {
   "cell_type": "markdown",
   "id": "cc0e5026",
   "metadata": {},
   "source": [
    "Create a dataframe of counts of missing article affiliations per issue and merge that with the total articles per issue and calculate the percentage of missing article affiliations."
   ]
  },
  {
   "cell_type": "code",
   "execution_count": 236,
   "id": "3c682308",
   "metadata": {},
   "outputs": [
    {
     "data": {
      "text/plain": [
       "916.0"
      ]
     },
     "execution_count": 236,
     "metadata": {},
     "output_type": "execute_result"
    }
   ],
   "source": [
    "\n",
    "difference=pd.merge(sc_aff.reset_index(), js_aff.reset_index(), on=['year', 'number','volume'], how='right').sort_values(['year','number','volume'])\n",
    "difference['available_per']=difference['count_x']/difference['count_y']\n",
    "difference.rename(columns = {'count_x':'available', 'count_y':'total'}, inplace = True)\n",
    "difference['available_per'] = difference['available_per'].fillna(1)\n",
    "difference = difference.fillna(0)\n",
    "\n",
    "sum(difference[\"total\"]-difference[\"available\"]) # if missing is NaN that means the whole issue is missing."
   ]
  },
  {
   "cell_type": "markdown",
   "id": "a956c080",
   "metadata": {},
   "source": [
    "There are on average 10 articles per issue. And for older papers, there are only 5 to 7 articles in the issue. Hence, if there are only one or two missing affiliations in that issue it makes sense to collect them manually since setting up the rules for OCR to find the affiliations in just one paper is more time consuming than looking it up."
   ]
  },
  {
   "cell_type": "code",
   "execution_count": 231,
   "id": "aadf5208",
   "metadata": {},
   "outputs": [
    {
     "name": "stdout",
     "output_type": "stream",
     "text": [
      "766\n",
      "2680\n",
      "0.714179104477612\n"
     ]
    },
    {
     "data": {
      "text/plain": [
       "511.0"
      ]
     },
     "execution_count": 231,
     "metadata": {},
     "output_type": "execute_result"
    }
   ],
   "source": [
    "check_aff=Merged[(Merged['content_type']!='MISC')&(Merged['year']>=1940)&(Merged['year']<=2010)] #restrict to 1940 to 2010\n",
    "print(sum(check_aff['affiliations'].isnull())) #number of missing in time period\n",
    "print(check_aff.shape[0]) #total articles in 1940 to 2010\n",
    "print(1-(sum(check_aff['affiliations'].isnull())/check_aff.shape[0])) #percentage coverage\n",
    "sum(difference[difference[\"year\"]>1940]['missing']) #manual work expected"
   ]
  },
  {
   "cell_type": "code",
   "execution_count": 237,
   "id": "e9c166cb",
   "metadata": {},
   "outputs": [
    {
     "data": {
      "text/plain": [
       "<matplotlib.legend.Legend at 0x146a470d0>"
      ]
     },
     "execution_count": 237,
     "metadata": {},
     "output_type": "execute_result"
    },
    {
     "data": {
      "image/png": "[encoded data removed]",
      "text/plain": [
       "<Figure size 2500x1000 with 1 Axes>"
      ]
     },
     "metadata": {},
     "output_type": "display_data"
    }
   ],
   "source": [
    "plt.rcParams[\"figure.figsize\"] = (25, 10)\n",
    "dta=Merged['year'].value_counts()\n",
    "dta.index\n",
    "plt.bar(dta.index, dta, alpha=0.4, label='Articles')\n",
    "\n",
    "dta4=Merged[(Merged['citations'].isnull()==False) & (Merged['content_type']!='MISC')]['year'].value_counts()\n",
    "plt.bar(dta4.index, dta4, alpha=0.4, label='Scopus coverage')\n",
    "dta5=scopus[(scopus['citations'].isnull()==False) & (scopus['year']>2020)]['year'].value_counts()\n",
    "plt.bar(dta5.index, dta5, alpha=0.4, label='Addtional Scopus coverage')\n",
    "plt.title('Barchart of RES Scopus coverage for references overlaying counts of non-miscellaneous documents in RES for each year before 2020 (inclusive)')\n",
    "plt.xticks(np.arange(1930, 2030, 10))\n",
    "plt.legend()"
   ]
  },
  {
   "cell_type": "code",
   "execution_count": 270,
   "id": "74a3d8df",
   "metadata": {},
   "outputs": [
    {
     "name": "stdout",
     "output_type": "stream",
     "text": [
      "1166\n",
      "2681\n",
      "0.5650876538604999\n"
     ]
    }
   ],
   "source": [
    "check_ref=Merged[(Merged['content_type']!='MISC')&(Merged['year']>=1940)&(Merged['year']<=2010)] # restrict between 1940 and 2010\n",
    "print(sum(check_aff['citations'].isnull())) # number of missing ref articles \n",
    "print(check_aff.shape[0]) # total number of articles\n",
    "print(1-(sum(check_aff['citations'].isnull())/check_aff.shape[0])) #percentage coverage"
   ]
  }
 ],
 "metadata": {
  "kernelspec": {
   "display_name": "venv",
   "language": "python",
   "name": "python3"
  },
  "language_info": {
   "codemirror_mode": {
    "name": "ipython",
    "version": 3
   },
   "file_extension": ".py",
   "mimetype": "text/x-python",
   "name": "python",
   "nbconvert_exporter": "python",
   "pygments_lexer": "ipython3",
   "version": "3.11.2"
  }
 },
 "nbformat": 4,
 "nbformat_minor": 5
}
